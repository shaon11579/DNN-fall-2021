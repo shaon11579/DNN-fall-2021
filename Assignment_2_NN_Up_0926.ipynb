{
  "nbformat": 4,
  "nbformat_minor": 0,
  "metadata": {
    "colab": {
      "name": "Assignment 2 NN .ipynb",
      "provenance": [],
      "machine_shape": "hm",
      "mount_file_id": "https://github.com/shaon11579/DNN-fall-2021/blob/main/Assignment_2_NN_Up.ipynb",
      "authorship_tag": "ABX9TyNgiSb0X+cGh7spruR+saGo",
      "include_colab_link": true
    },
    "kernelspec": {
      "name": "python3",
      "display_name": "Python 3"
    },
    "language_info": {
      "name": "python"
    },
    "accelerator": "GPU"
  },
  "cells": [
    {
      "cell_type": "markdown",
      "metadata": {
        "id": "view-in-github",
        "colab_type": "text"
      },
      "source": [
        "<a href=\"https://colab.research.google.com/github/shaon11579/DNN-fall-2021/blob/main/Assignment_2_NN_Up_0926.ipynb\" target=\"_parent\"><img src=\"https://colab.research.google.com/assets/colab-badge.svg\" alt=\"Open In Colab\"/></a>"
      ]
    },
    {
      "cell_type": "markdown",
      "metadata": {
        "id": "HcqUgHYwP4r8"
      },
      "source": [
        "#  Introduction\n",
        "In this eassy, I will be implementing Two Deep Learning Models using CIFAR-10, and Scene-15 datasets. First, the CIFAR-10 dataset is commonly used in Deep Learning for testing models of Image Classification. It has 60,000 color images comprising of 10 different classes. The image size is 32x32 and the dataset has 50,000 training images and 10,000 test images. Second, The Scene-15 dataset contains different pictures with 15 different classes as shown above. A total of 4485 images are available in 15 different classes among which we are going to use 100 images for training and the rest are for the tests. We have 1500 images for training and 2985 images for testing.  \n",
        "\n",
        "#  Methodology: CIFAR-10 and Scene-15 Data \n",
        "\n",
        "## Importing data: \n",
        "Deep Learning models require machine with high computational power. For this task, I have implemented the project on Google Collaboratory. For the project I will be using TensorFlow and matplotlib library and other packages as needed. \n",
        "\n",
        "## Pre-Processing the Data\n",
        "Next, pre-process the data. I will be defining the names of the classes, over which the dataset is distributed. There are 10 different classes of color images of size 32x32 and 64x64, I used size 32x32. Next, I have set the class name and normalize the image so that our model can train faster. The pixel range of a color image is 0–255. I have divided each pixel of the image by 255 so the pixel range is between 0–1. More spacifically,it is devided by 255.0 as it is a float operation. \n",
        "\n",
        "# Deep Learning Architecture\n",
        "In the output of shape we see 4 values e.g. (50000,32,32,3). These 4 values are as follows: the first value, i.e.(50,000/10,000) shows the number of images. The second and third value shows the image size, i.e. image height and width. Here the image size is 32x32.\n",
        "\n",
        "## Building CNN model\n",
        "\n",
        "A CNN model works in three stages. In the first stage, a convolutional layer extracts the features of the image/data. In the second stage a pooling layer reduces the dimensionality of the image, so small changes do not create a big change on the model. Simply saying, it prevents over-fitting. In the third stage a flattening layer transforms our model in one-dimension and feeds it to the fully connected dense layer. This dense layer then performs prediction of image. A good model has multiple layers of convolutional layers and pooling layers.\n",
        "\n",
        "\n",
        "## Parameters of the Conv2D layers\n",
        "- The first parameter is “filters”. The number. Value of the filters show the number of filters from which the CNN model and the convolutional layer will learn from \n",
        "- second parameter is “kernel-size”. Kernel means a filter which will move through the image and extract features of the part using a dot product. Kernel-size means the dimension (height x width) of that filter. The value of the kernel size if generally an odd number e.g. 3,5,7.. etc. Here we have used kernel-size of 3, which means the filter size is of 3 x 3.\n",
        "\n",
        "- next parameter is “padding”. There are two types of padding, SAME & VALID. In VALID padding, there is no padding of zeros on the boundary of the image. So that when convolution takes place, there is loss of data, as some features can not be convolved.\n",
        "\n",
        "## Pooling layer\n",
        "\n",
        "Pooling layer is used to reduce the size of the image along with keeping the important parameters in role. Thus it helps to reduce the computation in the model. Max Pooling is  used in this example.\n",
        "- next, Strides means how much jump the pool size will make. If the stride is 1, the 2x2 pool will move in right direction gradually from one column to other column. I have used the stride 2.\n",
        "-  Pooling we use the padding “Valid”, because we are ready to loose some information\n",
        "\n",
        "## Last Layers\n",
        "Now the Dense layer requires the data to be passed in 1dimension, so flattening layer is quintessential.\n",
        "\n",
        "In addition,  to prevent overfitting, a dropout layer is added. During training of data, some neurons are disabled randomly. The value passed to neurons mean what fraction of neuron one wants to drop during an iteration.\n",
        "\n",
        "## Output Layer\n",
        "\n",
        "- In the output, the layer uses the number of units as per the number of classes in the dataset. Here we are using 10, as there are 10 units. In the output we use SOFTMAX activation as it gives the probabilities of each class.\n",
        "\n",
        "- In this scenario the classes are totally distinctive so we are using Sparse Categorical Cross-Entropy.\n",
        "- We will be using the generally used Adam Optimizer. Adam is an abbreviation for “Adaptive Learning rate Method”. This optimizer uses the initial of the gradient to adapt to the learning rate. Adam is now used instead of the stochastic gradient descent, which is used in ML, because it can update the weights after each iteration.\n",
        "\n",
        "- \n",
        "#  Methodology: Scene-15\n",
        "The Scene-15 dataset contains different pictures with 15 different classes as shown above. A total of 4485 images are available in 15 different classes among which we are going to use 100 images for training and the rest are for the tests. We have 1500 images for training and 2985 images for testing\n",
        "\n",
        "## Splitting the data\n",
        "\n",
        "It is important to split the data in training and testing. But here we have 15 different folders available so first try to split the data into the train/test folder.\n",
        "- Next, the train & test images data we have to store them at a different place for future use.\n",
        "-  make the function to write the images to the folder \n",
        "\n",
        "## Load data\n",
        "Next, I have loaded the images from the stored path and convert those into an array to perform image classification.\n",
        "\n",
        "- After creating the function of loading images from a given path and converting it into an array we need to generate our x_train, y_train and x_test,y_test data.\n",
        "\n",
        "## Creating the transfer learning model\n",
        "\n",
        "Now, before generating the model, there are few things that need to be clear. The first one is what is transfer learning, in simple words transfer learning is a technique that uses the weights of other pre-trained models in order to get more accuracy. Here, we are using ‘ImageNet” pre-trained weights and this dataset has 1000 classes. And second thing is, we need to add some extra layers in order to get the required output. We have only 15 classes so, to settle down the final node we are adding some extra layers to the model. Here, we are performing transfer learning with the ResNet152V2 pre-trained model. Let’s begin the procedure\n",
        "## Fitting the data\n",
        "\n",
        "compiling the model, we need to fit the model with train and test data.\n",
        "\n",
        "\n",
        "# Experiment and Results\n",
        "\n",
        "**CIFAR-10** : Using the model I was able to get an accuracy of 78%. So, in this article we go through working of Deep Learning project using Google Collaboratory. We understand about the parameters used in Convolutional Layer and Pooling layer of Convolutional Neural Network. After extracting features in a CNN, we need a dense layer and a dropout to implement this features in recognizing the images. Finally we see a bit about the loss functions and Adam optimizer.\n",
        "\n",
        "**Scene-15Here** : I’ve run the entire model 3 times in order to achieve the best average accuracy. By implementing this code I’m able to achieve 89.53% accuracy.\n",
        "\n",
        "\n",
        "\n",
        "## Fitting the data \n",
        "i. Training and testing logs\n",
        "ii. Discussion and comparison (if necessary)\n",
        "#  Conclusion"
      ]
    },
    {
      "cell_type": "code",
      "metadata": {
        "id": "CofBqTHKQN_m"
      },
      "source": [
        ""
      ],
      "execution_count": null,
      "outputs": []
    },
    {
      "cell_type": "code",
      "metadata": {
        "id": "eVcgpNeNY18E"
      },
      "source": [
        "import tensorflow as tf\n",
        "import matplotlib.pyplot as plt\n",
        "from tensorflow.keras.datasets import cifar10 \n",
        "from sklearn.model_selection import train_test_split\n"
      ],
      "execution_count": null,
      "outputs": []
    },
    {
      "cell_type": "code",
      "metadata": {
        "colab": {
          "base_uri": "https://localhost:8080/",
          "height": 249
        },
        "id": "Yi2dAolxaY0a",
        "outputId": "4ee12f08-b853-4003-92ba-bf39ea771003"
      },
      "source": [
        "# setting class names\n",
        "class_names=['airplane','automobile','bird','cat','deer','dog','frog','horse','ship','truck']\n",
        "\n",
        "x_train = x_train/255.0\n",
        "x_train.shape\n",
        "x_test=x_test/255.0\n",
        "x_test.shape"
      ],
      "execution_count": null,
      "outputs": [
        {
          "output_type": "error",
          "ename": "NameError",
          "evalue": "ignored",
          "traceback": [
            "\u001b[0;31m---------------------------------------------------------------------------\u001b[0m",
            "\u001b[0;31mNameError\u001b[0m                                 Traceback (most recent call last)",
            "\u001b[0;32m<ipython-input-19-69d356610d16>\u001b[0m in \u001b[0;36m<module>\u001b[0;34m()\u001b[0m\n\u001b[1;32m      2\u001b[0m \u001b[0mclass_names\u001b[0m\u001b[0;34m=\u001b[0m\u001b[0;34m[\u001b[0m\u001b[0;34m'airplane'\u001b[0m\u001b[0;34m,\u001b[0m\u001b[0;34m'automobile'\u001b[0m\u001b[0;34m,\u001b[0m\u001b[0;34m'bird'\u001b[0m\u001b[0;34m,\u001b[0m\u001b[0;34m'cat'\u001b[0m\u001b[0;34m,\u001b[0m\u001b[0;34m'deer'\u001b[0m\u001b[0;34m,\u001b[0m\u001b[0;34m'dog'\u001b[0m\u001b[0;34m,\u001b[0m\u001b[0;34m'frog'\u001b[0m\u001b[0;34m,\u001b[0m\u001b[0;34m'horse'\u001b[0m\u001b[0;34m,\u001b[0m\u001b[0;34m'ship'\u001b[0m\u001b[0;34m,\u001b[0m\u001b[0;34m'truck'\u001b[0m\u001b[0;34m]\u001b[0m\u001b[0;34m\u001b[0m\u001b[0;34m\u001b[0m\u001b[0m\n\u001b[1;32m      3\u001b[0m \u001b[0;34m\u001b[0m\u001b[0m\n\u001b[0;32m----> 4\u001b[0;31m \u001b[0mx_train\u001b[0m \u001b[0;34m=\u001b[0m \u001b[0mx_train\u001b[0m\u001b[0;34m/\u001b[0m\u001b[0;36m255.0\u001b[0m\u001b[0;34m\u001b[0m\u001b[0;34m\u001b[0m\u001b[0m\n\u001b[0m\u001b[1;32m      5\u001b[0m \u001b[0mx_train\u001b[0m\u001b[0;34m.\u001b[0m\u001b[0mshape\u001b[0m\u001b[0;34m\u001b[0m\u001b[0;34m\u001b[0m\u001b[0m\n\u001b[1;32m      6\u001b[0m \u001b[0mx_test\u001b[0m\u001b[0;34m=\u001b[0m\u001b[0mx_test\u001b[0m\u001b[0;34m/\u001b[0m\u001b[0;36m255.0\u001b[0m\u001b[0;34m\u001b[0m\u001b[0;34m\u001b[0m\u001b[0m\n",
            "\u001b[0;31mNameError\u001b[0m: name 'x_train' is not defined"
          ]
        }
      ]
    },
    {
      "cell_type": "code",
      "metadata": {
        "colab": {
          "base_uri": "https://localhost:8080/",
          "height": 215
        },
        "id": "WsJiubqEbDC1",
        "outputId": "f1558d10-82ec-4212-fd12-87db083f7d0f"
      },
      "source": [
        "x_train = x_train/255.0\n",
        "x_train.shape\n",
        "x_test=x_test/255.0\n",
        "x_test.shape"
      ],
      "execution_count": null,
      "outputs": [
        {
          "output_type": "error",
          "ename": "NameError",
          "evalue": "ignored",
          "traceback": [
            "\u001b[0;31m---------------------------------------------------------------------------\u001b[0m",
            "\u001b[0;31mNameError\u001b[0m                                 Traceback (most recent call last)",
            "\u001b[0;32m<ipython-input-5-9e98b0cdcca4>\u001b[0m in \u001b[0;36m<module>\u001b[0;34m()\u001b[0m\n\u001b[0;32m----> 1\u001b[0;31m \u001b[0mx_train\u001b[0m \u001b[0;34m=\u001b[0m \u001b[0mx_train\u001b[0m\u001b[0;34m/\u001b[0m\u001b[0;36m255.0\u001b[0m\u001b[0;34m\u001b[0m\u001b[0;34m\u001b[0m\u001b[0m\n\u001b[0m\u001b[1;32m      2\u001b[0m \u001b[0mx_train\u001b[0m\u001b[0;34m.\u001b[0m\u001b[0mshape\u001b[0m\u001b[0;34m\u001b[0m\u001b[0;34m\u001b[0m\u001b[0m\n\u001b[1;32m      3\u001b[0m \u001b[0mx_test\u001b[0m\u001b[0;34m=\u001b[0m\u001b[0mx_test\u001b[0m\u001b[0;34m/\u001b[0m\u001b[0;36m255.0\u001b[0m\u001b[0;34m\u001b[0m\u001b[0;34m\u001b[0m\u001b[0m\n\u001b[1;32m      4\u001b[0m \u001b[0mx_test\u001b[0m\u001b[0;34m.\u001b[0m\u001b[0mshape\u001b[0m\u001b[0;34m\u001b[0m\u001b[0;34m\u001b[0m\u001b[0m\n",
            "\u001b[0;31mNameError\u001b[0m: name 'x_train' is not defined"
          ]
        }
      ]
    },
    {
      "cell_type": "code",
      "metadata": {
        "id": "b0_otV7nbRkk"
      },
      "source": [
        "cifar10_model=tf.keras.models.Sequential()\n",
        "# First Layer\n",
        "cifar10_model.add(tf.keras.layers.Conv2D(filters=32,kernel_size=3,\n",
        "                                         padding=\"same\", activation=\"relu\", input_shape=[32,32,3]))"
      ],
      "execution_count": null,
      "outputs": []
    },
    {
      "cell_type": "code",
      "metadata": {
        "id": "VSyevC4QfOrg"
      },
      "source": [
        "#MaxPoolingLayer\n",
        "cifar10_model.add(tf.keras.layers.MaxPool2D(pool_size=2,strides=2, padding='valid'))"
      ],
      "execution_count": null,
      "outputs": []
    },
    {
      "cell_type": "code",
      "metadata": {
        "id": "fBYwWGQBfgmC"
      },
      "source": [
        "# Flattening Layer\n",
        "cifar10_model.add(tf.keras.layers.Flatten())"
      ],
      "execution_count": null,
      "outputs": []
    },
    {
      "cell_type": "code",
      "metadata": {
        "colab": {
          "base_uri": "https://localhost:8080/",
          "height": 215
        },
        "id": "PsN_5CPHfmIB",
        "outputId": "20731106-4fd0-4a91-ac59-5dc473fcad85"
      },
      "source": [
        "# Droput Layer\n",
        "cifar10_model.add(Dropout(0.2))\n",
        "# Adding the first fully connected layer\n",
        "cifar10_model.add(tf.keras.layers.Dense(units= 128,activation='relu'))"
      ],
      "execution_count": null,
      "outputs": [
        {
          "output_type": "error",
          "ename": "NameError",
          "evalue": "ignored",
          "traceback": [
            "\u001b[0;31m---------------------------------------------------------------------------\u001b[0m",
            "\u001b[0;31mNameError\u001b[0m                                 Traceback (most recent call last)",
            "\u001b[0;32m<ipython-input-26-07e8bbf002e4>\u001b[0m in \u001b[0;36m<module>\u001b[0;34m()\u001b[0m\n\u001b[1;32m      1\u001b[0m \u001b[0;31m# Droput Layer\u001b[0m\u001b[0;34m\u001b[0m\u001b[0;34m\u001b[0m\u001b[0;34m\u001b[0m\u001b[0m\n\u001b[0;32m----> 2\u001b[0;31m \u001b[0mcifar10_model\u001b[0m\u001b[0;34m.\u001b[0m\u001b[0madd\u001b[0m\u001b[0;34m(\u001b[0m\u001b[0mDropout\u001b[0m\u001b[0;34m(\u001b[0m\u001b[0;36m0.2\u001b[0m\u001b[0;34m)\u001b[0m\u001b[0;34m)\u001b[0m\u001b[0;34m\u001b[0m\u001b[0;34m\u001b[0m\u001b[0m\n\u001b[0m\u001b[1;32m      3\u001b[0m \u001b[0;31m# Adding the first fully connected layer\u001b[0m\u001b[0;34m\u001b[0m\u001b[0;34m\u001b[0m\u001b[0;34m\u001b[0m\u001b[0m\n\u001b[1;32m      4\u001b[0m \u001b[0mcifar10_model\u001b[0m\u001b[0;34m.\u001b[0m\u001b[0madd\u001b[0m\u001b[0;34m(\u001b[0m\u001b[0mtf\u001b[0m\u001b[0;34m.\u001b[0m\u001b[0mkeras\u001b[0m\u001b[0;34m.\u001b[0m\u001b[0mlayers\u001b[0m\u001b[0;34m.\u001b[0m\u001b[0mDense\u001b[0m\u001b[0;34m(\u001b[0m\u001b[0munits\u001b[0m\u001b[0;34m=\u001b[0m \u001b[0;36m128\u001b[0m\u001b[0;34m,\u001b[0m\u001b[0mactivation\u001b[0m\u001b[0;34m=\u001b[0m\u001b[0;34m'relu'\u001b[0m\u001b[0;34m)\u001b[0m\u001b[0;34m)\u001b[0m\u001b[0;34m\u001b[0m\u001b[0;34m\u001b[0m\u001b[0m\n",
            "\u001b[0;31mNameError\u001b[0m: name 'Dropout' is not defined"
          ]
        }
      ]
    },
    {
      "cell_type": "markdown",
      "metadata": {
        "id": "kP6Hxx4W1O0C"
      },
      "source": [
        "# Solution to question 1 "
      ]
    },
    {
      "cell_type": "code",
      "metadata": {
        "id": "EFFSQ4OsgXdn"
      },
      "source": [
        "import tensorflow as tf\n",
        "import matplotlib.pyplot as plt"
      ],
      "execution_count": null,
      "outputs": []
    },
    {
      "cell_type": "code",
      "metadata": {
        "id": "OppoBnbRgtoY"
      },
      "source": [
        "from tensorflow.keras.datasets import cifar10"
      ],
      "execution_count": null,
      "outputs": []
    },
    {
      "cell_type": "markdown",
      "metadata": {
        "id": "BoZYuecqgymX"
      },
      "source": [
        "# Loading the dataset"
      ]
    },
    {
      "cell_type": "code",
      "metadata": {
        "id": "WnBLHe-6gwd5"
      },
      "source": [
        "\n",
        "# setting class names\n",
        "class_names=['airplane','automobile','bird','cat','deer','dog','frog','horse','ship','truck']\n",
        "#loading the dataset\n",
        "(x_train,y_train),(x_test,y_test)=cifar10.load_data()"
      ],
      "execution_count": null,
      "outputs": []
    },
    {
      "cell_type": "markdown",
      "metadata": {
        "id": "ed8GwT65g6nw"
      },
      "source": [
        "# Normalizing the Images"
      ]
    },
    {
      "cell_type": "code",
      "metadata": {
        "colab": {
          "base_uri": "https://localhost:8080/"
        },
        "id": "jyKy6s3jg5X0",
        "outputId": "42f32bd5-c636-44d6-b1c8-4a6ae0a805d8"
      },
      "source": [
        "\n",
        "x_train=x_train/255.0\n",
        "x_train.shape"
      ],
      "execution_count": null,
      "outputs": [
        {
          "output_type": "execute_result",
          "data": {
            "text/plain": [
              "(50000, 32, 32, 3)"
            ]
          },
          "metadata": {},
          "execution_count": 31
        }
      ]
    },
    {
      "cell_type": "code",
      "metadata": {
        "colab": {
          "base_uri": "https://localhost:8080/"
        },
        "id": "ujcwMH8UhCmb",
        "outputId": "2ebec377-d541-48fd-e0c8-2afafb9575d2"
      },
      "source": [
        "x_test=x_test/255.0\n",
        "x_test.shape"
      ],
      "execution_count": null,
      "outputs": [
        {
          "output_type": "execute_result",
          "data": {
            "text/plain": [
              "(10000, 32, 32, 3)"
            ]
          },
          "metadata": {},
          "execution_count": 32
        }
      ]
    },
    {
      "cell_type": "markdown",
      "metadata": {
        "id": "lvpOXEw1hH_N"
      },
      "source": [
        "# Randomly Checking a image"
      ]
    },
    {
      "cell_type": "code",
      "metadata": {
        "colab": {
          "base_uri": "https://localhost:8080/",
          "height": 283
        },
        "id": "3Yvdi4gmhFHp",
        "outputId": "a90f0d38-c9f7-4c0a-8545-d34d453583c5"
      },
      "source": [
        "plt.imshow(x_test[215])"
      ],
      "execution_count": null,
      "outputs": [
        {
          "output_type": "execute_result",
          "data": {
            "text/plain": [
              "<matplotlib.image.AxesImage at 0x7fed70089dd0>"
            ]
          },
          "metadata": {},
          "execution_count": 33
        },
        {
          "output_type": "display_data",
          "data": {
            "image/png": "[encoded data removed]",
            "text/plain": [
              "<Figure size 432x288 with 1 Axes>"
            ]
          },
          "metadata": {
            "needs_background": "light"
          }
        }
      ]
    },
    {
      "cell_type": "markdown",
      "metadata": {
        "id": "uQTsE0jyhQf0"
      },
      "source": [
        "# Building a Convolutional Neural Network"
      ]
    },
    {
      "cell_type": "code",
      "metadata": {
        "id": "DZhaO1tihNru"
      },
      "source": [
        "cifar10_model=tf.keras.models.Sequential()"
      ],
      "execution_count": null,
      "outputs": []
    },
    {
      "cell_type": "code",
      "metadata": {
        "id": "kXV8Atv9hWHD"
      },
      "source": [
        "# First Layer\n",
        "cifar10_model.add(tf.keras.layers.Conv2D(filters=32,kernel_size=3,padding=\"same\", activation=\"relu\", input_shape=[32,32,3]))"
      ],
      "execution_count": null,
      "outputs": []
    },
    {
      "cell_type": "code",
      "metadata": {
        "id": "XFHt7m_AhZ55"
      },
      "source": [
        "# Second Layer\n",
        "cifar10_model.add(tf.keras.layers.Conv2D(filters=32,kernel_size=3,padding=\"same\", activation=\"relu\"))"
      ],
      "execution_count": null,
      "outputs": []
    },
    {
      "cell_type": "code",
      "metadata": {
        "id": "ERH__8c2hbAR"
      },
      "source": [
        "# Max Pooling Layer\n",
        "cifar10_model.add(tf.keras.layers.MaxPool2D(pool_size=2,strides=2,padding='valid'))"
      ],
      "execution_count": null,
      "outputs": []
    },
    {
      "cell_type": "code",
      "metadata": {
        "id": "LtdtB1NzheHI"
      },
      "source": [
        "# Third Layer\n",
        "cifar10_model.add(tf.keras.layers.Conv2D(filters=64,kernel_size=3,padding=\"same\", activation=\"relu\"))"
      ],
      "execution_count": null,
      "outputs": []
    },
    {
      "cell_type": "code",
      "metadata": {
        "id": "f8PNlEX9hgtm"
      },
      "source": [
        "# Fourth Layer\n",
        "cifar10_model.add(tf.keras.layers.Conv2D(filters=64,kernel_size=3,padding=\"same\", activation=\"relu\"))"
      ],
      "execution_count": null,
      "outputs": []
    },
    {
      "cell_type": "code",
      "metadata": {
        "id": "UQXEMlI6hjGu"
      },
      "source": [
        "# Max Pooling Layer\n",
        "cifar10_model.add(tf.keras.layers.MaxPool2D(pool_size=2,strides=2,padding='valid'))"
      ],
      "execution_count": null,
      "outputs": []
    },
    {
      "cell_type": "code",
      "metadata": {
        "id": "Mo0SQGVThlvQ"
      },
      "source": [
        "# Flattening Layer\n",
        "cifar10_model.add(tf.keras.layers.Flatten())"
      ],
      "execution_count": null,
      "outputs": []
    },
    {
      "cell_type": "code",
      "metadata": {
        "id": "2-QUf4Gghorr"
      },
      "source": [
        "# Droput Layer\n",
        "cifar10_model.add(tf.keras.layers.Dropout(0.5,noise_shape=None,seed=None))"
      ],
      "execution_count": null,
      "outputs": []
    },
    {
      "cell_type": "code",
      "metadata": {
        "id": "nbcYrrZohryl"
      },
      "source": [
        "# Adding the first fully connected layer\n",
        "cifar10_model.add(tf.keras.layers.Dense(units=128,activation='relu'))"
      ],
      "execution_count": null,
      "outputs": []
    },
    {
      "cell_type": "code",
      "metadata": {
        "id": "cJIfcLkXhvB2"
      },
      "source": [
        "# Output Layer\n",
        "cifar10_model.add(tf.keras.layers.Dense(units=10,activation='softmax'))"
      ],
      "execution_count": null,
      "outputs": []
    },
    {
      "cell_type": "code",
      "metadata": {
        "colab": {
          "base_uri": "https://localhost:8080/"
        },
        "id": "rRm5-ypuhx20",
        "outputId": "4bc7f4f6-84c8-4197-e817-7c7425f8d2a6"
      },
      "source": [
        "cifar10_model.summary()"
      ],
      "execution_count": null,
      "outputs": [
        {
          "output_type": "stream",
          "name": "stdout",
          "text": [
            "Model: \"sequential\"\n",
            "_________________________________________________________________\n",
            "Layer (type)                 Output Shape              Param #   \n",
            "=================================================================\n",
            "conv2d (Conv2D)              (None, 32, 32, 32)        896       \n",
            "_________________________________________________________________\n",
            "conv2d_1 (Conv2D)            (None, 32, 32, 32)        9248      \n",
            "_________________________________________________________________\n",
            "max_pooling2d (MaxPooling2D) (None, 16, 16, 32)        0         \n",
            "_________________________________________________________________\n",
            "conv2d_2 (Conv2D)            (None, 16, 16, 64)        18496     \n",
            "_________________________________________________________________\n",
            "conv2d_3 (Conv2D)            (None, 16, 16, 64)        36928     \n",
            "_________________________________________________________________\n",
            "max_pooling2d_1 (MaxPooling2 (None, 8, 8, 64)          0         \n",
            "_________________________________________________________________\n",
            "flatten (Flatten)            (None, 4096)              0         \n",
            "_________________________________________________________________\n",
            "dropout (Dropout)            (None, 4096)              0         \n",
            "_________________________________________________________________\n",
            "dense (Dense)                (None, 128)               524416    \n",
            "_________________________________________________________________\n",
            "dense_1 (Dense)              (None, 10)                1290      \n",
            "=================================================================\n",
            "Total params: 591,274\n",
            "Trainable params: 591,274\n",
            "Non-trainable params: 0\n",
            "_________________________________________________________________\n"
          ]
        }
      ]
    },
    {
      "cell_type": "markdown",
      "metadata": {
        "id": "eNfZQuUjh4Fg"
      },
      "source": [
        "# Compiling the Model"
      ]
    },
    {
      "cell_type": "code",
      "metadata": {
        "id": "AXUCOsmlh5jB"
      },
      "source": [
        "cifar10_model.compile(loss=\"sparse_categorical_crossentropy\", optimizer=\"Adam\", metrics=[\"sparse_categorical_accuracy\"])"
      ],
      "execution_count": null,
      "outputs": []
    },
    {
      "cell_type": "markdown",
      "metadata": {
        "id": "APGTGwwxiB4f"
      },
      "source": [
        "# Training the Model"
      ]
    },
    {
      "cell_type": "code",
      "metadata": {
        "colab": {
          "base_uri": "https://localhost:8080/"
        },
        "id": "oj6vwa_Lh-Sl",
        "outputId": "800a80c3-0176-46d0-daa8-edfdea7f21a5"
      },
      "source": [
        "cifar10_model.fit(x_train,y_train,epochs=15)"
      ],
      "execution_count": null,
      "outputs": [
        {
          "output_type": "stream",
          "name": "stdout",
          "text": [
            "Epoch 1/15\n",
            "1563/1563 [==============================] - 40s 6ms/step - loss: 8.0889 - sparse_categorical_accuracy: 0.0665\n",
            "Epoch 2/15\n",
            "1563/1563 [==============================] - 8s 5ms/step - loss: 7.8731 - sparse_categorical_accuracy: 0.0977\n",
            "Epoch 3/15\n",
            "1563/1563 [==============================] - 8s 5ms/step - loss: 7.6519 - sparse_categorical_accuracy: 0.1191\n",
            "Epoch 4/15\n",
            "1563/1563 [==============================] - 8s 5ms/step - loss: 9.0129 - sparse_categorical_accuracy: 0.0999\n",
            "Epoch 5/15\n",
            "1563/1563 [==============================] - 8s 5ms/step - loss: 9.0119 - sparse_categorical_accuracy: 0.1000\n",
            "Epoch 6/15\n",
            "1563/1563 [==============================] - 8s 5ms/step - loss: 9.0111 - sparse_categorical_accuracy: 0.1000\n",
            "Epoch 7/15\n",
            "1563/1563 [==============================] - 8s 5ms/step - loss: 9.0106 - sparse_categorical_accuracy: 0.1001\n",
            "Epoch 8/15\n",
            "1563/1563 [==============================] - 8s 5ms/step - loss: 9.0110 - sparse_categorical_accuracy: 0.1000\n",
            "Epoch 9/15\n",
            "1563/1563 [==============================] - 8s 5ms/step - loss: 9.0109 - sparse_categorical_accuracy: 0.1000\n",
            "Epoch 10/15\n",
            "1563/1563 [==============================] - 8s 5ms/step - loss: 9.0109 - sparse_categorical_accuracy: 0.1000\n",
            "Epoch 11/15\n",
            "1563/1563 [==============================] - 8s 5ms/step - loss: 9.0108 - sparse_categorical_accuracy: 0.1000\n",
            "Epoch 12/15\n",
            "1563/1563 [==============================] - 8s 5ms/step - loss: 9.0108 - sparse_categorical_accuracy: 0.1000\n",
            "Epoch 13/15\n",
            "1563/1563 [==============================] - 8s 5ms/step - loss: 9.0108 - sparse_categorical_accuracy: 0.1000\n",
            "Epoch 14/15\n",
            "1563/1563 [==============================] - 8s 5ms/step - loss: 9.0108 - sparse_categorical_accuracy: 0.1000\n",
            "Epoch 15/15\n",
            "1563/1563 [==============================] - 8s 5ms/step - loss: 9.0108 - sparse_categorical_accuracy: 0.1000\n"
          ]
        },
        {
          "output_type": "execute_result",
          "data": {
            "text/plain": [
              "<keras.callbacks.History at 0x7fecfc6a4d10>"
            ]
          },
          "metadata": {},
          "execution_count": 36
        }
      ]
    },
    {
      "cell_type": "code",
      "metadata": {
        "colab": {
          "base_uri": "https://localhost:8080/"
        },
        "id": "R9Q9KLLUjNKs",
        "outputId": "bc7c313d-372b-4868-a0b2-2d680393ab9b"
      },
      "source": [
        "test_loss, test_accuracy = cifar10_model.evaluate(x_test, y_test)"
      ],
      "execution_count": null,
      "outputs": [
        {
          "output_type": "stream",
          "name": "stdout",
          "text": [
            "313/313 [==============================] - 2s 5ms/step - loss: 9.0114 - sparse_categorical_accuracy: 0.1000\n"
          ]
        }
      ]
    },
    {
      "cell_type": "code",
      "metadata": {
        "colab": {
          "base_uri": "https://localhost:8080/"
        },
        "id": "6KBhgnOnjS-V",
        "outputId": "c6a00c45-8e6f-41dc-e502-ae733dd6c420"
      },
      "source": [
        "print(\"Test accuracy: {}\".format(test_accuracy))"
      ],
      "execution_count": null,
      "outputs": [
        {
          "output_type": "stream",
          "name": "stdout",
          "text": [
            "Test accuracy: 0.10000000149011612\n"
          ]
        }
      ]
    },
    {
      "cell_type": "markdown",
      "metadata": {
        "id": "kIlCRRjzjsst"
      },
      "source": [
        "# Dataset: 15-scene\n",
        "Explore the deep learning codes for the 15-Scene dataset. Download dataset from any of the following\n",
        "links:\n",
        "https://figshare.com/articles/15-Scene_Image_Dataset/7007177\n",
        "https://www.kaggle.com/zaiyankhan/15scene-dataset\n",
        "  Download the datasets and prepare as required for training and testing. You can resize the data to 32x32 or 64x64 (depending on the availability of hardware). Use 70% of samples for training and the remaining 30% for testing per category."
      ]
    },
    {
      "cell_type": "code",
      "metadata": {
        "id": "f0Gc3ruYjvZb"
      },
      "source": [
        "import tensorflow as tf\n",
        "import numpy as np\n",
        "import matplotlib.pyplot as plt\n",
        "import numpy as np\n",
        "import cv2\n",
        "import os\n",
        "from tqdm import tqdm_notebook as tqdm # Jupyter notebook should use this"
      ],
      "execution_count": null,
      "outputs": []
    },
    {
      "cell_type": "code",
      "metadata": {
        "id": "qwGbjzeYkR44"
      },
      "source": [
        "os.environ['CUDA_VISIBLE_DEVICES'] = '0'"
      ],
      "execution_count": null,
      "outputs": []
    },
    {
      "cell_type": "markdown",
      "metadata": {
        "id": "UwUOXYqwkaxK"
      },
      "source": [
        "# load data "
      ]
    },
    {
      "cell_type": "code",
      "metadata": {
        "id": "wJ6dHXlDkWyx"
      },
      "source": [
        "DATASET_PATH = '../input/15-scene/15-Scene/'\n",
        "\n",
        "one_hot_lookup = np.eye(15) # 15 classes"
      ],
      "execution_count": null,
      "outputs": []
    },
    {
      "cell_type": "code",
      "metadata": {
        "id": "67-bNfb-keLw"
      },
      "source": [
        "dataset_x = []\n",
        "dataset_y = []"
      ],
      "execution_count": null,
      "outputs": []
    },
    {
      "cell_type": "code",
      "metadata": {
        "colab": {
          "base_uri": "https://localhost:8080/",
          "height": 130
        },
        "id": "rWfSq4-RkhGX",
        "outputId": "7fe0795d-3fba-4d10-fee4-7a71c0f2c741"
      },
      "source": [
        "for category in sorted(os.listdir('../input/15-scene/15-Scene/')\n",
        "    print('loading category:'+str (int(category))\n",
        "    for fname in os.listdir(DATASET_PATH+category):\n",
        "        img = cv2.imread(DATASET_PATH+category+'/'+fname, 2)\n",
        "        img = cv2.resize(img, (224,224))\n",
        "        dataset_x.append(np.reshape(img, [224,224,1]))\n",
        "        dataset_y.append(np.reshape(one_hot_lookup[int(category)], [15]))"
      ],
      "execution_count": null,
      "outputs": [
        {
          "output_type": "error",
          "ename": "SyntaxError",
          "evalue": "ignored",
          "traceback": [
            "\u001b[0;36m  File \u001b[0;32m\"<ipython-input-14-413f2f0c0dd9>\"\u001b[0;36m, line \u001b[0;32m2\u001b[0m\n\u001b[0;31m    print('loading category:'+str (int(category))\u001b[0m\n\u001b[0m        ^\u001b[0m\n\u001b[0;31mSyntaxError\u001b[0m\u001b[0;31m:\u001b[0m invalid syntax\n"
          ]
        }
      ]
    },
    {
      "cell_type": "code",
      "metadata": {
        "id": "SwzBFNYYlpxI"
      },
      "source": [
        "dataset_x = np.array(dataset_x)\n",
        "dataset_y = np.array(dataset_y)"
      ],
      "execution_count": null,
      "outputs": []
    },
    {
      "cell_type": "code",
      "metadata": {
        "id": "fZIAJyZdlsRH"
      },
      "source": [
        "\"\"\"shuffle dataset\"\"\"\n",
        "p = np.random.permutation(len(dataset_x))\n",
        "dataset_x = dataset_x[p]\n",
        "dataset_y = dataset_y[p]"
      ],
      "execution_count": null,
      "outputs": []
    },
    {
      "cell_type": "code",
      "metadata": {
        "id": "vveuQ_H2lvya"
      },
      "source": [
        "test_x = dataset_x[:int(len(dataset_x)/10)]\n",
        "test_y = dataset_y[:int(len(dataset_x)/10)]\n",
        "train_x = dataset_x[int(len(dataset_x)/10):]\n",
        "train_y = dataset_y[int(len(dataset_x)/10):]\n"
      ],
      "execution_count": null,
      "outputs": []
    },
    {
      "cell_type": "code",
      "metadata": {
        "colab": {
          "base_uri": "https://localhost:8080/"
        },
        "id": "dkvlVCGNlynv",
        "outputId": "d86a39eb-aa07-4827-c843-a11b09d88a25"
      },
      "source": [
        "print(train_x.shape)\n",
        "print(train_y.shape)\n",
        "print(test_x.shape)\n",
        "print(test_y.shape)"
      ],
      "execution_count": null,
      "outputs": [
        {
          "output_type": "stream",
          "name": "stdout",
          "text": [
            "(0,)\n",
            "(0,)\n",
            "(0,)\n",
            "(0,)\n"
          ]
        }
      ]
    },
    {
      "cell_type": "code",
      "metadata": {
        "id": "6VyOQoJOl2Yc"
      },
      "source": [
        "\"\"\"fully connected layer\"\"\"\n",
        "def dense(input_tensor, input_units, units, name_scope):\n",
        "    with tf.name_scope(name_scope):\n",
        "        W = tf.Variable(tf.random_normal((input_units, units)))\n",
        "        b = tf.Variable(tf.random_normal((units,)))\n",
        "        return tf.nn.relu(tf.matmul(input_tensor, W) + b)"
      ],
      "execution_count": null,
      "outputs": []
    },
    {
      "cell_type": "code",
      "metadata": {
        "id": "XzSw2copl5mC"
      },
      "source": [
        "\"\"\"convolution layer in 2D\"\"\"\n",
        "def conv2d(input_tensor, filter_size, in_channels, out_channels, name_scope, activation=True):\n",
        "    with tf.name_scope(name_scope):\n",
        "        kernel = tf.Variable(tf.truncated_normal([filter_size, filter_size, in_channels, out_channels], \n",
        "                                                 dtype=tf.float32, stddev=1e-1), name='weights', trainable=True)\n",
        "        conv = tf.nn.conv2d(input_tensor, kernel, [1, 1, 1, 1], padding='SAME')\n",
        "        biases = tf.Variable(tf.constant(0.0, shape=[out_channels], dtype=tf.float32), trainable=True, name='biases')\n",
        "        conv_biased = tf.nn.bias_add(conv, biases)\n",
        "        if activation == False:\n",
        "            return conv_biased # no ReLU activation\n",
        "        relu_conv = tf.nn.relu(conv_biased)\n",
        "        return relu_conv"
      ],
      "execution_count": null,
      "outputs": []
    },
    {
      "cell_type": "code",
      "metadata": {
        "colab": {
          "base_uri": "https://localhost:8080/",
          "height": 249
        },
        "id": "MyjNcA_Ml8me",
        "outputId": "8c32b6f8-6377-41bf-ef87-ce995713668f"
      },
      "source": [
        "\"\"\"build the CNN\"\"\"\n",
        "X = tf.placeholder(tf.float32, [None, 224, 224, 1])\n",
        "Y = tf.placeholder(tf.float32, [None, 15])\n",
        "\n",
        "conv1 = conv2d(input_tensor=X, filter_size=3, in_channels=1, out_channels=16, name_scope='conv1') # output [224,224,16]\n",
        "pool1 = tf.nn.max_pool(conv1, ksize=[1, 2, 2, 1], strides=[1, 2, 2, 1], padding='SAME') # output [112,112,16]\n",
        "conv2 = conv2d(input_tensor=pool1, filter_size=3, in_channels=16, out_channels=32, name_scope='conv2')\n",
        "pool2 = tf.nn.max_pool(conv2, ksize=[1, 2, 2, 1], strides=[1, 2, 2, 1], padding='SAME') # output [56,56,32]\n",
        "conv3 = conv2d(input_tensor=pool2, filter_size=3, in_channels=32, out_channels=32, name_scope='conv3')\n",
        "pool3 = tf.nn.max_pool(conv3, ksize=[1, 2, 2, 1], strides=[1, 2, 2, 1], padding='SAME') #\n",
        "conv4 = conv2d(input_tensor=pool3, filter_size=3, in_channels=32, out_channels=32, name_scope='conv4') \n",
        "pool4 = tf.nn.max_pool(conv4, ksize=[1, 2, 2, 1], strides=[1, 2, 2, 1], padding='SAME') "
      ],
      "execution_count": null,
      "outputs": [
        {
          "output_type": "error",
          "ename": "AttributeError",
          "evalue": "ignored",
          "traceback": [
            "\u001b[0;31m---------------------------------------------------------------------------\u001b[0m",
            "\u001b[0;31mAttributeError\u001b[0m                            Traceback (most recent call last)",
            "\u001b[0;32m<ipython-input-53-fb40560f2299>\u001b[0m in \u001b[0;36m<module>\u001b[0;34m()\u001b[0m\n\u001b[1;32m      1\u001b[0m \u001b[0;34m\"\"\"build the CNN\"\"\"\u001b[0m\u001b[0;34m\u001b[0m\u001b[0;34m\u001b[0m\u001b[0m\n\u001b[0;32m----> 2\u001b[0;31m \u001b[0mX\u001b[0m \u001b[0;34m=\u001b[0m \u001b[0mtf\u001b[0m\u001b[0;34m.\u001b[0m\u001b[0mplaceholder\u001b[0m\u001b[0;34m(\u001b[0m\u001b[0mtf\u001b[0m\u001b[0;34m.\u001b[0m\u001b[0mfloat32\u001b[0m\u001b[0;34m,\u001b[0m \u001b[0;34m[\u001b[0m\u001b[0;32mNone\u001b[0m\u001b[0;34m,\u001b[0m \u001b[0;36m224\u001b[0m\u001b[0;34m,\u001b[0m \u001b[0;36m224\u001b[0m\u001b[0;34m,\u001b[0m \u001b[0;36m1\u001b[0m\u001b[0;34m]\u001b[0m\u001b[0;34m)\u001b[0m\u001b[0;34m\u001b[0m\u001b[0;34m\u001b[0m\u001b[0m\n\u001b[0m\u001b[1;32m      3\u001b[0m \u001b[0mY\u001b[0m \u001b[0;34m=\u001b[0m \u001b[0mtf\u001b[0m\u001b[0;34m.\u001b[0m\u001b[0mplaceholder\u001b[0m\u001b[0;34m(\u001b[0m\u001b[0mtf\u001b[0m\u001b[0;34m.\u001b[0m\u001b[0mfloat32\u001b[0m\u001b[0;34m,\u001b[0m \u001b[0;34m[\u001b[0m\u001b[0;32mNone\u001b[0m\u001b[0;34m,\u001b[0m \u001b[0;36m15\u001b[0m\u001b[0;34m]\u001b[0m\u001b[0;34m)\u001b[0m\u001b[0;34m\u001b[0m\u001b[0;34m\u001b[0m\u001b[0m\n\u001b[1;32m      4\u001b[0m \u001b[0;34m\u001b[0m\u001b[0m\n\u001b[1;32m      5\u001b[0m \u001b[0mconv1\u001b[0m \u001b[0;34m=\u001b[0m \u001b[0mconv2d\u001b[0m\u001b[0;34m(\u001b[0m\u001b[0minput_tensor\u001b[0m\u001b[0;34m=\u001b[0m\u001b[0mX\u001b[0m\u001b[0;34m,\u001b[0m \u001b[0mfilter_size\u001b[0m\u001b[0;34m=\u001b[0m\u001b[0;36m3\u001b[0m\u001b[0;34m,\u001b[0m \u001b[0min_channels\u001b[0m\u001b[0;34m=\u001b[0m\u001b[0;36m1\u001b[0m\u001b[0;34m,\u001b[0m \u001b[0mout_channels\u001b[0m\u001b[0;34m=\u001b[0m\u001b[0;36m16\u001b[0m\u001b[0;34m,\u001b[0m \u001b[0mname_scope\u001b[0m\u001b[0;34m=\u001b[0m\u001b[0;34m'conv1'\u001b[0m\u001b[0;34m)\u001b[0m \u001b[0;31m# output [224,224,16]\u001b[0m\u001b[0;34m\u001b[0m\u001b[0;34m\u001b[0m\u001b[0m\n",
            "\u001b[0;31mAttributeError\u001b[0m: module 'tensorflow' has no attribute 'placeholder'"
          ]
        }
      ]
    },
    {
      "cell_type": "code",
      "metadata": {
        "id": "CT4B6cTWPSPr"
      },
      "source": [
        "\"\"\"build the CNN\"\"\"\n",
        "X = tf.placeholder(tf.float32, [None, 224, 224, 1])\n",
        "Y = tf.placeholder(tf.float32, [None, 15])\n",
        "\n",
        "conv1 = conv2d(input_tensor=X, filter_size=3, in_channels=1, out_channels=16, name_scope='conv1') # output [224,224,16]\n",
        "pool1 = tf.nn.max_pool(conv1, ksize=[1, 2, 2, 1], strides=[1, 2, 2, 1], padding='SAME') # output [112,112,16]\n",
        "conv2 = conv2d(input_tensor=pool1, filter_size=3, in_channels=16, out_channels=32, name_scope='conv2')\n",
        "pool2 = tf.nn.max_pool(conv2, ksize=[1, 2, 2, 1], strides=[1, 2, 2, 1], padding='SAME') # output [56,56,32]\n",
        "conv3 = conv2d(input_tensor=pool2, filter_size=3, in_channels=32, out_channels=32, name_scope='conv3')\n",
        "pool3 = tf.nn.max_pool(conv3, ksize=[1, 2, 2, 1], strides=[1, 2, 2, 1], padding='SAME') #\n",
        "conv4 = conv2d(input_tensor=pool3, filter_size=3, in_channels=32, out_channels=32, name_scope='conv4') \n",
        "pool4 = tf.nn.max_pool(conv4, ksize=[1, 2, 2, 1], strides=[1, 2, 2, 1], padding='SAME') # \n",
        "\n",
        "flatten = tf.reshape(pool4, [-1, 14*14*32])\n",
        "\n",
        "fc1 = tf.layers.dense(flatten, 256, activation=tf.nn.relu)\n",
        "fc2 = tf.layers.dense(fc1, 128, activation=tf.nn.relu)\n",
        "\n",
        "output = tf.layers.dense(fc2, 15, activation=None)\n",
        "\n",
        "loss = tf.losses.softmax_cross_entropy(onehot_labels=Y, logits=output)\n",
        "loss = tf.reduce_mean(loss)\n",
        "    \n",
        "optimizer = tf.train.AdamOptimizer(0.00001).minimize(loss)\n",
        "accuracy = tf.reduce_mean(tf.cast(tf.equal(tf.argmax(Y, 1), tf.argmax(output,1)), dtype=tf.float32))\n",
        "\n",
        "\n",
        "sess = tf.Session()\n",
        "init = tf.global_variables_initializer()\n",
        "sess.run(init)\n",
        "\n",
        "BATCH_SIZE = 16\n",
        "epoch = 0\n",
        "while epoch < 20:\n",
        "    total_steps = int(len(train_x)/BATCH_SIZE)\n",
        "    loss_value = 0\n",
        "    for step in tqdm(range(total_steps), desc=('Epoch '+str(epoch))):\n",
        "        \"\"\"get training batch\"\"\"\n",
        "        if step*BATCH_SIZE + BATCH_SIZE < len(train_x):\n",
        "            BATCH_X = train_x[step*BATCH_SIZE: step*BATCH_SIZE+BATCH_SIZE]\n",
        "            BATCH_Y = train_y[step*BATCH_SIZE: step*BATCH_SIZE+BATCH_SIZE]\n",
        "        else:\n",
        "            BATCH_X = train_x[step*BATCH_SIZE:]\n",
        "            BATCH_Y = train_y[step*BATCH_SIZE:]"
      ],
      "execution_count": null,
      "outputs": []
    },
    {
      "cell_type": "code",
      "metadata": {
        "id": "a1VJA7EqPYOa",
        "colab": {
          "base_uri": "https://localhost:8080/",
          "height": 147
        },
        "outputId": "5b7b89ba-94cc-4468-8234-8214d50252ca"
      },
      "source": [
        "\"\"\"train\"\"\"\n",
        "        [loss_value, accuracy_value, _] = sess.run([loss, accuracy, optimizer], feed_dict={X: BATCH_X, Y: BATCH_Y})\n",
        "\n",
        "    \"\"\"end of epoch\"\"\"\n",
        "    print('Epoch loss = ',loss_value, ' training accuracy = ',accuracy_value)\n",
        "    test_acc = sess.run(accuracy, feed_dict={X: test_x[:100], Y: test_y[:100]})\n",
        "    print('testing accuracy = ', test_acc)\n",
        "\n",
        "    epoch+=1"
      ],
      "execution_count": null,
      "outputs": [
        {
          "output_type": "error",
          "ename": "IndentationError",
          "evalue": "ignored",
          "traceback": [
            "\u001b[0;36m  File \u001b[0;32m\"<ipython-input-55-c39a12593402>\"\u001b[0;36m, line \u001b[0;32m2\u001b[0m\n\u001b[0;31m    [loss_value, accuracy_value, _] = sess.run([loss, accuracy, optimizer], feed_dict={X: BATCH_X, Y: BATCH_Y})\u001b[0m\n\u001b[0m    ^\u001b[0m\n\u001b[0;31mIndentationError\u001b[0m\u001b[0;31m:\u001b[0m unexpected indent\n"
          ]
        }
      ]
    },
    {
      "cell_type": "markdown",
      "metadata": {
        "id": "3IuIb-888Lgk"
      },
      "source": [
        "# Scene-15 Image classification problem with Transfer Learning"
      ]
    },
    {
      "cell_type": "code",
      "metadata": {
        "id": "aspbOMpUd6Cf",
        "colab": {
          "base_uri": "https://localhost:8080/"
        },
        "outputId": "8e667958-fb97-45db-bcf0-2d1a4cff35db"
      },
      "source": [
        "\n",
        "!cd keras-retinanet && pip install . --user"
      ],
      "execution_count": null,
      "outputs": [
        {
          "output_type": "stream",
          "name": "stdout",
          "text": [
            "/bin/bash: line 0: cd: keras-retinanet: No such file or directory\n"
          ]
        }
      ]
    },
    {
      "cell_type": "code",
      "metadata": {
        "id": "N4nCLBzh_I06",
        "colab": {
          "base_uri": "https://localhost:8080/"
        },
        "outputId": "093b31ba-1cbe-44dd-d569-b93ea4f440d9"
      },
      "source": [
        "!pip install keras\n"
      ],
      "execution_count": null,
      "outputs": [
        {
          "output_type": "stream",
          "name": "stdout",
          "text": [
            "Requirement already satisfied: keras in /usr/local/lib/python3.7/dist-packages (2.6.0)\n"
          ]
        }
      ]
    },
    {
      "cell_type": "code",
      "metadata": {
        "id": "w60-gp0LCJdI",
        "colab": {
          "base_uri": "https://localhost:8080/"
        },
        "outputId": "32cb197b-b577-4f6d-c77f-660b2c706733"
      },
      "source": [
        "pip install keras-resnet"
      ],
      "execution_count": null,
      "outputs": [
        {
          "output_type": "stream",
          "name": "stdout",
          "text": [
            "Collecting keras-resnet\n",
            "  Downloading keras-resnet-0.2.0.tar.gz (9.3 kB)\n",
            "Requirement already satisfied: keras>=2.2.4 in /usr/local/lib/python3.7/dist-packages (from keras-resnet) (2.6.0)\n",
            "Building wheels for collected packages: keras-resnet\n",
            "  Building wheel for keras-resnet (setup.py) ... \u001b[?25l\u001b[?25hdone\n",
            "  Created wheel for keras-resnet: filename=keras_resnet-0.2.0-py2.py3-none-any.whl size=20486 sha256=0f06916cb54e38be8d5729fcae5486d3c21c7cd8819471681e69a699c5b17770\n",
            "  Stored in directory: /root/.cache/pip/wheels/bd/ef/06/5d65f696360436c3a423020c4b7fd8c558c09ef264a0e6c575\n",
            "Successfully built keras-resnet\n",
            "Installing collected packages: keras-resnet\n",
            "Successfully installed keras-resnet-0.2.0\n"
          ]
        }
      ]
    },
    {
      "cell_type": "code",
      "metadata": {
        "id": "JUGb9myA87z3",
        "colab": {
          "base_uri": "https://localhost:8080/"
        },
        "outputId": "d03898a7-6086-42b1-ad5f-4a70efa65a5f"
      },
      "source": [
        "!pip install plot-keras-history\n"
      ],
      "execution_count": null,
      "outputs": [
        {
          "output_type": "stream",
          "name": "stdout",
          "text": [
            "Collecting plot-keras-history\n",
            "  Downloading plot_keras_history-1.1.29.tar.gz (9.2 kB)\n",
            "Requirement already satisfied: matplotlib in /usr/local/lib/python3.7/dist-packages (from plot-keras-history) (3.2.2)\n",
            "Requirement already satisfied: pandas in /usr/local/lib/python3.7/dist-packages (from plot-keras-history) (1.1.5)\n",
            "Requirement already satisfied: scipy in /usr/local/lib/python3.7/dist-packages (from plot-keras-history) (1.4.1)\n",
            "Collecting sanitize_ml_labels\n",
            "  Downloading sanitize_ml_labels-1.0.26.tar.gz (6.4 kB)\n",
            "Requirement already satisfied: numpy>=1.11 in /usr/local/lib/python3.7/dist-packages (from matplotlib->plot-keras-history) (1.19.5)\n",
            "Requirement already satisfied: cycler>=0.10 in /usr/local/lib/python3.7/dist-packages (from matplotlib->plot-keras-history) (0.10.0)\n",
            "Requirement already satisfied: pyparsing!=2.0.4,!=2.1.2,!=2.1.6,>=2.0.1 in /usr/local/lib/python3.7/dist-packages (from matplotlib->plot-keras-history) (2.4.7)\n",
            "Requirement already satisfied: kiwisolver>=1.0.1 in /usr/local/lib/python3.7/dist-packages (from matplotlib->plot-keras-history) (1.3.2)\n",
            "Requirement already satisfied: python-dateutil>=2.1 in /usr/local/lib/python3.7/dist-packages (from matplotlib->plot-keras-history) (2.8.2)\n",
            "Requirement already satisfied: six in /usr/local/lib/python3.7/dist-packages (from cycler>=0.10->matplotlib->plot-keras-history) (1.15.0)\n",
            "Requirement already satisfied: pytz>=2017.2 in /usr/local/lib/python3.7/dist-packages (from pandas->plot-keras-history) (2018.9)\n",
            "Collecting compress_json\n",
            "  Downloading compress_json-1.0.4.tar.gz (4.7 kB)\n",
            "Building wheels for collected packages: plot-keras-history, sanitize-ml-labels, compress-json\n",
            "  Building wheel for plot-keras-history (setup.py) ... \u001b[?25l\u001b[?25hdone\n",
            "  Created wheel for plot-keras-history: filename=plot_keras_history-1.1.29-py3-none-any.whl size=8613 sha256=af80fdd55c20fe2d9b96bf175665d9aeda91bd12a9fe67a59231f587ed9b70df\n",
            "  Stored in directory: /root/.cache/pip/wheels/9e/2e/42/17cb826d143226e4d081aa33d3a9b9a90f234dfcf409824b87\n",
            "  Building wheel for sanitize-ml-labels (setup.py) ... \u001b[?25l\u001b[?25hdone\n",
            "  Created wheel for sanitize-ml-labels: filename=sanitize_ml_labels-1.0.26-py3-none-any.whl size=7612 sha256=edbd766f50f54a16804b3756d291c5cfac17f285ac846bff4f8695cbaccc6cae\n",
            "  Stored in directory: /root/.cache/pip/wheels/15/65/34/2e11a0da3cf6f112da5c402e01c454be619ff85a0fb38b3018\n",
            "  Building wheel for compress-json (setup.py) ... \u001b[?25l\u001b[?25hdone\n",
            "  Created wheel for compress-json: filename=compress_json-1.0.4-py3-none-any.whl size=4585 sha256=e8aceb82dcfc063b630154c922334dd64dd59cb657957e0f20b5280a9a3902ca\n",
            "  Stored in directory: /root/.cache/pip/wheels/1e/ef/1e/5d403c5632b0462471a8d26049d0c138134d0255ec60ce4c14\n",
            "Successfully built plot-keras-history sanitize-ml-labels compress-json\n",
            "Installing collected packages: compress-json, sanitize-ml-labels, plot-keras-history\n",
            "Successfully installed compress-json-1.0.4 plot-keras-history-1.1.29 sanitize-ml-labels-1.0.26\n"
          ]
        }
      ]
    },
    {
      "cell_type": "code",
      "metadata": {
        "id": "KTuGQBIj8Pd1"
      },
      "source": [
        "# importing libraries\n",
        "import pandas as pd\n",
        "import numpy as np\n",
        "import os\n",
        "import cv2\n",
        "import random\n",
        "import keras\n",
        "import tensorflow as tf\n",
        "\n",
        "import matplotlib.pyplot as plt\n",
        "from scipy import misc\n",
        "\n",
        "from plot_keras_history import plot_history\n",
        "import matplotlib.pyplot as plt\n",
        "\n",
        "from plot_keras_history import plot_history\n",
        "import matplotlib.pyplot as plt\n",
        "\n",
        "\n",
        "from plot_keras_history import plot_history\n",
        "from keras import Model\n",
        "import keras\n",
        "import keras\n",
        "\n",
        "\n",
        "from tensorflow.keras.applications.resnet50 import preprocess_input\n",
        "from tensorflow.keras.applications import ResNet152V2\n",
        "from keras.preprocessing.image import img_to_array, load_img\n",
        "from keras.layers import ZeroPadding2D\n",
        "from keras.models import Sequential\n",
        "from keras.layers import Dense, Conv2D, MaxPooling2D,Dropout, Flatten, BatchNormalization, Concatenate, AveragePooling2D\n",
        "from keras.callbacks import EarlyStopping, LearningRateScheduler"
      ],
      "execution_count": null,
      "outputs": []
    },
    {
      "cell_type": "markdown",
      "metadata": {
        "id": "GOLiLQdmCUaL"
      },
      "source": [
        "# Splitting the data"
      ]
    },
    {
      "cell_type": "code",
      "metadata": {
        "id": "AUlC2j-gCR3V"
      },
      "source": [
        "# function to split images into train&test\n",
        "\n",
        "def create_train_test(data_dir, class_folder):\n",
        "    directory = data_dir + \"/\" + class_folder + \"/\"\n",
        "    data = os.listdir(directory)\n",
        "    random.shuffle(data)\n",
        "    train = data[:100]  # random 100 images (random.shuffle) for train\n",
        "    test = data[100:]  # rest for test\n",
        "    return (train, test)\n",
        "\n",
        "\n",
        "\n"
      ],
      "execution_count": null,
      "outputs": []
    },
    {
      "cell_type": "code",
      "metadata": {
        "id": "m8xeZiaSul1Q"
      },
      "source": [
        ""
      ],
      "execution_count": null,
      "outputs": []
    },
    {
      "cell_type": "code",
      "metadata": {
        "id": "1V2glaOSunPw",
        "colab": {
          "base_uri": "https://localhost:8080/"
        },
        "outputId": "74b976fc-647c-4b13-cf41-282a97c9d2d8"
      },
      "source": [
        "pip install rarfile\n"
      ],
      "execution_count": null,
      "outputs": [
        {
          "output_type": "stream",
          "name": "stdout",
          "text": [
            "Collecting rarfile\n",
            "  Downloading rarfile-4.0-py3-none-any.whl (28 kB)\n",
            "Installing collected packages: rarfile\n",
            "Successfully installed rarfile-4.0\n"
          ]
        }
      ]
    },
    {
      "cell_type": "code",
      "metadata": {
        "id": "xvuQtBd_eo_I",
        "colab": {
          "base_uri": "https://localhost:8080/",
          "height": 232
        },
        "outputId": "0b6878ba-7f35-4f1b-a453-53053020dd03"
      },
      "source": [
        "\n",
        "# Getting available features\n",
        "class_folder = []\n",
        "path = !unzip \"/archive.zip\"\n",
        "for category in sorted(os.listdir(path)):\n",
        "    class_folder.append(category)\n",
        "# splitting images into train & test\n",
        "# Remember we just split the image into train & test (without preprocessing)\n",
        "train_set = []\n",
        "test_set = []\n",
        "data_dir = 'give data dir path'\n",
        "for class_name in class_folder:\n",
        " train, test = create_train_test(data_dir, class_name)\n",
        " train_data = [class_name, train]\n",
        " test_data = [class_name, test]\n",
        " train_set.append(train_data)\n",
        " test_set.append(test_data)\n",
        "train_set = np.array(train_set)\n",
        "test_set = np.array(test_set)"
      ],
      "execution_count": null,
      "outputs": [
        {
          "output_type": "error",
          "ename": "TypeError",
          "evalue": "ignored",
          "traceback": [
            "\u001b[0;31m---------------------------------------------------------------------------\u001b[0m",
            "\u001b[0;31mTypeError\u001b[0m                                 Traceback (most recent call last)",
            "\u001b[0;32m<ipython-input-27-c70bf5064d70>\u001b[0m in \u001b[0;36m<module>\u001b[0;34m()\u001b[0m\n\u001b[1;32m      3\u001b[0m \u001b[0mclass_folder\u001b[0m \u001b[0;34m=\u001b[0m \u001b[0;34m[\u001b[0m\u001b[0;34m]\u001b[0m\u001b[0;34m\u001b[0m\u001b[0;34m\u001b[0m\u001b[0m\n\u001b[1;32m      4\u001b[0m \u001b[0mpath\u001b[0m \u001b[0;34m=\u001b[0m \u001b[0mget_ipython\u001b[0m\u001b[0;34m(\u001b[0m\u001b[0;34m)\u001b[0m\u001b[0;34m.\u001b[0m\u001b[0mgetoutput\u001b[0m\u001b[0;34m(\u001b[0m\u001b[0;34m'unzip \"/archive.zip\"'\u001b[0m\u001b[0;34m)\u001b[0m\u001b[0;34m\u001b[0m\u001b[0;34m\u001b[0m\u001b[0m\n\u001b[0;32m----> 5\u001b[0;31m \u001b[0;32mfor\u001b[0m \u001b[0mcategory\u001b[0m \u001b[0;32min\u001b[0m \u001b[0msorted\u001b[0m\u001b[0;34m(\u001b[0m\u001b[0mos\u001b[0m\u001b[0;34m.\u001b[0m\u001b[0mPathLike\u001b[0m\u001b[0;34m(\u001b[0m\u001b[0mpath\u001b[0m\u001b[0;34m)\u001b[0m\u001b[0;34m)\u001b[0m\u001b[0;34m:\u001b[0m\u001b[0;34m\u001b[0m\u001b[0;34m\u001b[0m\u001b[0m\n\u001b[0m\u001b[1;32m      6\u001b[0m     \u001b[0mclass_folder\u001b[0m\u001b[0;34m.\u001b[0m\u001b[0mappend\u001b[0m\u001b[0;34m(\u001b[0m\u001b[0mcategory\u001b[0m\u001b[0;34m)\u001b[0m\u001b[0;34m\u001b[0m\u001b[0;34m\u001b[0m\u001b[0m\n\u001b[1;32m      7\u001b[0m \u001b[0;31m# splitting images into train & test\u001b[0m\u001b[0;34m\u001b[0m\u001b[0;34m\u001b[0m\u001b[0;34m\u001b[0m\u001b[0m\n",
            "\u001b[0;31mTypeError\u001b[0m: PathLike() takes no arguments"
          ]
        }
      ]
    },
    {
      "cell_type": "code",
      "metadata": {
        "id": "kr0Yk4FcDrsc",
        "colab": {
          "base_uri": "https://localhost:8080/",
          "height": 130
        },
        "outputId": "074145a8-1c65-456a-88ea-147dae2751c8"
      },
      "source": [
        "# Create directory to store train and test folder\n",
        "dir_create = “give dir path”\n",
        "output_directory = os.mkdir(os.path.join(dir_create, ‘15-Scene_output’))"
      ],
      "execution_count": null,
      "outputs": [
        {
          "output_type": "error",
          "ename": "SyntaxError",
          "evalue": "ignored",
          "traceback": [
            "\u001b[0;36m  File \u001b[0;32m\"<ipython-input-12-db5c34a02ec3>\"\u001b[0;36m, line \u001b[0;32m2\u001b[0m\n\u001b[0;31m    dir_create = “give dir path”\u001b[0m\n\u001b[0m                     ^\u001b[0m\n\u001b[0;31mSyntaxError\u001b[0m\u001b[0;31m:\u001b[0m invalid character in identifier\n"
          ]
        }
      ]
    },
    {
      "cell_type": "code",
      "metadata": {
        "id": "M65jITuaDu1B",
        "colab": {
          "base_uri": "https://localhost:8080/",
          "height": 130
        },
        "outputId": "fc013d48-b4b4-4bf6-a209-82ce775ae6ce"
      },
      "source": [
        "# Function to create train and test folder in given directory\n",
        "# data_dir = Original dataset path\n",
        "# output_path = Path where we want to create folder\n",
        "# output_directory = output directory name\n",
        "# folder_name = folder name like. Train/Test\n",
        "# dataset = train_set/test_set\n",
        "def write_img_to_folder(data_dir, output_path, output_directory, folder_name,\n",
        " dataset):\n",
        "new_folder_path = os.path.join(output_directory, folder_name)\n",
        " make_directory = os.mkdir(new_folder_path)\n",
        "for data in dataset:\n",
        " class_name = data[0]\n",
        " data_files = data[1]\n",
        " data_path = os.path.join(\n",
        " output_path + ‘/’ + str(output_directory) + ‘/’ + str(folder_name),\n",
        " class_name)\n",
        " category_dire = os.mkdir(data_path)\n",
        " for filename in data_files:\n",
        " img = cv2.imread(data_dir + ‘/’ + class_name + ‘/’ + filename, 0)\n",
        " cv2.imwrite(os.path.join(data_path, filename), img)\n",
        "output_path = os.getcwd()\n",
        "# Train/Test folder using write_img_to_folder function\n",
        "train_folder = write_img_to_folder(data_dir, output_path,'Train', train_set)\n",
        "test_folder = write_img_to_folder(data_dir, output_path,'Test', test_set)"
      ],
      "execution_count": null,
      "outputs": [
        {
          "output_type": "error",
          "ename": "IndentationError",
          "evalue": "ignored",
          "traceback": [
            "\u001b[0;36m  File \u001b[0;32m\"<ipython-input-13-1b59625b4e51>\"\u001b[0;36m, line \u001b[0;32m9\u001b[0m\n\u001b[0;31m    new_folder_path = os.path.join(output_directory, folder_name)\u001b[0m\n\u001b[0m                  ^\u001b[0m\n\u001b[0;31mIndentationError\u001b[0m\u001b[0;31m:\u001b[0m expected an indented block\n"
          ]
        }
      ]
    },
    {
      "cell_type": "markdown",
      "metadata": {
        "id": "4GtyCrIdOQuZ"
      },
      "source": [
        "# Load data"
      ]
    },
    {
      "cell_type": "code",
      "metadata": {
        "id": "LhgpjDKKOOX_"
      },
      "source": [
        "# Function to load image and convert into array\n",
        "def convert_img_to_array(dir_path):\n",
        "    X = []\n",
        "    y = []\n",
        "    one_hot_lookups = np.eye(15)\n",
        "    for category in sorted(os.listdir(dir_path)):\n",
        "        for file in os.listdir(dir_path + category):\n",
        "            img = load_img(dir_path + category + '/' + file,\n",
        "                       target_size=(224, 224))  # Load image\n",
        "            img = img_to_array(img)  # Convert image to array\n",
        "            img = preprocess_input(img)  # Preprocessing on the image\n",
        "            X.append(img)  # Append image to X_train\n",
        "            y.append(np.reshape(one_hot_lookups[int(category)],\n",
        "                                  [15]))  # Append category to y_train\n",
        "    return X,y"
      ],
      "execution_count": null,
      "outputs": []
    },
    {
      "cell_type": "code",
      "metadata": {
        "id": "CnZI_zCjOVQ2",
        "colab": {
          "base_uri": "https://localhost:8080/",
          "height": 341
        },
        "outputId": "592739f4-c1df-4830-88ed-43f15839d307"
      },
      "source": [
        "def load_data():\n",
        "    train_dir_path = \"Give train dir path\"\n",
        "    X_train,y_train = convert_img_to_array(train_dir_path)\n",
        "    \n",
        "    test_dir_path = \"Give test dir path\"\n",
        "    X_test, y_test = convert_img_to_array(test_dir_path)\n",
        "    \n",
        "    X_train = np.asarray(X_train)\n",
        "    X_test = np.asarray(X_test)\n",
        "    y_train = np.asarray(y_train)\n",
        "    y_test = np.asarray(y_test)\n",
        "    \n",
        "    X_train /= np.std(X_train, axis = 0)\n",
        "    X_test /= np.std(X_test, axis = 0)\n",
        "    \n",
        "    return ((X_train, y_train), (X_test, y_test))\n",
        "(x_train, y_train), (x_test, y_test) = load_data()"
      ],
      "execution_count": null,
      "outputs": [
        {
          "output_type": "error",
          "ename": "FileNotFoundError",
          "evalue": "ignored",
          "traceback": [
            "\u001b[0;31m---------------------------------------------------------------------------\u001b[0m",
            "\u001b[0;31mFileNotFoundError\u001b[0m                         Traceback (most recent call last)",
            "\u001b[0;32m<ipython-input-15-48ec6686cc13>\u001b[0m in \u001b[0;36m<module>\u001b[0;34m()\u001b[0m\n\u001b[1;32m     15\u001b[0m \u001b[0;34m\u001b[0m\u001b[0m\n\u001b[1;32m     16\u001b[0m     \u001b[0;32mreturn\u001b[0m \u001b[0;34m(\u001b[0m\u001b[0;34m(\u001b[0m\u001b[0mX_train\u001b[0m\u001b[0;34m,\u001b[0m \u001b[0my_train\u001b[0m\u001b[0;34m)\u001b[0m\u001b[0;34m,\u001b[0m \u001b[0;34m(\u001b[0m\u001b[0mX_test\u001b[0m\u001b[0;34m,\u001b[0m \u001b[0my_test\u001b[0m\u001b[0;34m)\u001b[0m\u001b[0;34m)\u001b[0m\u001b[0;34m\u001b[0m\u001b[0;34m\u001b[0m\u001b[0m\n\u001b[0;32m---> 17\u001b[0;31m \u001b[0;34m(\u001b[0m\u001b[0mx_train\u001b[0m\u001b[0;34m,\u001b[0m \u001b[0my_train\u001b[0m\u001b[0;34m)\u001b[0m\u001b[0;34m,\u001b[0m \u001b[0;34m(\u001b[0m\u001b[0mx_test\u001b[0m\u001b[0;34m,\u001b[0m \u001b[0my_test\u001b[0m\u001b[0;34m)\u001b[0m \u001b[0;34m=\u001b[0m \u001b[0mload_data\u001b[0m\u001b[0;34m(\u001b[0m\u001b[0;34m)\u001b[0m\u001b[0;34m\u001b[0m\u001b[0;34m\u001b[0m\u001b[0m\n\u001b[0m",
            "\u001b[0;32m<ipython-input-15-48ec6686cc13>\u001b[0m in \u001b[0;36mload_data\u001b[0;34m()\u001b[0m\n\u001b[1;32m      1\u001b[0m \u001b[0;32mdef\u001b[0m \u001b[0mload_data\u001b[0m\u001b[0;34m(\u001b[0m\u001b[0;34m)\u001b[0m\u001b[0;34m:\u001b[0m\u001b[0;34m\u001b[0m\u001b[0;34m\u001b[0m\u001b[0m\n\u001b[1;32m      2\u001b[0m     \u001b[0mtrain_dir_path\u001b[0m \u001b[0;34m=\u001b[0m \u001b[0;34m\"Give train dir path\"\u001b[0m\u001b[0;34m\u001b[0m\u001b[0;34m\u001b[0m\u001b[0m\n\u001b[0;32m----> 3\u001b[0;31m     \u001b[0mX_train\u001b[0m\u001b[0;34m,\u001b[0m\u001b[0my_train\u001b[0m \u001b[0;34m=\u001b[0m \u001b[0mconvert_img_to_array\u001b[0m\u001b[0;34m(\u001b[0m\u001b[0mtrain_dir_path\u001b[0m\u001b[0;34m)\u001b[0m\u001b[0;34m\u001b[0m\u001b[0;34m\u001b[0m\u001b[0m\n\u001b[0m\u001b[1;32m      4\u001b[0m \u001b[0;34m\u001b[0m\u001b[0m\n\u001b[1;32m      5\u001b[0m     \u001b[0mtest_dir_path\u001b[0m \u001b[0;34m=\u001b[0m \u001b[0;34m\"Give test dir path\"\u001b[0m\u001b[0;34m\u001b[0m\u001b[0;34m\u001b[0m\u001b[0m\n",
            "\u001b[0;32m<ipython-input-14-c464c6ec5600>\u001b[0m in \u001b[0;36mconvert_img_to_array\u001b[0;34m(dir_path)\u001b[0m\n\u001b[1;32m      4\u001b[0m     \u001b[0my\u001b[0m \u001b[0;34m=\u001b[0m \u001b[0;34m[\u001b[0m\u001b[0;34m]\u001b[0m\u001b[0;34m\u001b[0m\u001b[0;34m\u001b[0m\u001b[0m\n\u001b[1;32m      5\u001b[0m     \u001b[0mone_hot_lookups\u001b[0m \u001b[0;34m=\u001b[0m \u001b[0mnp\u001b[0m\u001b[0;34m.\u001b[0m\u001b[0meye\u001b[0m\u001b[0;34m(\u001b[0m\u001b[0;36m15\u001b[0m\u001b[0;34m)\u001b[0m\u001b[0;34m\u001b[0m\u001b[0;34m\u001b[0m\u001b[0m\n\u001b[0;32m----> 6\u001b[0;31m     \u001b[0;32mfor\u001b[0m \u001b[0mcategory\u001b[0m \u001b[0;32min\u001b[0m \u001b[0msorted\u001b[0m\u001b[0;34m(\u001b[0m\u001b[0mos\u001b[0m\u001b[0;34m.\u001b[0m\u001b[0mlistdir\u001b[0m\u001b[0;34m(\u001b[0m\u001b[0mdir_path\u001b[0m\u001b[0;34m)\u001b[0m\u001b[0;34m)\u001b[0m\u001b[0;34m:\u001b[0m\u001b[0;34m\u001b[0m\u001b[0;34m\u001b[0m\u001b[0m\n\u001b[0m\u001b[1;32m      7\u001b[0m         \u001b[0;32mfor\u001b[0m \u001b[0mfile\u001b[0m \u001b[0;32min\u001b[0m \u001b[0mos\u001b[0m\u001b[0;34m.\u001b[0m\u001b[0mlistdir\u001b[0m\u001b[0;34m(\u001b[0m\u001b[0mdir_path\u001b[0m \u001b[0;34m+\u001b[0m \u001b[0mcategory\u001b[0m\u001b[0;34m)\u001b[0m\u001b[0;34m:\u001b[0m\u001b[0;34m\u001b[0m\u001b[0;34m\u001b[0m\u001b[0m\n\u001b[1;32m      8\u001b[0m             img = load_img(dir_path + category + '/' + file,\n",
            "\u001b[0;31mFileNotFoundError\u001b[0m: [Errno 2] No such file or directory: 'Give train dir path'"
          ]
        }
      ]
    },
    {
      "cell_type": "markdown",
      "metadata": {
        "id": "NtOIDhR-OcRZ"
      },
      "source": [
        "# Creating the transfer learning model"
      ]
    },
    {
      "cell_type": "code",
      "metadata": {
        "id": "7C5Ka2whOZOw",
        "colab": {
          "base_uri": "https://localhost:8080/",
          "height": 130
        },
        "outputId": "df3335f0-9fe1-4a99-f9f9-3f53a7b02187"
      },
      "source": [
        "def transfer_model(weights, input_shape, num_output):\n",
        "    transfer_model = ResNet152V2(weights=weights, include_top=False,                              input_shape=input_shape,pooling='max',classifier_activation='softmax')\n",
        "    inp = transfer_model.input\n",
        "new_classification_layer = Dense(num_output, activation='softmax') # make a new softmax layer with 257 neurons\n",
        "out = new_classification_layer(transfer_model.layers[-1].output) # connect our new layer to the second to last layer in ResNet152V2, and make a reference to it\n",
        "final_model = keras.Model(inp, out) # create a new network between inp and out\n",
        "    \n",
        "    return final_model\n",
        "transfer_model = transfer_model(weights='imagenet',input_shape=(224,224,3), num_output=15)\n",
        "transfer_model.summary()"
      ],
      "execution_count": null,
      "outputs": [
        {
          "output_type": "error",
          "ename": "IndentationError",
          "evalue": "ignored",
          "traceback": [
            "\u001b[0;36m  File \u001b[0;32m\"<ipython-input-16-6b3da41c943d>\"\u001b[0;36m, line \u001b[0;32m8\u001b[0m\n\u001b[0;31m    return final_model\u001b[0m\n\u001b[0m    ^\u001b[0m\n\u001b[0;31mIndentationError\u001b[0m\u001b[0;31m:\u001b[0m unexpected indent\n"
          ]
        }
      ]
    },
    {
      "cell_type": "markdown",
      "metadata": {
        "id": "cl9eqUliOi7H"
      },
      "source": [
        "# Compilation of model"
      ]
    },
    {
      "cell_type": "code",
      "metadata": {
        "id": "3OmY7HoyOkOU"
      },
      "source": [
        "def compile_model(model):\n",
        "    lr_schedule = keras.optimizers.schedules.ExponentialDecay(\n",
        "    initial_learning_rate=0.01, decay_steps=1000, decay_rate=0.9)\n",
        "# Optimizer for the model\n",
        "    optimizer = keras.optimizers.SGD(learning_rate=lr_schedule)\n",
        "# Creating the log file\n",
        "    model.compile(loss='categorical_crossentropy',\n",
        "              optimizer=optimizer,\n",
        "              metrics=['accuracy'])\n",
        "    return model\n",
        "final_model = compile_model(final_model)"
      ],
      "execution_count": null,
      "outputs": []
    },
    {
      "cell_type": "markdown",
      "metadata": {
        "id": "sc1rx_IcOpQT"
      },
      "source": [
        "# Fitting the data"
      ]
    },
    {
      "cell_type": "code",
      "metadata": {
        "id": "j9IzpAVEOnDS",
        "colab": {
          "base_uri": "https://localhost:8080/",
          "height": 232
        },
        "outputId": "7da22858-9aa9-4afa-b228-c7c660e09a2d"
      },
      "source": [
        "accuracy = []\n",
        "losses = []\n",
        "for i in range(3):\n",
        "    keras.backend.clear_session()\n",
        "    \n",
        "    model = transfer_model\n",
        "    \n",
        "    model = compile_model(model)\n",
        "    model_history = train_model(model, x_train, y_train, x_test, y_test)\n",
        "    loss, acc = model.evaluate(x_test, y_test, verbose=1)\n",
        "    \n",
        "    plot_history(model_history.history)\n",
        "    plt.show()\n",
        "    \n",
        "    print(f\"\\n\")\n",
        "    print(f\"------------------------------------------------------\")\n",
        "    print(f\"\\n\")\n",
        "    accuracy.append(acc)\n",
        "    losses.append(loss)"
      ],
      "execution_count": null,
      "outputs": [
        {
          "output_type": "error",
          "ename": "NameError",
          "evalue": "ignored",
          "traceback": [
            "\u001b[0;31m---------------------------------------------------------------------------\u001b[0m",
            "\u001b[0;31mNameError\u001b[0m                                 Traceback (most recent call last)",
            "\u001b[0;32m<ipython-input-4-725877907446>\u001b[0m in \u001b[0;36m<module>\u001b[0;34m()\u001b[0m\n\u001b[1;32m      2\u001b[0m \u001b[0mlosses\u001b[0m \u001b[0;34m=\u001b[0m \u001b[0;34m[\u001b[0m\u001b[0;34m]\u001b[0m\u001b[0;34m\u001b[0m\u001b[0;34m\u001b[0m\u001b[0m\n\u001b[1;32m      3\u001b[0m \u001b[0;32mfor\u001b[0m \u001b[0mi\u001b[0m \u001b[0;32min\u001b[0m \u001b[0mrange\u001b[0m\u001b[0;34m(\u001b[0m\u001b[0;36m3\u001b[0m\u001b[0;34m)\u001b[0m\u001b[0;34m:\u001b[0m\u001b[0;34m\u001b[0m\u001b[0;34m\u001b[0m\u001b[0m\n\u001b[0;32m----> 4\u001b[0;31m     \u001b[0mkeras\u001b[0m\u001b[0;34m.\u001b[0m\u001b[0mbackend\u001b[0m\u001b[0;34m.\u001b[0m\u001b[0mclear_session\u001b[0m\u001b[0;34m(\u001b[0m\u001b[0;34m)\u001b[0m\u001b[0;34m\u001b[0m\u001b[0;34m\u001b[0m\u001b[0m\n\u001b[0m\u001b[1;32m      5\u001b[0m \u001b[0;34m\u001b[0m\u001b[0m\n\u001b[1;32m      6\u001b[0m     \u001b[0mmodel\u001b[0m \u001b[0;34m=\u001b[0m \u001b[0mtransfer_model\u001b[0m\u001b[0;34m\u001b[0m\u001b[0;34m\u001b[0m\u001b[0m\n",
            "\u001b[0;31mNameError\u001b[0m: name 'keras' is not defined"
          ]
        }
      ]
    },
    {
      "cell_type": "markdown",
      "metadata": {
        "id": "zzb6Fzg0m8IC"
      },
      "source": [
        "# another example "
      ]
    },
    {
      "cell_type": "code",
      "metadata": {
        "id": "M8RBlnWXOt7J",
        "colab": {
          "base_uri": "https://localhost:8080/",
          "height": 368
        },
        "outputId": "d4b4ab8b-5786-48cd-d0c2-6fd2a111084c"
      },
      "source": [
        "import keras\n",
        "import keras.utils\n",
        "import sklearn\n",
        "from sklearn.model_selection import cross_validate\n",
        "import sklearn.metrics\n",
        "import matplotlib.pyplot as plt\n",
        "from tensorflow.keras.utils import to_categorical\n",
        "from keras import utils as np_utils\n",
        "from keras.models import Sequential\n",
        "from keras.preprocessing.image import ImageDataGenerator\n",
        "from tensorflow.keras.optimizers import Adam\n",
        "from keras.layers import Dense, Dropout, Activation, MaxPool2D, Flatten\n",
        "from keras.layers.convolutional import Conv2D\n",
        "from keras.layers.normalization import BatchNormalization\n",
        "from keras.optimizers import SGD\n",
        "import tensorflow as tf\n",
        "import numpy as np\n",
        "import matplotlib.pyplot as plt\n",
        "import numpy as np\n",
        "import cv2\n",
        "import os"
      ],
      "execution_count": null,
      "outputs": [
        {
          "output_type": "error",
          "ename": "ModuleNotFoundError",
          "evalue": "ignored",
          "traceback": [
            "\u001b[0;31m---------------------------------------------------------------------------\u001b[0m",
            "\u001b[0;31mModuleNotFoundError\u001b[0m                       Traceback (most recent call last)",
            "\u001b[0;32m<ipython-input-19-e902a2c94e4a>\u001b[0m in \u001b[0;36m<module>\u001b[0;34m()\u001b[0m\n\u001b[1;32m     11\u001b[0m \u001b[0;32mfrom\u001b[0m \u001b[0mtensorflow\u001b[0m\u001b[0;34m.\u001b[0m\u001b[0mkeras\u001b[0m\u001b[0;34m.\u001b[0m\u001b[0moptimizers\u001b[0m \u001b[0;32mimport\u001b[0m \u001b[0mAdam\u001b[0m\u001b[0;34m\u001b[0m\u001b[0;34m\u001b[0m\u001b[0m\n\u001b[1;32m     12\u001b[0m \u001b[0;32mfrom\u001b[0m \u001b[0mkeras\u001b[0m\u001b[0;34m.\u001b[0m\u001b[0mlayers\u001b[0m \u001b[0;32mimport\u001b[0m \u001b[0mDense\u001b[0m\u001b[0;34m,\u001b[0m \u001b[0mDropout\u001b[0m\u001b[0;34m,\u001b[0m \u001b[0mActivation\u001b[0m\u001b[0;34m,\u001b[0m \u001b[0mMaxPool2D\u001b[0m\u001b[0;34m,\u001b[0m \u001b[0mFlatten\u001b[0m\u001b[0;34m\u001b[0m\u001b[0;34m\u001b[0m\u001b[0m\n\u001b[0;32m---> 13\u001b[0;31m \u001b[0;32mfrom\u001b[0m \u001b[0mtensorflow\u001b[0m\u001b[0;34m.\u001b[0m\u001b[0mkeras\u001b[0m\u001b[0;34m.\u001b[0m\u001b[0mlayers\u001b[0m\u001b[0;34m.\u001b[0m\u001b[0mconvolutional\u001b[0m \u001b[0;32mimport\u001b[0m \u001b[0mConv2D\u001b[0m\u001b[0;34m\u001b[0m\u001b[0;34m\u001b[0m\u001b[0m\n\u001b[0m\u001b[1;32m     14\u001b[0m \u001b[0;32mfrom\u001b[0m \u001b[0mkeras\u001b[0m\u001b[0;34m.\u001b[0m\u001b[0mlayers\u001b[0m\u001b[0;34m.\u001b[0m\u001b[0mnormalization\u001b[0m \u001b[0;32mimport\u001b[0m \u001b[0mBatchNormalization\u001b[0m\u001b[0;34m\u001b[0m\u001b[0;34m\u001b[0m\u001b[0m\n\u001b[1;32m     15\u001b[0m \u001b[0;32mfrom\u001b[0m \u001b[0mkeras\u001b[0m\u001b[0;34m.\u001b[0m\u001b[0moptimizers\u001b[0m \u001b[0;32mimport\u001b[0m \u001b[0mSGD\u001b[0m\u001b[0;34m\u001b[0m\u001b[0;34m\u001b[0m\u001b[0m\n",
            "\u001b[0;31mModuleNotFoundError\u001b[0m: No module named 'tensorflow.keras.layers.convolutional'",
            "",
            "\u001b[0;31m---------------------------------------------------------------------------\u001b[0;32m\nNOTE: If your import is failing due to a missing package, you can\nmanually install dependencies using either !pip or !apt.\n\nTo view examples of installing some common dependencies, click the\n\"Open Examples\" button below.\n\u001b[0;31m---------------------------------------------------------------------------\u001b[0m\n"
          ],
          "errorDetails": {
            "actions": [
              {
                "action": "open_url",
                "actionText": "Open Examples",
                "url": "/notebooks/snippets/importing_libraries.ipynb"
              }
            ]
          }
        }
      ]
    },
    {
      "cell_type": "markdown",
      "metadata": {
        "id": "Pi_P0o4vcJ1q"
      },
      "source": [
        "# NEw code "
      ]
    },
    {
      "cell_type": "code",
      "metadata": {
        "id": "i_X_k3eAcIzP"
      },
      "source": [
        "import tensorflow\n",
        "from tensorflow.keras.preprocessing.image import ImageDataGenerator\n",
        "from tensorflow.keras.models import Sequential\n",
        "from tensorflow.keras.layers import Dense, Dropout, Activation, Flatten, BatchNormalization\n",
        "from tensorflow.keras.regularizers import l1,l1_l2,l2\n",
        "from tensorflow.keras.layers import Conv2D, MaxPooling2D,AveragePooling2D\n",
        "from sklearn.model_selection import train_test_split\n",
        "from tensorflow.keras.initializers import HeUniform\n",
        "\n",
        "from sklearn.utils import class_weight\n",
        "from shutil import copy2\n",
        "\n",
        "import matplotlib.pyplot as plt\n",
        "import matplotlib.image as mpimg\n",
        "import numpy as np\n",
        "import os\n",
        "from collections import Counter\n",
        "import numpy as np\n",
        "from tensorflow.keras.optimizers import RMSprop, SGD, Adam\n",
        "from tensorflow.keras.callbacks import ModelCheckpoint, EarlyStopping, ReduceLROnPlateau\n",
        "from sklearn.utils.multiclass import unique_labels\n",
        "\n",
        "# from vis.utils import utils\n",
        "from tensorflow.keras import activations \n",
        "from tensorflow.keras.datasets import cifar10\n",
        "from sklearn.metrics import classification_report,accuracy_score,confusion_matrix"
      ],
      "execution_count": 2,
      "outputs": []
    },
    {
      "cell_type": "markdown",
      "metadata": {
        "id": "XMFAlnPUcSWG"
      },
      "source": [
        "# Preprocessing"
      ]
    },
    {
      "cell_type": "code",
      "metadata": {
        "colab": {
          "base_uri": "https://localhost:8080/"
        },
        "id": "nQDix5BycWo8",
        "outputId": "38668ed0-96ba-47dc-be70-43fcec00250a"
      },
      "source": [
        "\n",
        "num_classes = 15\n",
        "img_rows, img_cols = 64,64\n",
        "batch_size =32\n",
        "train_data_dir =\"/content/drive/MyDrive/data/train\"\n",
        "validation_data_dir = \"/content/drive/MyDrive/data/validation\"\n",
        "\n",
        "# Let's use some data augmentaiton \n",
        "train_datagen = ImageDataGenerator()\n",
        "#rescale=1./255)\n",
        "validation_datagen = ImageDataGenerator()\n",
        " \n",
        "train_generator = train_datagen.flow_from_directory(\n",
        "    train_data_dir,\n",
        "    target_size=(img_rows, img_cols),\n",
        "    color_mode=\"grayscale\",\n",
        "    batch_size=batch_size,\n",
        "    class_mode='categorical',\n",
        "    shuffle=True)\n",
        "\n",
        "validation_generator = validation_datagen.flow_from_directory(\n",
        "    validation_data_dir,\n",
        "    target_size=(img_rows, img_cols),\n",
        "    color_mode=\"grayscale\",\n",
        "    batch_size=batch_size,\n",
        "    class_mode='categorical',\n",
        "    shuffle=False)"
      ],
      "execution_count": 3,
      "outputs": [
        {
          "output_type": "stream",
          "name": "stdout",
          "text": [
            "Found 4468 images belonging to 15 classes.\n",
            "Found 1362 images belonging to 15 classes.\n"
          ]
        }
      ]
    },
    {
      "cell_type": "code",
      "metadata": {
        "colab": {
          "base_uri": "https://localhost:8080/"
        },
        "id": "iqWMnANgdNLH",
        "outputId": "beb3d98b-7fa7-4621-bd04-5e7a1f6d8131"
      },
      "source": [
        "\n",
        "model = Sequential()\n",
        "\n",
        "# First CONV-ReLU Layer\n",
        "model.add(Conv2D(39, (3, 3), padding = 'same', input_shape = (img_rows, img_cols,1),kernel_regularizer=l2(0.38),\n",
        "                 kernel_initializer=HeUniform()))\n",
        "model.add(BatchNormalization())\n",
        "model.add(Activation('elu'))\n",
        "model.add(AveragePooling2D(pool_size=(2,2)))\n",
        "model.add(Dropout(0.35))\n",
        "\n",
        "# Second CONV-ReLU Layer\n",
        "model.add(Conv2D(64, (3, 3), padding = \"same\"))\n",
        "model.add(BatchNormalization())\n",
        "model.add(Activation('elu'))\n",
        "model.add(AveragePooling2D(pool_size=(2,2)))\n",
        "model.add(Dropout(0.35))\n",
        "\n",
        "## 3rd conv-pool layer\n",
        "model.add(Conv2D(256, (3, 3), padding=\"same\",kernel_regularizer=l2(0.38), kernel_initializer=HeUniform()))\n",
        "model.add(BatchNormalization())\n",
        "model.add(Activation('elu'))\n",
        "model.add(AveragePooling2D(pool_size=(2,2)))\n",
        "\n",
        "model.add(Flatten())\n",
        "\n",
        "model.add(Dense(621))\n",
        "model.add(Activation('elu'))\n",
        "model.add(BatchNormalization())\n",
        "model.add(Dropout(0.0530))\n",
        "\n",
        "\n",
        "# Final Dense Layer\n",
        "model.add(Dense(num_classes,activation='softmax',name='Hafizzo'))\n",
        "\n",
        "print(model.summary())"
      ],
      "execution_count": 4,
      "outputs": [
        {
          "output_type": "stream",
          "name": "stdout",
          "text": [
            "Model: \"sequential\"\n",
            "_________________________________________________________________\n",
            "Layer (type)                 Output Shape              Param #   \n",
            "=================================================================\n",
            "conv2d (Conv2D)              (None, 64, 64, 39)        390       \n",
            "_________________________________________________________________\n",
            "batch_normalization (BatchNo (None, 64, 64, 39)        156       \n",
            "_________________________________________________________________\n",
            "activation (Activation)      (None, 64, 64, 39)        0         \n",
            "_________________________________________________________________\n",
            "average_pooling2d (AveragePo (None, 32, 32, 39)        0         \n",
            "_________________________________________________________________\n",
            "dropout (Dropout)            (None, 32, 32, 39)        0         \n",
            "_________________________________________________________________\n",
            "conv2d_1 (Conv2D)            (None, 32, 32, 64)        22528     \n",
            "_________________________________________________________________\n",
            "batch_normalization_1 (Batch (None, 32, 32, 64)        256       \n",
            "_________________________________________________________________\n",
            "activation_1 (Activation)    (None, 32, 32, 64)        0         \n",
            "_________________________________________________________________\n",
            "average_pooling2d_1 (Average (None, 16, 16, 64)        0         \n",
            "_________________________________________________________________\n",
            "dropout_1 (Dropout)          (None, 16, 16, 64)        0         \n",
            "_________________________________________________________________\n",
            "conv2d_2 (Conv2D)            (None, 16, 16, 256)       147712    \n",
            "_________________________________________________________________\n",
            "batch_normalization_2 (Batch (None, 16, 16, 256)       1024      \n",
            "_________________________________________________________________\n",
            "activation_2 (Activation)    (None, 16, 16, 256)       0         \n",
            "_________________________________________________________________\n",
            "average_pooling2d_2 (Average (None, 8, 8, 256)         0         \n",
            "_________________________________________________________________\n",
            "flatten (Flatten)            (None, 16384)             0         \n",
            "_________________________________________________________________\n",
            "dense (Dense)                (None, 621)               10175085  \n",
            "_________________________________________________________________\n",
            "activation_3 (Activation)    (None, 621)               0         \n",
            "_________________________________________________________________\n",
            "batch_normalization_3 (Batch (None, 621)               2484      \n",
            "_________________________________________________________________\n",
            "dropout_2 (Dropout)          (None, 621)               0         \n",
            "_________________________________________________________________\n",
            "Hafizzo (Dense)              (None, 15)                9330      \n",
            "=================================================================\n",
            "Total params: 10,358,965\n",
            "Trainable params: 10,357,005\n",
            "Non-trainable params: 1,960\n",
            "_________________________________________________________________\n",
            "None\n"
          ]
        }
      ]
    },
    {
      "cell_type": "code",
      "metadata": {
        "id": "iT6JyKoyiTqW",
        "colab": {
          "base_uri": "https://localhost:8080/"
        },
        "outputId": "57234009-f3c4-4cbf-f9ff-9364baf2a3ac"
      },
      "source": [
        "\n",
        "checkpoint = ModelCheckpoint(\"cnn_scene_Reluv2.h5\",\n",
        "                             monitor=\"val_loss\",\n",
        "                             mode=\"min\",\n",
        "                             save_best_only = True,\n",
        "                             verbose=1)\n",
        "\n",
        "earlystop = EarlyStopping(monitor = 'val_loss', \n",
        "                          min_delta = 0, \n",
        "                          patience = 5,\n",
        "                          verbose = 1,\n",
        "                          restore_best_weights = True)\n",
        "\n",
        "reduce_lr = ReduceLROnPlateau(monitor = 'val_loss',\n",
        "                              factor = 0.2,\n",
        "                              patience = 5,\n",
        "                              verbose = 1,\n",
        "                              min_delta = 0.000001)\n",
        "\n",
        "# we put our call backs into a callback list\n",
        "callbacks = [ checkpoint,reduce_lr]\n",
        "\n",
        "# We use a very small learning rate \n",
        "model.compile(loss = 'categorical_crossentropy',\n",
        "              optimizer = RMSprop(lr=0.0001,momentum=0.9),\n",
        "              metrics = ['accuracy'])\n",
        "\n",
        "\n",
        "epochs = 100\n",
        "import time\n",
        "time_start=time.perf_counter()\n",
        "\n",
        "history= model.fit_generator(   \n",
        "    \n",
        "    train_generator,\n",
        "    epochs = epochs,\n",
        "    callbacks = callbacks,\n",
        "    validation_data = validation_generator)\n",
        "elapsed_time=time.perf_counter()-time_start"
      ],
      "execution_count": 19,
      "outputs": [
        {
          "output_type": "stream",
          "name": "stderr",
          "text": [
            "/usr/local/lib/python3.7/dist-packages/keras/optimizer_v2/optimizer_v2.py:356: UserWarning: The `lr` argument is deprecated, use `learning_rate` instead.\n",
            "  \"The `lr` argument is deprecated, use `learning_rate` instead.\")\n",
            "/usr/local/lib/python3.7/dist-packages/keras/engine/training.py:1972: UserWarning: `Model.fit_generator` is deprecated and will be removed in a future version. Please use `Model.fit`, which supports generators.\n",
            "  warnings.warn('`Model.fit_generator` is deprecated and '\n"
          ]
        },
        {
          "output_type": "stream",
          "name": "stdout",
          "text": [
            "Epoch 1/100\n",
            "140/140 [==============================] - 24s 167ms/step - loss: 66.1528 - accuracy: 0.3402 - val_loss: 20.3360 - val_accuracy: 0.2445\n",
            "\n",
            "Epoch 00001: val_loss improved from inf to 20.33596, saving model to cnn_scene_Reluv2.h5\n",
            "Epoch 2/100\n",
            "140/140 [==============================] - 27s 190ms/step - loss: 15.0857 - accuracy: 0.5121 - val_loss: 11.7086 - val_accuracy: 0.4156\n",
            "\n",
            "Epoch 00002: val_loss improved from 20.33596 to 11.70856, saving model to cnn_scene_Reluv2.h5\n",
            "Epoch 3/100\n",
            "140/140 [==============================] - 27s 190ms/step - loss: 8.7315 - accuracy: 0.5833 - val_loss: 8.1304 - val_accuracy: 0.2335\n",
            "\n",
            "Epoch 00003: val_loss improved from 11.70856 to 8.13038, saving model to cnn_scene_Reluv2.h5\n",
            "Epoch 4/100\n",
            "140/140 [==============================] - 26s 188ms/step - loss: 5.2419 - accuracy: 0.6361 - val_loss: 6.1762 - val_accuracy: 0.2283\n",
            "\n",
            "Epoch 00004: val_loss improved from 8.13038 to 6.17617, saving model to cnn_scene_Reluv2.h5\n",
            "Epoch 5/100\n",
            "140/140 [==============================] - 27s 189ms/step - loss: 3.4839 - accuracy: 0.6896 - val_loss: 7.0052 - val_accuracy: 0.1887\n",
            "\n",
            "Epoch 00005: val_loss did not improve from 6.17617\n",
            "Epoch 6/100\n",
            "140/140 [==============================] - 26s 185ms/step - loss: 2.7079 - accuracy: 0.7252 - val_loss: 3.9833 - val_accuracy: 0.3495\n",
            "\n",
            "Epoch 00006: val_loss improved from 6.17617 to 3.98325, saving model to cnn_scene_Reluv2.h5\n",
            "Epoch 7/100\n",
            "140/140 [==============================] - 26s 188ms/step - loss: 2.3143 - accuracy: 0.7469 - val_loss: 2.8209 - val_accuracy: 0.5477\n",
            "\n",
            "Epoch 00007: val_loss improved from 3.98325 to 2.82086, saving model to cnn_scene_Reluv2.h5\n",
            "Epoch 8/100\n",
            "140/140 [==============================] - 27s 193ms/step - loss: 1.9747 - accuracy: 0.7713 - val_loss: 2.5273 - val_accuracy: 0.5778\n",
            "\n",
            "Epoch 00008: val_loss improved from 2.82086 to 2.52731, saving model to cnn_scene_Reluv2.h5\n",
            "Epoch 9/100\n",
            "140/140 [==============================] - 28s 201ms/step - loss: 1.7142 - accuracy: 0.7925 - val_loss: 2.7827 - val_accuracy: 0.5088\n",
            "\n",
            "Epoch 00009: val_loss did not improve from 2.52731\n",
            "Epoch 10/100\n",
            "140/140 [==============================] - 27s 195ms/step - loss: 1.5234 - accuracy: 0.8140 - val_loss: 1.5253 - val_accuracy: 0.8135\n",
            "\n",
            "Epoch 00010: val_loss improved from 2.52731 to 1.52534, saving model to cnn_scene_Reluv2.h5\n",
            "Epoch 11/100\n",
            "140/140 [==============================] - 25s 182ms/step - loss: 1.3685 - accuracy: 0.8451 - val_loss: 4.6256 - val_accuracy: 0.3884\n",
            "\n",
            "Epoch 00011: val_loss did not improve from 1.52534\n",
            "Epoch 12/100\n",
            "140/140 [==============================] - 28s 200ms/step - loss: 1.2644 - accuracy: 0.8467 - val_loss: 1.2073 - val_accuracy: 0.8781\n",
            "\n",
            "Epoch 00012: val_loss improved from 1.52534 to 1.20726, saving model to cnn_scene_Reluv2.h5\n",
            "Epoch 13/100\n",
            "140/140 [==============================] - 26s 183ms/step - loss: 1.1312 - accuracy: 0.8758 - val_loss: 1.6406 - val_accuracy: 0.7041\n",
            "\n",
            "Epoch 00013: val_loss did not improve from 1.20726\n",
            "Epoch 14/100\n",
            "140/140 [==============================] - 26s 182ms/step - loss: 1.0355 - accuracy: 0.8827 - val_loss: 1.0529 - val_accuracy: 0.8913\n",
            "\n",
            "Epoch 00014: val_loss improved from 1.20726 to 1.05290, saving model to cnn_scene_Reluv2.h5\n",
            "Epoch 15/100\n",
            "140/140 [==============================] - 22s 159ms/step - loss: 0.9997 - accuracy: 0.8856 - val_loss: 0.8936 - val_accuracy: 0.9405\n",
            "\n",
            "Epoch 00015: val_loss improved from 1.05290 to 0.89356, saving model to cnn_scene_Reluv2.h5\n",
            "Epoch 16/100\n",
            "140/140 [==============================] - 24s 174ms/step - loss: 0.9358 - accuracy: 0.8910 - val_loss: 0.9206 - val_accuracy: 0.9082\n",
            "\n",
            "Epoch 00016: val_loss did not improve from 0.89356\n",
            "Epoch 17/100\n",
            "140/140 [==============================] - 26s 182ms/step - loss: 0.9362 - accuracy: 0.8870 - val_loss: 1.4110 - val_accuracy: 0.7717\n",
            "\n",
            "Epoch 00017: val_loss did not improve from 0.89356\n",
            "Epoch 18/100\n",
            "140/140 [==============================] - 25s 176ms/step - loss: 0.8082 - accuracy: 0.9163 - val_loss: 1.4375 - val_accuracy: 0.7548\n",
            "\n",
            "Epoch 00018: val_loss did not improve from 0.89356\n",
            "Epoch 19/100\n",
            "140/140 [==============================] - 26s 188ms/step - loss: 0.7695 - accuracy: 0.9179 - val_loss: 0.9967 - val_accuracy: 0.8473\n",
            "\n",
            "Epoch 00019: val_loss did not improve from 0.89356\n",
            "Epoch 20/100\n",
            "140/140 [==============================] - 26s 183ms/step - loss: 0.7762 - accuracy: 0.9156 - val_loss: 2.0336 - val_accuracy: 0.6197\n",
            "\n",
            "Epoch 00020: val_loss did not improve from 0.89356\n",
            "\n",
            "Epoch 00020: ReduceLROnPlateau reducing learning rate to 1.9999999494757503e-05.\n",
            "Epoch 21/100\n",
            "140/140 [==============================] - 26s 183ms/step - loss: 0.5135 - accuracy: 0.9586 - val_loss: 0.6772 - val_accuracy: 0.8568\n",
            "\n",
            "Epoch 00021: val_loss improved from 0.89356 to 0.67725, saving model to cnn_scene_Reluv2.h5\n",
            "Epoch 22/100\n",
            "140/140 [==============================] - 24s 172ms/step - loss: 0.3442 - accuracy: 0.9734 - val_loss: 0.3683 - val_accuracy: 0.9670\n",
            "\n",
            "Epoch 00022: val_loss improved from 0.67725 to 0.36833, saving model to cnn_scene_Reluv2.h5\n",
            "Epoch 23/100\n",
            "140/140 [==============================] - 26s 188ms/step - loss: 0.3255 - accuracy: 0.9756 - val_loss: 0.3701 - val_accuracy: 0.9670\n",
            "\n",
            "Epoch 00023: val_loss did not improve from 0.36833\n",
            "Epoch 24/100\n",
            "140/140 [==============================] - 26s 183ms/step - loss: 0.2931 - accuracy: 0.9821 - val_loss: 0.3579 - val_accuracy: 0.9618\n",
            "\n",
            "Epoch 00024: val_loss improved from 0.36833 to 0.35789, saving model to cnn_scene_Reluv2.h5\n",
            "Epoch 25/100\n",
            "140/140 [==============================] - 26s 184ms/step - loss: 0.2906 - accuracy: 0.9799 - val_loss: 0.3383 - val_accuracy: 0.9648\n",
            "\n",
            "Epoch 00025: val_loss improved from 0.35789 to 0.33828, saving model to cnn_scene_Reluv2.h5\n",
            "Epoch 26/100\n",
            "140/140 [==============================] - 26s 184ms/step - loss: 0.2814 - accuracy: 0.9816 - val_loss: 0.2652 - val_accuracy: 0.9860\n",
            "\n",
            "Epoch 00026: val_loss improved from 0.33828 to 0.26523, saving model to cnn_scene_Reluv2.h5\n",
            "Epoch 27/100\n",
            "140/140 [==============================] - 25s 176ms/step - loss: 0.2623 - accuracy: 0.9863 - val_loss: 0.2633 - val_accuracy: 0.9846\n",
            "\n",
            "Epoch 00027: val_loss improved from 0.26523 to 0.26326, saving model to cnn_scene_Reluv2.h5\n",
            "Epoch 28/100\n",
            "140/140 [==============================] - 25s 175ms/step - loss: 0.2618 - accuracy: 0.9825 - val_loss: 0.2455 - val_accuracy: 0.9853\n",
            "\n",
            "Epoch 00028: val_loss improved from 0.26326 to 0.24548, saving model to cnn_scene_Reluv2.h5\n",
            "Epoch 29/100\n",
            "140/140 [==============================] - 24s 172ms/step - loss: 0.2583 - accuracy: 0.9848 - val_loss: 0.3197 - val_accuracy: 0.9611\n",
            "\n",
            "Epoch 00029: val_loss did not improve from 0.24548\n",
            "Epoch 30/100\n",
            "140/140 [==============================] - 25s 175ms/step - loss: 0.2496 - accuracy: 0.9846 - val_loss: 0.3295 - val_accuracy: 0.9559\n",
            "\n",
            "Epoch 00030: val_loss did not improve from 0.24548\n",
            "Epoch 31/100\n",
            "140/140 [==============================] - 23s 167ms/step - loss: 0.2365 - accuracy: 0.9848 - val_loss: 0.2500 - val_accuracy: 0.9831\n",
            "\n",
            "Epoch 00031: val_loss did not improve from 0.24548\n",
            "Epoch 32/100\n",
            "140/140 [==============================] - 25s 177ms/step - loss: 0.2302 - accuracy: 0.9875 - val_loss: 0.2178 - val_accuracy: 0.9934\n",
            "\n",
            "Epoch 00032: val_loss improved from 0.24548 to 0.21784, saving model to cnn_scene_Reluv2.h5\n",
            "Epoch 33/100\n",
            "140/140 [==============================] - 25s 180ms/step - loss: 0.2240 - accuracy: 0.9855 - val_loss: 0.2332 - val_accuracy: 0.9860\n",
            "\n",
            "Epoch 00033: val_loss did not improve from 0.21784\n",
            "Epoch 34/100\n",
            "140/140 [==============================] - 24s 170ms/step - loss: 0.2349 - accuracy: 0.9810 - val_loss: 0.2246 - val_accuracy: 0.9897\n",
            "\n",
            "Epoch 00034: val_loss did not improve from 0.21784\n",
            "Epoch 35/100\n",
            "140/140 [==============================] - 25s 181ms/step - loss: 0.2216 - accuracy: 0.9859 - val_loss: 0.2237 - val_accuracy: 0.9868\n",
            "\n",
            "Epoch 00035: val_loss did not improve from 0.21784\n",
            "Epoch 36/100\n",
            "140/140 [==============================] - 25s 182ms/step - loss: 0.2080 - accuracy: 0.9875 - val_loss: 0.2228 - val_accuracy: 0.9875\n",
            "\n",
            "Epoch 00036: val_loss did not improve from 0.21784\n",
            "Epoch 37/100\n",
            "140/140 [==============================] - 25s 175ms/step - loss: 0.2146 - accuracy: 0.9834 - val_loss: 0.2372 - val_accuracy: 0.9802\n",
            "\n",
            "Epoch 00037: val_loss did not improve from 0.21784\n",
            "\n",
            "Epoch 00037: ReduceLROnPlateau reducing learning rate to 3.999999898951501e-06.\n",
            "Epoch 38/100\n",
            "140/140 [==============================] - 25s 180ms/step - loss: 0.1810 - accuracy: 0.9944 - val_loss: 0.1725 - val_accuracy: 0.9934\n",
            "\n",
            "Epoch 00038: val_loss improved from 0.21784 to 0.17247, saving model to cnn_scene_Reluv2.h5\n",
            "Epoch 39/100\n",
            "140/140 [==============================] - 25s 177ms/step - loss: 0.1430 - accuracy: 0.9951 - val_loss: 0.1519 - val_accuracy: 0.9919\n",
            "\n",
            "Epoch 00039: val_loss improved from 0.17247 to 0.15190, saving model to cnn_scene_Reluv2.h5\n",
            "Epoch 40/100\n",
            "140/140 [==============================] - 25s 175ms/step - loss: 0.1364 - accuracy: 0.9937 - val_loss: 0.1603 - val_accuracy: 0.9883\n",
            "\n",
            "Epoch 00040: val_loss did not improve from 0.15190\n",
            "Epoch 41/100\n",
            "140/140 [==============================] - 23s 163ms/step - loss: 0.1328 - accuracy: 0.9957 - val_loss: 0.1501 - val_accuracy: 0.9905\n",
            "\n",
            "Epoch 00041: val_loss improved from 0.15190 to 0.15009, saving model to cnn_scene_Reluv2.h5\n",
            "Epoch 42/100\n",
            "140/140 [==============================] - 22s 155ms/step - loss: 0.1304 - accuracy: 0.9955 - val_loss: 0.1499 - val_accuracy: 0.9912\n",
            "\n",
            "Epoch 00042: val_loss improved from 0.15009 to 0.14985, saving model to cnn_scene_Reluv2.h5\n",
            "Epoch 43/100\n",
            "140/140 [==============================] - 22s 158ms/step - loss: 0.1288 - accuracy: 0.9944 - val_loss: 0.1452 - val_accuracy: 0.9897\n",
            "\n",
            "Epoch 00043: val_loss improved from 0.14985 to 0.14516, saving model to cnn_scene_Reluv2.h5\n",
            "Epoch 44/100\n",
            "140/140 [==============================] - 25s 175ms/step - loss: 0.1293 - accuracy: 0.9949 - val_loss: 0.1399 - val_accuracy: 0.9912\n",
            "\n",
            "Epoch 00044: val_loss improved from 0.14516 to 0.13988, saving model to cnn_scene_Reluv2.h5\n",
            "Epoch 45/100\n",
            "140/140 [==============================] - 24s 168ms/step - loss: 0.1263 - accuracy: 0.9960 - val_loss: 0.1402 - val_accuracy: 0.9897\n",
            "\n",
            "Epoch 00045: val_loss did not improve from 0.13988\n",
            "Epoch 46/100\n",
            "140/140 [==============================] - 21s 152ms/step - loss: 0.1244 - accuracy: 0.9949 - val_loss: 0.1431 - val_accuracy: 0.9890\n",
            "\n",
            "Epoch 00046: val_loss did not improve from 0.13988\n",
            "Epoch 47/100\n",
            "140/140 [==============================] - 20s 144ms/step - loss: 0.1216 - accuracy: 0.9962 - val_loss: 0.1351 - val_accuracy: 0.9905\n",
            "\n",
            "Epoch 00047: val_loss improved from 0.13988 to 0.13513, saving model to cnn_scene_Reluv2.h5\n",
            "Epoch 48/100\n",
            "140/140 [==============================] - 21s 149ms/step - loss: 0.1194 - accuracy: 0.9957 - val_loss: 0.1344 - val_accuracy: 0.9927\n",
            "\n",
            "Epoch 00048: val_loss improved from 0.13513 to 0.13437, saving model to cnn_scene_Reluv2.h5\n",
            "Epoch 49/100\n",
            "140/140 [==============================] - 26s 189ms/step - loss: 0.1178 - accuracy: 0.9969 - val_loss: 0.1417 - val_accuracy: 0.9883\n",
            "\n",
            "Epoch 00049: val_loss did not improve from 0.13437\n",
            "Epoch 50/100\n",
            "140/140 [==============================] - 24s 171ms/step - loss: 0.1174 - accuracy: 0.9957 - val_loss: 0.1361 - val_accuracy: 0.9912\n",
            "\n",
            "Epoch 00050: val_loss did not improve from 0.13437\n",
            "Epoch 51/100\n",
            "140/140 [==============================] - 24s 170ms/step - loss: 0.1164 - accuracy: 0.9951 - val_loss: 0.1308 - val_accuracy: 0.9912\n",
            "\n",
            "Epoch 00051: val_loss improved from 0.13437 to 0.13077, saving model to cnn_scene_Reluv2.h5\n",
            "Epoch 52/100\n",
            "140/140 [==============================] - 22s 154ms/step - loss: 0.1148 - accuracy: 0.9962 - val_loss: 0.1362 - val_accuracy: 0.9890\n",
            "\n",
            "Epoch 00052: val_loss did not improve from 0.13077\n",
            "Epoch 53/100\n",
            "140/140 [==============================] - 21s 147ms/step - loss: 0.1192 - accuracy: 0.9951 - val_loss: 0.1306 - val_accuracy: 0.9919\n",
            "\n",
            "Epoch 00053: val_loss improved from 0.13077 to 0.13056, saving model to cnn_scene_Reluv2.h5\n",
            "Epoch 54/100\n",
            "140/140 [==============================] - 22s 155ms/step - loss: 0.1082 - accuracy: 0.9980 - val_loss: 0.1494 - val_accuracy: 0.9883\n",
            "\n",
            "Epoch 00054: val_loss did not improve from 0.13056\n",
            "Epoch 55/100\n",
            "140/140 [==============================] - 20s 146ms/step - loss: 0.1132 - accuracy: 0.9946 - val_loss: 0.1406 - val_accuracy: 0.9897\n",
            "\n",
            "Epoch 00055: val_loss did not improve from 0.13056\n",
            "Epoch 56/100\n",
            "140/140 [==============================] - 20s 144ms/step - loss: 0.1120 - accuracy: 0.9946 - val_loss: 0.1353 - val_accuracy: 0.9919\n",
            "\n",
            "Epoch 00056: val_loss did not improve from 0.13056\n",
            "Epoch 57/100\n",
            "140/140 [==============================] - 21s 147ms/step - loss: 0.1124 - accuracy: 0.9944 - val_loss: 0.1329 - val_accuracy: 0.9890\n",
            "\n",
            "Epoch 00057: val_loss did not improve from 0.13056\n",
            "Epoch 58/100\n",
            "140/140 [==============================] - 20s 140ms/step - loss: 0.1111 - accuracy: 0.9951 - val_loss: 0.1329 - val_accuracy: 0.9919\n",
            "\n",
            "Epoch 00058: val_loss did not improve from 0.13056\n",
            "\n",
            "Epoch 00058: ReduceLROnPlateau reducing learning rate to 7.999999979801942e-07.\n",
            "Epoch 59/100\n",
            "140/140 [==============================] - 19s 138ms/step - loss: 0.1050 - accuracy: 0.9978 - val_loss: 0.1260 - val_accuracy: 0.9897\n",
            "\n",
            "Epoch 00059: val_loss improved from 0.13056 to 0.12596, saving model to cnn_scene_Reluv2.h5\n",
            "Epoch 60/100\n",
            "140/140 [==============================] - 21s 147ms/step - loss: 0.1014 - accuracy: 0.9973 - val_loss: 0.1265 - val_accuracy: 0.9897\n",
            "\n",
            "Epoch 00060: val_loss did not improve from 0.12596\n",
            "Epoch 61/100\n",
            "140/140 [==============================] - 20s 142ms/step - loss: 0.0958 - accuracy: 0.9989 - val_loss: 0.1217 - val_accuracy: 0.9912\n",
            "\n",
            "Epoch 00061: val_loss improved from 0.12596 to 0.12173, saving model to cnn_scene_Reluv2.h5\n",
            "Epoch 62/100\n",
            "140/140 [==============================] - 20s 139ms/step - loss: 0.0960 - accuracy: 0.9975 - val_loss: 0.1173 - val_accuracy: 0.9912\n",
            "\n",
            "Epoch 00062: val_loss improved from 0.12173 to 0.11735, saving model to cnn_scene_Reluv2.h5\n",
            "Epoch 63/100\n",
            "140/140 [==============================] - 20s 139ms/step - loss: 0.0948 - accuracy: 0.9978 - val_loss: 0.1179 - val_accuracy: 0.9912\n",
            "\n",
            "Epoch 00063: val_loss did not improve from 0.11735\n",
            "Epoch 64/100\n",
            "140/140 [==============================] - 20s 139ms/step - loss: 0.0923 - accuracy: 0.9991 - val_loss: 0.1194 - val_accuracy: 0.9905\n",
            "\n",
            "Epoch 00064: val_loss did not improve from 0.11735\n",
            "Epoch 65/100\n",
            "140/140 [==============================] - 21s 149ms/step - loss: 0.0931 - accuracy: 0.9987 - val_loss: 0.1180 - val_accuracy: 0.9897\n",
            "\n",
            "Epoch 00065: val_loss did not improve from 0.11735\n",
            "Epoch 66/100\n",
            "140/140 [==============================] - 22s 157ms/step - loss: 0.0937 - accuracy: 0.9975 - val_loss: 0.1151 - val_accuracy: 0.9897\n",
            "\n",
            "Epoch 00066: val_loss improved from 0.11735 to 0.11512, saving model to cnn_scene_Reluv2.h5\n",
            "Epoch 67/100\n",
            "140/140 [==============================] - 22s 157ms/step - loss: 0.0901 - accuracy: 0.9991 - val_loss: 0.1149 - val_accuracy: 0.9912\n",
            "\n",
            "Epoch 00067: val_loss improved from 0.11512 to 0.11490, saving model to cnn_scene_Reluv2.h5\n",
            "Epoch 68/100\n",
            "140/140 [==============================] - 21s 146ms/step - loss: 0.0900 - accuracy: 0.9982 - val_loss: 0.1149 - val_accuracy: 0.9912\n",
            "\n",
            "Epoch 00068: val_loss did not improve from 0.11490\n",
            "Epoch 69/100\n",
            "140/140 [==============================] - 19s 135ms/step - loss: 0.0917 - accuracy: 0.9980 - val_loss: 0.1144 - val_accuracy: 0.9912\n",
            "\n",
            "Epoch 00069: val_loss improved from 0.11490 to 0.11442, saving model to cnn_scene_Reluv2.h5\n",
            "Epoch 70/100\n",
            "140/140 [==============================] - 19s 137ms/step - loss: 0.0890 - accuracy: 0.9989 - val_loss: 0.1114 - val_accuracy: 0.9919\n",
            "\n",
            "Epoch 00070: val_loss improved from 0.11442 to 0.11140, saving model to cnn_scene_Reluv2.h5\n",
            "Epoch 71/100\n",
            "140/140 [==============================] - 19s 133ms/step - loss: 0.0906 - accuracy: 0.9980 - val_loss: 0.1115 - val_accuracy: 0.9927\n",
            "\n",
            "Epoch 00071: val_loss did not improve from 0.11140\n",
            "Epoch 72/100\n",
            "140/140 [==============================] - 20s 143ms/step - loss: 0.0900 - accuracy: 0.9978 - val_loss: 0.1137 - val_accuracy: 0.9905\n",
            "\n",
            "Epoch 00072: val_loss did not improve from 0.11140\n",
            "Epoch 73/100\n",
            "140/140 [==============================] - 19s 133ms/step - loss: 0.0877 - accuracy: 0.9982 - val_loss: 0.1139 - val_accuracy: 0.9905\n",
            "\n",
            "Epoch 00073: val_loss did not improve from 0.11140\n",
            "Epoch 74/100\n",
            "140/140 [==============================] - 19s 133ms/step - loss: 0.0876 - accuracy: 0.9980 - val_loss: 0.1141 - val_accuracy: 0.9919\n",
            "\n",
            "Epoch 00074: val_loss did not improve from 0.11140\n",
            "Epoch 75/100\n",
            "140/140 [==============================] - 19s 134ms/step - loss: 0.0889 - accuracy: 0.9982 - val_loss: 0.1134 - val_accuracy: 0.9905\n",
            "\n",
            "Epoch 00075: val_loss did not improve from 0.11140\n",
            "\n",
            "Epoch 00075: ReduceLROnPlateau reducing learning rate to 1.600000018697756e-07.\n",
            "Epoch 76/100\n",
            "140/140 [==============================] - 19s 135ms/step - loss: 0.0870 - accuracy: 0.9984 - val_loss: 0.1097 - val_accuracy: 0.9927\n",
            "\n",
            "Epoch 00076: val_loss improved from 0.11140 to 0.10970, saving model to cnn_scene_Reluv2.h5\n",
            "Epoch 77/100\n",
            "140/140 [==============================] - 21s 149ms/step - loss: 0.0863 - accuracy: 0.9984 - val_loss: 0.1102 - val_accuracy: 0.9927\n",
            "\n",
            "Epoch 00077: val_loss did not improve from 0.10970\n",
            "Epoch 78/100\n",
            "140/140 [==============================] - 19s 138ms/step - loss: 0.0881 - accuracy: 0.9975 - val_loss: 0.1117 - val_accuracy: 0.9927\n",
            "\n",
            "Epoch 00078: val_loss did not improve from 0.10970\n",
            "Epoch 79/100\n",
            "140/140 [==============================] - 19s 134ms/step - loss: 0.0859 - accuracy: 0.9982 - val_loss: 0.1121 - val_accuracy: 0.9897\n",
            "\n",
            "Epoch 00079: val_loss did not improve from 0.10970\n",
            "Epoch 80/100\n",
            "140/140 [==============================] - 19s 134ms/step - loss: 0.0860 - accuracy: 0.9978 - val_loss: 0.1134 - val_accuracy: 0.9905\n",
            "\n",
            "Epoch 00080: val_loss did not improve from 0.10970\n",
            "Epoch 81/100\n",
            "140/140 [==============================] - 21s 148ms/step - loss: 0.0838 - accuracy: 0.9996 - val_loss: 0.1113 - val_accuracy: 0.9919\n",
            "\n",
            "Epoch 00081: val_loss did not improve from 0.10970\n",
            "\n",
            "Epoch 00081: ReduceLROnPlateau reducing learning rate to 3.199999980552093e-08.\n",
            "Epoch 82/100\n",
            "140/140 [==============================] - 19s 139ms/step - loss: 0.0861 - accuracy: 0.9984 - val_loss: 0.1112 - val_accuracy: 0.9919\n",
            "\n",
            "Epoch 00082: val_loss did not improve from 0.10970\n",
            "Epoch 83/100\n",
            "140/140 [==============================] - 20s 140ms/step - loss: 0.0851 - accuracy: 0.9987 - val_loss: 0.1111 - val_accuracy: 0.9912\n",
            "\n",
            "Epoch 00083: val_loss did not improve from 0.10970\n",
            "Epoch 84/100\n",
            "140/140 [==============================] - 20s 143ms/step - loss: 0.0863 - accuracy: 0.9982 - val_loss: 0.1111 - val_accuracy: 0.9912\n",
            "\n",
            "Epoch 00084: val_loss did not improve from 0.10970\n",
            "Epoch 85/100\n",
            "140/140 [==============================] - 20s 140ms/step - loss: 0.0837 - accuracy: 0.9989 - val_loss: 0.1108 - val_accuracy: 0.9912\n",
            "\n",
            "Epoch 00085: val_loss did not improve from 0.10970\n",
            "Epoch 86/100\n",
            "140/140 [==============================] - 19s 134ms/step - loss: 0.0847 - accuracy: 0.9980 - val_loss: 0.1112 - val_accuracy: 0.9912\n",
            "\n",
            "Epoch 00086: val_loss did not improve from 0.10970\n",
            "\n",
            "Epoch 00086: ReduceLROnPlateau reducing learning rate to 6.399999818995639e-09.\n",
            "Epoch 87/100\n",
            "140/140 [==============================] - 19s 136ms/step - loss: 0.0848 - accuracy: 0.9989 - val_loss: 0.1116 - val_accuracy: 0.9919\n",
            "\n",
            "Epoch 00087: val_loss did not improve from 0.10970\n",
            "Epoch 88/100\n",
            "140/140 [==============================] - 20s 140ms/step - loss: 0.0860 - accuracy: 0.9978 - val_loss: 0.1115 - val_accuracy: 0.9912\n",
            "\n",
            "Epoch 00088: val_loss did not improve from 0.10970\n",
            "Epoch 89/100\n",
            "140/140 [==============================] - 20s 140ms/step - loss: 0.0844 - accuracy: 0.9991 - val_loss: 0.1114 - val_accuracy: 0.9912\n",
            "\n",
            "Epoch 00089: val_loss did not improve from 0.10970\n",
            "Epoch 90/100\n",
            "140/140 [==============================] - 19s 135ms/step - loss: 0.0848 - accuracy: 0.9982 - val_loss: 0.1114 - val_accuracy: 0.9912\n",
            "\n",
            "Epoch 00090: val_loss did not improve from 0.10970\n",
            "Epoch 91/100\n",
            "140/140 [==============================] - 20s 146ms/step - loss: 0.0834 - accuracy: 0.9993 - val_loss: 0.1114 - val_accuracy: 0.9905\n",
            "\n",
            "Epoch 00091: val_loss did not improve from 0.10970\n",
            "\n",
            "Epoch 00091: ReduceLROnPlateau reducing learning rate to 1.279999928271991e-09.\n",
            "Epoch 92/100\n",
            "140/140 [==============================] - 19s 137ms/step - loss: 0.0844 - accuracy: 0.9987 - val_loss: 0.1115 - val_accuracy: 0.9905\n",
            "\n",
            "Epoch 00092: val_loss did not improve from 0.10970\n",
            "Epoch 93/100\n",
            "140/140 [==============================] - 20s 140ms/step - loss: 0.0846 - accuracy: 0.9984 - val_loss: 0.1112 - val_accuracy: 0.9912\n",
            "\n",
            "Epoch 00093: val_loss did not improve from 0.10970\n",
            "Epoch 94/100\n",
            "140/140 [==============================] - 19s 139ms/step - loss: 0.0839 - accuracy: 0.9993 - val_loss: 0.1111 - val_accuracy: 0.9912\n",
            "\n",
            "Epoch 00094: val_loss did not improve from 0.10970\n",
            "Epoch 95/100\n",
            "140/140 [==============================] - 19s 135ms/step - loss: 0.0855 - accuracy: 0.9984 - val_loss: 0.1115 - val_accuracy: 0.9905\n",
            "\n",
            "Epoch 00095: val_loss did not improve from 0.10970\n",
            "Epoch 96/100\n",
            "140/140 [==============================] - 19s 133ms/step - loss: 0.0845 - accuracy: 0.9989 - val_loss: 0.1115 - val_accuracy: 0.9912\n",
            "\n",
            "Epoch 00096: val_loss did not improve from 0.10970\n",
            "\n",
            "Epoch 00096: ReduceLROnPlateau reducing learning rate to 2.55999976772614e-10.\n",
            "Epoch 97/100\n",
            "140/140 [==============================] - 19s 133ms/step - loss: 0.0859 - accuracy: 0.9980 - val_loss: 0.1116 - val_accuracy: 0.9905\n",
            "\n",
            "Epoch 00097: val_loss did not improve from 0.10970\n",
            "Epoch 98/100\n",
            "140/140 [==============================] - 19s 132ms/step - loss: 0.0852 - accuracy: 0.9980 - val_loss: 0.1116 - val_accuracy: 0.9912\n",
            "\n",
            "Epoch 00098: val_loss did not improve from 0.10970\n",
            "Epoch 99/100\n",
            "140/140 [==============================] - 18s 132ms/step - loss: 0.0847 - accuracy: 0.9987 - val_loss: 0.1117 - val_accuracy: 0.9912\n",
            "\n",
            "Epoch 00099: val_loss did not improve from 0.10970\n",
            "Epoch 100/100\n",
            "140/140 [==============================] - 18s 131ms/step - loss: 0.0843 - accuracy: 0.9987 - val_loss: 0.1118 - val_accuracy: 0.9912\n",
            "\n",
            "Epoch 00100: val_loss did not improve from 0.10970\n"
          ]
        }
      ]
    },
    {
      "cell_type": "code",
      "metadata": {
        "id": "ZpEYp0pKpLNs",
        "colab": {
          "base_uri": "https://localhost:8080/",
          "height": 296
        },
        "outputId": "f77b0611-9b94-4d2f-ccfa-bb48c4ba4dda"
      },
      "source": [
        "print(history.history.keys())\n",
        "# Plotting our loss charts\n",
        "import matplotlib.pyplot as plt\n",
        "\n",
        "history_dict = history.history\n",
        "loss_values = history_dict['loss']\n",
        "val_loss_values = history_dict['val_loss']\n",
        "epochs = range(1, len(loss_values) + 1)\n",
        "\n",
        "line1 = plt.plot(epochs, val_loss_values, label='Validation/Test Loss')\n",
        "line2 = plt.plot(epochs, loss_values, label='Training Loss')\n",
        "plt.setp(line1, linewidth=2.0, marker = '+', markersize=10.0)\n",
        "plt.setp(line2, linewidth=2.0, marker = '4', markersize=10.0)\n",
        "plt.xlabel('Epochs') \n",
        "plt.ylabel('Loss')\n",
        "plt.grid(True)\n",
        "plt.legend()\n",
        "plt.savefig('Loss.png', dpi = 1200)\n",
        "plt.show()"
      ],
      "execution_count": 20,
      "outputs": [
        {
          "output_type": "stream",
          "name": "stdout",
          "text": [
            "dict_keys(['loss', 'accuracy', 'val_loss', 'val_accuracy', 'lr'])\n"
          ]
        },
        {
          "output_type": "display_data",
          "data": {
            "image/png": "[encoded data removed]",
            "text/plain": [
              "<Figure size 432x288 with 1 Axes>"
            ]
          },
          "metadata": {
            "needs_background": "light"
          }
        }
      ]
    },
    {
      "cell_type": "code",
      "metadata": {
        "id": "mCO5K4Z3pUMS",
        "colab": {
          "base_uri": "https://localhost:8080/",
          "height": 279
        },
        "outputId": "c51cac0e-6b59-47d2-d818-7ce81f638a56"
      },
      "source": [
        "\n",
        "# Plotting our accuracy charts\n",
        "import matplotlib.pyplot as plt\n",
        "\n",
        "history_dict = history.history\n",
        "acc_values = history_dict['accuracy']\n",
        "val_acc_values = history_dict['val_accuracy']\n",
        "epochs = range(1, len(loss_values) + 1)\n",
        "line1 = plt.plot(epochs, val_acc_values, label='Validation/Test Accuracy')\n",
        "line2 = plt.plot(epochs, acc_values, label='Training Accuracy')\n",
        "plt.setp(line1, linewidth=2.0, marker = '+', markersize=10.0)\n",
        "plt.setp(line2, linewidth=2.0, marker = '4', markersize=10.0)\n",
        "plt.xlabel('Epochs') \n",
        "plt.ylabel('Accuracy')\n",
        "plt.grid(True)\n",
        "plt.legend()\n",
        "plt.savefig('Accuracy.png', dpi = 1200)\n",
        "plt.show()"
      ],
      "execution_count": 21,
      "outputs": [
        {
          "output_type": "display_data",
          "data": {
            "image/png": "[encoded data removed]",
            "text/plain": [
              "<Figure size 432x288 with 1 Axes>"
            ]
          },
          "metadata": {
            "needs_background": "light"
          }
        }
      ]
    },
    {
      "cell_type": "code",
      "metadata": {
        "id": "ZLVtFStfpbYG",
        "outputId": "73c4cb12-e321-4823-8d11-7f00ff19bff8",
        "colab": {
          "base_uri": "https://localhost:8080/"
        }
      },
      "source": [
        "checkpoint = ModelCheckpoint(\"cnn_scene_Reluv2.h5\",\n",
        "                             monitor=\"val_loss\",\n",
        "                             mode=\"min\",\n",
        "                             save_best_only = True,\n",
        "                             verbose=1)\n",
        "\n",
        "earlystop = EarlyStopping(monitor = 'val_loss', \n",
        "                          min_delta = 0, \n",
        "                          patience = 5,\n",
        "                          verbose = 1,\n",
        "                          restore_best_weights = True)\n",
        "\n",
        "reduce_lr = ReduceLROnPlateau(monitor = 'val_loss',\n",
        "                              factor = 0.2,\n",
        "                              patience = 5,\n",
        "                              verbose = 1,\n",
        "                              min_delta = 0.000001)\n",
        "\n",
        "# we put our call backs into a callback list\n",
        "callbacks = [ checkpoint,reduce_lr]\n",
        "\n",
        "# We use a very small learning rate \n",
        "model.compile(loss = 'categorical_crossentropy',\n",
        "              optimizer = SGD(lr=0.0001,momentum=0.9),\n",
        "              metrics = ['accuracy'])\n",
        "\n",
        "\n",
        "epochs = 100\n",
        "import time\n",
        "time_start=time.perf_counter()\n",
        "\n",
        "history= model.fit_generator(   \n",
        "    \n",
        "    train_generator,\n",
        "    epochs = epochs,\n",
        "    callbacks = callbacks,\n",
        "    validation_data = validation_generator)\n",
        "elapsed_time=time.perf_counter()-time_start"
      ],
      "execution_count": 22,
      "outputs": [
        {
          "output_type": "stream",
          "name": "stderr",
          "text": [
            "/usr/local/lib/python3.7/dist-packages/keras/optimizer_v2/optimizer_v2.py:356: UserWarning: The `lr` argument is deprecated, use `learning_rate` instead.\n",
            "  \"The `lr` argument is deprecated, use `learning_rate` instead.\")\n",
            "/usr/local/lib/python3.7/dist-packages/keras/engine/training.py:1972: UserWarning: `Model.fit_generator` is deprecated and will be removed in a future version. Please use `Model.fit`, which supports generators.\n",
            "  warnings.warn('`Model.fit_generator` is deprecated and '\n"
          ]
        },
        {
          "output_type": "stream",
          "name": "stdout",
          "text": [
            "Epoch 1/100\n",
            "140/140 [==============================] - 19s 133ms/step - loss: 0.1868 - accuracy: 0.9727 - val_loss: 0.4448 - val_accuracy: 0.9060\n",
            "\n",
            "Epoch 00001: val_loss improved from inf to 0.44484, saving model to cnn_scene_Reluv2.h5\n",
            "Epoch 2/100\n",
            "140/140 [==============================] - 18s 131ms/step - loss: 0.1826 - accuracy: 0.9736 - val_loss: 5.3105 - val_accuracy: 0.4236\n",
            "\n",
            "Epoch 00002: val_loss did not improve from 0.44484\n",
            "Epoch 3/100\n",
            "140/140 [==============================] - 18s 131ms/step - loss: 0.1219 - accuracy: 0.9922 - val_loss: 0.1377 - val_accuracy: 0.9853\n",
            "\n",
            "Epoch 00003: val_loss improved from 0.44484 to 0.13775, saving model to cnn_scene_Reluv2.h5\n",
            "Epoch 4/100\n",
            "140/140 [==============================] - 18s 131ms/step - loss: 0.1474 - accuracy: 0.9808 - val_loss: 0.2484 - val_accuracy: 0.9449\n",
            "\n",
            "Epoch 00004: val_loss did not improve from 0.13775\n",
            "Epoch 5/100\n",
            "140/140 [==============================] - 19s 134ms/step - loss: 0.1301 - accuracy: 0.9875 - val_loss: 2.5824 - val_accuracy: 0.6175\n",
            "\n",
            "Epoch 00005: val_loss did not improve from 0.13775\n",
            "Epoch 6/100\n",
            "140/140 [==============================] - 19s 134ms/step - loss: 0.1009 - accuracy: 0.9931 - val_loss: 0.1289 - val_accuracy: 0.9890\n",
            "\n",
            "Epoch 00006: val_loss improved from 0.13775 to 0.12886, saving model to cnn_scene_Reluv2.h5\n",
            "Epoch 7/100\n",
            "140/140 [==============================] - 19s 135ms/step - loss: 0.1291 - accuracy: 0.9819 - val_loss: 1.6983 - val_accuracy: 0.6579\n",
            "\n",
            "Epoch 00007: val_loss did not improve from 0.12886\n",
            "Epoch 8/100\n",
            "140/140 [==============================] - 19s 135ms/step - loss: 0.1083 - accuracy: 0.9890 - val_loss: 0.7439 - val_accuracy: 0.8333\n",
            "\n",
            "Epoch 00008: val_loss did not improve from 0.12886\n",
            "Epoch 9/100\n",
            "140/140 [==============================] - 19s 137ms/step - loss: 0.1013 - accuracy: 0.9902 - val_loss: 1.4963 - val_accuracy: 0.7004\n",
            "\n",
            "Epoch 00009: val_loss did not improve from 0.12886\n",
            "Epoch 10/100\n",
            "140/140 [==============================] - 19s 135ms/step - loss: 0.1138 - accuracy: 0.9855 - val_loss: 0.7247 - val_accuracy: 0.8025\n",
            "\n",
            "Epoch 00010: val_loss did not improve from 0.12886\n",
            "Epoch 11/100\n",
            "140/140 [==============================] - 19s 137ms/step - loss: 0.1041 - accuracy: 0.9893 - val_loss: 0.2379 - val_accuracy: 0.9486\n",
            "\n",
            "Epoch 00011: val_loss did not improve from 0.12886\n",
            "\n",
            "Epoch 00011: ReduceLROnPlateau reducing learning rate to 1.9999999494757503e-05.\n",
            "Epoch 12/100\n",
            "140/140 [==============================] - 19s 136ms/step - loss: 0.0791 - accuracy: 0.9955 - val_loss: 0.8463 - val_accuracy: 0.7930\n",
            "\n",
            "Epoch 00012: val_loss did not improve from 0.12886\n",
            "Epoch 13/100\n",
            "140/140 [==============================] - 19s 138ms/step - loss: 0.0728 - accuracy: 0.9980 - val_loss: 0.0936 - val_accuracy: 0.9927\n",
            "\n",
            "Epoch 00013: val_loss improved from 0.12886 to 0.09361, saving model to cnn_scene_Reluv2.h5\n",
            "Epoch 14/100\n",
            "140/140 [==============================] - 20s 144ms/step - loss: 0.0704 - accuracy: 0.9973 - val_loss: 0.0998 - val_accuracy: 0.9890\n",
            "\n",
            "Epoch 00014: val_loss did not improve from 0.09361\n",
            "Epoch 15/100\n",
            "140/140 [==============================] - 21s 149ms/step - loss: 0.0691 - accuracy: 0.9969 - val_loss: 0.8161 - val_accuracy: 0.7739\n",
            "\n",
            "Epoch 00015: val_loss did not improve from 0.09361\n",
            "Epoch 16/100\n",
            "140/140 [==============================] - 21s 151ms/step - loss: 0.0811 - accuracy: 0.9928 - val_loss: 0.1347 - val_accuracy: 0.9772\n",
            "\n",
            "Epoch 00016: val_loss did not improve from 0.09361\n",
            "Epoch 17/100\n",
            "140/140 [==============================] - 20s 146ms/step - loss: 0.0645 - accuracy: 0.9975 - val_loss: 0.5756 - val_accuracy: 0.8612\n",
            "\n",
            "Epoch 00017: val_loss did not improve from 0.09361\n",
            "Epoch 18/100\n",
            "140/140 [==============================] - 19s 139ms/step - loss: 0.0627 - accuracy: 0.9971 - val_loss: 0.1166 - val_accuracy: 0.9838\n",
            "\n",
            "Epoch 00018: val_loss did not improve from 0.09361\n",
            "\n",
            "Epoch 00018: ReduceLROnPlateau reducing learning rate to 3.999999898951501e-06.\n",
            "Epoch 19/100\n",
            "140/140 [==============================] - 19s 134ms/step - loss: 0.0577 - accuracy: 0.9982 - val_loss: 0.0826 - val_accuracy: 0.9912\n",
            "\n",
            "Epoch 00019: val_loss improved from 0.09361 to 0.08263, saving model to cnn_scene_Reluv2.h5\n",
            "Epoch 20/100\n",
            "140/140 [==============================] - 19s 134ms/step - loss: 0.0584 - accuracy: 0.9982 - val_loss: 0.0825 - val_accuracy: 0.9905\n",
            "\n",
            "Epoch 00020: val_loss improved from 0.08263 to 0.08254, saving model to cnn_scene_Reluv2.h5\n",
            "Epoch 21/100\n",
            "140/140 [==============================] - 19s 139ms/step - loss: 0.0599 - accuracy: 0.9973 - val_loss: 0.0844 - val_accuracy: 0.9890\n",
            "\n",
            "Epoch 00021: val_loss did not improve from 0.08254\n",
            "Epoch 22/100\n",
            "140/140 [==============================] - 19s 134ms/step - loss: 0.0579 - accuracy: 0.9969 - val_loss: 0.0834 - val_accuracy: 0.9897\n",
            "\n",
            "Epoch 00022: val_loss did not improve from 0.08254\n",
            "Epoch 23/100\n",
            "140/140 [==============================] - 19s 134ms/step - loss: 0.0552 - accuracy: 0.9987 - val_loss: 0.0848 - val_accuracy: 0.9890\n",
            "\n",
            "Epoch 00023: val_loss did not improve from 0.08254\n",
            "Epoch 24/100\n",
            "140/140 [==============================] - 19s 133ms/step - loss: 0.0552 - accuracy: 0.9984 - val_loss: 0.0799 - val_accuracy: 0.9919\n",
            "\n",
            "Epoch 00024: val_loss improved from 0.08254 to 0.07989, saving model to cnn_scene_Reluv2.h5\n",
            "Epoch 25/100\n",
            "140/140 [==============================] - 18s 130ms/step - loss: 0.0542 - accuracy: 0.9991 - val_loss: 0.0874 - val_accuracy: 0.9890\n",
            "\n",
            "Epoch 00025: val_loss did not improve from 0.07989\n",
            "Epoch 26/100\n",
            "140/140 [==============================] - 18s 130ms/step - loss: 0.0556 - accuracy: 0.9980 - val_loss: 0.0819 - val_accuracy: 0.9905\n",
            "\n",
            "Epoch 00026: val_loss did not improve from 0.07989\n",
            "Epoch 27/100\n",
            "140/140 [==============================] - 18s 130ms/step - loss: 0.0560 - accuracy: 0.9980 - val_loss: 0.0787 - val_accuracy: 0.9919\n",
            "\n",
            "Epoch 00027: val_loss improved from 0.07989 to 0.07868, saving model to cnn_scene_Reluv2.h5\n",
            "Epoch 28/100\n",
            "140/140 [==============================] - 19s 133ms/step - loss: 0.0540 - accuracy: 0.9984 - val_loss: 0.0789 - val_accuracy: 0.9927\n",
            "\n",
            "Epoch 00028: val_loss did not improve from 0.07868\n",
            "Epoch 29/100\n",
            "140/140 [==============================] - 19s 132ms/step - loss: 0.0533 - accuracy: 0.9984 - val_loss: 0.0845 - val_accuracy: 0.9890\n",
            "\n",
            "Epoch 00029: val_loss did not improve from 0.07868\n",
            "Epoch 30/100\n",
            "140/140 [==============================] - 18s 131ms/step - loss: 0.0529 - accuracy: 0.9993 - val_loss: 0.0779 - val_accuracy: 0.9919\n",
            "\n",
            "Epoch 00030: val_loss improved from 0.07868 to 0.07786, saving model to cnn_scene_Reluv2.h5\n",
            "Epoch 31/100\n",
            "140/140 [==============================] - 19s 132ms/step - loss: 0.0560 - accuracy: 0.9966 - val_loss: 0.0777 - val_accuracy: 0.9912\n",
            "\n",
            "Epoch 00031: val_loss improved from 0.07786 to 0.07765, saving model to cnn_scene_Reluv2.h5\n",
            "Epoch 32/100\n",
            "140/140 [==============================] - 19s 133ms/step - loss: 0.0528 - accuracy: 0.9980 - val_loss: 0.0799 - val_accuracy: 0.9897\n",
            "\n",
            "Epoch 00032: val_loss did not improve from 0.07765\n",
            "Epoch 33/100\n",
            "140/140 [==============================] - 19s 136ms/step - loss: 0.0545 - accuracy: 0.9980 - val_loss: 0.0784 - val_accuracy: 0.9897\n",
            "\n",
            "Epoch 00033: val_loss did not improve from 0.07765\n",
            "Epoch 34/100\n",
            "140/140 [==============================] - 19s 135ms/step - loss: 0.0525 - accuracy: 0.9982 - val_loss: 0.0852 - val_accuracy: 0.9890\n",
            "\n",
            "Epoch 00034: val_loss did not improve from 0.07765\n",
            "Epoch 35/100\n",
            "140/140 [==============================] - 19s 137ms/step - loss: 0.0546 - accuracy: 0.9975 - val_loss: 0.0897 - val_accuracy: 0.9883\n",
            "\n",
            "Epoch 00035: val_loss did not improve from 0.07765\n",
            "Epoch 36/100\n",
            "140/140 [==============================] - 21s 153ms/step - loss: 0.0506 - accuracy: 0.9989 - val_loss: 0.0834 - val_accuracy: 0.9890\n",
            "\n",
            "Epoch 00036: val_loss did not improve from 0.07765\n",
            "\n",
            "Epoch 00036: ReduceLROnPlateau reducing learning rate to 7.999999979801942e-07.\n",
            "Epoch 37/100\n",
            "140/140 [==============================] - 20s 143ms/step - loss: 0.0515 - accuracy: 0.9989 - val_loss: 0.0757 - val_accuracy: 0.9912\n",
            "\n",
            "Epoch 00037: val_loss improved from 0.07765 to 0.07567, saving model to cnn_scene_Reluv2.h5\n",
            "Epoch 38/100\n",
            "140/140 [==============================] - 20s 140ms/step - loss: 0.0499 - accuracy: 0.9989 - val_loss: 0.0759 - val_accuracy: 0.9905\n",
            "\n",
            "Epoch 00038: val_loss did not improve from 0.07567\n",
            "Epoch 39/100\n",
            "140/140 [==============================] - 21s 148ms/step - loss: 0.0513 - accuracy: 0.9978 - val_loss: 0.0758 - val_accuracy: 0.9905\n",
            "\n",
            "Epoch 00039: val_loss did not improve from 0.07567\n",
            "Epoch 40/100\n",
            "140/140 [==============================] - 19s 134ms/step - loss: 0.0516 - accuracy: 0.9989 - val_loss: 0.0776 - val_accuracy: 0.9897\n",
            "\n",
            "Epoch 00040: val_loss did not improve from 0.07567\n",
            "Epoch 41/100\n",
            "140/140 [==============================] - 18s 130ms/step - loss: 0.0498 - accuracy: 0.9987 - val_loss: 0.0741 - val_accuracy: 0.9927\n",
            "\n",
            "Epoch 00041: val_loss improved from 0.07567 to 0.07405, saving model to cnn_scene_Reluv2.h5\n",
            "Epoch 42/100\n",
            "140/140 [==============================] - 19s 132ms/step - loss: 0.0505 - accuracy: 0.9993 - val_loss: 0.0775 - val_accuracy: 0.9897\n",
            "\n",
            "Epoch 00042: val_loss did not improve from 0.07405\n",
            "Epoch 43/100\n",
            "140/140 [==============================] - 20s 146ms/step - loss: 0.0502 - accuracy: 0.9987 - val_loss: 0.0749 - val_accuracy: 0.9912\n",
            "\n",
            "Epoch 00043: val_loss did not improve from 0.07405\n",
            "Epoch 44/100\n",
            "140/140 [==============================] - 20s 139ms/step - loss: 0.0521 - accuracy: 0.9982 - val_loss: 0.0744 - val_accuracy: 0.9919\n",
            "\n",
            "Epoch 00044: val_loss did not improve from 0.07405\n",
            "Epoch 45/100\n",
            "140/140 [==============================] - 19s 138ms/step - loss: 0.0518 - accuracy: 0.9980 - val_loss: 0.0768 - val_accuracy: 0.9897\n",
            "\n",
            "Epoch 00045: val_loss did not improve from 0.07405\n",
            "Epoch 46/100\n",
            "140/140 [==============================] - 18s 131ms/step - loss: 0.0511 - accuracy: 0.9978 - val_loss: 0.0741 - val_accuracy: 0.9919\n",
            "\n",
            "Epoch 00046: val_loss did not improve from 0.07405\n",
            "\n",
            "Epoch 00046: ReduceLROnPlateau reducing learning rate to 1.600000018697756e-07.\n",
            "Epoch 47/100\n",
            "140/140 [==============================] - 21s 148ms/step - loss: 0.0501 - accuracy: 0.9987 - val_loss: 0.0770 - val_accuracy: 0.9897\n",
            "\n",
            "Epoch 00047: val_loss did not improve from 0.07405\n",
            "Epoch 48/100\n",
            "140/140 [==============================] - 20s 140ms/step - loss: 0.0486 - accuracy: 0.9991 - val_loss: 0.0768 - val_accuracy: 0.9897\n",
            "\n",
            "Epoch 00048: val_loss did not improve from 0.07405\n",
            "Epoch 49/100\n",
            "140/140 [==============================] - 20s 141ms/step - loss: 0.0492 - accuracy: 0.9984 - val_loss: 0.0759 - val_accuracy: 0.9897\n",
            "\n",
            "Epoch 00049: val_loss did not improve from 0.07405\n",
            "Epoch 50/100\n",
            "140/140 [==============================] - 20s 141ms/step - loss: 0.0497 - accuracy: 0.9991 - val_loss: 0.0763 - val_accuracy: 0.9897\n",
            "\n",
            "Epoch 00050: val_loss did not improve from 0.07405\n",
            "Epoch 51/100\n",
            "140/140 [==============================] - 20s 140ms/step - loss: 0.0507 - accuracy: 0.9980 - val_loss: 0.0761 - val_accuracy: 0.9897\n",
            "\n",
            "Epoch 00051: val_loss did not improve from 0.07405\n",
            "\n",
            "Epoch 00051: ReduceLROnPlateau reducing learning rate to 3.199999980552093e-08.\n",
            "Epoch 52/100\n",
            "140/140 [==============================] - 20s 140ms/step - loss: 0.0511 - accuracy: 0.9980 - val_loss: 0.0764 - val_accuracy: 0.9897\n",
            "\n",
            "Epoch 00052: val_loss did not improve from 0.07405\n",
            "Epoch 53/100\n",
            "140/140 [==============================] - 19s 138ms/step - loss: 0.0503 - accuracy: 0.9984 - val_loss: 0.0763 - val_accuracy: 0.9897\n",
            "\n",
            "Epoch 00053: val_loss did not improve from 0.07405\n",
            "Epoch 54/100\n",
            "140/140 [==============================] - 22s 157ms/step - loss: 0.0507 - accuracy: 0.9973 - val_loss: 0.0762 - val_accuracy: 0.9897\n",
            "\n",
            "Epoch 00054: val_loss did not improve from 0.07405\n",
            "Epoch 55/100\n",
            "140/140 [==============================] - 20s 142ms/step - loss: 0.0505 - accuracy: 0.9982 - val_loss: 0.0761 - val_accuracy: 0.9897\n",
            "\n",
            "Epoch 00055: val_loss did not improve from 0.07405\n",
            "Epoch 56/100\n",
            "140/140 [==============================] - 21s 149ms/step - loss: 0.0498 - accuracy: 0.9982 - val_loss: 0.0762 - val_accuracy: 0.9897\n",
            "\n",
            "Epoch 00056: val_loss did not improve from 0.07405\n",
            "\n",
            "Epoch 00056: ReduceLROnPlateau reducing learning rate to 6.399999818995639e-09.\n",
            "Epoch 57/100\n",
            "140/140 [==============================] - 19s 133ms/step - loss: 0.0515 - accuracy: 0.9973 - val_loss: 0.0762 - val_accuracy: 0.9897\n",
            "\n",
            "Epoch 00057: val_loss did not improve from 0.07405\n",
            "Epoch 58/100\n",
            "140/140 [==============================] - 20s 141ms/step - loss: 0.0504 - accuracy: 0.9987 - val_loss: 0.0764 - val_accuracy: 0.9897\n",
            "\n",
            "Epoch 00058: val_loss did not improve from 0.07405\n",
            "Epoch 59/100\n",
            "140/140 [==============================] - 22s 154ms/step - loss: 0.0510 - accuracy: 0.9982 - val_loss: 0.0762 - val_accuracy: 0.9897\n",
            "\n",
            "Epoch 00059: val_loss did not improve from 0.07405\n",
            "Epoch 60/100\n",
            "140/140 [==============================] - 22s 157ms/step - loss: 0.0515 - accuracy: 0.9980 - val_loss: 0.0763 - val_accuracy: 0.9897\n",
            "\n",
            "Epoch 00060: val_loss did not improve from 0.07405\n",
            "Epoch 61/100\n",
            "140/140 [==============================] - 21s 153ms/step - loss: 0.0515 - accuracy: 0.9980 - val_loss: 0.0762 - val_accuracy: 0.9897\n",
            "\n",
            "Epoch 00061: val_loss did not improve from 0.07405\n",
            "\n",
            "Epoch 00061: ReduceLROnPlateau reducing learning rate to 1.279999928271991e-09.\n",
            "Epoch 62/100\n",
            "140/140 [==============================] - 20s 140ms/step - loss: 0.0506 - accuracy: 0.9980 - val_loss: 0.0761 - val_accuracy: 0.9897\n",
            "\n",
            "Epoch 00062: val_loss did not improve from 0.07405\n",
            "Epoch 63/100\n",
            "140/140 [==============================] - 20s 144ms/step - loss: 0.0514 - accuracy: 0.9973 - val_loss: 0.0761 - val_accuracy: 0.9897\n",
            "\n",
            "Epoch 00063: val_loss did not improve from 0.07405\n",
            "Epoch 64/100\n",
            "140/140 [==============================] - 22s 153ms/step - loss: 0.0497 - accuracy: 0.9987 - val_loss: 0.0763 - val_accuracy: 0.9897\n",
            "\n",
            "Epoch 00064: val_loss did not improve from 0.07405\n",
            "Epoch 65/100\n",
            "140/140 [==============================] - 21s 150ms/step - loss: 0.0521 - accuracy: 0.9978 - val_loss: 0.0762 - val_accuracy: 0.9897\n",
            "\n",
            "Epoch 00065: val_loss did not improve from 0.07405\n",
            "Epoch 66/100\n",
            "140/140 [==============================] - 20s 144ms/step - loss: 0.0500 - accuracy: 0.9993 - val_loss: 0.0765 - val_accuracy: 0.9897\n",
            "\n",
            "Epoch 00066: val_loss did not improve from 0.07405\n",
            "\n",
            "Epoch 00066: ReduceLROnPlateau reducing learning rate to 2.55999976772614e-10.\n",
            "Epoch 67/100\n",
            "140/140 [==============================] - 19s 137ms/step - loss: 0.0489 - accuracy: 0.9991 - val_loss: 0.0761 - val_accuracy: 0.9897\n",
            "\n",
            "Epoch 00067: val_loss did not improve from 0.07405\n",
            "Epoch 68/100\n",
            "140/140 [==============================] - 19s 132ms/step - loss: 0.0508 - accuracy: 0.9987 - val_loss: 0.0764 - val_accuracy: 0.9897\n",
            "\n",
            "Epoch 00068: val_loss did not improve from 0.07405\n",
            "Epoch 69/100\n",
            "140/140 [==============================] - 19s 139ms/step - loss: 0.0515 - accuracy: 0.9982 - val_loss: 0.0763 - val_accuracy: 0.9897\n",
            "\n",
            "Epoch 00069: val_loss did not improve from 0.07405\n",
            "Epoch 70/100\n",
            "140/140 [==============================] - 18s 131ms/step - loss: 0.0510 - accuracy: 0.9982 - val_loss: 0.0762 - val_accuracy: 0.9897\n",
            "\n",
            "Epoch 00070: val_loss did not improve from 0.07405\n",
            "Epoch 71/100\n",
            "140/140 [==============================] - 19s 133ms/step - loss: 0.0499 - accuracy: 0.9984 - val_loss: 0.0761 - val_accuracy: 0.9897\n",
            "\n",
            "Epoch 00071: val_loss did not improve from 0.07405\n",
            "\n",
            "Epoch 00071: ReduceLROnPlateau reducing learning rate to 5.119999424429978e-11.\n",
            "Epoch 72/100\n",
            "140/140 [==============================] - 20s 145ms/step - loss: 0.0508 - accuracy: 0.9984 - val_loss: 0.0761 - val_accuracy: 0.9897\n",
            "\n",
            "Epoch 00072: val_loss did not improve from 0.07405\n",
            "Epoch 73/100\n",
            "140/140 [==============================] - 19s 137ms/step - loss: 0.0504 - accuracy: 0.9984 - val_loss: 0.0763 - val_accuracy: 0.9897\n",
            "\n",
            "Epoch 00073: val_loss did not improve from 0.07405\n",
            "Epoch 74/100\n",
            "140/140 [==============================] - 18s 131ms/step - loss: 0.0513 - accuracy: 0.9982 - val_loss: 0.0763 - val_accuracy: 0.9897\n",
            "\n",
            "Epoch 00074: val_loss did not improve from 0.07405\n",
            "Epoch 75/100\n",
            "140/140 [==============================] - 20s 141ms/step - loss: 0.0495 - accuracy: 0.9982 - val_loss: 0.0762 - val_accuracy: 0.9897\n",
            "\n",
            "Epoch 00075: val_loss did not improve from 0.07405\n",
            "Epoch 76/100\n",
            "140/140 [==============================] - 20s 142ms/step - loss: 0.0525 - accuracy: 0.9975 - val_loss: 0.0762 - val_accuracy: 0.9897\n",
            "\n",
            "Epoch 00076: val_loss did not improve from 0.07405\n",
            "\n",
            "Epoch 00076: ReduceLROnPlateau reducing learning rate to 1.0239999126415712e-11.\n",
            "Epoch 77/100\n",
            "140/140 [==============================] - 20s 145ms/step - loss: 0.0497 - accuracy: 0.9989 - val_loss: 0.0764 - val_accuracy: 0.9897\n",
            "\n",
            "Epoch 00077: val_loss did not improve from 0.07405\n",
            "Epoch 78/100\n",
            "140/140 [==============================] - 19s 134ms/step - loss: 0.0496 - accuracy: 0.9987 - val_loss: 0.0763 - val_accuracy: 0.9897\n",
            "\n",
            "Epoch 00078: val_loss did not improve from 0.07405\n",
            "Epoch 79/100\n",
            "140/140 [==============================] - 20s 145ms/step - loss: 0.0504 - accuracy: 0.9989 - val_loss: 0.0764 - val_accuracy: 0.9897\n",
            "\n",
            "Epoch 00079: val_loss did not improve from 0.07405\n",
            "Epoch 80/100\n",
            "140/140 [==============================] - 20s 146ms/step - loss: 0.0494 - accuracy: 0.9987 - val_loss: 0.0765 - val_accuracy: 0.9897\n",
            "\n",
            "Epoch 00080: val_loss did not improve from 0.07405\n",
            "Epoch 81/100\n",
            "140/140 [==============================] - 23s 166ms/step - loss: 0.0526 - accuracy: 0.9978 - val_loss: 0.0765 - val_accuracy: 0.9897\n",
            "\n",
            "Epoch 00081: val_loss did not improve from 0.07405\n",
            "\n",
            "Epoch 00081: ReduceLROnPlateau reducing learning rate to 2.0479997905886727e-12.\n",
            "Epoch 82/100\n",
            "140/140 [==============================] - 22s 154ms/step - loss: 0.0485 - accuracy: 0.9991 - val_loss: 0.0763 - val_accuracy: 0.9897\n",
            "\n",
            "Epoch 00082: val_loss did not improve from 0.07405\n",
            "Epoch 83/100\n",
            "140/140 [==============================] - 20s 144ms/step - loss: 0.0512 - accuracy: 0.9980 - val_loss: 0.0764 - val_accuracy: 0.9897\n",
            "\n",
            "Epoch 00083: val_loss did not improve from 0.07405\n",
            "Epoch 84/100\n",
            "140/140 [==============================] - 21s 149ms/step - loss: 0.0506 - accuracy: 0.9980 - val_loss: 0.0763 - val_accuracy: 0.9897\n",
            "\n",
            "Epoch 00084: val_loss did not improve from 0.07405\n",
            "Epoch 85/100\n",
            "140/140 [==============================] - 23s 162ms/step - loss: 0.0487 - accuracy: 0.9989 - val_loss: 0.0761 - val_accuracy: 0.9897\n",
            "\n",
            "Epoch 00085: val_loss did not improve from 0.07405\n",
            "Epoch 86/100\n",
            "140/140 [==============================] - 24s 170ms/step - loss: 0.0489 - accuracy: 0.9989 - val_loss: 0.0761 - val_accuracy: 0.9897\n",
            "\n",
            "Epoch 00086: val_loss did not improve from 0.07405\n",
            "\n",
            "Epoch 00086: ReduceLROnPlateau reducing learning rate to 4.0959995811773456e-13.\n",
            "Epoch 87/100\n",
            "140/140 [==============================] - 23s 162ms/step - loss: 0.0491 - accuracy: 0.9989 - val_loss: 0.0762 - val_accuracy: 0.9897\n",
            "\n",
            "Epoch 00087: val_loss did not improve from 0.07405\n",
            "Epoch 88/100\n",
            "140/140 [==============================] - 21s 152ms/step - loss: 0.0510 - accuracy: 0.9978 - val_loss: 0.0762 - val_accuracy: 0.9897\n",
            "\n",
            "Epoch 00088: val_loss did not improve from 0.07405\n",
            "Epoch 89/100\n",
            "140/140 [==============================] - 19s 138ms/step - loss: 0.0514 - accuracy: 0.9978 - val_loss: 0.0762 - val_accuracy: 0.9897\n",
            "\n",
            "Epoch 00089: val_loss did not improve from 0.07405\n",
            "Epoch 90/100\n",
            "140/140 [==============================] - 19s 136ms/step - loss: 0.0515 - accuracy: 0.9984 - val_loss: 0.0764 - val_accuracy: 0.9897\n",
            "\n",
            "Epoch 00090: val_loss did not improve from 0.07405\n",
            "Epoch 91/100\n",
            "140/140 [==============================] - 19s 135ms/step - loss: 0.0492 - accuracy: 0.9993 - val_loss: 0.0765 - val_accuracy: 0.9897\n",
            "\n",
            "Epoch 00091: val_loss did not improve from 0.07405\n",
            "\n",
            "Epoch 00091: ReduceLROnPlateau reducing learning rate to 8.191999053934474e-14.\n",
            "Epoch 92/100\n",
            "140/140 [==============================] - 19s 133ms/step - loss: 0.0514 - accuracy: 0.9980 - val_loss: 0.0765 - val_accuracy: 0.9897\n",
            "\n",
            "Epoch 00092: val_loss did not improve from 0.07405\n",
            "Epoch 93/100\n",
            "140/140 [==============================] - 19s 133ms/step - loss: 0.0500 - accuracy: 0.9980 - val_loss: 0.0761 - val_accuracy: 0.9897\n",
            "\n",
            "Epoch 00093: val_loss did not improve from 0.07405\n",
            "Epoch 94/100\n",
            "140/140 [==============================] - 19s 134ms/step - loss: 0.0500 - accuracy: 0.9984 - val_loss: 0.0763 - val_accuracy: 0.9897\n",
            "\n",
            "Epoch 00094: val_loss did not improve from 0.07405\n",
            "Epoch 95/100\n",
            "140/140 [==============================] - 19s 133ms/step - loss: 0.0518 - accuracy: 0.9973 - val_loss: 0.0760 - val_accuracy: 0.9897\n",
            "\n",
            "Epoch 00095: val_loss did not improve from 0.07405\n",
            "Epoch 96/100\n",
            "140/140 [==============================] - 19s 136ms/step - loss: 0.0510 - accuracy: 0.9973 - val_loss: 0.0764 - val_accuracy: 0.9897\n",
            "\n",
            "Epoch 00096: val_loss did not improve from 0.07405\n",
            "\n",
            "Epoch 00096: ReduceLROnPlateau reducing learning rate to 1.638399837891949e-14.\n",
            "Epoch 97/100\n",
            "140/140 [==============================] - 19s 136ms/step - loss: 0.0499 - accuracy: 0.9984 - val_loss: 0.0759 - val_accuracy: 0.9897\n",
            "\n",
            "Epoch 00097: val_loss did not improve from 0.07405\n",
            "Epoch 98/100\n",
            "140/140 [==============================] - 19s 133ms/step - loss: 0.0510 - accuracy: 0.9978 - val_loss: 0.0761 - val_accuracy: 0.9897\n",
            "\n",
            "Epoch 00098: val_loss did not improve from 0.07405\n",
            "Epoch 99/100\n",
            "140/140 [==============================] - 18s 132ms/step - loss: 0.0491 - accuracy: 0.9996 - val_loss: 0.0760 - val_accuracy: 0.9897\n",
            "\n",
            "Epoch 00099: val_loss did not improve from 0.07405\n",
            "Epoch 100/100\n",
            "140/140 [==============================] - 19s 134ms/step - loss: 0.0513 - accuracy: 0.9982 - val_loss: 0.0764 - val_accuracy: 0.9897\n",
            "\n",
            "Epoch 00100: val_loss did not improve from 0.07405\n"
          ]
        }
      ]
    },
    {
      "cell_type": "code",
      "metadata": {
        "id": "uDc4zR_XkYmw",
        "outputId": "6732b94c-d459-401a-8785-06de070fb192",
        "colab": {
          "base_uri": "https://localhost:8080/",
          "height": 442
        }
      },
      "source": [
        "checkpoint = ModelCheckpoint(\"cnn_scene_Reluv2.h5\",\n",
        "                             monitor=\"val_loss\",\n",
        "                             mode=\"min\",\n",
        "                             save_best_only = True,\n",
        "                             verbose=1)\n",
        "\n",
        "earlystop = EarlyStopping(monitor = 'val_loss', \n",
        "                          min_delta = 0, \n",
        "                          patience = 5,\n",
        "                          verbose = 1,\n",
        "                          restore_best_weights = True)\n",
        "\n",
        "reduce_lr = ReduceLROnPlateau(monitor = 'val_loss',\n",
        "                              factor = 0.2,\n",
        "                              patience = 5,\n",
        "                              verbose = 1,\n",
        "                              min_delta = 0.000001)\n",
        "\n",
        "# we put our call backs into a callback list\n",
        "callbacks = [ checkpoint,reduce_lr]\n",
        "\n",
        "# We use a very small learning rate \n",
        "model.compile(loss = 'categorical_crossentropy',\n",
        "              optimizer = Adam(lr=0.0001,momentum=0.9),\n",
        "              metrics = ['accuracy'])\n",
        "\n",
        "\n",
        "epochs = 100\n",
        "import time\n",
        "time_start=time.perf_counter()\n",
        "\n",
        "history= model.fit_generator(   \n",
        "    \n",
        "    train_generator,\n",
        "    epochs = epochs,\n",
        "    callbacks = callbacks,\n",
        "    validation_data = validation_generator)\n",
        "elapsed_time=time.perf_counter()-time_start"
      ],
      "execution_count": 37,
      "outputs": [
        {
          "output_type": "stream",
          "name": "stderr",
          "text": [
            "/usr/local/lib/python3.7/dist-packages/keras/optimizer_v2/optimizer_v2.py:356: UserWarning: The `lr` argument is deprecated, use `learning_rate` instead.\n",
            "  \"The `lr` argument is deprecated, use `learning_rate` instead.\")\n"
          ]
        },
        {
          "output_type": "error",
          "ename": "TypeError",
          "evalue": "ignored",
          "traceback": [
            "\u001b[0;31m---------------------------------------------------------------------------\u001b[0m",
            "\u001b[0;31mTypeError\u001b[0m                                 Traceback (most recent call last)",
            "\u001b[0;32m<ipython-input-37-03fe5012912a>\u001b[0m in \u001b[0;36m<module>\u001b[0;34m()\u001b[0m\n\u001b[1;32m     22\u001b[0m \u001b[0;31m# We use a very small learning rate\u001b[0m\u001b[0;34m\u001b[0m\u001b[0;34m\u001b[0m\u001b[0;34m\u001b[0m\u001b[0m\n\u001b[1;32m     23\u001b[0m model.compile(loss = 'categorical_crossentropy',\n\u001b[0;32m---> 24\u001b[0;31m               \u001b[0moptimizer\u001b[0m \u001b[0;34m=\u001b[0m \u001b[0mAdam\u001b[0m\u001b[0;34m(\u001b[0m\u001b[0mlr\u001b[0m\u001b[0;34m=\u001b[0m\u001b[0;36m0.0001\u001b[0m\u001b[0;34m,\u001b[0m\u001b[0mmomentum\u001b[0m\u001b[0;34m=\u001b[0m\u001b[0;36m0.9\u001b[0m\u001b[0;34m)\u001b[0m\u001b[0;34m,\u001b[0m\u001b[0;34m\u001b[0m\u001b[0;34m\u001b[0m\u001b[0m\n\u001b[0m\u001b[1;32m     25\u001b[0m               metrics = ['accuracy'])\n\u001b[1;32m     26\u001b[0m \u001b[0;34m\u001b[0m\u001b[0m\n",
            "\u001b[0;32m/usr/local/lib/python3.7/dist-packages/keras/optimizer_v2/adam.py\u001b[0m in \u001b[0;36m__init__\u001b[0;34m(self, learning_rate, beta_1, beta_2, epsilon, amsgrad, name, **kwargs)\u001b[0m\n\u001b[1;32m    103\u001b[0m                \u001b[0mname\u001b[0m\u001b[0;34m=\u001b[0m\u001b[0;34m'Adam'\u001b[0m\u001b[0;34m,\u001b[0m\u001b[0;34m\u001b[0m\u001b[0;34m\u001b[0m\u001b[0m\n\u001b[1;32m    104\u001b[0m                **kwargs):\n\u001b[0;32m--> 105\u001b[0;31m     \u001b[0msuper\u001b[0m\u001b[0;34m(\u001b[0m\u001b[0mAdam\u001b[0m\u001b[0;34m,\u001b[0m \u001b[0mself\u001b[0m\u001b[0;34m)\u001b[0m\u001b[0;34m.\u001b[0m\u001b[0m__init__\u001b[0m\u001b[0;34m(\u001b[0m\u001b[0mname\u001b[0m\u001b[0;34m,\u001b[0m \u001b[0;34m**\u001b[0m\u001b[0mkwargs\u001b[0m\u001b[0;34m)\u001b[0m\u001b[0;34m\u001b[0m\u001b[0;34m\u001b[0m\u001b[0m\n\u001b[0m\u001b[1;32m    106\u001b[0m     \u001b[0mself\u001b[0m\u001b[0;34m.\u001b[0m\u001b[0m_set_hyper\u001b[0m\u001b[0;34m(\u001b[0m\u001b[0;34m'learning_rate'\u001b[0m\u001b[0;34m,\u001b[0m \u001b[0mkwargs\u001b[0m\u001b[0;34m.\u001b[0m\u001b[0mget\u001b[0m\u001b[0;34m(\u001b[0m\u001b[0;34m'lr'\u001b[0m\u001b[0;34m,\u001b[0m \u001b[0mlearning_rate\u001b[0m\u001b[0;34m)\u001b[0m\u001b[0;34m)\u001b[0m\u001b[0;34m\u001b[0m\u001b[0;34m\u001b[0m\u001b[0m\n\u001b[1;32m    107\u001b[0m     \u001b[0mself\u001b[0m\u001b[0;34m.\u001b[0m\u001b[0m_set_hyper\u001b[0m\u001b[0;34m(\u001b[0m\u001b[0;34m'decay'\u001b[0m\u001b[0;34m,\u001b[0m \u001b[0mself\u001b[0m\u001b[0;34m.\u001b[0m\u001b[0m_initial_decay\u001b[0m\u001b[0;34m)\u001b[0m\u001b[0;34m\u001b[0m\u001b[0;34m\u001b[0m\u001b[0m\n",
            "\u001b[0;32m/usr/local/lib/python3.7/dist-packages/keras/optimizer_v2/optimizer_v2.py\u001b[0m in \u001b[0;36m__init__\u001b[0;34m(self, name, gradient_aggregator, gradient_transformers, **kwargs)\u001b[0m\n\u001b[1;32m    348\u001b[0m       \u001b[0;32mif\u001b[0m \u001b[0mk\u001b[0m \u001b[0;32mnot\u001b[0m \u001b[0;32min\u001b[0m \u001b[0mallowed_kwargs\u001b[0m\u001b[0;34m:\u001b[0m\u001b[0;34m\u001b[0m\u001b[0;34m\u001b[0m\u001b[0m\n\u001b[1;32m    349\u001b[0m         raise TypeError(\"Unexpected keyword argument \"\n\u001b[0;32m--> 350\u001b[0;31m                         \"passed to optimizer: \" + str(k))\n\u001b[0m\u001b[1;32m    351\u001b[0m       \u001b[0;31m# checks that all keyword arguments are non-negative.\u001b[0m\u001b[0;34m\u001b[0m\u001b[0;34m\u001b[0m\u001b[0;34m\u001b[0m\u001b[0m\n\u001b[1;32m    352\u001b[0m       \u001b[0;32mif\u001b[0m \u001b[0mkwargs\u001b[0m\u001b[0;34m[\u001b[0m\u001b[0mk\u001b[0m\u001b[0;34m]\u001b[0m \u001b[0;32mis\u001b[0m \u001b[0;32mnot\u001b[0m \u001b[0;32mNone\u001b[0m \u001b[0;32mand\u001b[0m \u001b[0mkwargs\u001b[0m\u001b[0;34m[\u001b[0m\u001b[0mk\u001b[0m\u001b[0;34m]\u001b[0m \u001b[0;34m<\u001b[0m \u001b[0;36m0\u001b[0m\u001b[0;34m:\u001b[0m\u001b[0;34m\u001b[0m\u001b[0;34m\u001b[0m\u001b[0m\n",
            "\u001b[0;31mTypeError\u001b[0m: Unexpected keyword argument passed to optimizer: momentum"
          ]
        }
      ]
    },
    {
      "cell_type": "code",
      "metadata": {
        "id": "7LBjcq4rUn0C",
        "outputId": "91fa603b-48a3-4cff-b9fd-9b1f2bc81628",
        "colab": {
          "base_uri": "https://localhost:8080/",
          "height": 296
        }
      },
      "source": [
        "print(history.history.keys())\n",
        "# Plotting our loss charts\n",
        "import matplotlib.pyplot as plt\n",
        "\n",
        "history_dict = history.history\n",
        "loss_values = history_dict['loss']\n",
        "val_loss_values = history_dict['val_loss']\n",
        "epochs = range(1, len(loss_values) + 1)\n",
        "\n",
        "line1 = plt.plot(epochs, val_loss_values, label='Validation/Test Loss')\n",
        "line2 = plt.plot(epochs, loss_values, label='Training Loss')\n",
        "plt.setp(line1, linewidth=2.0, marker = '+', markersize=10.0)\n",
        "plt.setp(line2, linewidth=2.0, marker = '4', markersize=10.0)\n",
        "plt.xlabel('Epochs') \n",
        "plt.ylabel('Loss')\n",
        "plt.grid(True)\n",
        "plt.legend()\n",
        "plt.savefig('Loss.png', dpi = 1200)\n",
        "plt.show()"
      ],
      "execution_count": 23,
      "outputs": [
        {
          "output_type": "stream",
          "name": "stdout",
          "text": [
            "dict_keys(['loss', 'accuracy', 'val_loss', 'val_accuracy', 'lr'])\n"
          ]
        },
        {
          "output_type": "display_data",
          "data": {
            "image/png": "[encoded data removed]",
            "text/plain": [
              "<Figure size 432x288 with 1 Axes>"
            ]
          },
          "metadata": {
            "needs_background": "light"
          }
        }
      ]
    },
    {
      "cell_type": "code",
      "metadata": {
        "id": "4h92dVhdUnXe",
        "outputId": "07dcd9a2-9b26-467e-ee03-1fa51e625f2c",
        "colab": {
          "base_uri": "https://localhost:8080/",
          "height": 279
        }
      },
      "source": [
        "# Plotting our accuracy charts\n",
        "import matplotlib.pyplot as plt\n",
        "\n",
        "history_dict = history.history\n",
        "acc_values = history_dict['accuracy']\n",
        "val_acc_values = history_dict['val_accuracy']\n",
        "epochs = range(1, len(loss_values) + 1)\n",
        "line1 = plt.plot(epochs, val_acc_values, label='Validation/Test Accuracy')\n",
        "line2 = plt.plot(epochs, acc_values, label='Training Accuracy')\n",
        "plt.setp(line1, linewidth=2.0, marker = '+', markersize=10.0)\n",
        "plt.setp(line2, linewidth=2.0, marker = '4', markersize=10.0)\n",
        "plt.xlabel('Epochs') \n",
        "plt.ylabel('Accuracy')\n",
        "plt.grid(True)\n",
        "plt.legend()\n",
        "plt.savefig('Accuracy.png', dpi = 1200)\n",
        "plt.show()"
      ],
      "execution_count": 24,
      "outputs": [
        {
          "output_type": "display_data",
          "data": {
            "image/png": "[encoded data removed]",
            "text/plain": [
              "<Figure size 432x288 with 1 Axes>"
            ]
          },
          "metadata": {
            "needs_background": "light"
          }
        }
      ]
    },
    {
      "cell_type": "code",
      "metadata": {
        "id": "4RJhMQi5c7vA",
        "outputId": "f7c45c95-5ee9-431c-c2e8-3c682dac82f6",
        "colab": {
          "base_uri": "https://localhost:8080/",
          "height": 1000
        }
      },
      "source": [
        "! pip uninstall tensorflow-gpu\n",
        "! pip install tensorflow-gpu==1.15"
      ],
      "execution_count": 33,
      "outputs": [
        {
          "output_type": "stream",
          "name": "stdout",
          "text": [
            "\u001b[33mWARNING: Skipping tensorflow-gpu as it is not installed.\u001b[0m\n",
            "Collecting tensorflow-gpu==1.15\n",
            "  Downloading tensorflow_gpu-1.15.0-cp37-cp37m-manylinux2010_x86_64.whl (411.5 MB)\n",
            "\u001b[K     |████████████████████████████████| 411.5 MB 3.9 kB/s \n",
            "\u001b[?25hRequirement already satisfied: absl-py>=0.7.0 in /usr/local/lib/python3.7/dist-packages (from tensorflow-gpu==1.15) (0.12.0)\n",
            "Collecting keras-applications>=1.0.8\n",
            "  Downloading Keras_Applications-1.0.8-py3-none-any.whl (50 kB)\n",
            "\u001b[K     |████████████████████████████████| 50 kB 6.3 MB/s \n",
            "\u001b[?25hCollecting tensorflow-estimator==1.15.1\n",
            "  Downloading tensorflow_estimator-1.15.1-py2.py3-none-any.whl (503 kB)\n",
            "\u001b[K     |████████████████████████████████| 503 kB 73.8 MB/s \n",
            "\u001b[?25hRequirement already satisfied: opt-einsum>=2.3.2 in /usr/local/lib/python3.7/dist-packages (from tensorflow-gpu==1.15) (3.3.0)\n",
            "Requirement already satisfied: grpcio>=1.8.6 in /usr/local/lib/python3.7/dist-packages (from tensorflow-gpu==1.15) (1.40.0)\n",
            "Collecting tensorboard<1.16.0,>=1.15.0\n",
            "  Downloading tensorboard-1.15.0-py3-none-any.whl (3.8 MB)\n",
            "\u001b[K     |████████████████████████████████| 3.8 MB 68.2 MB/s \n",
            "\u001b[?25hRequirement already satisfied: wheel>=0.26 in /usr/local/lib/python3.7/dist-packages (from tensorflow-gpu==1.15) (0.37.0)\n",
            "Requirement already satisfied: astor>=0.6.0 in /usr/local/lib/python3.7/dist-packages (from tensorflow-gpu==1.15) (0.8.1)\n",
            "Collecting gast==0.2.2\n",
            "  Downloading gast-0.2.2.tar.gz (10 kB)\n",
            "Requirement already satisfied: google-pasta>=0.1.6 in /usr/local/lib/python3.7/dist-packages (from tensorflow-gpu==1.15) (0.2.0)\n",
            "Requirement already satisfied: protobuf>=3.6.1 in /usr/local/lib/python3.7/dist-packages (from tensorflow-gpu==1.15) (3.17.3)\n",
            "Requirement already satisfied: wrapt>=1.11.1 in /usr/local/lib/python3.7/dist-packages (from tensorflow-gpu==1.15) (1.12.1)\n",
            "Requirement already satisfied: numpy<2.0,>=1.16.0 in /usr/local/lib/python3.7/dist-packages (from tensorflow-gpu==1.15) (1.19.5)\n",
            "Requirement already satisfied: keras-preprocessing>=1.0.5 in /usr/local/lib/python3.7/dist-packages (from tensorflow-gpu==1.15) (1.1.2)\n",
            "Requirement already satisfied: six>=1.10.0 in /usr/local/lib/python3.7/dist-packages (from tensorflow-gpu==1.15) (1.15.0)\n",
            "Requirement already satisfied: termcolor>=1.1.0 in /usr/local/lib/python3.7/dist-packages (from tensorflow-gpu==1.15) (1.1.0)\n",
            "Requirement already satisfied: h5py in /usr/local/lib/python3.7/dist-packages (from keras-applications>=1.0.8->tensorflow-gpu==1.15) (3.1.0)\n",
            "Requirement already satisfied: markdown>=2.6.8 in /usr/local/lib/python3.7/dist-packages (from tensorboard<1.16.0,>=1.15.0->tensorflow-gpu==1.15) (3.3.4)\n",
            "Requirement already satisfied: setuptools>=41.0.0 in /usr/local/lib/python3.7/dist-packages (from tensorboard<1.16.0,>=1.15.0->tensorflow-gpu==1.15) (57.4.0)\n",
            "Requirement already satisfied: werkzeug>=0.11.15 in /usr/local/lib/python3.7/dist-packages (from tensorboard<1.16.0,>=1.15.0->tensorflow-gpu==1.15) (1.0.1)\n",
            "Requirement already satisfied: importlib-metadata in /usr/local/lib/python3.7/dist-packages (from markdown>=2.6.8->tensorboard<1.16.0,>=1.15.0->tensorflow-gpu==1.15) (4.8.1)\n",
            "Requirement already satisfied: cached-property in /usr/local/lib/python3.7/dist-packages (from h5py->keras-applications>=1.0.8->tensorflow-gpu==1.15) (1.5.2)\n",
            "Requirement already satisfied: zipp>=0.5 in /usr/local/lib/python3.7/dist-packages (from importlib-metadata->markdown>=2.6.8->tensorboard<1.16.0,>=1.15.0->tensorflow-gpu==1.15) (3.5.0)\n",
            "Requirement already satisfied: typing-extensions>=3.6.4 in /usr/local/lib/python3.7/dist-packages (from importlib-metadata->markdown>=2.6.8->tensorboard<1.16.0,>=1.15.0->tensorflow-gpu==1.15) (3.7.4.3)\n",
            "Building wheels for collected packages: gast\n",
            "  Building wheel for gast (setup.py) ... \u001b[?25l\u001b[?25hdone\n",
            "  Created wheel for gast: filename=gast-0.2.2-py3-none-any.whl size=7554 sha256=971b09e0578ec650f8fc97c7897af8de4d958ce4b558ad173e585b215c49a471\n",
            "  Stored in directory: /root/.cache/pip/wheels/21/7f/02/420f32a803f7d0967b48dd823da3f558c5166991bfd204eef3\n",
            "Successfully built gast\n",
            "Installing collected packages: tensorflow-estimator, tensorboard, keras-applications, gast, tensorflow-gpu\n",
            "  Attempting uninstall: tensorflow-estimator\n",
            "    Found existing installation: tensorflow-estimator 2.6.0\n",
            "    Uninstalling tensorflow-estimator-2.6.0:\n",
            "      Successfully uninstalled tensorflow-estimator-2.6.0\n",
            "  Attempting uninstall: tensorboard\n",
            "    Found existing installation: tensorboard 2.6.0\n",
            "    Uninstalling tensorboard-2.6.0:\n",
            "      Successfully uninstalled tensorboard-2.6.0\n",
            "  Attempting uninstall: gast\n",
            "    Found existing installation: gast 0.4.0\n",
            "    Uninstalling gast-0.4.0:\n",
            "      Successfully uninstalled gast-0.4.0\n",
            "\u001b[31mERROR: pip's dependency resolver does not currently take into account all the packages that are installed. This behaviour is the source of the following dependency conflicts.\n",
            "tensorflow 2.6.0 requires gast==0.4.0, but you have gast 0.2.2 which is incompatible.\n",
            "tensorflow 2.6.0 requires tensorboard~=2.6, but you have tensorboard 1.15.0 which is incompatible.\n",
            "tensorflow 2.6.0 requires tensorflow-estimator~=2.6, but you have tensorflow-estimator 1.15.1 which is incompatible.\n",
            "tensorflow-probability 0.13.0 requires gast>=0.3.2, but you have gast 0.2.2 which is incompatible.\u001b[0m\n",
            "Successfully installed gast-0.2.2 keras-applications-1.0.8 tensorboard-1.15.0 tensorflow-estimator-1.15.1 tensorflow-gpu-1.15.0\n"
          ]
        },
        {
          "output_type": "display_data",
          "data": {
            "application/vnd.colab-display-data+json": {
              "pip_warning": {
                "packages": [
                  "gast",
                  "tensorboard",
                  "tensorflow"
                ]
              }
            }
          },
          "metadata": {}
        }
      ]
    },
    {
      "cell_type": "code",
      "metadata": {
        "id": "jn2lCVyDUvJN",
        "outputId": "ee99acfb-0ce4-49de-e2be-96e8b3a35759",
        "colab": {
          "base_uri": "https://localhost:8080/",
          "height": 442
        }
      },
      "source": [
        "import h5py\n",
        "checkpoint = ModelCheckpoint(\"cnn_scene_Reluv2.h5\",\n",
        "                             monitor=\"val_loss\",\n",
        "                             mode=\"min\",\n",
        "                             save_best_only = True,\n",
        "                             verbose=1)\n",
        "\n",
        "earlystop = EarlyStopping(monitor = 'val_loss', \n",
        "                          min_delta = 0, \n",
        "                          patience = 5,\n",
        "                          verbose = 1,\n",
        "                          restore_best_weights = True)\n",
        "\n",
        "reduce_lr = ReduceLROnPlateau(monitor = 'val_loss',\n",
        "                              factor = 0.2,\n",
        "                              patience = 5,\n",
        "                              verbose = 1,\n",
        "                              min_delta = 0.000001)\n",
        "\n",
        "# we put our call backs into a callback list\n",
        "callbacks = [ checkpoint,reduce_lr]\n",
        "\n",
        "\n",
        "# We use a very small learning rate \n",
        "\n",
        "\n",
        "opt = tensorflow.keras.optimizers.Adam(learning_rate=0.1)\n",
        "model.compile(loss = 'categorical_crossentropy',\n",
        "              optimizer = Adam(lr=0.0001,momentum=0.9),\n",
        "              metrics = ['accuracy'])\n",
        "\n",
        "\n",
        "epochs = 100\n",
        "import time\n",
        "time_start=time.perf_counter()\n",
        "\n",
        "history= model.fit_generator(   \n",
        "    \n",
        "    train_generator,\n",
        "    epochs = epochs,\n",
        "    callbacks = callbacks,\n",
        "\n",
        "\n",
        "  validation_data = validation_generator)\n",
        "elapsed_time=time.perf_counter()-time_start\n",
        "\n"
      ],
      "execution_count": 32,
      "outputs": [
        {
          "output_type": "stream",
          "name": "stderr",
          "text": [
            "/usr/local/lib/python3.7/dist-packages/keras/optimizer_v2/optimizer_v2.py:356: UserWarning: The `lr` argument is deprecated, use `learning_rate` instead.\n",
            "  \"The `lr` argument is deprecated, use `learning_rate` instead.\")\n"
          ]
        },
        {
          "output_type": "error",
          "ename": "TypeError",
          "evalue": "ignored",
          "traceback": [
            "\u001b[0;31m---------------------------------------------------------------------------\u001b[0m",
            "\u001b[0;31mTypeError\u001b[0m                                 Traceback (most recent call last)",
            "\u001b[0;32m<ipython-input-32-380a5ec949c1>\u001b[0m in \u001b[0;36m<module>\u001b[0;34m()\u001b[0m\n\u001b[1;32m     27\u001b[0m \u001b[0mopt\u001b[0m \u001b[0;34m=\u001b[0m \u001b[0mtensorflow\u001b[0m\u001b[0;34m.\u001b[0m\u001b[0mkeras\u001b[0m\u001b[0;34m.\u001b[0m\u001b[0moptimizers\u001b[0m\u001b[0;34m.\u001b[0m\u001b[0mAdam\u001b[0m\u001b[0;34m(\u001b[0m\u001b[0mlearning_rate\u001b[0m\u001b[0;34m=\u001b[0m\u001b[0;36m0.1\u001b[0m\u001b[0;34m)\u001b[0m\u001b[0;34m\u001b[0m\u001b[0;34m\u001b[0m\u001b[0m\n\u001b[1;32m     28\u001b[0m model.compile(loss = 'categorical_crossentropy',\n\u001b[0;32m---> 29\u001b[0;31m               \u001b[0moptimizer\u001b[0m \u001b[0;34m=\u001b[0m \u001b[0mAdam\u001b[0m\u001b[0;34m(\u001b[0m\u001b[0mlr\u001b[0m\u001b[0;34m=\u001b[0m\u001b[0;36m0.0001\u001b[0m\u001b[0;34m,\u001b[0m\u001b[0mmomentum\u001b[0m\u001b[0;34m=\u001b[0m\u001b[0;36m0.9\u001b[0m\u001b[0;34m)\u001b[0m\u001b[0;34m,\u001b[0m\u001b[0;34m\u001b[0m\u001b[0;34m\u001b[0m\u001b[0m\n\u001b[0m\u001b[1;32m     30\u001b[0m               metrics = ['accuracy'])\n\u001b[1;32m     31\u001b[0m \u001b[0;34m\u001b[0m\u001b[0m\n",
            "\u001b[0;32m/usr/local/lib/python3.7/dist-packages/keras/optimizer_v2/adam.py\u001b[0m in \u001b[0;36m__init__\u001b[0;34m(self, learning_rate, beta_1, beta_2, epsilon, amsgrad, name, **kwargs)\u001b[0m\n\u001b[1;32m    103\u001b[0m                \u001b[0mname\u001b[0m\u001b[0;34m=\u001b[0m\u001b[0;34m'Adam'\u001b[0m\u001b[0;34m,\u001b[0m\u001b[0;34m\u001b[0m\u001b[0;34m\u001b[0m\u001b[0m\n\u001b[1;32m    104\u001b[0m                **kwargs):\n\u001b[0;32m--> 105\u001b[0;31m     \u001b[0msuper\u001b[0m\u001b[0;34m(\u001b[0m\u001b[0mAdam\u001b[0m\u001b[0;34m,\u001b[0m \u001b[0mself\u001b[0m\u001b[0;34m)\u001b[0m\u001b[0;34m.\u001b[0m\u001b[0m__init__\u001b[0m\u001b[0;34m(\u001b[0m\u001b[0mname\u001b[0m\u001b[0;34m,\u001b[0m \u001b[0;34m**\u001b[0m\u001b[0mkwargs\u001b[0m\u001b[0;34m)\u001b[0m\u001b[0;34m\u001b[0m\u001b[0;34m\u001b[0m\u001b[0m\n\u001b[0m\u001b[1;32m    106\u001b[0m     \u001b[0mself\u001b[0m\u001b[0;34m.\u001b[0m\u001b[0m_set_hyper\u001b[0m\u001b[0;34m(\u001b[0m\u001b[0;34m'learning_rate'\u001b[0m\u001b[0;34m,\u001b[0m \u001b[0mkwargs\u001b[0m\u001b[0;34m.\u001b[0m\u001b[0mget\u001b[0m\u001b[0;34m(\u001b[0m\u001b[0;34m'lr'\u001b[0m\u001b[0;34m,\u001b[0m \u001b[0mlearning_rate\u001b[0m\u001b[0;34m)\u001b[0m\u001b[0;34m)\u001b[0m\u001b[0;34m\u001b[0m\u001b[0;34m\u001b[0m\u001b[0m\n\u001b[1;32m    107\u001b[0m     \u001b[0mself\u001b[0m\u001b[0;34m.\u001b[0m\u001b[0m_set_hyper\u001b[0m\u001b[0;34m(\u001b[0m\u001b[0;34m'decay'\u001b[0m\u001b[0;34m,\u001b[0m \u001b[0mself\u001b[0m\u001b[0;34m.\u001b[0m\u001b[0m_initial_decay\u001b[0m\u001b[0;34m)\u001b[0m\u001b[0;34m\u001b[0m\u001b[0;34m\u001b[0m\u001b[0m\n",
            "\u001b[0;32m/usr/local/lib/python3.7/dist-packages/keras/optimizer_v2/optimizer_v2.py\u001b[0m in \u001b[0;36m__init__\u001b[0;34m(self, name, gradient_aggregator, gradient_transformers, **kwargs)\u001b[0m\n\u001b[1;32m    348\u001b[0m       \u001b[0;32mif\u001b[0m \u001b[0mk\u001b[0m \u001b[0;32mnot\u001b[0m \u001b[0;32min\u001b[0m \u001b[0mallowed_kwargs\u001b[0m\u001b[0;34m:\u001b[0m\u001b[0;34m\u001b[0m\u001b[0;34m\u001b[0m\u001b[0m\n\u001b[1;32m    349\u001b[0m         raise TypeError(\"Unexpected keyword argument \"\n\u001b[0;32m--> 350\u001b[0;31m                         \"passed to optimizer: \" + str(k))\n\u001b[0m\u001b[1;32m    351\u001b[0m       \u001b[0;31m# checks that all keyword arguments are non-negative.\u001b[0m\u001b[0;34m\u001b[0m\u001b[0;34m\u001b[0m\u001b[0;34m\u001b[0m\u001b[0m\n\u001b[1;32m    352\u001b[0m       \u001b[0;32mif\u001b[0m \u001b[0mkwargs\u001b[0m\u001b[0;34m[\u001b[0m\u001b[0mk\u001b[0m\u001b[0;34m]\u001b[0m \u001b[0;32mis\u001b[0m \u001b[0;32mnot\u001b[0m \u001b[0;32mNone\u001b[0m \u001b[0;32mand\u001b[0m \u001b[0mkwargs\u001b[0m\u001b[0;34m[\u001b[0m\u001b[0mk\u001b[0m\u001b[0;34m]\u001b[0m \u001b[0;34m<\u001b[0m \u001b[0;36m0\u001b[0m\u001b[0;34m:\u001b[0m\u001b[0;34m\u001b[0m\u001b[0;34m\u001b[0m\u001b[0m\n",
            "\u001b[0;31mTypeError\u001b[0m: Unexpected keyword argument passed to optimizer: momentum"
          ]
        }
      ]
    },
    {
      "cell_type": "code",
      "metadata": {
        "id": "Vyr336ghUu9r",
        "outputId": "4fe1b341-daa5-4ac3-d2da-21acce368212",
        "colab": {
          "base_uri": "https://localhost:8080/",
          "height": 296
        }
      },
      "source": [
        "print(history.history.keys())\n",
        "# Plotting our loss charts\n",
        "import matplotlib.pyplot as plt\n",
        "\n",
        "history_dict = history.history\n",
        "loss_values = history_dict['loss']\n",
        "val_loss_values = history_dict['val_loss']\n",
        "epochs = range(1, len(loss_values) + 1)\n",
        "\n",
        "line1 = plt.plot(epochs, val_loss_values, label='Validation/Test Loss')\n",
        "line2 = plt.plot(epochs, loss_values, label='Training Loss')\n",
        "plt.setp(line1, linewidth=2.0, marker = '+', markersize=10.0)\n",
        "plt.setp(line2, linewidth=2.0, marker = '4', markersize=10.0)\n",
        "plt.xlabel('Epochs') \n",
        "plt.ylabel('Loss')\n",
        "plt.grid(True)\n",
        "plt.legend()\n",
        "plt.savefig('Loss.png', dpi = 1200)\n",
        "plt.show()"
      ],
      "execution_count": 31,
      "outputs": [
        {
          "output_type": "stream",
          "name": "stdout",
          "text": [
            "dict_keys(['loss', 'accuracy', 'val_loss', 'val_accuracy', 'lr'])\n"
          ]
        },
        {
          "output_type": "display_data",
          "data": {
            "image/png": "[encoded data removed]",
            "text/plain": [
              "<Figure size 432x288 with 1 Axes>"
            ]
          },
          "metadata": {
            "needs_background": "light"
          }
        }
      ]
    },
    {
      "cell_type": "code",
      "metadata": {
        "id": "-n_nGVm6UudH"
      },
      "source": [
        "# Plotting our accuracy charts\n",
        "import matplotlib.pyplot as plt\n",
        "\n",
        "history_dict = history.history\n",
        "acc_values = history_dict['accuracy']\n",
        "val_acc_values = history_dict['val_accuracy']\n",
        "epochs = range(1, len(loss_values) + 1)\n",
        "line1 = plt.plot(epochs, val_acc_values, label='Validation/Test Accuracy')\n",
        "line2 = plt.plot(epochs, acc_values, label='Training Accuracy')\n",
        "plt.setp(line1, linewidth=2.0, marker = '+', markersize=10.0)\n",
        "plt.setp(line2, linewidth=2.0, marker = '4', markersize=10.0)\n",
        "plt.xlabel('Epochs') \n",
        "plt.ylabel('Accuracy')\n",
        "plt.grid(True)\n",
        "plt.legend()\n",
        "plt.savefig('Accuracy.png', dpi = 1200)\n",
        "plt.show()"
      ],
      "execution_count": null,
      "outputs": []
    }
  ]
}