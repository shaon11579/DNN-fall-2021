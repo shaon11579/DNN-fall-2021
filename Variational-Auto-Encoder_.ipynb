{
 "cells": [
  {
   "cell_type": "markdown",
   "metadata": {
    "id": "_cJUQbAjV8fp"
   },
   "source": [
    "# Variational Auto-encoder"
   ]
  },
  {
   "cell_type": "code",
   "execution_count": null,
   "metadata": {
    "colab": {
     "base_uri": "https://localhost:8080/",
     "height": 34
    },
    "executionInfo": {
     "elapsed": 285,
     "status": "ok",
     "timestamp": 1637856017751,
     "user": {
      "displayName": "Lokesh Das",
      "photoUrl": "https://lh3.googleusercontent.com/a-/AOh14Gjw3b60ubMiSG1ewSk6HS4odm47Tv7_4eMohXcJAg=s64",
      "userId": "07729187777678404563"
     },
     "user_tz": 360
    },
    "id": "fA_YHXURV8fs",
    "outputId": "5070739d-1f5b-4539-b2e7-3f10968a68f8"
   },
   "outputs": [],
   "source": [
    "## load the libraries \n",
    "import sys\n",
    "import warnings\n",
    "import os\n",
    "import glob\n",
    "warnings.filterwarnings(\"ignore\")\n",
    "\n",
    "import numpy as np\n",
    "import pandas as pd\n",
    "import cv2\n",
    "import tensorflow as tf\n",
    "from sklearn.model_selection import train_test_split\n",
    "\n",
    "from tensorflow.keras.layers import *\n",
    "from tensorflow.keras.callbacks import EarlyStopping\n",
    "from tensorflow.keras.utils import to_categorical\n",
    "from tensorflow.keras.models import Model, Sequential\n",
    "from tensorflow.keras.metrics import *\n",
    "from tensorflow.keras.optimizers import Adam, RMSprop\n",
    "from scipy.stats import norm\n",
    "from tensorflow.keras.preprocessing.image import load_img, img_to_array\n",
    "from tensorflow.keras import datasets\n",
    "\n",
    "from tensorflow.keras import backend as K\n",
    "K.clear_session()\n",
    "from imgaug import augmenters\n",
    "import matplotlib.pyplot as plt\n",
    "import tensorflow as tf\n",
    "tf.compat.v1.disable_eager_execution()\n",
    "\n",
    "plt.gray()"
   ]
  },
  {
   "cell_type": "code",
   "execution_count": null,
   "metadata": {
    "colab": {
     "base_uri": "https://localhost:8080/"
    },
    "executionInfo": {
     "elapsed": 41072,
     "status": "ok",
     "timestamp": 1637863783791,
     "user": {
      "displayName": "Lokesh Das",
      "photoUrl": "https://lh3.googleusercontent.com/a-/AOh14Gjw3b60ubMiSG1ewSk6HS4odm47Tv7_4eMohXcJAg=s64",
      "userId": "07729187777678404563"
     },
     "user_tz": 360
    },
    "id": "VBS6-ZPnWN20",
    "outputId": "2c504b6a-bee7-408f-be04-ce6bd27b4df0"
   },
   "outputs": [],
   "source": [
    "from google.colab import drive\n",
    "drive.mount( '/content/drive', force_remount=True )\n",
    "PATH =\"/content/drive/MyDrive/NeuralNetworkAssignmentFall2021/assignment5/document_denoising_dataset/\""
   ]
  },
  {
   "cell_type": "markdown",
   "metadata": {
    "id": "edHolYUaV8ft"
   },
   "source": [
    "## Data loading"
   ]
  },
  {
   "cell_type": "code",
   "execution_count": null,
   "metadata": {
    "executionInfo": {
     "elapsed": 1055,
     "status": "ok",
     "timestamp": 1637856020107,
     "user": {
      "displayName": "Lokesh Das",
      "photoUrl": "https://lh3.googleusercontent.com/a-/AOh14Gjw3b60ubMiSG1ewSk6HS4odm47Tv7_4eMohXcJAg=s64",
      "userId": "07729187777678404563"
     },
     "user_tz": 360
    },
    "id": "RswWjYxFWQCT"
   },
   "outputs": [],
   "source": [
    "(x_train, y_train), (x_test, y_test) = tf.keras.datasets.cifar10.load_data()\n",
    "x_train = x_train.astype('float32')/255.0\n",
    "x_test = x_test.astype('float32')/255.0"
   ]
  },
  {
   "cell_type": "code",
   "execution_count": null,
   "metadata": {
    "id": "cMZC2iTE96KU"
   },
   "outputs": [],
   "source": []
  },
  {
   "cell_type": "code",
   "execution_count": null,
   "metadata": {
    "id": "ei5NIQr1_ObU"
   },
   "outputs": [],
   "source": []
  },
  {
   "cell_type": "code",
   "execution_count": null,
   "metadata": {
    "colab": {
     "base_uri": "https://localhost:8080/",
     "height": 220
    },
    "executionInfo": {
     "elapsed": 792,
     "status": "ok",
     "timestamp": 1637854713691,
     "user": {
      "displayName": "Lokesh Das",
      "photoUrl": "https://lh3.googleusercontent.com/a-/AOh14Gjw3b60ubMiSG1ewSk6HS4odm47Tv7_4eMohXcJAg=s64",
      "userId": "07729187777678404563"
     },
     "user_tz": 360
    },
    "id": "q_8h0s8fV8fu",
    "outputId": "7f6f381a-a42c-4f38-a826-5643f5490054"
   },
   "outputs": [],
   "source": [
    "f, ax = plt.subplots(1,5)\n",
    "f.set_size_inches(20, 20)\n",
    "for i in range(5,10):\n",
    "    ax[i-5].imshow(x_train[i])"
   ]
  },
  {
   "cell_type": "markdown",
   "metadata": {
    "id": "_sdMg6tuV8fu"
   },
   "source": [
    "## Part 2: Denoise Images using AEs"
   ]
  },
  {
   "cell_type": "markdown",
   "metadata": {
    "id": "L29Yyo0zV8fv"
   },
   "source": [
    "### Design the network"
   ]
  },
  {
   "cell_type": "code",
   "execution_count": null,
   "metadata": {
    "executionInfo": {
     "elapsed": 260,
     "status": "ok",
     "timestamp": 1637864209950,
     "user": {
      "displayName": "Lokesh Das",
      "photoUrl": "https://lh3.googleusercontent.com/a-/AOh14Gjw3b60ubMiSG1ewSk6HS4odm47Tv7_4eMohXcJAg=s64",
      "userId": "07729187777678404563"
     },
     "user_tz": 360
    },
    "id": "8Vctkc5X2Rsg"
   },
   "outputs": [],
   "source": [
    "import numpy as np\n",
    "from tensorflow import keras\n",
    "from tensorflow.keras.preprocessing.image import ImageDataGenerator\n",
    "from tensorflow.keras.layers import Input, Conv2D, Flatten, Dense, Conv2DTranspose, Reshape, Lambda, Activation, BatchNormalization, LeakyReLU, Dropout\n",
    "from tensorflow.keras.models import Model\n",
    "from tensorflow.keras import backend as K\n",
    "from tensorflow.keras.optimizers import Adam\n",
    "from tensorflow.keras.callbacks import ModelCheckpoint \n",
    "from tensorflow.keras.utils import plot_model\n",
    "import tensorflow as tf\n",
    "tf.compat.v1.disable_eager_execution()"
   ]
  },
  {
   "cell_type": "code",
   "execution_count": null,
   "metadata": {
    "colab": {
     "base_uri": "https://localhost:8080/",
     "height": 66,
     "referenced_widgets": [
      "c99f7da32eaa4212af5881c64622cd7f",
      "7b0ae3c834f04267ada10b38b0503662",
      "4df4d55302204eb6aab25d3c992b8b4b",
      "216d53adc5a94ed8a9fba165a063cf86",
      "250d9343dc2842f591935bf4e8f11c76",
      "45f9516effd742dbad26dc4f60f8a1ef",
      "2f14d3852e694bedbc90cdd13f346f89",
      "90c1d4524ee34913a2f0281de4b4f9a9",
      "6f72863b32b445ae97773b279b08ec1e",
      "6ad43e5f3d0f47caa3b4234a3057ce4e",
      "b637f777db6647b69494fb4227ec3b62"
     ]
    },
    "executionInfo": {
     "elapsed": 21048,
     "status": "ok",
     "timestamp": 1637863673557,
     "user": {
      "displayName": "Lokesh Das",
      "photoUrl": "https://lh3.googleusercontent.com/a-/AOh14Gjw3b60ubMiSG1ewSk6HS4odm47Tv7_4eMohXcJAg=s64",
      "userId": "07729187777678404563"
     },
     "user_tz": 360
    },
    "id": "nWq5TJMeAT45",
    "outputId": "190c133e-ca5a-4d42-a994-c5045034ed8a"
   },
   "outputs": [],
   "source": [
    "from torchvision.datasets.utils import download_url\n",
    "# Dowload the dataset\n",
    "dataset_url = \"https://s3.amazonaws.com/fast-ai-imageclas/cifar10.tgz\"\n",
    "download_url(dataset_url, '.')"
   ]
  },
  {
   "cell_type": "code",
   "execution_count": null,
   "metadata": {
    "executionInfo": {
     "elapsed": 18877,
     "status": "ok",
     "timestamp": 1637863876681,
     "user": {
      "displayName": "Lokesh Das",
      "photoUrl": "https://lh3.googleusercontent.com/a-/AOh14Gjw3b60ubMiSG1ewSk6HS4odm47Tv7_4eMohXcJAg=s64",
      "userId": "07729187777678404563"
     },
     "user_tz": 360
    },
    "id": "-E9C5ZPRA01S"
   },
   "outputs": [],
   "source": [
    "# Extract from archive\n",
    "import tarfile\n",
    "with tarfile.open('./cifar10.tgz', 'r:gz') as tar:\n",
    "    tar.extractall()"
   ]
  },
  {
   "cell_type": "code",
   "execution_count": null,
   "metadata": {
    "colab": {
     "base_uri": "https://localhost:8080/"
    },
    "executionInfo": {
     "elapsed": 21836,
     "status": "ok",
     "timestamp": 1637858596627,
     "user": {
      "displayName": "Lokesh Das",
      "photoUrl": "https://lh3.googleusercontent.com/a-/AOh14Gjw3b60ubMiSG1ewSk6HS4odm47Tv7_4eMohXcJAg=s64",
      "userId": "07729187777678404563"
     },
     "user_tz": 360
    },
    "id": "QeqqLPd--nIt",
    "outputId": "d87cac0f-2e0b-4a85-905e-44679300304c"
   },
   "outputs": [],
   "source": [
    "from google.colab import drive\n",
    "drive.mount( '/content/drive', force_remount=True )\n",
    "PATH =\"/content/drive/MyDrive/NeuralNetworkAssignmentFall2021/assignment5/\""
   ]
  },
  {
   "cell_type": "code",
   "execution_count": null,
   "metadata": {
    "colab": {
     "base_uri": "https://localhost:8080/"
    },
    "executionInfo": {
     "elapsed": 2623,
     "status": "ok",
     "timestamp": 1637858618864,
     "user": {
      "displayName": "Lokesh Das",
      "photoUrl": "https://lh3.googleusercontent.com/a-/AOh14Gjw3b60ubMiSG1ewSk6HS4odm47Tv7_4eMohXcJAg=s64",
      "userId": "07729187777678404563"
     },
     "user_tz": 360
    },
    "id": "l6tqBuzD-azT",
    "outputId": "3bfa167a-dcd8-4504-ea6f-1d83fa5012ec"
   },
   "outputs": [],
   "source": [
    "!tar -xzvf \"cifar-10-python.tar.gz\" -C \"/content/drive/MyDrive/NeuralNetworkAssignmentFall2021/assignment5/\""
   ]
  },
  {
   "cell_type": "code",
   "execution_count": null,
   "metadata": {
    "id": "J-vd6MSG_EtU"
   },
   "outputs": [],
   "source": [
    "!unzip \"/content/drive/MyDrive/NeuralNetworkAssignmentFall2021/assignment5/cifar10/data_batch_1.zip\" -d \"/content/drive/MyDrive/NeuralNetworkAssignmentFall2021/assignment5/cifar10/train/\""
   ]
  },
  {
   "cell_type": "code",
   "execution_count": null,
   "metadata": {
    "colab": {
     "base_uri": "https://localhost:8080/"
    },
    "executionInfo": {
     "elapsed": 3871,
     "status": "ok",
     "timestamp": 1637864231077,
     "user": {
      "displayName": "Lokesh Das",
      "photoUrl": "https://lh3.googleusercontent.com/a-/AOh14Gjw3b60ubMiSG1ewSk6HS4odm47Tv7_4eMohXcJAg=s64",
      "userId": "07729187777678404563"
     },
     "user_tz": 360
    },
    "id": "omPGpSeH4moP",
    "outputId": "f6ffb490-7a53-4f4a-8806-ab28144e3bb7"
   },
   "outputs": [],
   "source": [
    "\n",
    "# prints : Total number of images : 202599\n",
    "INPUT_DIM = (32,32,3) # Image dimension\n",
    "BATCH_SIZE = 512\n",
    "Z_DIM = 200 # Dimension of the latent vector (z)\n",
    "\n",
    "data_flow = ImageDataGenerator(rescale=1./255).flow_from_directory('cifar10/train/', \n",
    "                                                                   target_size = INPUT_DIM[:2],\n",
    "                                                                   batch_size = BATCH_SIZE,\n",
    "                                                                   shuffle = True,\n",
    "                                                                   class_mode = 'input',\n",
    "                                                                   subset = 'training'\n",
    "                                                                   )\n",
    "\n"
   ]
  },
  {
   "cell_type": "code",
   "execution_count": null,
   "metadata": {
    "executionInfo": {
     "elapsed": 6,
     "status": "ok",
     "timestamp": 1637864231078,
     "user": {
      "displayName": "Lokesh Das",
      "photoUrl": "https://lh3.googleusercontent.com/a-/AOh14Gjw3b60ubMiSG1ewSk6HS4odm47Tv7_4eMohXcJAg=s64",
      "userId": "07729187777678404563"
     },
     "user_tz": 360
    },
    "id": "6oqbdVxU6Am-"
   },
   "outputs": [],
   "source": [
    "# ENCODER\n",
    "def build_vae_encoder(input_dim, output_dim, conv_filters, conv_kernel_size, \n",
    "                  conv_strides, use_batch_norm = False, use_dropout = False):\n",
    "  \n",
    "  # Clear tensorflow session to reset layer index numbers to 0 for LeakyRelu, \n",
    "  # BatchNormalization and Dropout.\n",
    "  # Otherwise, the names of above mentioned layers in the model \n",
    "  # would be inconsistent\n",
    "  global K\n",
    "  K.clear_session()\n",
    "  \n",
    "  # Number of Conv layers\n",
    "  n_layers = len(conv_filters)\n",
    "\n",
    "  # Define model input\n",
    "  encoder_input = Input(shape = input_dim, name = 'encoder_input')\n",
    "  x = encoder_input\n",
    "\n",
    "  # Add convolutional layers\n",
    "  for i in range(n_layers):\n",
    "      x = Conv2D(filters = conv_filters[i], \n",
    "                  kernel_size = conv_kernel_size[i],\n",
    "                  strides = conv_strides[i], \n",
    "                  padding = 'same',\n",
    "                  name = 'encoder_conv_' + str(i)\n",
    "                  )(x)\n",
    "      if use_batch_norm:\n",
    "        x = BathcNormalization()(x)\n",
    "  \n",
    "      x = LeakyReLU()(x)\n",
    "\n",
    "      if use_dropout:\n",
    "        x = Dropout(rate=0.25)(x)\n",
    "\n",
    "  # Required for reshaping latent vector while building Decoder\n",
    "  shape_before_flattening = K.int_shape(x)[1:] \n",
    "  \n",
    "  x = Flatten()(x)\n",
    "  \n",
    "  mean_mu = Dense(output_dim, name = 'mu')(x)\n",
    "  log_var = Dense(output_dim, name = 'log_var')(x)\n",
    "\n",
    "  # Defining a function for sampling\n",
    "  def sampling(args):\n",
    "    mean_mu, log_var = args\n",
    "    epsilon = K.random_normal(shape=K.shape(mean_mu), mean=0., stddev=1.) \n",
    "    return mean_mu + K.exp(log_var/2)*epsilon   \n",
    "  \n",
    "  # Using a Keras Lambda Layer to include the sampling function as a layer \n",
    "  # in the model\n",
    "  encoder_output = Lambda(sampling, name='encoder_output')([mean_mu, log_var])\n",
    "\n",
    "  return encoder_input, encoder_output, mean_mu, log_var, shape_before_flattening, Model(encoder_input, encoder_output)\n",
    "\n",
    "vae_encoder_input, vae_encoder_output,  mean_mu, log_var, vae_shape_before_flattening, vae_encoder  = build_vae_encoder(input_dim = INPUT_DIM,\n",
    "                                    output_dim = Z_DIM, \n",
    "                                    conv_filters = [32, 64, 64, 64],\n",
    "                                    conv_kernel_size = [3,3,3,3],\n",
    "                                    conv_strides = [2,2,2,2])"
   ]
  },
  {
   "cell_type": "code",
   "execution_count": null,
   "metadata": {
    "executionInfo": {
     "elapsed": 393,
     "status": "ok",
     "timestamp": 1637864234140,
     "user": {
      "displayName": "Lokesh Das",
      "photoUrl": "https://lh3.googleusercontent.com/a-/AOh14Gjw3b60ubMiSG1ewSk6HS4odm47Tv7_4eMohXcJAg=s64",
      "userId": "07729187777678404563"
     },
     "user_tz": 360
    },
    "id": "ryEaCH5h6anv"
   },
   "outputs": [],
   "source": [
    "# Decoder\n",
    "def build_decoder(input_dim, shape_before_flattening, conv_filters, conv_kernel_size, \n",
    "                  conv_strides):\n",
    "\n",
    "  # Number of Conv layers\n",
    "  n_layers = len(conv_filters)\n",
    "\n",
    "  # Define model input\n",
    "  decoder_input = Input(shape = (input_dim,) , name = 'decoder_input')\n",
    "\n",
    "  # To get an exact mirror image of the encoder\n",
    "  x = Dense(np.prod(shape_before_flattening))(decoder_input)\n",
    "  x = Reshape(shape_before_flattening)(x)\n",
    "\n",
    "  # Add convolutional layers\n",
    "  for i in range(n_layers):\n",
    "      x = Conv2DTranspose(filters = conv_filters[i], \n",
    "                  kernel_size = conv_kernel_size[i],\n",
    "                  strides = conv_strides[i], \n",
    "                  padding = 'same',\n",
    "                  name = 'decoder_conv_' + str(i)\n",
    "                  )(x)\n",
    "      \n",
    "      # Adding a sigmoid layer at the end to restrict the outputs \n",
    "      # between 0 and 1\n",
    "      if i < n_layers - 1:\n",
    "        x = LeakyReLU()(x)\n",
    "      else:\n",
    "        x = Activation('sigmoid')(x)\n",
    "\n",
    "  # Define model output\n",
    "  decoder_output = x\n",
    "\n",
    "  return decoder_input, decoder_output, Model(decoder_input, decoder_output)\n",
    "\n",
    "decoder_input, decoder_output, vae_decoder = build_decoder(input_dim = Z_DIM,\n",
    "                                        shape_before_flattening = vae_shape_before_flattening,\n",
    "                                        conv_filters = [64,64,32,3],\n",
    "                                        conv_kernel_size = [3,3,3,3],\n",
    "                                        conv_strides = [2,2,2,2]\n",
    "                                        )"
   ]
  },
  {
   "cell_type": "code",
   "execution_count": null,
   "metadata": {
    "executionInfo": {
     "elapsed": 552,
     "status": "ok",
     "timestamp": 1637864235986,
     "user": {
      "displayName": "Lokesh Das",
      "photoUrl": "https://lh3.googleusercontent.com/a-/AOh14Gjw3b60ubMiSG1ewSk6HS4odm47Tv7_4eMohXcJAg=s64",
      "userId": "07729187777678404563"
     },
     "user_tz": 360
    },
    "id": "mUi2YkDk6lqf"
   },
   "outputs": [],
   "source": [
    "# The input to the model will be the image fed to the encoder.\n",
    "vae_input = vae_encoder_input\n",
    "\n",
    "# Output will be the output of the decoder. The term - decoder(encoder_output) \n",
    "# combines the model by passing the encoder output to the input of the decoder.\n",
    "vae_output = vae_decoder(vae_encoder_output)\n",
    "\n",
    "# Input to the combined model will be the input to the encoder.\n",
    "# Output of the combined model will be the output of the decoder.\n",
    "vae_model = Model(vae_input, vae_output)"
   ]
  },
  {
   "cell_type": "code",
   "execution_count": null,
   "metadata": {
    "colab": {
     "base_uri": "https://localhost:8080/"
    },
    "executionInfo": {
     "elapsed": 1441305,
     "status": "ok",
     "timestamp": 1637865707086,
     "user": {
      "displayName": "Lokesh Das",
      "photoUrl": "https://lh3.googleusercontent.com/a-/AOh14Gjw3b60ubMiSG1ewSk6HS4odm47Tv7_4eMohXcJAg=s64",
      "userId": "07729187777678404563"
     },
     "user_tz": 360
    },
    "id": "5gkdpeUwDe5N",
    "outputId": "efbdc2c6-e51a-4364-b112-3bd3ec79fc88"
   },
   "outputs": [],
   "source": [
    "LEARNING_RATE = 0.0005\n",
    "N_EPOCHS = 100\n",
    "LOSS_FACTOR = 10000\n",
    "def r_loss(y_true, y_pred):\n",
    "    return K.mean(K.square(y_true - y_pred), axis = [1,2,3])\n",
    "def kl_loss(y_true, y_pred):\n",
    "    kl_loss =  -0.5 * K.sum(1 + log_var - K.square(mean_mu) - K.exp(log_var), axis = 1)\n",
    "    return kl_loss\n",
    "\n",
    "def total_loss(y_true, y_pred):\n",
    "    return LOSS_FACTOR*r_loss(y_true, y_pred) + kl_loss(y_true, y_pred)\n",
    "  \n",
    "adam_optimizer = Adam(learning_rate = LEARNING_RATE)\n",
    "\n",
    "vae_model.compile(optimizer=adam_optimizer, loss = total_loss, metrics = [r_loss, kl_loss])\n",
    "\n",
    "#checkpoint_vae = ModelCheckpoint(os.path.join(WEIGHTS_FOLDER, 'VAE/weights.h5'), save_weights_only = True, verbose=1)\n",
    "\n",
    "history = vae_model.fit(data_flow, \n",
    "                        shuffle=True, \n",
    "                        epochs = N_EPOCHS, \n",
    "                        initial_epoch = 0, \n",
    "                        steps_per_epoch=50000 / BATCH_SIZE,\n",
    "                        callbacks=[])"
   ]
  },
  {
   "cell_type": "code",
   "execution_count": null,
   "metadata": {
    "colab": {
     "base_uri": "https://localhost:8080/",
     "height": 306
    },
    "executionInfo": {
     "elapsed": 2010,
     "status": "ok",
     "timestamp": 1637867213531,
     "user": {
      "displayName": "Lokesh Das",
      "photoUrl": "https://lh3.googleusercontent.com/a-/AOh14Gjw3b60ubMiSG1ewSk6HS4odm47Tv7_4eMohXcJAg=s64",
      "userId": "07729187777678404563"
     },
     "user_tz": 360
    },
    "id": "Ww-b5cIIRFSJ",
    "outputId": "3fca68a1-127b-4bbb-bef2-cb3e09dccdbe"
   },
   "outputs": [],
   "source": [
    "import matplotlib.pyplot as plt\n",
    "example_batch = next(data_flow)\n",
    "example_batch = example_batch[0]\n",
    "example_images = example_batch[:5]\n",
    "\n",
    "def plot_compare_vae(images=None):\n",
    "  \n",
    "  if images is None:\n",
    "    example_batch = next(data_flow)\n",
    "    example_batch = example_batch[0]\n",
    "    images = example_batch[:1]\n",
    "\n",
    "  n_to_show = images.shape[0]\n",
    "  reconst_images = vae_model.predict(images)\n",
    "\n",
    "  fig = plt.figure(figsize=(10, 6))\n",
    "  fig.subplots_adjust(hspace=0.4, wspace=0.4)\n",
    "\n",
    "  for i in range(n_to_show):\n",
    "      img = images[i].squeeze()\n",
    "      sub = fig.add_subplot(2, n_to_show, i+1)\n",
    "      sub.axis('off') \n",
    "      imgFileName = \"/content/drive/MyDrive/NeuralNetworkAssignmentFall2021/assignment5/results/task3_ori_img/\"+str(i)+\".png\"\n",
    "      sub.figure.savefig(imgFileName)       \n",
    "      sub.imshow(img)\n",
    "\n",
    "  for i in range(n_to_show):\n",
    "      img = reconst_images[i].squeeze()\n",
    "      sub = fig.add_subplot(2, n_to_show, i+n_to_show+1)\n",
    "      sub.axis('off')\n",
    "      imgFileName = \"/content/drive/MyDrive/NeuralNetworkAssignmentFall2021/assignment5/results/task3_gen_img/\"+str(i)+\".png\"\n",
    "      sub.figure.savefig(imgFileName) \n",
    "      sub.imshow(img)  \n",
    "\n",
    "plot_compare_vae(images = example_images)      "
   ]
  },
  {
   "cell_type": "code",
   "execution_count": null,
   "metadata": {
    "executionInfo": {
     "elapsed": 268,
     "status": "ok",
     "timestamp": 1637867100893,
     "user": {
      "displayName": "Lokesh Das",
      "photoUrl": "https://lh3.googleusercontent.com/a-/AOh14Gjw3b60ubMiSG1ewSk6HS4odm47Tv7_4eMohXcJAg=s64",
      "userId": "07729187777678404563"
     },
     "user_tz": 360
    },
    "id": "NZExrBijdJFs"
   },
   "outputs": [],
   "source": [
    "import matplotlib.pyplot as plt\n",
    "example_batch = next(data_flow)\n",
    "example_batch = example_batch[0]\n",
    "example_images = example_batch[:5]\n",
    "\n",
    "def plot_compare_vae(images=None):\n",
    "  \n",
    "  if images is None:\n",
    "    example_batch = next(data_flow)\n",
    "    example_batch = example_batch[0]\n",
    "    images = example_batch[:1]\n",
    "\n",
    "  n_to_show = images.shape[0]\n",
    "  reconst_images = vae_model.predict(images)\n",
    "  fig = plt.figure(figsize=(3, 3))\n",
    "  fig.subplots_adjust(hspace=0.4, wspace=0.4)\n",
    "  img = images[0].squeeze()\n",
    "  sub = fig.add_subplot(2, 1, 1)\n",
    "  sub.axis('off')\n",
    "  \n",
    "  imgFileName = \"result/task3_ori_img/\"+str(0)+\".png\"\n",
    "  sub.figure.savefig(imgFileName)\n",
    "  sub.imshow(img)  \n",
    "\n",
    "  fig = plt.figure(figsize=(3, 3))\n",
    "  fig.subplots_adjust(hspace=0.4, wspace=0.4)\n",
    "  img = reconst_images[0].squeeze()\n",
    "  sub = fig.add_subplot(2, 1, 1)\n",
    "  sub.axis('off')\n",
    "  #sub.imshow(img)\n",
    "  imgFileName = \"result/task3_gen_img/\"+str(0)+\".png\"\n",
    "  sub.figure.savefig(imgFileName)\n",
    "  sub.imshow(img) "
   ]
  },
  {
   "cell_type": "code",
   "execution_count": null,
   "metadata": {
    "colab": {
     "base_uri": "https://localhost:8080/",
     "height": 181
    },
    "executionInfo": {
     "elapsed": 366,
     "status": "ok",
     "timestamp": 1637867102483,
     "user": {
      "displayName": "Lokesh Das",
      "photoUrl": "https://lh3.googleusercontent.com/a-/AOh14Gjw3b60ubMiSG1ewSk6HS4odm47Tv7_4eMohXcJAg=s64",
      "userId": "07729187777678404563"
     },
     "user_tz": 360
    },
    "id": "Obt-DEXDdPta",
    "outputId": "e38ac913-8329-425e-fea8-198e6c84e526"
   },
   "outputs": [],
   "source": [
    "plot_compare_vae(images = example_images) "
   ]
  },
  {
   "cell_type": "code",
   "execution_count": null,
   "metadata": {
    "colab": {
     "base_uri": "https://localhost:8080/",
     "height": 312
    },
    "executionInfo": {
     "elapsed": 314,
     "status": "ok",
     "timestamp": 1637865986725,
     "user": {
      "displayName": "Lokesh Das",
      "photoUrl": "https://lh3.googleusercontent.com/a-/AOh14Gjw3b60ubMiSG1ewSk6HS4odm47Tv7_4eMohXcJAg=s64",
      "userId": "07729187777678404563"
     },
     "user_tz": 360
    },
    "id": "66AEKKMgGTFK",
    "outputId": "5d64b593-9606-4ef7-c093-62ca581a8564"
   },
   "outputs": [],
   "source": [
    "# list all data in history\n",
    "print(history.history.keys())\n",
    "# summarize history for loss\n",
    "plt.plot(history.history['loss'])\n",
    "plt.title('model loss (AUTO-ENCODER)')\n",
    "plt.ylabel('loss')\n",
    "plt.xlabel('epoch')\n",
    "plt.legend(['train', 'test'], loc='upper left')\n",
    "plt.show()"
   ]
  },
  {
   "cell_type": "code",
   "execution_count": null,
   "metadata": {
    "colab": {
     "base_uri": "https://localhost:8080/",
     "height": 312
    },
    "executionInfo": {
     "elapsed": 381,
     "status": "ok",
     "timestamp": 1637865977733,
     "user": {
      "displayName": "Lokesh Das",
      "photoUrl": "https://lh3.googleusercontent.com/a-/AOh14Gjw3b60ubMiSG1ewSk6HS4odm47Tv7_4eMohXcJAg=s64",
      "userId": "07729187777678404563"
     },
     "user_tz": 360
    },
    "id": "yQETaOnua0GB",
    "outputId": "803991fd-410f-47d5-d199-2b9d1e008364"
   },
   "outputs": [],
   "source": [
    "# list all data in history\n",
    "print(history.history.keys())\n",
    "# summarize history for loss\n",
    "plt.plot(history.history['r_loss'])\n",
    "plt.title('model loss (AUTO-ENCODER)')\n",
    "plt.ylabel('loss')\n",
    "plt.xlabel('epoch')\n",
    "plt.legend(['test'], loc='upper left')\n",
    "plt.show()"
   ]
  },
  {
   "cell_type": "code",
   "execution_count": null,
   "metadata": {
    "colab": {
     "base_uri": "https://localhost:8080/",
     "height": 147
    },
    "executionInfo": {
     "elapsed": 891,
     "status": "ok",
     "timestamp": 1637865815912,
     "user": {
      "displayName": "Lokesh Das",
      "photoUrl": "https://lh3.googleusercontent.com/a-/AOh14Gjw3b60ubMiSG1ewSk6HS4odm47Tv7_4eMohXcJAg=s64",
      "userId": "07729187777678404563"
     },
     "user_tz": 360
    },
    "id": "kGkC10KqFQWo",
    "outputId": "9bb277af-b620-4b6f-d980-7a2bceb9fcca"
   },
   "outputs": [],
   "source": [
    "def vae_generate_images(n_to_show=10):\n",
    "  reconst_images = vae_decoder.predict(np.random.normal(0,1,size=(n_to_show,Z_DIM)))\n",
    "\n",
    "  fig = plt.figure(figsize=(15, 3))\n",
    "  fig.subplots_adjust(hspace=0.4, wspace=0.4)\n",
    "\n",
    "  for i in range(n_to_show):\n",
    "        img = reconst_images[i].squeeze()\n",
    "        sub = fig.add_subplot(2, n_to_show, i+1)\n",
    "        sub.axis('off')        \n",
    "        sub.imshow(img)\n",
    "\n",
    "vae_generate_images(n_to_show=10)            "
   ]
  },
  {
   "cell_type": "code",
   "execution_count": null,
   "metadata": {
    "colab": {
     "base_uri": "https://localhost:8080/",
     "height": 202
    },
    "executionInfo": {
     "elapsed": 1398,
     "status": "ok",
     "timestamp": 1637862738842,
     "user": {
      "displayName": "Lokesh Das",
      "photoUrl": "https://lh3.googleusercontent.com/a-/AOh14Gjw3b60ubMiSG1ewSk6HS4odm47Tv7_4eMohXcJAg=s64",
      "userId": "07729187777678404563"
     },
     "user_tz": 360
    },
    "id": "NTgYFr-pOdij",
    "outputId": "e8ee94c4-8183-44d6-97ce-485526298014"
   },
   "outputs": [],
   "source": [
    "n = np.random.randint(0,1000)\n",
    "\n",
    "f, ax = plt.subplots(1,5)\n",
    "f.set_size_inches(80, 40)\n",
    "for i,a in enumerate(range(n,n+5)):\n",
    "    ax[i].imshow(x_test[a])\n",
    "    "
   ]
  }
 ],
 "metadata": {
  "accelerator": "GPU",
  "colab": {
   "collapsed_sections": [],
   "machine_shape": "hm",
   "name": "TASK2_CVAE.ipynb",
   "provenance": []
  },
  "kernelspec": {
   "display_name": "Python 3 (ipykernel)",
   "language": "python",
   "name": "python3"
  },
  "language_info": {
   "codemirror_mode": {
    "name": "ipython",
    "version": 3
   },
   "file_extension": ".py",
   "mimetype": "text/x-python",
   "name": "python",
   "nbconvert_exporter": "python",
   "pygments_lexer": "ipython3",
   "version": "3.8.12"
  },
  "widgets": {
   "application/vnd.jupyter.widget-state+json": {
    "216d53adc5a94ed8a9fba165a063cf86": {
     "model_module": "@jupyter-widgets/controls",
     "model_module_version": "1.5.0",
     "model_name": "FloatProgressModel",
     "state": {
      "_dom_classes": [],
      "_model_module": "@jupyter-widgets/controls",
      "_model_module_version": "1.5.0",
      "_model_name": "FloatProgressModel",
      "_view_count": null,
      "_view_module": "@jupyter-widgets/controls",
      "_view_module_version": "1.5.0",
      "_view_name": "ProgressView",
      "bar_style": "success",
      "description": "",
      "description_tooltip": null,
      "layout": "IPY_MODEL_6f72863b32b445ae97773b279b08ec1e",
      "max": 135107811,
      "min": 0,
      "orientation": "horizontal",
      "style": "IPY_MODEL_90c1d4524ee34913a2f0281de4b4f9a9",
      "value": 135107811
     }
    },
    "250d9343dc2842f591935bf4e8f11c76": {
     "model_module": "@jupyter-widgets/controls",
     "model_module_version": "1.5.0",
     "model_name": "HTMLModel",
     "state": {
      "_dom_classes": [],
      "_model_module": "@jupyter-widgets/controls",
      "_model_module_version": "1.5.0",
      "_model_name": "HTMLModel",
      "_view_count": null,
      "_view_module": "@jupyter-widgets/controls",
      "_view_module_version": "1.5.0",
      "_view_name": "HTMLView",
      "description": "",
      "description_tooltip": null,
      "layout": "IPY_MODEL_b637f777db6647b69494fb4227ec3b62",
      "placeholder": "​",
      "style": "IPY_MODEL_6ad43e5f3d0f47caa3b4234a3057ce4e",
      "value": " 135108608/? [00:13&lt;00:00, 13826641.33it/s]"
     }
    },
    "2f14d3852e694bedbc90cdd13f346f89": {
     "model_module": "@jupyter-widgets/base",
     "model_module_version": "1.2.0",
     "model_name": "LayoutModel",
     "state": {
      "_model_module": "@jupyter-widgets/base",
      "_model_module_version": "1.2.0",
      "_model_name": "LayoutModel",
      "_view_count": null,
      "_view_module": "@jupyter-widgets/base",
      "_view_module_version": "1.2.0",
      "_view_name": "LayoutView",
      "align_content": null,
      "align_items": null,
      "align_self": null,
      "border": null,
      "bottom": null,
      "display": null,
      "flex": null,
      "flex_flow": null,
      "grid_area": null,
      "grid_auto_columns": null,
      "grid_auto_flow": null,
      "grid_auto_rows": null,
      "grid_column": null,
      "grid_gap": null,
      "grid_row": null,
      "grid_template_areas": null,
      "grid_template_columns": null,
      "grid_template_rows": null,
      "height": null,
      "justify_content": null,
      "justify_items": null,
      "left": null,
      "margin": null,
      "max_height": null,
      "max_width": null,
      "min_height": null,
      "min_width": null,
      "object_fit": null,
      "object_position": null,
      "order": null,
      "overflow": null,
      "overflow_x": null,
      "overflow_y": null,
      "padding": null,
      "right": null,
      "top": null,
      "visibility": null,
      "width": null
     }
    },
    "45f9516effd742dbad26dc4f60f8a1ef": {
     "model_module": "@jupyter-widgets/controls",
     "model_module_version": "1.5.0",
     "model_name": "DescriptionStyleModel",
     "state": {
      "_model_module": "@jupyter-widgets/controls",
      "_model_module_version": "1.5.0",
      "_model_name": "DescriptionStyleModel",
      "_view_count": null,
      "_view_module": "@jupyter-widgets/base",
      "_view_module_version": "1.2.0",
      "_view_name": "StyleView",
      "description_width": ""
     }
    },
    "4df4d55302204eb6aab25d3c992b8b4b": {
     "model_module": "@jupyter-widgets/controls",
     "model_module_version": "1.5.0",
     "model_name": "HTMLModel",
     "state": {
      "_dom_classes": [],
      "_model_module": "@jupyter-widgets/controls",
      "_model_module_version": "1.5.0",
      "_model_name": "HTMLModel",
      "_view_count": null,
      "_view_module": "@jupyter-widgets/controls",
      "_view_module_version": "1.5.0",
      "_view_name": "HTMLView",
      "description": "",
      "description_tooltip": null,
      "layout": "IPY_MODEL_2f14d3852e694bedbc90cdd13f346f89",
      "placeholder": "​",
      "style": "IPY_MODEL_45f9516effd742dbad26dc4f60f8a1ef",
      "value": ""
     }
    },
    "6ad43e5f3d0f47caa3b4234a3057ce4e": {
     "model_module": "@jupyter-widgets/controls",
     "model_module_version": "1.5.0",
     "model_name": "DescriptionStyleModel",
     "state": {
      "_model_module": "@jupyter-widgets/controls",
      "_model_module_version": "1.5.0",
      "_model_name": "DescriptionStyleModel",
      "_view_count": null,
      "_view_module": "@jupyter-widgets/base",
      "_view_module_version": "1.2.0",
      "_view_name": "StyleView",
      "description_width": ""
     }
    },
    "6f72863b32b445ae97773b279b08ec1e": {
     "model_module": "@jupyter-widgets/base",
     "model_module_version": "1.2.0",
     "model_name": "LayoutModel",
     "state": {
      "_model_module": "@jupyter-widgets/base",
      "_model_module_version": "1.2.0",
      "_model_name": "LayoutModel",
      "_view_count": null,
      "_view_module": "@jupyter-widgets/base",
      "_view_module_version": "1.2.0",
      "_view_name": "LayoutView",
      "align_content": null,
      "align_items": null,
      "align_self": null,
      "border": null,
      "bottom": null,
      "display": null,
      "flex": null,
      "flex_flow": null,
      "grid_area": null,
      "grid_auto_columns": null,
      "grid_auto_flow": null,
      "grid_auto_rows": null,
      "grid_column": null,
      "grid_gap": null,
      "grid_row": null,
      "grid_template_areas": null,
      "grid_template_columns": null,
      "grid_template_rows": null,
      "height": null,
      "justify_content": null,
      "justify_items": null,
      "left": null,
      "margin": null,
      "max_height": null,
      "max_width": null,
      "min_height": null,
      "min_width": null,
      "object_fit": null,
      "object_position": null,
      "order": null,
      "overflow": null,
      "overflow_x": null,
      "overflow_y": null,
      "padding": null,
      "right": null,
      "top": null,
      "visibility": null,
      "width": null
     }
    },
    "7b0ae3c834f04267ada10b38b0503662": {
     "model_module": "@jupyter-widgets/base",
     "model_module_version": "1.2.0",
     "model_name": "LayoutModel",
     "state": {
      "_model_module": "@jupyter-widgets/base",
      "_model_module_version": "1.2.0",
      "_model_name": "LayoutModel",
      "_view_count": null,
      "_view_module": "@jupyter-widgets/base",
      "_view_module_version": "1.2.0",
      "_view_name": "LayoutView",
      "align_content": null,
      "align_items": null,
      "align_self": null,
      "border": null,
      "bottom": null,
      "display": null,
      "flex": null,
      "flex_flow": null,
      "grid_area": null,
      "grid_auto_columns": null,
      "grid_auto_flow": null,
      "grid_auto_rows": null,
      "grid_column": null,
      "grid_gap": null,
      "grid_row": null,
      "grid_template_areas": null,
      "grid_template_columns": null,
      "grid_template_rows": null,
      "height": null,
      "justify_content": null,
      "justify_items": null,
      "left": null,
      "margin": null,
      "max_height": null,
      "max_width": null,
      "min_height": null,
      "min_width": null,
      "object_fit": null,
      "object_position": null,
      "order": null,
      "overflow": null,
      "overflow_x": null,
      "overflow_y": null,
      "padding": null,
      "right": null,
      "top": null,
      "visibility": null,
      "width": null
     }
    },
    "90c1d4524ee34913a2f0281de4b4f9a9": {
     "model_module": "@jupyter-widgets/controls",
     "model_module_version": "1.5.0",
     "model_name": "ProgressStyleModel",
     "state": {
      "_model_module": "@jupyter-widgets/controls",
      "_model_module_version": "1.5.0",
      "_model_name": "ProgressStyleModel",
      "_view_count": null,
      "_view_module": "@jupyter-widgets/base",
      "_view_module_version": "1.2.0",
      "_view_name": "StyleView",
      "bar_color": null,
      "description_width": ""
     }
    },
    "b637f777db6647b69494fb4227ec3b62": {
     "model_module": "@jupyter-widgets/base",
     "model_module_version": "1.2.0",
     "model_name": "LayoutModel",
     "state": {
      "_model_module": "@jupyter-widgets/base",
      "_model_module_version": "1.2.0",
      "_model_name": "LayoutModel",
      "_view_count": null,
      "_view_module": "@jupyter-widgets/base",
      "_view_module_version": "1.2.0",
      "_view_name": "LayoutView",
      "align_content": null,
      "align_items": null,
      "align_self": null,
      "border": null,
      "bottom": null,
      "display": null,
      "flex": null,
      "flex_flow": null,
      "grid_area": null,
      "grid_auto_columns": null,
      "grid_auto_flow": null,
      "grid_auto_rows": null,
      "grid_column": null,
      "grid_gap": null,
      "grid_row": null,
      "grid_template_areas": null,
      "grid_template_columns": null,
      "grid_template_rows": null,
      "height": null,
      "justify_content": null,
      "justify_items": null,
      "left": null,
      "margin": null,
      "max_height": null,
      "max_width": null,
      "min_height": null,
      "min_width": null,
      "object_fit": null,
      "object_position": null,
      "order": null,
      "overflow": null,
      "overflow_x": null,
      "overflow_y": null,
      "padding": null,
      "right": null,
      "top": null,
      "visibility": null,
      "width": null
     }
    },
    "c99f7da32eaa4212af5881c64622cd7f": {
     "model_module": "@jupyter-widgets/controls",
     "model_module_version": "1.5.0",
     "model_name": "HBoxModel",
     "state": {
      "_dom_classes": [],
      "_model_module": "@jupyter-widgets/controls",
      "_model_module_version": "1.5.0",
      "_model_name": "HBoxModel",
      "_view_count": null,
      "_view_module": "@jupyter-widgets/controls",
      "_view_module_version": "1.5.0",
      "_view_name": "HBoxView",
      "box_style": "",
      "children": [
       "IPY_MODEL_4df4d55302204eb6aab25d3c992b8b4b",
       "IPY_MODEL_216d53adc5a94ed8a9fba165a063cf86",
       "IPY_MODEL_250d9343dc2842f591935bf4e8f11c76"
      ],
      "layout": "IPY_MODEL_7b0ae3c834f04267ada10b38b0503662"
     }
    }
   }
  }
 },
 "nbformat": 4,
 "nbformat_minor": 1
}
