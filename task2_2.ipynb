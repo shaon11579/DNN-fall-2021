{
 "cells": [
  {
   "cell_type": "markdown",
   "metadata": {
    "id": "_cJUQbAjV8fp"
   },
   "source": [
    "## Deep Convolutional Generative Adversarial Network"
   ]
  },
  {
   "cell_type": "code",
   "execution_count": null,
   "metadata": {
    "executionInfo": {
     "elapsed": 2489,
     "status": "ok",
     "timestamp": 1637867312508,
     "user": {
      "displayName": "Lokesh Das",
      "photoUrl": "https://lh3.googleusercontent.com/a-/AOh14Gjw3b60ubMiSG1ewSk6HS4odm47Tv7_4eMohXcJAg=s64",
      "userId": "07729187777678404563"
     },
     "user_tz": 360
    },
    "id": "e7dcKtuoJIuz"
   },
   "outputs": [],
   "source": [
    "import numpy as np\n",
    "import tensorflow as tf\n",
    "from tensorflow.keras.datasets import cifar10"
   ]
  },
  {
   "cell_type": "code",
   "execution_count": null,
   "metadata": {
    "colab": {
     "base_uri": "https://localhost:8080/"
    },
    "executionInfo": {
     "elapsed": 13317,
     "status": "ok",
     "timestamp": 1637867325820,
     "user": {
      "displayName": "Lokesh Das",
      "photoUrl": "https://lh3.googleusercontent.com/a-/AOh14Gjw3b60ubMiSG1ewSk6HS4odm47Tv7_4eMohXcJAg=s64",
      "userId": "07729187777678404563"
     },
     "user_tz": 360
    },
    "id": "dQG3AyQxJ-Qm",
    "outputId": "02d33625-706d-459f-933e-c80bd4029916",
    "scrolled": true
   },
   "outputs": [],
   "source": [
    "# Load dataset\n",
    "(trainX, trainy), (testX, testy) = cifar10.load_data()\n",
    "print('Train', trainX.shape, trainy.shape)\n",
    "print('Test', testX.shape, testy.shape)"
   ]
  },
  {
   "cell_type": "markdown",
   "metadata": {
    "id": "1sFIRPNDKdha"
   },
   "source": [
    "Define and Train the Discriminator Model"
   ]
  },
  {
   "cell_type": "code",
   "execution_count": null,
   "metadata": {
    "executionInfo": {
     "elapsed": 266,
     "status": "ok",
     "timestamp": 1637887237533,
     "user": {
      "displayName": "Lokesh Das",
      "photoUrl": "https://lh3.googleusercontent.com/a-/AOh14Gjw3b60ubMiSG1ewSk6HS4odm47Tv7_4eMohXcJAg=s64",
      "userId": "07729187777678404563"
     },
     "user_tz": 360
    },
    "id": "tD0Yu1SzKPcq"
   },
   "outputs": [],
   "source": [
    "# example of a dcgan on cifar10\n",
    "from numpy import expand_dims\n",
    "from numpy import zeros\n",
    "from numpy import ones\n",
    "from numpy import vstack\n",
    "from numpy.random import randn\n",
    "from numpy.random import randint\n",
    "from tensorflow.keras.datasets.cifar10 import load_data\n",
    "from tensorflow.keras.optimizers import Adam\n",
    "from tensorflow.keras.models import Sequential\n",
    "from tensorflow.keras.layers import Dense\n",
    "from tensorflow.keras.layers import Reshape\n",
    "from tensorflow.keras.layers import Flatten\n",
    "from tensorflow.keras.layers import Conv2D\n",
    "from tensorflow.keras.layers import Conv2DTranspose\n",
    "from tensorflow.keras.layers import LeakyReLU\n",
    "from tensorflow.keras.layers import Dropout\n",
    "from matplotlib import pyplot\n",
    " "
   ]
  },
  {
   "cell_type": "code",
   "execution_count": null,
   "metadata": {
    "executionInfo": {
     "elapsed": 304,
     "status": "ok",
     "timestamp": 1637887240272,
     "user": {
      "displayName": "Lokesh Das",
      "photoUrl": "https://lh3.googleusercontent.com/a-/AOh14Gjw3b60ubMiSG1ewSk6HS4odm47Tv7_4eMohXcJAg=s64",
      "userId": "07729187777678404563"
     },
     "user_tz": 360
    },
    "id": "Po6LCHVAKjNv"
   },
   "outputs": [],
   "source": [
    "# define the standalone discriminator model\n",
    "def define_discriminator(in_shape=(32,32,3)):\n",
    "\tmodel = Sequential()\n",
    "\t# normal\n",
    "\tmodel.add(Conv2D(64, (3,3), padding='same', input_shape=in_shape))\n",
    "\tmodel.add(LeakyReLU(alpha=0.2))\n",
    "\t# downsample\n",
    "\tmodel.add(Conv2D(128, (3,3), strides=(2,2), padding='same'))\n",
    "\tmodel.add(LeakyReLU(alpha=0.2))\n",
    "\t# downsample\n",
    "\tmodel.add(Conv2D(128, (3,3), strides=(2,2), padding='same'))\n",
    "\tmodel.add(LeakyReLU(alpha=0.2))\n",
    "\t# downsample\n",
    "\tmodel.add(Conv2D(256, (3,3), strides=(2,2), padding='same'))\n",
    "\tmodel.add(LeakyReLU(alpha=0.2))\n",
    "\t# classifier\n",
    "\tmodel.add(Flatten())\n",
    "\tmodel.add(Dropout(0.4))\n",
    "\tmodel.add(Dense(1, activation='sigmoid'))\n",
    "\t# compile model\n",
    "\topt = Adam(learning_rate=0.0002, beta_1=0.5)\n",
    "\tmodel.compile(loss='binary_crossentropy', optimizer=opt, metrics=['accuracy'])\n",
    "\treturn model"
   ]
  },
  {
   "cell_type": "code",
   "execution_count": null,
   "metadata": {
    "executionInfo": {
     "elapsed": 306,
     "status": "ok",
     "timestamp": 1637887262290,
     "user": {
      "displayName": "Lokesh Das",
      "photoUrl": "https://lh3.googleusercontent.com/a-/AOh14Gjw3b60ubMiSG1ewSk6HS4odm47Tv7_4eMohXcJAg=s64",
      "userId": "07729187777678404563"
     },
     "user_tz": 360
    },
    "id": "bgud_Fl5Li3T"
   },
   "outputs": [],
   "source": [
    "# define the standalone generator model\n",
    "def define_generator(latent_dim):\n",
    "\tmodel = Sequential()\n",
    "\t# foundation for 4x4 image\n",
    "\tn_nodes = 256 * 4 * 4\n",
    "\tmodel.add(Dense(n_nodes, input_dim=latent_dim))\n",
    "\tmodel.add(LeakyReLU(alpha=0.2))\n",
    "\tmodel.add(Reshape((4, 4, 256)))\n",
    "\t# upsample to 8x8\n",
    "\tmodel.add(Conv2DTranspose(128, (4,4), strides=(2,2), padding='same'))\n",
    "\tmodel.add(LeakyReLU(alpha=0.2))\n",
    "\t# upsample to 16x16\n",
    "\tmodel.add(Conv2DTranspose(128, (4,4), strides=(2,2), padding='same'))\n",
    "\tmodel.add(LeakyReLU(alpha=0.2))\n",
    "\tmodel.add(Conv2DTranspose(128, (4,4), strides=(2,2), padding='same'))\n",
    "\tmodel.add(LeakyReLU(alpha=0.2))\n",
    "\tmodel.add(Conv2D(3, (3,3), activation='tanh', padding='same'))\n",
    "    return model"
   ]
  },
  {
   "cell_type": "code",
   "execution_count": null,
   "metadata": {
    "executionInfo": {
     "elapsed": 312,
     "status": "ok",
     "timestamp": 1637887263726,
     "user": {
      "displayName": "Lokesh Das",
      "photoUrl": "https://lh3.googleusercontent.com/a-/AOh14Gjw3b60ubMiSG1ewSk6HS4odm47Tv7_4eMohXcJAg=s64",
      "userId": "07729187777678404563"
     },
     "user_tz": 360
    },
    "id": "kbyBUo_kL0xk"
   },
   "outputs": [],
   "source": [
    "# define the combined generator and discriminator model, for updating the generator\n",
    "def define_gan(g_model, d_model):\n",
    "\t# make weights in the discriminator not trainable\n",
    "\td_model.trainable = False\n",
    "\t# connect them\n",
    "\tmodel = Sequential()\n",
    "\t# add generator\n",
    "\tmodel.add(g_model)\n",
    "\t# add the discriminator\n",
    "\tmodel.add(d_model)\n",
    "\t# compile model\n",
    "\topt = Adam(learning_rate=0.0002, beta_1=0.5)\n",
    "\tmodel.compile(loss='binary_crossentropy', optimizer=opt)\n",
    "\treturn model"
   ]
  },
  {
   "cell_type": "code",
   "execution_count": null,
   "metadata": {
    "executionInfo": {
     "elapsed": 280,
     "status": "ok",
     "timestamp": 1637887265877,
     "user": {
      "displayName": "Lokesh Das",
      "photoUrl": "https://lh3.googleusercontent.com/a-/AOh14Gjw3b60ubMiSG1ewSk6HS4odm47Tv7_4eMohXcJAg=s64",
      "userId": "07729187777678404563"
     },
     "user_tz": 360
    },
    "id": "1OxcMgLYL3oC"
   },
   "outputs": [],
   "source": [
    "# load and prepare cifar10 training images\n",
    "def load_real_samples():\n",
    "\t# load cifar10 dataset\n",
    "\t(trainX, _), (_, _) = load_data()\n",
    "\t# convert from unsigned ints to floats\n",
    "\tX = trainX.astype('float32')\n",
    "\t# scale from [0,255] to [-1,1]\n",
    "\tX = (X - 127.5) / 127.5\n",
    "\treturn X\n",
    " "
   ]
  },
  {
   "cell_type": "code",
   "execution_count": null,
   "metadata": {
    "executionInfo": {
     "elapsed": 275,
     "status": "ok",
     "timestamp": 1637887267613,
     "user": {
      "displayName": "Lokesh Das",
      "photoUrl": "https://lh3.googleusercontent.com/a-/AOh14Gjw3b60ubMiSG1ewSk6HS4odm47Tv7_4eMohXcJAg=s64",
      "userId": "07729187777678404563"
     },
     "user_tz": 360
    },
    "id": "2djfCS2LL5Xw"
   },
   "outputs": [],
   "source": [
    "# select real samples\n",
    "def generate_real_samples(dataset, n_samples):\n",
    "\t# choose random instances\n",
    "\tix = randint(0, dataset.shape[0], n_samples)\n",
    "\t# retrieve selected images\n",
    "\tX = dataset[ix]\n",
    "\t# generate 'real' class labels (1)\n",
    "\ty = ones((n_samples, 1))\n",
    "\treturn X, y"
   ]
  },
  {
   "cell_type": "code",
   "execution_count": null,
   "metadata": {
    "executionInfo": {
     "elapsed": 268,
     "status": "ok",
     "timestamp": 1637887269476,
     "user": {
      "displayName": "Lokesh Das",
      "photoUrl": "https://lh3.googleusercontent.com/a-/AOh14Gjw3b60ubMiSG1ewSk6HS4odm47Tv7_4eMohXcJAg=s64",
      "userId": "07729187777678404563"
     },
     "user_tz": 360
    },
    "id": "s-RwX_AEL6JS"
   },
   "outputs": [],
   "source": [
    "# generate points in latent space as input for the generator\n",
    "def generate_latent_points(latent_dim, n_samples):\n",
    "\t# generate points in the latent space\n",
    "\tx_input = randn(latent_dim * n_samples)\n",
    "\t# reshape into a batch of inputs for the network\n",
    "\tx_input = x_input.reshape(n_samples, latent_dim)\n",
    "\treturn x_input"
   ]
  },
  {
   "cell_type": "code",
   "execution_count": null,
   "metadata": {
    "executionInfo": {
     "elapsed": 270,
     "status": "ok",
     "timestamp": 1637887271062,
     "user": {
      "displayName": "Lokesh Das",
      "photoUrl": "https://lh3.googleusercontent.com/a-/AOh14Gjw3b60ubMiSG1ewSk6HS4odm47Tv7_4eMohXcJAg=s64",
      "userId": "07729187777678404563"
     },
     "user_tz": 360
    },
    "id": "bCZVm5HIL8jD"
   },
   "outputs": [],
   "source": [
    "# use the generator to generate n fake examples, with class labels\n",
    "def generate_fake_samples(g_model, latent_dim, n_samples):\n",
    "\t# generate points in latent space\n",
    "\tx_input = generate_latent_points(latent_dim, n_samples)\n",
    "\t# predict outputs\n",
    "\tX = g_model.predict(x_input)\n",
    "\t# create 'fake' class labels (0)\n",
    "\ty = zeros((n_samples, 1))\n",
    "\treturn X, y"
   ]
  },
  {
   "cell_type": "code",
   "execution_count": null,
   "metadata": {
    "executionInfo": {
     "elapsed": 253,
     "status": "ok",
     "timestamp": 1637887272950,
     "user": {
      "displayName": "Lokesh Das",
      "photoUrl": "https://lh3.googleusercontent.com/a-/AOh14Gjw3b60ubMiSG1ewSk6HS4odm47Tv7_4eMohXcJAg=s64",
      "userId": "07729187777678404563"
     },
     "user_tz": 360
    },
    "id": "JI8GaZArL-7Y"
   },
   "outputs": [],
   "source": [
    "# create and save a plot of generated images\n",
    "def save_plot(examples, epoch, n=7):\n",
    "\t# scale from [-1,1] to [0,1]\n",
    "\texamples = (examples + 1) / 2.0\n",
    "\t# plot images\n",
    "\tfor i in range(n * n):\n",
    "\t\t# define subplot\n",
    "\t\tpyplot.subplot(n, n, 1 + i)\n",
    "\t\t# turn off axis\n",
    "\t\tpyplot.axis('off')\n",
    "\t\t# plot raw pixel data\n",
    "\t\tpyplot.imshow(examples[i])\n",
    "\t# save plot to file\n",
    "\tfilename = 'generated_plot_e%03d.png' % (epoch+1)\n",
    "\tpyplot.savefig(filename)\n",
    "\tpyplot.close()"
   ]
  },
  {
   "cell_type": "code",
   "execution_count": null,
   "metadata": {
    "executionInfo": {
     "elapsed": 268,
     "status": "ok",
     "timestamp": 1637887274788,
     "user": {
      "displayName": "Lokesh Das",
      "photoUrl": "https://lh3.googleusercontent.com/a-/AOh14Gjw3b60ubMiSG1ewSk6HS4odm47Tv7_4eMohXcJAg=s64",
      "userId": "07729187777678404563"
     },
     "user_tz": 360
    },
    "id": "h9BDL5wZMEBs"
   },
   "outputs": [],
   "source": [
    "# evaluate the discriminator, plot generated images, save generator model\n",
    "def summarize_performance(epoch, g_model, d_model, dataset, latent_dim, n_samples=150):\n",
    "\t# prepare real samples\n",
    "\tX_real, y_real = generate_real_samples(dataset, n_samples)\n",
    "\t# evaluate discriminator on real examples\n",
    "\t_, acc_real = d_model.evaluate(X_real, y_real, verbose=0)\n",
    "\t# prepare fake examples\n",
    "\tx_fake, y_fake = generate_fake_samples(g_model, latent_dim, n_samples)\n",
    "\t# evaluate discriminator on fake examples\n",
    "\t_, acc_fake = d_model.evaluate(x_fake, y_fake, verbose=0)\n",
    "\t# summarize discriminator performance\n",
    "\tprint('>Accuracy real: %.0f%%, fake: %.0f%%' % (acc_real*100, acc_fake*100))\n",
    "\t# save plot\n",
    "\tsave_plot(x_fake, epoch)\n",
    "\t# save the generator model tile file\n",
    "\tfilename = 'generator_model_%03d.h5' % (epoch+1)\n",
    "\tg_model.save(filename)\n"
   ]
  },
  {
   "cell_type": "code",
   "execution_count": null,
   "metadata": {
    "executionInfo": {
     "elapsed": 285,
     "status": "ok",
     "timestamp": 1637887276611,
     "user": {
      "displayName": "Lokesh Das",
      "photoUrl": "https://lh3.googleusercontent.com/a-/AOh14Gjw3b60ubMiSG1ewSk6HS4odm47Tv7_4eMohXcJAg=s64",
      "userId": "07729187777678404563"
     },
     "user_tz": 360
    },
    "id": "_Q_nOz6lqUew"
   },
   "outputs": [],
   "source": [
    "# Loss function\n",
    "def ssim_loss(y_true, y_pred):\n",
    "    return 1 - tf.reduce_mean(tf.image.ssim(y_true, y_pred, 2.0)).numpy()\n"
   ]
  },
  {
   "cell_type": "code",
   "execution_count": null,
   "metadata": {
    "executionInfo": {
     "elapsed": 305,
     "status": "ok",
     "timestamp": 1637889369096,
     "user": {
      "displayName": "Lokesh Das",
      "photoUrl": "https://lh3.googleusercontent.com/a-/AOh14Gjw3b60ubMiSG1ewSk6HS4odm47Tv7_4eMohXcJAg=s64",
      "userId": "07729187777678404563"
     },
     "user_tz": 360
    },
    "id": "3zh08lecsScS"
   },
   "outputs": [],
   "source": [
    "def train_mine(g_model, d_model, gan_model, dataset, latent_dim, n_epochs=2,n_batch=256):\n",
    "  bat_per_epo = int(dataset.shape[0]/n_batch)\n",
    "  half_batch = int(n_batch/2)\n",
    "  mseLoss = 0.0\n",
    "  ssimLoss = 0.0\n",
    "  for i in range(n_epochs):\n",
    "    for j in range(bat_per_epo):\n",
    "      X_real, y_real = generate_real_samples(dataset, half_batch)\n",
    "      d_loss1, _ = d_model.train_on_batch(X_real, y_real)\n",
    "      X_fake, y_fake = generate_fake_samples(g_model, latent_dim, half_batch)\n",
    "      d_loss2, _ = d_model.train_on_batch(X_fake, y_fake)\n",
    "      X_gan = generate_latent_points(latent_dim, n_batch)\n",
    "      y_gan = ones((n_batch, 1))\n",
    "      g_loss = gan_model.train_on_batch(X_gan, y_gan)\n",
    "      difference_array = np.subtract(X_real, X_fake)\n",
    "      squared_array = np.square(difference_array)\n",
    "      mseLoss = squared_array.mean()\n",
    "      #mseLoss = mse(X_real, X_gan).numpy()\n",
    "      ssimLoss = ssim_loss(X_real,X_fake)\n",
    "      if (i+1) % 10 == 0:\n",
    "        summarize_performance(i, g_model, d_model, dataset, latent_dim)"
   ]
  },
  {
   "cell_type": "code",
   "execution_count": null,
   "metadata": {
    "colab": {
     "base_uri": "https://localhost:8080/"
    },
    "executionInfo": {
     "elapsed": 1982980,
     "status": "ok",
     "timestamp": 1637891634159,
     "user": {
      "displayName": "Lokesh Das",
      "photoUrl": "https://lh3.googleusercontent.com/a-/AOh14Gjw3b60ubMiSG1ewSk6HS4odm47Tv7_4eMohXcJAg=s64",
      "userId": "07729187777678404563"
     },
     "user_tz": 360
    },
    "id": "uNqFu45aMLmA",
    "outputId": "c324ae09-959f-4ec1-fae4-63dcb59e8548"
   },
   "outputs": [],
   "source": [
    "# size of the latent space\n",
    "latent_dim = 100\n",
    "epoches= 100\n",
    "batch_size = 2048\n",
    "# create the discriminator\n",
    "d_model = define_discriminator()\n",
    "# create the generator\n",
    "g_model = define_generator(latent_dim)\n",
    "# create the gan\n",
    "gan_model = define_gan(g_model, d_model)\n",
    "# load image data\n",
    "dataset = load_real_samples()\n",
    "# train model\n",
    "train_mine(g_model, d_model, gan_model, dataset, latent_dim,epoches,batch_size)"
   ]
  },
  {
   "cell_type": "code",
   "execution_count": null,
   "metadata": {
    "colab": {
     "base_uri": "https://localhost:8080/",
     "height": 1000
    },
    "executionInfo": {
     "elapsed": 4374,
     "status": "ok",
     "timestamp": 1637892937939,
     "user": {
      "displayName": "Lokesh Das",
      "photoUrl": "https://lh3.googleusercontent.com/a-/AOh14Gjw3b60ubMiSG1ewSk6HS4odm47Tv7_4eMohXcJAg=s64",
      "userId": "07729187777678404563"
     },
     "user_tz": 360
    },
    "id": "y2wASDerMUVO",
    "outputId": "71c8b335-8c3d-4196-99bc-f469d9d0ef79"
   },
   "outputs": [],
   "source": [
    "# example of loading the generator model and generating images\n",
    "from keras.models import load_model\n",
    "from numpy.random import randn\n",
    "from matplotlib import pyplot\n",
    "\n",
    "# generate points in latent space as input for the generator\n",
    "def generate_latent_points(latent_dim, n_samples):\n",
    "\t# generate points in the latent space\n",
    "\tx_input = randn(latent_dim * n_samples)\n",
    "\t# reshape into a batch of inputs for the network\n",
    "\tx_input = x_input.reshape(n_samples, latent_dim)\n",
    "\treturn x_input\n",
    "\n",
    "# plot the generated images\n",
    "def create_plot(examples, n):\n",
    "\t# plot images\n",
    "\t#pyplot.figure(figsize=(10,10))\n",
    "\tfor i in range(n*n):\n",
    "\t\t# define subplot\n",
    "\t\tpyplot.figure(figsize=(10,10))\n",
    "\t\tpyplot.subplot(n, n, 1 + i)\n",
    "\t\t# turn off axis\n",
    "\t\tpyplot.axis('off')\n",
    "\t\t# plot raw pixel data\n",
    "\t\tpyplot.imshow(examples[i, :, :])\n",
    "\t\tpyplot.savefig(\"gen_horse.png\")\n",
    "\tpyplot.show()\n",
    "\n",
    "# load model\n",
    "model = load_model('generator_model_200.h5')\n",
    "# generate images\n",
    "latent_points = generate_latent_points(100, 144)\n",
    "# generate images\n",
    "X = model.predict(latent_points)\n",
    "# scale from [-1,1] to [0,1]\n",
    "X = (X + 1) / 2.0\n",
    "# plot the result\n",
    "create_plot(X, 5)"
   ]
  }
 ],
 "metadata": {
  "accelerator": "GPU",
  "colab": {
   "collapsed_sections": [],
   "machine_shape": "hm",
   "name": "DCGAN.ipynb",
   "provenance": []
  },
  "kernelspec": {
   "display_name": "Python 3 (ipykernel)",
   "language": "python",
   "name": "python3"
  },
  "language_info": {
   "codemirror_mode": {
    "name": "ipython",
    "version": 3
   },
   "file_extension": ".py",
   "mimetype": "text/x-python",
   "name": "python",
   "nbconvert_exporter": "python",
   "pygments_lexer": "ipython3",
   "version": "3.8.12"
  },
  "widgets": {
   "application/vnd.jupyter.widget-state+json": {
    "2cda76444b024cceae1b3362664e0859": {
     "model_module": "@jupyter-widgets/base",
     "model_module_version": "1.2.0",
     "model_name": "LayoutModel",
     "state": {
      "_model_module": "@jupyter-widgets/base",
      "_model_module_version": "1.2.0",
      "_model_name": "LayoutModel",
      "_view_count": null,
      "_view_module": "@jupyter-widgets/base",
      "_view_module_version": "1.2.0",
      "_view_name": "LayoutView",
      "align_content": null,
      "align_items": null,
      "align_self": null,
      "border": null,
      "bottom": null,
      "display": null,
      "flex": null,
      "flex_flow": null,
      "grid_area": null,
      "grid_auto_columns": null,
      "grid_auto_flow": null,
      "grid_auto_rows": null,
      "grid_column": null,
      "grid_gap": null,
      "grid_row": null,
      "grid_template_areas": null,
      "grid_template_columns": null,
      "grid_template_rows": null,
      "height": null,
      "justify_content": null,
      "justify_items": null,
      "left": null,
      "margin": null,
      "max_height": null,
      "max_width": null,
      "min_height": null,
      "min_width": null,
      "object_fit": null,
      "object_position": null,
      "order": null,
      "overflow": null,
      "overflow_x": null,
      "overflow_y": null,
      "padding": null,
      "right": null,
      "top": null,
      "visibility": null,
      "width": null
     }
    },
    "35c486ff41c54e01ae277085384f417b": {
     "model_module": "@jupyter-widgets/controls",
     "model_module_version": "1.5.0",
     "model_name": "DescriptionStyleModel",
     "state": {
      "_model_module": "@jupyter-widgets/controls",
      "_model_module_version": "1.5.0",
      "_model_name": "DescriptionStyleModel",
      "_view_count": null,
      "_view_module": "@jupyter-widgets/base",
      "_view_module_version": "1.2.0",
      "_view_name": "StyleView",
      "description_width": ""
     }
    },
    "3b1df16c186c44059da9c6de113c89bb": {
     "model_module": "@jupyter-widgets/controls",
     "model_module_version": "1.5.0",
     "model_name": "DescriptionStyleModel",
     "state": {
      "_model_module": "@jupyter-widgets/controls",
      "_model_module_version": "1.5.0",
      "_model_name": "DescriptionStyleModel",
      "_view_count": null,
      "_view_module": "@jupyter-widgets/base",
      "_view_module_version": "1.2.0",
      "_view_name": "StyleView",
      "description_width": ""
     }
    },
    "53cc1c1ee51445eaa8c90c7c23f4ff9c": {
     "model_module": "@jupyter-widgets/base",
     "model_module_version": "1.2.0",
     "model_name": "LayoutModel",
     "state": {
      "_model_module": "@jupyter-widgets/base",
      "_model_module_version": "1.2.0",
      "_model_name": "LayoutModel",
      "_view_count": null,
      "_view_module": "@jupyter-widgets/base",
      "_view_module_version": "1.2.0",
      "_view_name": "LayoutView",
      "align_content": null,
      "align_items": null,
      "align_self": null,
      "border": null,
      "bottom": null,
      "display": null,
      "flex": null,
      "flex_flow": null,
      "grid_area": null,
      "grid_auto_columns": null,
      "grid_auto_flow": null,
      "grid_auto_rows": null,
      "grid_column": null,
      "grid_gap": null,
      "grid_row": null,
      "grid_template_areas": null,
      "grid_template_columns": null,
      "grid_template_rows": null,
      "height": null,
      "justify_content": null,
      "justify_items": null,
      "left": null,
      "margin": null,
      "max_height": null,
      "max_width": null,
      "min_height": null,
      "min_width": null,
      "object_fit": null,
      "object_position": null,
      "order": null,
      "overflow": null,
      "overflow_x": null,
      "overflow_y": null,
      "padding": null,
      "right": null,
      "top": null,
      "visibility": null,
      "width": null
     }
    },
    "5ef4821f808549f59b629d544988200a": {
     "model_module": "@jupyter-widgets/controls",
     "model_module_version": "1.5.0",
     "model_name": "HBoxModel",
     "state": {
      "_dom_classes": [],
      "_model_module": "@jupyter-widgets/controls",
      "_model_module_version": "1.5.0",
      "_model_name": "HBoxModel",
      "_view_count": null,
      "_view_module": "@jupyter-widgets/controls",
      "_view_module_version": "1.5.0",
      "_view_name": "HBoxView",
      "box_style": "",
      "children": [
       "IPY_MODEL_f4eea5e11a1f487d9cb174abf4ade867",
       "IPY_MODEL_b9a15a5f5b4b414aa4ba516b0f39beac",
       "IPY_MODEL_d4eef7e667cc4026b348458deb720ae5"
      ],
      "layout": "IPY_MODEL_cba9b6230bb748aab923057aec65b5a1"
     }
    },
    "b367033347724f29b8c0eca916e8d4a0": {
     "model_module": "@jupyter-widgets/base",
     "model_module_version": "1.2.0",
     "model_name": "LayoutModel",
     "state": {
      "_model_module": "@jupyter-widgets/base",
      "_model_module_version": "1.2.0",
      "_model_name": "LayoutModel",
      "_view_count": null,
      "_view_module": "@jupyter-widgets/base",
      "_view_module_version": "1.2.0",
      "_view_name": "LayoutView",
      "align_content": null,
      "align_items": null,
      "align_self": null,
      "border": null,
      "bottom": null,
      "display": null,
      "flex": null,
      "flex_flow": null,
      "grid_area": null,
      "grid_auto_columns": null,
      "grid_auto_flow": null,
      "grid_auto_rows": null,
      "grid_column": null,
      "grid_gap": null,
      "grid_row": null,
      "grid_template_areas": null,
      "grid_template_columns": null,
      "grid_template_rows": null,
      "height": null,
      "justify_content": null,
      "justify_items": null,
      "left": null,
      "margin": null,
      "max_height": null,
      "max_width": null,
      "min_height": null,
      "min_width": null,
      "object_fit": null,
      "object_position": null,
      "order": null,
      "overflow": null,
      "overflow_x": null,
      "overflow_y": null,
      "padding": null,
      "right": null,
      "top": null,
      "visibility": null,
      "width": null
     }
    },
    "b9a15a5f5b4b414aa4ba516b0f39beac": {
     "model_module": "@jupyter-widgets/controls",
     "model_module_version": "1.5.0",
     "model_name": "FloatProgressModel",
     "state": {
      "_dom_classes": [],
      "_model_module": "@jupyter-widgets/controls",
      "_model_module_version": "1.5.0",
      "_model_name": "FloatProgressModel",
      "_view_count": null,
      "_view_module": "@jupyter-widgets/controls",
      "_view_module_version": "1.5.0",
      "_view_name": "ProgressView",
      "bar_style": "success",
      "description": "",
      "description_tooltip": null,
      "layout": "IPY_MODEL_b367033347724f29b8c0eca916e8d4a0",
      "max": 135107811,
      "min": 0,
      "orientation": "horizontal",
      "style": "IPY_MODEL_fdade9d863ad4817bd0219a94495f9c0",
      "value": 135107811
     }
    },
    "cba9b6230bb748aab923057aec65b5a1": {
     "model_module": "@jupyter-widgets/base",
     "model_module_version": "1.2.0",
     "model_name": "LayoutModel",
     "state": {
      "_model_module": "@jupyter-widgets/base",
      "_model_module_version": "1.2.0",
      "_model_name": "LayoutModel",
      "_view_count": null,
      "_view_module": "@jupyter-widgets/base",
      "_view_module_version": "1.2.0",
      "_view_name": "LayoutView",
      "align_content": null,
      "align_items": null,
      "align_self": null,
      "border": null,
      "bottom": null,
      "display": null,
      "flex": null,
      "flex_flow": null,
      "grid_area": null,
      "grid_auto_columns": null,
      "grid_auto_flow": null,
      "grid_auto_rows": null,
      "grid_column": null,
      "grid_gap": null,
      "grid_row": null,
      "grid_template_areas": null,
      "grid_template_columns": null,
      "grid_template_rows": null,
      "height": null,
      "justify_content": null,
      "justify_items": null,
      "left": null,
      "margin": null,
      "max_height": null,
      "max_width": null,
      "min_height": null,
      "min_width": null,
      "object_fit": null,
      "object_position": null,
      "order": null,
      "overflow": null,
      "overflow_x": null,
      "overflow_y": null,
      "padding": null,
      "right": null,
      "top": null,
      "visibility": null,
      "width": null
     }
    },
    "d4eef7e667cc4026b348458deb720ae5": {
     "model_module": "@jupyter-widgets/controls",
     "model_module_version": "1.5.0",
     "model_name": "HTMLModel",
     "state": {
      "_dom_classes": [],
      "_model_module": "@jupyter-widgets/controls",
      "_model_module_version": "1.5.0",
      "_model_name": "HTMLModel",
      "_view_count": null,
      "_view_module": "@jupyter-widgets/controls",
      "_view_module_version": "1.5.0",
      "_view_name": "HTMLView",
      "description": "",
      "description_tooltip": null,
      "layout": "IPY_MODEL_2cda76444b024cceae1b3362664e0859",
      "placeholder": "​",
      "style": "IPY_MODEL_35c486ff41c54e01ae277085384f417b",
      "value": " 135108608/? [00:10&lt;00:00, 15834225.75it/s]"
     }
    },
    "f4eea5e11a1f487d9cb174abf4ade867": {
     "model_module": "@jupyter-widgets/controls",
     "model_module_version": "1.5.0",
     "model_name": "HTMLModel",
     "state": {
      "_dom_classes": [],
      "_model_module": "@jupyter-widgets/controls",
      "_model_module_version": "1.5.0",
      "_model_name": "HTMLModel",
      "_view_count": null,
      "_view_module": "@jupyter-widgets/controls",
      "_view_module_version": "1.5.0",
      "_view_name": "HTMLView",
      "description": "",
      "description_tooltip": null,
      "layout": "IPY_MODEL_53cc1c1ee51445eaa8c90c7c23f4ff9c",
      "placeholder": "​",
      "style": "IPY_MODEL_3b1df16c186c44059da9c6de113c89bb",
      "value": ""
     }
    },
    "fdade9d863ad4817bd0219a94495f9c0": {
     "model_module": "@jupyter-widgets/controls",
     "model_module_version": "1.5.0",
     "model_name": "ProgressStyleModel",
     "state": {
      "_model_module": "@jupyter-widgets/controls",
      "_model_module_version": "1.5.0",
      "_model_name": "ProgressStyleModel",
      "_view_count": null,
      "_view_module": "@jupyter-widgets/base",
      "_view_module_version": "1.2.0",
      "_view_name": "StyleView",
      "bar_color": null,
      "description_width": ""
     }
    }
   }
  }
 },
 "nbformat": 4,
 "nbformat_minor": 1
}
