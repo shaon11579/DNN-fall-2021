{
  "nbformat": 4,
  "nbformat_minor": 0,
  "metadata": {
    "colab": {
      "name": "Assignment 2 NN .ipynb",
      "provenance": [],
      "authorship_tag": "ABX9TyM6Q9EKMZnvcWFpCH/eiYpe",
      "include_colab_link": true
    },
    "kernelspec": {
      "name": "python3",
      "display_name": "Python 3"
    },
    "language_info": {
      "name": "python"
    },
    "accelerator": "GPU"
  },
  "cells": [
    {
      "cell_type": "markdown",
      "metadata": {
        "id": "view-in-github",
        "colab_type": "text"
      },
      "source": [
        "<a href=\"https://colab.research.google.com/github/shaon11579/DNN-fall-2021/blob/main/Assignment_2_NN_.ipynb\" target=\"_parent\"><img src=\"https://colab.research.google.com/assets/colab-badge.svg\" alt=\"Open In Colab\"/></a>"
      ]
    },
    {
      "cell_type": "code",
      "metadata": {
        "id": "eVcgpNeNY18E"
      },
      "source": [
        "import tensorflow as tf\n",
        "import matplotlib.pyplot as plt\n",
        "from tensorflow.keras.datasets import cifar10 \n",
        "from sklearn.model_selection import train_test_split\n"
      ],
      "execution_count": 24,
      "outputs": []
    },
    {
      "cell_type": "code",
      "metadata": {
        "colab": {
          "base_uri": "https://localhost:8080/",
          "height": 130
        },
        "id": "0EB6tqAdZpbU",
        "outputId": "b7d57fd3-a88a-458f-f8e6-027fa25077b0"
      },
      "source": [
        ""
      ],
      "execution_count": 3,
      "outputs": [
        {
          "output_type": "error",
          "ename": "SyntaxError",
          "evalue": "ignored",
          "traceback": [
            "\u001b[0;36m  File \u001b[0;32m\"<ipython-input-3-4f6b44ed18f3>\"\u001b[0;36m, line \u001b[0;32m2\u001b[0m\n\u001b[0;31m    class_names=[‘airplane’,’automobile’,’bird’,’cat’,’deer’,’dog’,’frog’,’horse’,’ship’,’truck’]\u001b[0m\n\u001b[0m                          ^\u001b[0m\n\u001b[0;31mSyntaxError\u001b[0m\u001b[0;31m:\u001b[0m invalid character in identifier\n"
          ]
        }
      ]
    },
    {
      "cell_type": "code",
      "metadata": {
        "colab": {
          "base_uri": "https://localhost:8080/",
          "height": 232
        },
        "id": "Yi2dAolxaY0a",
        "outputId": "d2c0e6be-43fa-4648-a7db-f63f2afd1fd4"
      },
      "source": [
        "# setting class names\n",
        "class_names=['airplane','automobile','bird','cat','deer','dog','frog','horse','ship','truck']\n",
        "\n",
        "x_train = x_train/255.0\n",
        "x_train.shape\n",
        "x_test=x_test/255.0\n",
        "x_test.shape"
      ],
      "execution_count": 16,
      "outputs": [
        {
          "output_type": "error",
          "ename": "NameError",
          "evalue": "ignored",
          "traceback": [
            "\u001b[0;31m---------------------------------------------------------------------------\u001b[0m",
            "\u001b[0;31mNameError\u001b[0m                                 Traceback (most recent call last)",
            "\u001b[0;32m<ipython-input-16-69d356610d16>\u001b[0m in \u001b[0;36m<module>\u001b[0;34m()\u001b[0m\n\u001b[1;32m      2\u001b[0m \u001b[0mclass_names\u001b[0m\u001b[0;34m=\u001b[0m\u001b[0;34m[\u001b[0m\u001b[0;34m'airplane'\u001b[0m\u001b[0;34m,\u001b[0m\u001b[0;34m'automobile'\u001b[0m\u001b[0;34m,\u001b[0m\u001b[0;34m'bird'\u001b[0m\u001b[0;34m,\u001b[0m\u001b[0;34m'cat'\u001b[0m\u001b[0;34m,\u001b[0m\u001b[0;34m'deer'\u001b[0m\u001b[0;34m,\u001b[0m\u001b[0;34m'dog'\u001b[0m\u001b[0;34m,\u001b[0m\u001b[0;34m'frog'\u001b[0m\u001b[0;34m,\u001b[0m\u001b[0;34m'horse'\u001b[0m\u001b[0;34m,\u001b[0m\u001b[0;34m'ship'\u001b[0m\u001b[0;34m,\u001b[0m\u001b[0;34m'truck'\u001b[0m\u001b[0;34m]\u001b[0m\u001b[0;34m\u001b[0m\u001b[0;34m\u001b[0m\u001b[0m\n\u001b[1;32m      3\u001b[0m \u001b[0;34m\u001b[0m\u001b[0m\n\u001b[0;32m----> 4\u001b[0;31m \u001b[0mx_train\u001b[0m \u001b[0;34m=\u001b[0m \u001b[0mx_train\u001b[0m\u001b[0;34m/\u001b[0m\u001b[0;36m255.0\u001b[0m\u001b[0;34m\u001b[0m\u001b[0;34m\u001b[0m\u001b[0m\n\u001b[0m\u001b[1;32m      5\u001b[0m \u001b[0mx_train\u001b[0m\u001b[0;34m.\u001b[0m\u001b[0mshape\u001b[0m\u001b[0;34m\u001b[0m\u001b[0;34m\u001b[0m\u001b[0m\n\u001b[1;32m      6\u001b[0m \u001b[0mx_test\u001b[0m\u001b[0;34m=\u001b[0m\u001b[0mx_test\u001b[0m\u001b[0;34m/\u001b[0m\u001b[0;36m255.0\u001b[0m\u001b[0;34m\u001b[0m\u001b[0;34m\u001b[0m\u001b[0m\n",
            "\u001b[0;31mNameError\u001b[0m: name 'x_train' is not defined"
          ]
        }
      ]
    },
    {
      "cell_type": "code",
      "metadata": {
        "colab": {
          "base_uri": "https://localhost:8080/",
          "height": 215
        },
        "id": "WsJiubqEbDC1",
        "outputId": "58f3096e-c410-41d8-9efc-a6cd71c2afb1"
      },
      "source": [
        "x_train = x_train/255.0\n",
        "x_train.shape\n",
        "x_test=x_test/255.0\n",
        "x_test.shape"
      ],
      "execution_count": 15,
      "outputs": [
        {
          "output_type": "error",
          "ename": "NameError",
          "evalue": "ignored",
          "traceback": [
            "\u001b[0;31m---------------------------------------------------------------------------\u001b[0m",
            "\u001b[0;31mNameError\u001b[0m                                 Traceback (most recent call last)",
            "\u001b[0;32m<ipython-input-15-9e98b0cdcca4>\u001b[0m in \u001b[0;36m<module>\u001b[0;34m()\u001b[0m\n\u001b[0;32m----> 1\u001b[0;31m \u001b[0mx_train\u001b[0m \u001b[0;34m=\u001b[0m \u001b[0mx_train\u001b[0m\u001b[0;34m/\u001b[0m\u001b[0;36m255.0\u001b[0m\u001b[0;34m\u001b[0m\u001b[0;34m\u001b[0m\u001b[0m\n\u001b[0m\u001b[1;32m      2\u001b[0m \u001b[0mx_train\u001b[0m\u001b[0;34m.\u001b[0m\u001b[0mshape\u001b[0m\u001b[0;34m\u001b[0m\u001b[0;34m\u001b[0m\u001b[0m\n\u001b[1;32m      3\u001b[0m \u001b[0mx_test\u001b[0m\u001b[0;34m=\u001b[0m\u001b[0mx_test\u001b[0m\u001b[0;34m/\u001b[0m\u001b[0;36m255.0\u001b[0m\u001b[0;34m\u001b[0m\u001b[0;34m\u001b[0m\u001b[0m\n\u001b[1;32m      4\u001b[0m \u001b[0mx_test\u001b[0m\u001b[0;34m.\u001b[0m\u001b[0mshape\u001b[0m\u001b[0;34m\u001b[0m\u001b[0;34m\u001b[0m\u001b[0m\n",
            "\u001b[0;31mNameError\u001b[0m: name 'x_train' is not defined"
          ]
        }
      ]
    },
    {
      "cell_type": "code",
      "metadata": {
        "id": "b0_otV7nbRkk"
      },
      "source": [
        "cifar10_model=tf.keras.models.Sequential()\n",
        "# First Layer\n",
        "cifar10_model.add(tf.keras.layers.Conv2D(filters=32,kernel_size=3,\n",
        "                                         padding=\"same\", activation=\"relu\", input_shape=[32,32,3]))"
      ],
      "execution_count": 11,
      "outputs": []
    },
    {
      "cell_type": "code",
      "metadata": {
        "id": "VSyevC4QfOrg"
      },
      "source": [
        "#MaxPoolingLayer\n",
        "cifar10_model.add(tf.keras.layers.MaxPool2D(pool_size=2,strides=2, padding='valid'))"
      ],
      "execution_count": 18,
      "outputs": []
    },
    {
      "cell_type": "code",
      "metadata": {
        "id": "fBYwWGQBfgmC"
      },
      "source": [
        "# Flattening Layer\n",
        "cifar10_model.add(tf.keras.layers.Flatten())"
      ],
      "execution_count": 19,
      "outputs": []
    },
    {
      "cell_type": "code",
      "metadata": {
        "colab": {
          "base_uri": "https://localhost:8080/",
          "height": 215
        },
        "id": "PsN_5CPHfmIB",
        "outputId": "176f21ca-ad2f-423a-a2bc-9c8f47d019d1"
      },
      "source": [
        "# Droput Layer\n",
        "cifar10_model.add(Dropout(0.2))\n",
        "# Adding the first fully connected layer\n",
        "cifar10_model.add(tf.keras.layers.Dense(units= 128,activation='relu'))"
      ],
      "execution_count": 21,
      "outputs": [
        {
          "output_type": "error",
          "ename": "NameError",
          "evalue": "ignored",
          "traceback": [
            "\u001b[0;31m---------------------------------------------------------------------------\u001b[0m",
            "\u001b[0;31mNameError\u001b[0m                                 Traceback (most recent call last)",
            "\u001b[0;32m<ipython-input-21-07e8bbf002e4>\u001b[0m in \u001b[0;36m<module>\u001b[0;34m()\u001b[0m\n\u001b[1;32m      1\u001b[0m \u001b[0;31m# Droput Layer\u001b[0m\u001b[0;34m\u001b[0m\u001b[0;34m\u001b[0m\u001b[0;34m\u001b[0m\u001b[0m\n\u001b[0;32m----> 2\u001b[0;31m \u001b[0mcifar10_model\u001b[0m\u001b[0;34m.\u001b[0m\u001b[0madd\u001b[0m\u001b[0;34m(\u001b[0m\u001b[0mDropout\u001b[0m\u001b[0;34m(\u001b[0m\u001b[0;36m0.2\u001b[0m\u001b[0;34m)\u001b[0m\u001b[0;34m)\u001b[0m\u001b[0;34m\u001b[0m\u001b[0;34m\u001b[0m\u001b[0m\n\u001b[0m\u001b[1;32m      3\u001b[0m \u001b[0;31m# Adding the first fully connected layer\u001b[0m\u001b[0;34m\u001b[0m\u001b[0;34m\u001b[0m\u001b[0;34m\u001b[0m\u001b[0m\n\u001b[1;32m      4\u001b[0m \u001b[0mcifar10_model\u001b[0m\u001b[0;34m.\u001b[0m\u001b[0madd\u001b[0m\u001b[0;34m(\u001b[0m\u001b[0mtf\u001b[0m\u001b[0;34m.\u001b[0m\u001b[0mkeras\u001b[0m\u001b[0;34m.\u001b[0m\u001b[0mlayers\u001b[0m\u001b[0;34m.\u001b[0m\u001b[0mDense\u001b[0m\u001b[0;34m(\u001b[0m\u001b[0munits\u001b[0m\u001b[0;34m=\u001b[0m \u001b[0;36m128\u001b[0m\u001b[0;34m,\u001b[0m\u001b[0mactivation\u001b[0m\u001b[0;34m=\u001b[0m\u001b[0;34m'relu'\u001b[0m\u001b[0;34m)\u001b[0m\u001b[0;34m)\u001b[0m\u001b[0;34m\u001b[0m\u001b[0;34m\u001b[0m\u001b[0m\n",
            "\u001b[0;31mNameError\u001b[0m: name 'Dropout' is not defined"
          ]
        }
      ]
    },
    {
      "cell_type": "code",
      "metadata": {
        "id": "EFFSQ4OsgXdn"
      },
      "source": [
        "import tensorflow as tf\n",
        "import matplotlib.pyplot as plt"
      ],
      "execution_count": 25,
      "outputs": []
    },
    {
      "cell_type": "code",
      "metadata": {
        "id": "OppoBnbRgtoY"
      },
      "source": [
        "from tensorflow.keras.datasets import cifar10"
      ],
      "execution_count": 26,
      "outputs": []
    },
    {
      "cell_type": "markdown",
      "metadata": {
        "id": "BoZYuecqgymX"
      },
      "source": [
        "# Loading the dataset"
      ]
    },
    {
      "cell_type": "code",
      "metadata": {
        "colab": {
          "base_uri": "https://localhost:8080/"
        },
        "id": "WnBLHe-6gwd5",
        "outputId": "b8de2324-0c98-4375-fd5b-1dd46220aa40"
      },
      "source": [
        "\n",
        "# setting class names\n",
        "class_names=['airplane','automobile','bird','cat','deer','dog','frog','horse','ship','truck']\n",
        "#loading the dataset\n",
        "(x_train,y_train),(x_test,y_test)=cifar10.load_data()"
      ],
      "execution_count": 27,
      "outputs": [
        {
          "output_type": "stream",
          "name": "stdout",
          "text": [
            "Downloading data from https://www.cs.toronto.edu/~kriz/cifar-10-python.tar.gz\n",
            "170500096/170498071 [==============================] - 6s 0us/step\n",
            "170508288/170498071 [==============================] - 6s 0us/step\n"
          ]
        }
      ]
    },
    {
      "cell_type": "markdown",
      "metadata": {
        "id": "ed8GwT65g6nw"
      },
      "source": [
        "# Normalizing the Images"
      ]
    },
    {
      "cell_type": "code",
      "metadata": {
        "colab": {
          "base_uri": "https://localhost:8080/"
        },
        "id": "jyKy6s3jg5X0",
        "outputId": "dc0679c4-58f3-4818-a05c-71284abcf9f8"
      },
      "source": [
        "\n",
        "x_train=x_train/255.0\n",
        "x_train.shape"
      ],
      "execution_count": 28,
      "outputs": [
        {
          "output_type": "execute_result",
          "data": {
            "text/plain": [
              "(50000, 32, 32, 3)"
            ]
          },
          "metadata": {},
          "execution_count": 28
        }
      ]
    },
    {
      "cell_type": "code",
      "metadata": {
        "colab": {
          "base_uri": "https://localhost:8080/"
        },
        "id": "ujcwMH8UhCmb",
        "outputId": "dbdf996d-abe3-46e8-95d1-2a30bec41b05"
      },
      "source": [
        "x_test=x_test/255.0\n",
        "x_test.shape"
      ],
      "execution_count": 29,
      "outputs": [
        {
          "output_type": "execute_result",
          "data": {
            "text/plain": [
              "(10000, 32, 32, 3)"
            ]
          },
          "metadata": {},
          "execution_count": 29
        }
      ]
    },
    {
      "cell_type": "markdown",
      "metadata": {
        "id": "lvpOXEw1hH_N"
      },
      "source": [
        "# Randomly Checking a image"
      ]
    },
    {
      "cell_type": "code",
      "metadata": {
        "colab": {
          "base_uri": "https://localhost:8080/",
          "height": 283
        },
        "id": "3Yvdi4gmhFHp",
        "outputId": "027401ce-82bd-449d-b39e-d8c91cbce5a8"
      },
      "source": [
        "plt.imshow(x_test[215])"
      ],
      "execution_count": 30,
      "outputs": [
        {
          "output_type": "execute_result",
          "data": {
            "text/plain": [
              "<matplotlib.image.AxesImage at 0x7f851121aa10>"
            ]
          },
          "metadata": {},
          "execution_count": 30
        },
        {
          "output_type": "display_data",
          "data": {
            "image/png": "[encoded data removed]",
            "text/plain": [
              "<Figure size 432x288 with 1 Axes>"
            ]
          },
          "metadata": {
            "needs_background": "light"
          }
        }
      ]
    },
    {
      "cell_type": "markdown",
      "metadata": {
        "id": "uQTsE0jyhQf0"
      },
      "source": [
        "# Building a Convolutional Neural Network"
      ]
    },
    {
      "cell_type": "code",
      "metadata": {
        "id": "DZhaO1tihNru"
      },
      "source": [
        "cifar10_model=tf.keras.models.Sequential()"
      ],
      "execution_count": 31,
      "outputs": []
    },
    {
      "cell_type": "code",
      "metadata": {
        "id": "kXV8Atv9hWHD"
      },
      "source": [
        "# First Layer\n",
        "cifar10_model.add(tf.keras.layers.Conv2D(filters=32,kernel_size=3,padding=\"same\", activation=\"relu\", input_shape=[32,32,3]))"
      ],
      "execution_count": 32,
      "outputs": []
    },
    {
      "cell_type": "code",
      "metadata": {
        "id": "XFHt7m_AhZ55"
      },
      "source": [
        "# Second Layer\n",
        "cifar10_model.add(tf.keras.layers.Conv2D(filters=32,kernel_size=3,padding=\"same\", activation=\"relu\"))"
      ],
      "execution_count": 33,
      "outputs": []
    },
    {
      "cell_type": "code",
      "metadata": {
        "id": "ERH__8c2hbAR"
      },
      "source": [
        "# Max Pooling Layer\n",
        "cifar10_model.add(tf.keras.layers.MaxPool2D(pool_size=2,strides=2,padding='valid'))"
      ],
      "execution_count": 34,
      "outputs": []
    },
    {
      "cell_type": "code",
      "metadata": {
        "id": "LtdtB1NzheHI"
      },
      "source": [
        "# Third Layer\n",
        "cifar10_model.add(tf.keras.layers.Conv2D(filters=64,kernel_size=3,padding=\"same\", activation=\"relu\"))"
      ],
      "execution_count": 35,
      "outputs": []
    },
    {
      "cell_type": "code",
      "metadata": {
        "id": "f8PNlEX9hgtm"
      },
      "source": [
        "# Fourth Layer\n",
        "cifar10_model.add(tf.keras.layers.Conv2D(filters=64,kernel_size=3,padding=\"same\", activation=\"relu\"))"
      ],
      "execution_count": 36,
      "outputs": []
    },
    {
      "cell_type": "code",
      "metadata": {
        "id": "UQXEMlI6hjGu"
      },
      "source": [
        "# Max Pooling Layer\n",
        "cifar10_model.add(tf.keras.layers.MaxPool2D(pool_size=2,strides=2,padding='valid'))"
      ],
      "execution_count": 37,
      "outputs": []
    },
    {
      "cell_type": "code",
      "metadata": {
        "id": "Mo0SQGVThlvQ"
      },
      "source": [
        "# Flattening Layer\n",
        "cifar10_model.add(tf.keras.layers.Flatten())"
      ],
      "execution_count": 38,
      "outputs": []
    },
    {
      "cell_type": "code",
      "metadata": {
        "id": "2-QUf4Gghorr"
      },
      "source": [
        "# Droput Layer\n",
        "cifar10_model.add(tf.keras.layers.Dropout(0.5,noise_shape=None,seed=None))"
      ],
      "execution_count": 39,
      "outputs": []
    },
    {
      "cell_type": "code",
      "metadata": {
        "id": "nbcYrrZohryl"
      },
      "source": [
        "# Adding the first fully connected layer\n",
        "cifar10_model.add(tf.keras.layers.Dense(units=128,activation='relu'))"
      ],
      "execution_count": 40,
      "outputs": []
    },
    {
      "cell_type": "code",
      "metadata": {
        "id": "cJIfcLkXhvB2"
      },
      "source": [
        "# Output Layer\n",
        "cifar10_model.add(tf.keras.layers.Dense(units=10,activation='softmax'))"
      ],
      "execution_count": 41,
      "outputs": []
    },
    {
      "cell_type": "code",
      "metadata": {
        "colab": {
          "base_uri": "https://localhost:8080/"
        },
        "id": "rRm5-ypuhx20",
        "outputId": "b1850285-48db-4c9d-8d2f-d5cb39a6d507"
      },
      "source": [
        "cifar10_model.summary()"
      ],
      "execution_count": 42,
      "outputs": [
        {
          "output_type": "stream",
          "name": "stdout",
          "text": [
            "Model: \"sequential_1\"\n",
            "_________________________________________________________________\n",
            "Layer (type)                 Output Shape              Param #   \n",
            "=================================================================\n",
            "conv2d_1 (Conv2D)            (None, 32, 32, 32)        896       \n",
            "_________________________________________________________________\n",
            "conv2d_2 (Conv2D)            (None, 32, 32, 32)        9248      \n",
            "_________________________________________________________________\n",
            "max_pooling2d_1 (MaxPooling2 (None, 16, 16, 32)        0         \n",
            "_________________________________________________________________\n",
            "conv2d_3 (Conv2D)            (None, 16, 16, 64)        18496     \n",
            "_________________________________________________________________\n",
            "conv2d_4 (Conv2D)            (None, 16, 16, 64)        36928     \n",
            "_________________________________________________________________\n",
            "max_pooling2d_2 (MaxPooling2 (None, 8, 8, 64)          0         \n",
            "_________________________________________________________________\n",
            "flatten_1 (Flatten)          (None, 4096)              0         \n",
            "_________________________________________________________________\n",
            "dropout (Dropout)            (None, 4096)              0         \n",
            "_________________________________________________________________\n",
            "dense (Dense)                (None, 128)               524416    \n",
            "_________________________________________________________________\n",
            "dense_1 (Dense)              (None, 10)                1290      \n",
            "=================================================================\n",
            "Total params: 591,274\n",
            "Trainable params: 591,274\n",
            "Non-trainable params: 0\n",
            "_________________________________________________________________\n"
          ]
        }
      ]
    },
    {
      "cell_type": "markdown",
      "metadata": {
        "id": "eNfZQuUjh4Fg"
      },
      "source": [
        "# Compiling the Model"
      ]
    },
    {
      "cell_type": "code",
      "metadata": {
        "id": "AXUCOsmlh5jB"
      },
      "source": [
        "cifar10_model.compile(loss=\"sparse_categorical_crossentropy\", optimizer=\"Adam\", metrics=[\"sparse_categorical_accuracy\"])"
      ],
      "execution_count": 43,
      "outputs": []
    },
    {
      "cell_type": "markdown",
      "metadata": {
        "id": "APGTGwwxiB4f"
      },
      "source": [
        "# Training the Model"
      ]
    },
    {
      "cell_type": "code",
      "metadata": {
        "colab": {
          "base_uri": "https://localhost:8080/"
        },
        "id": "oj6vwa_Lh-Sl",
        "outputId": "e6465430-358f-42ad-bb8b-b125bc7b7a2f"
      },
      "source": [
        "cifar10_model.fit(x_train,y_train,epochs=15)"
      ],
      "execution_count": 44,
      "outputs": [
        {
          "output_type": "stream",
          "name": "stdout",
          "text": [
            "Epoch 1/15\n",
            "1563/1563 [==============================] - 47s 10ms/step - loss: 1.4331 - sparse_categorical_accuracy: 0.4776\n",
            "Epoch 2/15\n",
            "1563/1563 [==============================] - 15s 10ms/step - loss: 1.0072 - sparse_categorical_accuracy: 0.6465\n",
            "Epoch 3/15\n",
            "1563/1563 [==============================] - 15s 10ms/step - loss: 0.8606 - sparse_categorical_accuracy: 0.6965\n",
            "Epoch 4/15\n",
            "1563/1563 [==============================] - 15s 10ms/step - loss: 0.7706 - sparse_categorical_accuracy: 0.7291\n",
            "Epoch 5/15\n",
            "1563/1563 [==============================] - 15s 10ms/step - loss: 0.7078 - sparse_categorical_accuracy: 0.7511\n",
            "Epoch 6/15\n",
            "1563/1563 [==============================] - 15s 10ms/step - loss: 0.6559 - sparse_categorical_accuracy: 0.7693\n",
            "Epoch 7/15\n",
            "1563/1563 [==============================] - 15s 10ms/step - loss: 0.6080 - sparse_categorical_accuracy: 0.7860\n",
            "Epoch 8/15\n",
            "1563/1563 [==============================] - 15s 10ms/step - loss: 0.5707 - sparse_categorical_accuracy: 0.7984\n",
            "Epoch 9/15\n",
            "1563/1563 [==============================] - 15s 10ms/step - loss: 0.5368 - sparse_categorical_accuracy: 0.8086\n",
            "Epoch 10/15\n",
            "1563/1563 [==============================] - 15s 10ms/step - loss: 0.5107 - sparse_categorical_accuracy: 0.8183\n",
            "Epoch 11/15\n",
            "1563/1563 [==============================] - 16s 10ms/step - loss: 0.4877 - sparse_categorical_accuracy: 0.8274\n",
            "Epoch 12/15\n",
            "1563/1563 [==============================] - 15s 10ms/step - loss: 0.4664 - sparse_categorical_accuracy: 0.8345\n",
            "Epoch 13/15\n",
            "1563/1563 [==============================] - 15s 10ms/step - loss: 0.4430 - sparse_categorical_accuracy: 0.8419\n",
            "Epoch 14/15\n",
            "1563/1563 [==============================] - 15s 10ms/step - loss: 0.4257 - sparse_categorical_accuracy: 0.8491\n",
            "Epoch 15/15\n",
            "1563/1563 [==============================] - 15s 10ms/step - loss: 0.4072 - sparse_categorical_accuracy: 0.8548\n"
          ]
        },
        {
          "output_type": "execute_result",
          "data": {
            "text/plain": [
              "<keras.callbacks.History at 0x7f8510c84910>"
            ]
          },
          "metadata": {},
          "execution_count": 44
        }
      ]
    },
    {
      "cell_type": "code",
      "metadata": {
        "colab": {
          "base_uri": "https://localhost:8080/"
        },
        "id": "R9Q9KLLUjNKs",
        "outputId": "c6b4ef22-4998-464e-9bcd-baa4864403c9"
      },
      "source": [
        "test_loss, test_accuracy = cifar10_model.evaluate(x_test, y_test)"
      ],
      "execution_count": 45,
      "outputs": [
        {
          "output_type": "stream",
          "name": "stdout",
          "text": [
            "313/313 [==============================] - 2s 5ms/step - loss: 0.6703 - sparse_categorical_accuracy: 0.7789\n"
          ]
        }
      ]
    },
    {
      "cell_type": "code",
      "metadata": {
        "colab": {
          "base_uri": "https://localhost:8080/"
        },
        "id": "6KBhgnOnjS-V",
        "outputId": "d24c52e9-4e81-43f9-f9af-7afb36cebd85"
      },
      "source": [
        "print(\"Test accuracy: {}\".format(test_accuracy))"
      ],
      "execution_count": 46,
      "outputs": [
        {
          "output_type": "stream",
          "name": "stdout",
          "text": [
            "Test accuracy: 0.7789000272750854\n"
          ]
        }
      ]
    },
    {
      "cell_type": "markdown",
      "metadata": {
        "id": "kIlCRRjzjsst"
      },
      "source": [
        "# Dataset: 15-scene\n",
        "Explore the deep learning codes for the 15-Scene dataset. Download dataset from any of the following\n",
        "links:\n",
        "https://figshare.com/articles/15-Scene_Image_Dataset/7007177\n",
        "https://www.kaggle.com/zaiyankhan/15scene-dataset\n",
        "  Download the datasets and prepare as required for training and testing. You can resize the data to 32x32 or 64x64 (depending on the availability of hardware). Use 70% of samples for training and the remaining 30% for testing per category."
      ]
    },
    {
      "cell_type": "code",
      "metadata": {
        "id": "f0Gc3ruYjvZb"
      },
      "source": [
        "import tensorflow as tf\n",
        "import numpy as np\n",
        "import matplotlib.pyplot as plt\n",
        "import numpy as np\n",
        "import cv2\n",
        "import os\n",
        "from tqdm import tqdm_notebook as tqdm # Jupyter notebook should use this"
      ],
      "execution_count": 47,
      "outputs": []
    },
    {
      "cell_type": "code",
      "metadata": {
        "id": "qwGbjzeYkR44"
      },
      "source": [
        "os.environ['CUDA_VISIBLE_DEVICES'] = '0'"
      ],
      "execution_count": 48,
      "outputs": []
    },
    {
      "cell_type": "markdown",
      "metadata": {
        "id": "UwUOXYqwkaxK"
      },
      "source": [
        "# load data "
      ]
    },
    {
      "cell_type": "code",
      "metadata": {
        "id": "wJ6dHXlDkWyx"
      },
      "source": [
        "DATASET_PATH = '../input/15-scene/15-Scene/'\n",
        "\n",
        "one_hot_lookup = np.eye(15) # 15 classes"
      ],
      "execution_count": 49,
      "outputs": []
    },
    {
      "cell_type": "code",
      "metadata": {
        "id": "67-bNfb-keLw"
      },
      "source": [
        "dataset_x = []\n",
        "dataset_y = []"
      ],
      "execution_count": 50,
      "outputs": []
    },
    {
      "cell_type": "code",
      "metadata": {
        "colab": {
          "base_uri": "https://localhost:8080/",
          "height": 130
        },
        "id": "rWfSq4-RkhGX",
        "outputId": "4a448a50-0773-4b9d-abb5-e4d8fb4b504c"
      },
      "source": [
        "for category in sorted(os.listdir('../input/15-scene/15-Scene/')\n",
        "    print('loading category: '+str(int(category)))\n",
        "    for fname in os.listdir(DATASET_PATH+category):\n",
        "        img = cv2.imread(DATASET_PATH+category+'/'+fname, 2)\n",
        "        img = cv2.resize(img, (224,224))\n",
        "        dataset_x.append(np.reshape(img, [224,224,1]))\n",
        "        dataset_y.append(np.reshape(one_hot_lookup[int(category)], [15]))"
      ],
      "execution_count": 56,
      "outputs": [
        {
          "output_type": "error",
          "ename": "SyntaxError",
          "evalue": "ignored",
          "traceback": [
            "\u001b[0;36m  File \u001b[0;32m\"<ipython-input-56-588df2c884f7>\"\u001b[0;36m, line \u001b[0;32m2\u001b[0m\n\u001b[0;31m    print('loading category: '+str(int(category)))\u001b[0m\n\u001b[0m        ^\u001b[0m\n\u001b[0;31mSyntaxError\u001b[0m\u001b[0;31m:\u001b[0m invalid syntax\n"
          ]
        }
      ]
    },
    {
      "cell_type": "code",
      "metadata": {
        "id": "SwzBFNYYlpxI"
      },
      "source": [
        "dataset_x = np.array(dataset_x)\n",
        "dataset_y = np.array(dataset_y)"
      ],
      "execution_count": 57,
      "outputs": []
    },
    {
      "cell_type": "code",
      "metadata": {
        "id": "fZIAJyZdlsRH"
      },
      "source": [
        "\"\"\"shuffle dataset\"\"\"\n",
        "p = np.random.permutation(len(dataset_x))\n",
        "dataset_x = dataset_x[p]\n",
        "dataset_y = dataset_y[p]"
      ],
      "execution_count": 58,
      "outputs": []
    },
    {
      "cell_type": "code",
      "metadata": {
        "id": "vveuQ_H2lvya"
      },
      "source": [
        "test_x = dataset_x[:int(len(dataset_x)/10)]\n",
        "test_y = dataset_y[:int(len(dataset_x)/10)]\n",
        "train_x = dataset_x[int(len(dataset_x)/10):]\n",
        "train_y = dataset_y[int(len(dataset_x)/10):]\n"
      ],
      "execution_count": 59,
      "outputs": []
    },
    {
      "cell_type": "code",
      "metadata": {
        "colab": {
          "base_uri": "https://localhost:8080/"
        },
        "id": "dkvlVCGNlynv",
        "outputId": "6d115bf6-f139-4daf-a6c5-95088c2829e2"
      },
      "source": [
        "print(train_x.shape)\n",
        "print(train_y.shape)\n",
        "print(test_x.shape)\n",
        "print(test_y.shape)"
      ],
      "execution_count": 60,
      "outputs": [
        {
          "output_type": "stream",
          "name": "stdout",
          "text": [
            "(0,)\n",
            "(0,)\n",
            "(0,)\n",
            "(0,)\n"
          ]
        }
      ]
    },
    {
      "cell_type": "code",
      "metadata": {
        "id": "6VyOQoJOl2Yc"
      },
      "source": [
        "\"\"\"fully connected layer\"\"\"\n",
        "def dense(input_tensor, input_units, units, name_scope):\n",
        "    with tf.name_scope(name_scope):\n",
        "        W = tf.Variable(tf.random_normal((input_units, units)))\n",
        "        b = tf.Variable(tf.random_normal((units,)))\n",
        "        return tf.nn.relu(tf.matmul(input_tensor, W) + b)"
      ],
      "execution_count": 61,
      "outputs": []
    },
    {
      "cell_type": "code",
      "metadata": {
        "id": "XzSw2copl5mC"
      },
      "source": [
        "\"\"\"convolution layer in 2D\"\"\"\n",
        "def conv2d(input_tensor, filter_size, in_channels, out_channels, name_scope, activation=True):\n",
        "    with tf.name_scope(name_scope):\n",
        "        kernel = tf.Variable(tf.truncated_normal([filter_size, filter_size, in_channels, out_channels], \n",
        "                                                 dtype=tf.float32, stddev=1e-1), name='weights', trainable=True)\n",
        "        conv = tf.nn.conv2d(input_tensor, kernel, [1, 1, 1, 1], padding='SAME')\n",
        "        biases = tf.Variable(tf.constant(0.0, shape=[out_channels], dtype=tf.float32), trainable=True, name='biases')\n",
        "        conv_biased = tf.nn.bias_add(conv, biases)\n",
        "        if activation == False:\n",
        "            return conv_biased # no ReLU activation\n",
        "        relu_conv = tf.nn.relu(conv_biased)\n",
        "        return relu_conv"
      ],
      "execution_count": 62,
      "outputs": []
    },
    {
      "cell_type": "code",
      "metadata": {
        "colab": {
          "base_uri": "https://localhost:8080/",
          "height": 249
        },
        "id": "MyjNcA_Ml8me",
        "outputId": "f84108a4-581e-46ae-c945-5800e1fd0c24"
      },
      "source": [
        "\"\"\"build the CNN\"\"\"\n",
        "X = tf.placeholder(tf.float32, [None, 224, 224, 1])\n",
        "Y = tf.placeholder(tf.float32, [None, 15])\n",
        "\n",
        "conv1 = conv2d(input_tensor=X, filter_size=3, in_channels=1, out_channels=16, name_scope='conv1') # output [224,224,16]\n",
        "pool1 = tf.nn.max_pool(conv1, ksize=[1, 2, 2, 1], strides=[1, 2, 2, 1], padding='SAME') # output [112,112,16]\n",
        "conv2 = conv2d(input_tensor=pool1, filter_size=3, in_channels=16, out_channels=32, name_scope='conv2')\n",
        "pool2 = tf.nn.max_pool(conv2, ksize=[1, 2, 2, 1], strides=[1, 2, 2, 1], padding='SAME') # output [56,56,32]\n",
        "conv3 = conv2d(input_tensor=pool2, filter_size=3, in_channels=32, out_channels=32, name_scope='conv3')\n",
        "pool3 = tf.nn.max_pool(conv3, ksize=[1, 2, 2, 1], strides=[1, 2, 2, 1], padding='SAME') #\n",
        "conv4 = conv2d(input_tensor=pool3, filter_size=3, in_channels=32, out_channels=32, name_scope='conv4') \n",
        "pool4 = tf.nn.max_pool(conv4, ksize=[1, 2, 2, 1], strides=[1, 2, 2, 1], padding='SAME') "
      ],
      "execution_count": 63,
      "outputs": [
        {
          "output_type": "error",
          "ename": "AttributeError",
          "evalue": "ignored",
          "traceback": [
            "\u001b[0;31m---------------------------------------------------------------------------\u001b[0m",
            "\u001b[0;31mAttributeError\u001b[0m                            Traceback (most recent call last)",
            "\u001b[0;32m<ipython-input-63-fb40560f2299>\u001b[0m in \u001b[0;36m<module>\u001b[0;34m()\u001b[0m\n\u001b[1;32m      1\u001b[0m \u001b[0;34m\"\"\"build the CNN\"\"\"\u001b[0m\u001b[0;34m\u001b[0m\u001b[0;34m\u001b[0m\u001b[0m\n\u001b[0;32m----> 2\u001b[0;31m \u001b[0mX\u001b[0m \u001b[0;34m=\u001b[0m \u001b[0mtf\u001b[0m\u001b[0;34m.\u001b[0m\u001b[0mplaceholder\u001b[0m\u001b[0;34m(\u001b[0m\u001b[0mtf\u001b[0m\u001b[0;34m.\u001b[0m\u001b[0mfloat32\u001b[0m\u001b[0;34m,\u001b[0m \u001b[0;34m[\u001b[0m\u001b[0;32mNone\u001b[0m\u001b[0;34m,\u001b[0m \u001b[0;36m224\u001b[0m\u001b[0;34m,\u001b[0m \u001b[0;36m224\u001b[0m\u001b[0;34m,\u001b[0m \u001b[0;36m1\u001b[0m\u001b[0;34m]\u001b[0m\u001b[0;34m)\u001b[0m\u001b[0;34m\u001b[0m\u001b[0;34m\u001b[0m\u001b[0m\n\u001b[0m\u001b[1;32m      3\u001b[0m \u001b[0mY\u001b[0m \u001b[0;34m=\u001b[0m \u001b[0mtf\u001b[0m\u001b[0;34m.\u001b[0m\u001b[0mplaceholder\u001b[0m\u001b[0;34m(\u001b[0m\u001b[0mtf\u001b[0m\u001b[0;34m.\u001b[0m\u001b[0mfloat32\u001b[0m\u001b[0;34m,\u001b[0m \u001b[0;34m[\u001b[0m\u001b[0;32mNone\u001b[0m\u001b[0;34m,\u001b[0m \u001b[0;36m15\u001b[0m\u001b[0;34m]\u001b[0m\u001b[0;34m)\u001b[0m\u001b[0;34m\u001b[0m\u001b[0;34m\u001b[0m\u001b[0m\n\u001b[1;32m      4\u001b[0m \u001b[0;34m\u001b[0m\u001b[0m\n\u001b[1;32m      5\u001b[0m \u001b[0mconv1\u001b[0m \u001b[0;34m=\u001b[0m \u001b[0mconv2d\u001b[0m\u001b[0;34m(\u001b[0m\u001b[0minput_tensor\u001b[0m\u001b[0;34m=\u001b[0m\u001b[0mX\u001b[0m\u001b[0;34m,\u001b[0m \u001b[0mfilter_size\u001b[0m\u001b[0;34m=\u001b[0m\u001b[0;36m3\u001b[0m\u001b[0;34m,\u001b[0m \u001b[0min_channels\u001b[0m\u001b[0;34m=\u001b[0m\u001b[0;36m1\u001b[0m\u001b[0;34m,\u001b[0m \u001b[0mout_channels\u001b[0m\u001b[0;34m=\u001b[0m\u001b[0;36m16\u001b[0m\u001b[0;34m,\u001b[0m \u001b[0mname_scope\u001b[0m\u001b[0;34m=\u001b[0m\u001b[0;34m'conv1'\u001b[0m\u001b[0;34m)\u001b[0m \u001b[0;31m# output [224,224,16]\u001b[0m\u001b[0;34m\u001b[0m\u001b[0;34m\u001b[0m\u001b[0m\n",
            "\u001b[0;31mAttributeError\u001b[0m: module 'tensorflow' has no attribute 'placeholder'"
          ]
        }
      ]
    },
    {
      "cell_type": "code",
      "metadata": {
        "id": "CT4B6cTWPSPr"
      },
      "source": [
        "\"\"\"build the CNN\"\"\"\n",
        "X = tf.placeholder(tf.float32, [None, 224, 224, 1])\n",
        "Y = tf.placeholder(tf.float32, [None, 15])\n",
        "\n",
        "conv1 = conv2d(input_tensor=X, filter_size=3, in_channels=1, out_channels=16, name_scope='conv1') # output [224,224,16]\n",
        "pool1 = tf.nn.max_pool(conv1, ksize=[1, 2, 2, 1], strides=[1, 2, 2, 1], padding='SAME') # output [112,112,16]\n",
        "conv2 = conv2d(input_tensor=pool1, filter_size=3, in_channels=16, out_channels=32, name_scope='conv2')\n",
        "pool2 = tf.nn.max_pool(conv2, ksize=[1, 2, 2, 1], strides=[1, 2, 2, 1], padding='SAME') # output [56,56,32]\n",
        "conv3 = conv2d(input_tensor=pool2, filter_size=3, in_channels=32, out_channels=32, name_scope='conv3')\n",
        "pool3 = tf.nn.max_pool(conv3, ksize=[1, 2, 2, 1], strides=[1, 2, 2, 1], padding='SAME') #\n",
        "conv4 = conv2d(input_tensor=pool3, filter_size=3, in_channels=32, out_channels=32, name_scope='conv4') \n",
        "pool4 = tf.nn.max_pool(conv4, ksize=[1, 2, 2, 1], strides=[1, 2, 2, 1], padding='SAME') # \n",
        "\n",
        "flatten = tf.reshape(pool4, [-1, 14*14*32])\n",
        "\n",
        "fc1 = tf.layers.dense(flatten, 256, activation=tf.nn.relu)\n",
        "fc2 = tf.layers.dense(fc1, 128, activation=tf.nn.relu)\n",
        "\n",
        "output = tf.layers.dense(fc2, 15, activation=None)\n",
        "\n",
        "loss = tf.losses.softmax_cross_entropy(onehot_labels=Y, logits=output)\n",
        "loss = tf.reduce_mean(loss)\n",
        "    \n",
        "optimizer = tf.train.AdamOptimizer(0.00001).minimize(loss)\n",
        "accuracy = tf.reduce_mean(tf.cast(tf.equal(tf.argmax(Y, 1), tf.argmax(output,1)), dtype=tf.float32))\n",
        "\n",
        "\n",
        "sess = tf.Session()\n",
        "init = tf.global_variables_initializer()\n",
        "sess.run(init)\n",
        "\n",
        "BATCH_SIZE = 16\n",
        "epoch = 0\n",
        "while epoch < 20:\n",
        "    total_steps = int(len(train_x)/BATCH_SIZE)\n",
        "    loss_value = 0\n",
        "    for step in tqdm(range(total_steps), desc=('Epoch '+str(epoch))):\n",
        "        \"\"\"get training batch\"\"\"\n",
        "        if step*BATCH_SIZE + BATCH_SIZE < len(train_x):\n",
        "            BATCH_X = train_x[step*BATCH_SIZE: step*BATCH_SIZE+BATCH_SIZE]\n",
        "            BATCH_Y = train_y[step*BATCH_SIZE: step*BATCH_SIZE+BATCH_SIZE]\n",
        "        else:\n",
        "            BATCH_X = train_x[step*BATCH_SIZE:]\n",
        "            BATCH_Y = train_y[step*BATCH_SIZE:]"
      ],
      "execution_count": null,
      "outputs": []
    },
    {
      "cell_type": "code",
      "metadata": {
        "id": "a1VJA7EqPYOa"
      },
      "source": [
        "\"\"\"train\"\"\"\n",
        "        [loss_value, accuracy_value, _] = sess.run([loss, accuracy, optimizer], feed_dict={X: BATCH_X, Y: BATCH_Y})\n",
        "\n",
        "    \"\"\"end of epoch\"\"\"\n",
        "    print('Epoch loss = ',loss_value, ' training accuracy = ',accuracy_value)\n",
        "    test_acc = sess.run(accuracy, feed_dict={X: test_x[:100], Y: test_y[:100]})\n",
        "    print('testing accuracy = ', test_acc)\n",
        "\n",
        "    epoch+=1"
      ],
      "execution_count": null,
      "outputs": []
    }
  ]
}