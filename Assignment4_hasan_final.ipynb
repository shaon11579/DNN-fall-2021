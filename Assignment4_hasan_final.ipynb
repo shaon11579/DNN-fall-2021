{
  "nbformat": 4,
  "nbformat_minor": 0,
  "metadata": {
    "colab": {
      "name": "Assignment4_hasan_final.ipynb",
      "provenance": [],
      "authorship_tag": "ABX9TyOIIOOjT1Z0d8ACtnZH6F4K",
      "include_colab_link": true
    },
    "kernelspec": {
      "name": "python3",
      "display_name": "Python 3"
    },
    "language_info": {
      "name": "python"
    },
    "accelerator": "GPU"
  },
  "cells": [
    {
      "cell_type": "markdown",
      "metadata": {
        "id": "view-in-github",
        "colab_type": "text"
      },
      "source": [
        "<a href=\"https://colab.research.google.com/github/shaon11579/DNN-fall-2021/blob/main/Assignment4_hasan_final.ipynb\" target=\"_parent\"><img src=\"https://colab.research.google.com/assets/colab-badge.svg\" alt=\"Open In Colab\"/></a>"
      ]
    },
    {
      "cell_type": "markdown",
      "metadata": {
        "id": "6_xPE7SVkuJV"
      },
      "source": [
        "# load libraries"
      ]
    },
    {
      "cell_type": "code",
      "metadata": {
        "id": "sjMYKW2PXsIh"
      },
      "source": [
        "\n",
        "import collections\n",
        "from tensorflow.keras.models import Sequential\n",
        "import helper\n",
        "import numpy as np\n",
        "#import project_tests as tests\n",
        "from tensorflow.keras.models import Sequential\n",
        "from tensorflow.keras.layers import Dense, SimpleRNN,GRU,LSTM, Activation\n",
        "from tensorflow.keras import optimizers\n",
        "from tensorflow.keras.wrappers.scikit_learn import KerasClassifier\n",
        "from tensorflow.keras.preprocessing.text import Tokenizer\n",
        "from tensorflow.keras.preprocessing.sequence import pad_sequences\n",
        "from tensorflow.keras.models import Model\n",
        "from tensorflow.keras.layers import GRU, Input, Dense, TimeDistributed, Activation, RepeatVector, Bidirectional\n",
        "from tensorflow.keras.layers import Embedding\n",
        "from tensorflow.keras.optimizers import Adam\n",
        "from tensorflow.keras.losses import sparse_categorical_crossentropy"
      ],
      "execution_count": 4,
      "outputs": []
    },
    {
      "cell_type": "markdown",
      "metadata": {
        "id": "SoqDa7lxk0LD"
      },
      "source": [
        "# load data"
      ]
    },
    {
      "cell_type": "code",
      "metadata": {
        "colab": {
          "base_uri": "https://localhost:8080/"
        },
        "id": "YbBAYApyXzE2",
        "outputId": "b098def1-cfc0-4596-fbb2-9afff09c81fd"
      },
      "source": [
        "with open(\"/content/small_vocab_en.txt\") as f:\n",
        "    english_sentences = f.readlines()\n",
        "\n",
        "with open(\"/content/small_vocab_fr.txt\") as f:\n",
        "    french_sentences = f.readlines()\n",
        "\n",
        "print('Dataset Loaded')"
      ],
      "execution_count": 1,
      "outputs": [
        {
          "output_type": "stream",
          "name": "stdout",
          "text": [
            "Dataset Loaded\n"
          ]
        }
      ]
    },
    {
      "cell_type": "markdown",
      "metadata": {
        "id": "P2B3tx6Qk-CG"
      },
      "source": [
        "#display sample\n"
      ]
    },
    {
      "cell_type": "code",
      "metadata": {
        "colab": {
          "base_uri": "https://localhost:8080/"
        },
        "id": "e_TlN5Pbj8m8",
        "outputId": "e48be51f-c6c8-4a5d-bc13-6f6768396483"
      },
      "source": [
        "for sample_i in range(5):\n",
        "    print('English sample {}:  {}'.format(sample_i + 1, english_sentences[sample_i]))\n",
        "    print('French sample {}:  {}\\n'.format(sample_i + 1, french_sentences[sample_i]))"
      ],
      "execution_count": 64,
      "outputs": [
        {
          "output_type": "stream",
          "name": "stdout",
          "text": [
            "English sample 1:  new jersey is sometimes quiet during autumn , and it is snowy in april .\n",
            "\n",
            "French sample 1:  new jersey est parfois calme pendant l' automne , et il est neigeux en avril .\n",
            "\n",
            "\n",
            "English sample 2:  the united states is usually chilly during july , and it is usually freezing in november .\n",
            "\n",
            "French sample 2:  les états-unis est généralement froid en juillet , et il gèle habituellement en novembre .\n",
            "\n",
            "\n",
            "English sample 3:  california is usually quiet during march , and it is usually hot in june .\n",
            "\n",
            "French sample 3:  california est généralement calme en mars , et il est généralement chaud en juin .\n",
            "\n",
            "\n",
            "English sample 4:  the united states is sometimes mild during june , and it is cold in september .\n",
            "\n",
            "French sample 4:  les états-unis est parfois légère en juin , et il fait froid en septembre .\n",
            "\n",
            "\n",
            "English sample 5:  your least liked fruit is the grape , but my least liked is the apple .\n",
            "\n",
            "French sample 5:  votre moins aimé fruit est le raisin , mais mon moins aimé est la pomme .\n",
            "\n",
            "\n"
          ]
        }
      ]
    },
    {
      "cell_type": "code",
      "metadata": {
        "colab": {
          "base_uri": "https://localhost:8080/"
        },
        "id": "qtlOD7nUYHr2",
        "outputId": "1ee2ceda-da8c-4ced-b860-9ab9851c6423"
      },
      "source": [
        "english_words_counter = collections.Counter([word for sentence in english_sentences for word in sentence.split()])\n",
        "french_words_counter = collections.Counter([word for sentence in french_sentences for word in sentence.split()])\n",
        "\n",
        "print('{} English words.'.format(len([word for sentence in english_sentences for word in sentence.split()])))\n",
        "print('{} unique English words.'.format(len(english_words_counter)))\n",
        "print('10 Most common words in the English dataset:')\n",
        "print('\"' + '\" \"'.join(list(zip(*english_words_counter.most_common(10)))[0]) + '\"')\n",
        "print()\n",
        "print('{} French words.'.format(len([word for sentence in french_sentences for word in sentence.split()])))\n",
        "print('{} unique French words.'.format(len(french_words_counter)))\n",
        "print('10 Most common words in the French dataset:')\n",
        "print('\"' + '\" \"'.join(list(zip(*french_words_counter.most_common(10)))[0]) + '\"')"
      ],
      "execution_count": 5,
      "outputs": [
        {
          "output_type": "stream",
          "name": "stdout",
          "text": [
            "1823250 English words.\n",
            "227 unique English words.\n",
            "10 Most common words in the English dataset:\n",
            "\"is\" \",\" \".\" \"in\" \"it\" \"during\" \"the\" \"but\" \"and\" \"sometimes\"\n",
            "\n",
            "1961295 French words.\n",
            "355 unique French words.\n",
            "10 Most common words in the French dataset:\n",
            "\"est\" \".\" \",\" \"en\" \"il\" \"les\" \"mais\" \"et\" \"la\" \"parfois\"\n"
          ]
        }
      ]
    },
    {
      "cell_type": "markdown",
      "metadata": {
        "id": "Lnu71lImYl1G"
      },
      "source": [
        "# Processing through tokenization"
      ]
    },
    {
      "cell_type": "code",
      "metadata": {
        "colab": {
          "base_uri": "https://localhost:8080/"
        },
        "id": "AmJzeWu-Yh7i",
        "outputId": "96937bdc-2f8f-4bfb-ee46-d2596463f771"
      },
      "source": [
        "def tokenize(x):\n",
        "    \"\"\"\n",
        "    Tokenize x\n",
        "    :param x: List of sentences/strings to be tokenized\n",
        "    :return: Tuple of (tokenized x data, tokenizer used to tokenize x)\n",
        "    \"\"\"\n",
        "    # TODO: Implement\n",
        "    x_tk = Tokenizer(char_level = False)\n",
        "    x_tk.fit_on_texts(x)\n",
        "    return x_tk.texts_to_sequences(x), x_tk\n",
        "\n",
        "# Tokenize Example output\n",
        "text_sentences = [\n",
        "    'The quick brown fox jumps over the lazy dog .',\n",
        "    'By Jove , my quick study of lexicography won a prize .',\n",
        "    'This is a short sentence .']\n",
        "text_tokenized, text_tokenizer = tokenize(text_sentences)\n",
        "print(text_tokenizer.word_index)\n",
        "print()\n",
        "for sample_i, (sent, token_sent) in enumerate(zip(text_sentences, text_tokenized)):\n",
        "    print('Sequence {} in x'.format(sample_i + 1))\n",
        "    print('  Input:  {}'.format(sent))\n",
        "    print('  Output: {}'.format(token_sent))"
      ],
      "execution_count": 6,
      "outputs": [
        {
          "output_type": "stream",
          "name": "stdout",
          "text": [
            "{'the': 1, 'quick': 2, 'a': 3, 'brown': 4, 'fox': 5, 'jumps': 6, 'over': 7, 'lazy': 8, 'dog': 9, 'by': 10, 'jove': 11, 'my': 12, 'study': 13, 'of': 14, 'lexicography': 15, 'won': 16, 'prize': 17, 'this': 18, 'is': 19, 'short': 20, 'sentence': 21}\n",
            "\n",
            "Sequence 1 in x\n",
            "  Input:  The quick brown fox jumps over the lazy dog .\n",
            "  Output: [1, 2, 4, 5, 6, 7, 1, 8, 9]\n",
            "Sequence 2 in x\n",
            "  Input:  By Jove , my quick study of lexicography won a prize .\n",
            "  Output: [10, 11, 12, 2, 13, 14, 15, 16, 3, 17]\n",
            "Sequence 3 in x\n",
            "  Input:  This is a short sentence .\n",
            "  Output: [18, 19, 3, 20, 21]\n"
          ]
        }
      ]
    },
    {
      "cell_type": "markdown",
      "metadata": {
        "id": "0iiCKZjkYrIP"
      },
      "source": [
        "# Padding"
      ]
    },
    {
      "cell_type": "code",
      "metadata": {
        "colab": {
          "base_uri": "https://localhost:8080/"
        },
        "id": "eoarpCADYpKp",
        "outputId": "4003f629-df2a-48dd-889c-1d9e02151bfc"
      },
      "source": [
        "\n",
        "def pad(x, length=None):\n",
        "    \"\"\"\n",
        "    Pad x\n",
        "    :param x: List of sequences.\n",
        "    :param length: Length to pad the sequence to.  If None, use length of longest sequence in x.\n",
        "    :return: Padded numpy array of sequences\n",
        "    \"\"\"\n",
        "    # TODO: Implement\n",
        "    if length is None:\n",
        "        length = max([len(sentence) for sentence in x])\n",
        "    return pad_sequences(x, maxlen = length, padding = 'post')\n",
        "\n",
        "#tests.test_pad(pad)\n",
        "\n",
        "# Pad Tokenized output\n",
        "test_pad = pad(text_tokenized)\n",
        "for sample_i, (token_sent, pad_sent) in enumerate(zip(text_tokenized, test_pad)):\n",
        "    print('Sequence {} in x'.format(sample_i + 1))\n",
        "    print('  Input:  {}'.format(np.array(token_sent)))\n",
        "    print('  Output: {}'.format(pad_sent))"
      ],
      "execution_count": 7,
      "outputs": [
        {
          "output_type": "stream",
          "name": "stdout",
          "text": [
            "Sequence 1 in x\n",
            "  Input:  [1 2 4 5 6 7 1 8 9]\n",
            "  Output: [1 2 4 5 6 7 1 8 9 0]\n",
            "Sequence 2 in x\n",
            "  Input:  [10 11 12  2 13 14 15 16  3 17]\n",
            "  Output: [10 11 12  2 13 14 15 16  3 17]\n",
            "Sequence 3 in x\n",
            "  Input:  [18 19  3 20 21]\n",
            "  Output: [18 19  3 20 21  0  0  0  0  0]\n"
          ]
        }
      ]
    },
    {
      "cell_type": "code",
      "metadata": {
        "colab": {
          "base_uri": "https://localhost:8080/"
        },
        "id": "rDH2_DDNYwT3",
        "outputId": "dfbf0210-634a-4726-ef07-11f3fa930b86"
      },
      "source": [
        "\n",
        "def preprocess(x, y):\n",
        "    \"\"\"\n",
        "    Preprocess x and y\n",
        "    :param x: Feature List of sentences\n",
        "    :param y: Label List of sentences\n",
        "    :return: Tuple of (Preprocessed x, Preprocessed y, x tokenizer, y tokenizer)\n",
        "    \"\"\"\n",
        "    preprocess_x, x_tk = tokenize(x)\n",
        "    preprocess_y, y_tk = tokenize(y)\n",
        "\n",
        "    preprocess_x = pad(preprocess_x)\n",
        "    preprocess_y = pad(preprocess_y)\n",
        "\n",
        "    # Keras's sparse_categorical_crossentropy function requires the labels to be in 3 dimensions\n",
        "    preprocess_y = preprocess_y.reshape(*preprocess_y.shape, 1)\n",
        "\n",
        "    return preprocess_x, preprocess_y, x_tk, y_tk\n",
        "\n",
        "preproc_english_sentences, preproc_french_sentences, english_tokenizer, french_tokenizer =\\\n",
        "    preprocess(english_sentences, french_sentences)\n",
        "    \n",
        "max_english_sequence_length = preproc_english_sentences.shape[1]\n",
        "max_french_sequence_length = preproc_french_sentences.shape[1]\n",
        "english_vocab_size = len(english_tokenizer.word_index)\n",
        "french_vocab_size = len(french_tokenizer.word_index)\n",
        "\n",
        "print('Data Preprocessed')\n",
        "print(\"Max English sentence length:\", max_english_sequence_length)\n",
        "print(\"Max French sentence length:\", max_french_sequence_length)\n",
        "print(\"English vocabulary size:\", english_vocab_size)\n",
        "print(\"French vocabulary size:\", french_vocab_size)"
      ],
      "execution_count": 8,
      "outputs": [
        {
          "output_type": "stream",
          "name": "stdout",
          "text": [
            "Data Preprocessed\n",
            "Max English sentence length: 15\n",
            "Max French sentence length: 21\n",
            "English vocabulary size: 199\n",
            "French vocabulary size: 344\n"
          ]
        }
      ]
    },
    {
      "cell_type": "markdown",
      "metadata": {
        "id": "Bl3MgQEBY2_n"
      },
      "source": [
        "# 1. Stacked (2-layer) RNN Implementation"
      ]
    },
    {
      "cell_type": "code",
      "metadata": {
        "colab": {
          "base_uri": "https://localhost:8080/"
        },
        "id": "hdk6UuL4Y0Sk",
        "outputId": "ab4146c6-24a9-42e5-ea2a-d61c192de0ae"
      },
      "source": [
        "\n",
        "def vanilla_rnn(input_shape, output_sequence_length, english_vocab_size, french_vocab_size):\n",
        "    \"\"\"\n",
        "    Build and train a basic RNN on x and y\n",
        "    :param input_shape: Tuple of input shape\n",
        "    :param output_sequence_length: Length of output sequence\n",
        "    :param english_vocab_size: Number of unique English words in the dataset\n",
        "    :param french_vocab_size: Number of unique French words in the dataset\n",
        "    :return: Keras model built, but not trained\n",
        "    \"\"\"\n",
        "    #  Build the layers\n",
        "    learning_rate = 1e-3\n",
        "    input_seq = Input(input_shape[1:])\n",
        "    \n",
        "    rnn =SimpleRNN(50,return_sequences=True)(input_seq)\n",
        "    rnn2=SimpleRNN(50,return_sequences=True)(rnn)\n",
        "    logits = TimeDistributed(Dense(french_vocab_size))(rnn2)\n",
        "    model = Model(input_seq, Activation('softmax')(logits))\n",
        "    model.compile(loss = sparse_categorical_crossentropy, \n",
        "                 optimizer = Adam(learning_rate), \n",
        "                 metrics = ['accuracy'])\n",
        "    \n",
        "    return model\n",
        "\n",
        "\n",
        "\n",
        "# Reshaping the input to work with a basic RNN\n",
        "tmp_x = pad(preproc_english_sentences, max_french_sequence_length)\n",
        "tmp_x = tmp_x.reshape((-1, preproc_french_sentences.shape[-2], 1))\n",
        "print(tmp_x.shape[1:])"
      ],
      "execution_count": 9,
      "outputs": [
        {
          "output_type": "stream",
          "name": "stdout",
          "text": [
            "(21, 1)\n"
          ]
        }
      ]
    },
    {
      "cell_type": "code",
      "metadata": {
        "colab": {
          "base_uri": "https://localhost:8080/"
        },
        "id": "IY-KA53KY_4D",
        "outputId": "fcbc19c3-2e30-4122-d553-d804ba992b06"
      },
      "source": [
        "\n",
        "def logits_to_text(logits, tokenizer):\n",
        "    \"\"\"\n",
        "    Turn logits from a neural network into text using the tokenizer\n",
        "    :param logits: Logits from a neural network\n",
        "    :param tokenizer: Keras Tokenizer fit on the labels\n",
        "    :return: String that represents the text of the logits\n",
        "    \"\"\"\n",
        "    index_to_words = {id: word for word, id in tokenizer.word_index.items()}\n",
        "    index_to_words[0] = '<PAD>'\n",
        "\n",
        "    return ' '.join([index_to_words[prediction] for prediction in np.argmax(logits, 1)])\n",
        "\n",
        "print('`logits_to_text` function loaded.')"
      ],
      "execution_count": 10,
      "outputs": [
        {
          "output_type": "stream",
          "name": "stdout",
          "text": [
            "`logits_to_text` function loaded.\n"
          ]
        }
      ]
    },
    {
      "cell_type": "code",
      "metadata": {
        "colab": {
          "base_uri": "https://localhost:8080/"
        },
        "id": "YCz3X77_ZC6l",
        "outputId": "692085f7-0ee4-4a12-90ef-b7f837df67f3"
      },
      "source": [
        "# Train the neural network\n",
        "vanilla = vanilla_rnn(tmp_x.shape,max_french_sequence_length,english_vocab_size,french_vocab_size)\n",
        "\n",
        "vanilla.summary()\n",
        "\n",
        "history=vanilla.fit(tmp_x, preproc_french_sentences, batch_size=16, epochs=30, validation_split=0.2)"
      ],
      "execution_count": 32,
      "outputs": [
        {
          "output_type": "stream",
          "name": "stdout",
          "text": [
            "Model: \"model_2\"\n",
            "_________________________________________________________________\n",
            "Layer (type)                 Output Shape              Param #   \n",
            "=================================================================\n",
            "input_5 (InputLayer)         [(None, 21, 1)]           0         \n",
            "_________________________________________________________________\n",
            "simple_rnn_2 (SimpleRNN)     (None, 21, 50)            2600      \n",
            "_________________________________________________________________\n",
            "simple_rnn_3 (SimpleRNN)     (None, 21, 50)            5050      \n",
            "_________________________________________________________________\n",
            "time_distributed_2 (TimeDist (None, 21, 344)           17544     \n",
            "_________________________________________________________________\n",
            "activation_2 (Activation)    (None, 21, 344)           0         \n",
            "=================================================================\n",
            "Total params: 25,194\n",
            "Trainable params: 25,194\n",
            "Non-trainable params: 0\n",
            "_________________________________________________________________\n",
            "Epoch 1/30\n",
            "6893/6893 [==============================] - 151s 22ms/step - loss: 1.4601 - accuracy: 0.6176 - val_loss: nan - val_accuracy: 0.6546\n",
            "Epoch 2/30\n",
            "6893/6893 [==============================] - 153s 22ms/step - loss: 1.1115 - accuracy: 0.6787 - val_loss: nan - val_accuracy: 0.7014\n",
            "Epoch 3/30\n",
            "6893/6893 [==============================] - 154s 22ms/step - loss: 0.9972 - accuracy: 0.7084 - val_loss: nan - val_accuracy: 0.7143\n",
            "Epoch 4/30\n",
            "6893/6893 [==============================] - 154s 22ms/step - loss: 0.9442 - accuracy: 0.7180 - val_loss: nan - val_accuracy: 0.7170\n",
            "Epoch 5/30\n",
            "6893/6893 [==============================] - 154s 22ms/step - loss: 0.9072 - accuracy: 0.7251 - val_loss: nan - val_accuracy: 0.7287\n",
            "Epoch 6/30\n",
            "6893/6893 [==============================] - 152s 22ms/step - loss: 0.8784 - accuracy: 0.7314 - val_loss: nan - val_accuracy: 0.7388\n",
            "Epoch 7/30\n",
            "6893/6893 [==============================] - 156s 23ms/step - loss: 0.8554 - accuracy: 0.7370 - val_loss: nan - val_accuracy: 0.7391\n",
            "Epoch 8/30\n",
            "6893/6893 [==============================] - 155s 23ms/step - loss: 0.8356 - accuracy: 0.7423 - val_loss: nan - val_accuracy: 0.7479\n",
            "Epoch 9/30\n",
            "6893/6893 [==============================] - 152s 22ms/step - loss: 0.8187 - accuracy: 0.7470 - val_loss: nan - val_accuracy: 0.7486\n",
            "Epoch 10/30\n",
            "6893/6893 [==============================] - 152s 22ms/step - loss: 0.8035 - accuracy: 0.7513 - val_loss: nan - val_accuracy: 0.7489\n",
            "Epoch 11/30\n",
            "6893/6893 [==============================] - 151s 22ms/step - loss: 0.7903 - accuracy: 0.7552 - val_loss: nan - val_accuracy: 0.7617\n",
            "Epoch 12/30\n",
            "6893/6893 [==============================] - 151s 22ms/step - loss: 0.7784 - accuracy: 0.7587 - val_loss: nan - val_accuracy: 0.7684\n",
            "Epoch 13/30\n",
            "6893/6893 [==============================] - 150s 22ms/step - loss: 0.7672 - accuracy: 0.7622 - val_loss: nan - val_accuracy: 0.7651\n",
            "Epoch 14/30\n",
            "6893/6893 [==============================] - 152s 22ms/step - loss: 0.7579 - accuracy: 0.7647 - val_loss: nan - val_accuracy: 0.7711\n",
            "Epoch 15/30\n",
            "6893/6893 [==============================] - 148s 21ms/step - loss: 0.7522 - accuracy: 0.7660 - val_loss: nan - val_accuracy: 0.7753\n",
            "Epoch 16/30\n",
            "6893/6893 [==============================] - 150s 22ms/step - loss: 0.7409 - accuracy: 0.7693 - val_loss: nan - val_accuracy: 0.7743\n",
            "Epoch 17/30\n",
            "6893/6893 [==============================] - 150s 22ms/step - loss: 0.7346 - accuracy: 0.7714 - val_loss: nan - val_accuracy: 0.7732\n",
            "Epoch 18/30\n",
            "6893/6893 [==============================] - 154s 22ms/step - loss: 0.7279 - accuracy: 0.7734 - val_loss: nan - val_accuracy: 0.7686\n",
            "Epoch 19/30\n",
            "6893/6893 [==============================] - 153s 22ms/step - loss: 0.7232 - accuracy: 0.7747 - val_loss: nan - val_accuracy: 0.7747\n",
            "Epoch 20/30\n",
            "6893/6893 [==============================] - 156s 23ms/step - loss: 0.7165 - accuracy: 0.7766 - val_loss: nan - val_accuracy: 0.7726\n",
            "Epoch 21/30\n",
            "6893/6893 [==============================] - 155s 23ms/step - loss: 0.7126 - accuracy: 0.7774 - val_loss: nan - val_accuracy: 0.7841\n",
            "Epoch 22/30\n",
            "6893/6893 [==============================] - 156s 23ms/step - loss: 0.7082 - accuracy: 0.7789 - val_loss: nan - val_accuracy: 0.7779\n",
            "Epoch 23/30\n",
            "6893/6893 [==============================] - 152s 22ms/step - loss: 0.7036 - accuracy: 0.7809 - val_loss: nan - val_accuracy: 0.7815\n",
            "Epoch 24/30\n",
            "6893/6893 [==============================] - 154s 22ms/step - loss: 0.6990 - accuracy: 0.7822 - val_loss: nan - val_accuracy: 0.7814\n",
            "Epoch 25/30\n",
            "6893/6893 [==============================] - 153s 22ms/step - loss: 0.6960 - accuracy: 0.7823 - val_loss: nan - val_accuracy: 0.7934\n",
            "Epoch 26/30\n",
            "6893/6893 [==============================] - 154s 22ms/step - loss: 0.6927 - accuracy: 0.7836 - val_loss: nan - val_accuracy: 0.7950\n",
            "Epoch 27/30\n",
            "6893/6893 [==============================] - 154s 22ms/step - loss: 0.6921 - accuracy: 0.7838 - val_loss: nan - val_accuracy: 0.7885\n",
            "Epoch 28/30\n",
            "6893/6893 [==============================] - 151s 22ms/step - loss: 0.6863 - accuracy: 0.7855 - val_loss: nan - val_accuracy: 0.7862\n",
            "Epoch 29/30\n",
            "6893/6893 [==============================] - 151s 22ms/step - loss: 0.6839 - accuracy: 0.7866 - val_loss: nan - val_accuracy: 0.7854\n",
            "Epoch 30/30\n",
            "6893/6893 [==============================] - 155s 22ms/step - loss: 0.6824 - accuracy: 0.7869 - val_loss: nan - val_accuracy: 0.7867\n"
          ]
        }
      ]
    },
    {
      "cell_type": "code",
      "metadata": {
        "colab": {
          "base_uri": "https://localhost:8080/",
          "height": 296
        },
        "id": "BcvOTel8Z3YL",
        "outputId": "7f162716-2675-4dde-c38f-326ee2a0f805"
      },
      "source": [
        "print(history.history.keys())\n",
        "# Plotting our loss charts\n",
        "import matplotlib.pyplot as plt\n",
        "\n",
        "history_dict = history.history\n",
        "loss_values = history_dict['loss']\n",
        "val_loss_values = history_dict['val_loss']\n",
        "epochs = range(1, len(loss_values) + 1)\n",
        "\n",
        "line1 = plt.plot(epochs, val_loss_values, label='Validation/Test Loss')\n",
        "line2 = plt.plot(epochs, loss_values, label='Training Loss')\n",
        "plt.setp(line1, linewidth=2.0, marker = '+', markersize=10.0)\n",
        "plt.setp(line2, linewidth=2.0, marker = '4', markersize=10.0)\n",
        "plt.xlabel('Epochs') \n",
        "plt.ylabel('Loss')\n",
        "plt.grid(True)\n",
        "plt.legend()\n",
        "plt.savefig('Loss.png', dpi = 1200)\n",
        "plt.show()"
      ],
      "execution_count": 33,
      "outputs": [
        {
          "output_type": "stream",
          "name": "stdout",
          "text": [
            "dict_keys(['loss', 'accuracy', 'val_loss', 'val_accuracy'])\n"
          ]
        },
        {
          "output_type": "display_data",
          "data": {
            "image/png": "[encoded data removed]",
            "text/plain": [
              "<Figure size 432x288 with 1 Axes>"
            ]
          },
          "metadata": {
            "needs_background": "light"
          }
        }
      ]
    },
    {
      "cell_type": "code",
      "metadata": {
        "colab": {
          "base_uri": "https://localhost:8080/",
          "height": 279
        },
        "id": "nOFjnLoNc6ak",
        "outputId": "b98cbc09-ebea-4455-dcd5-1897f1ec7bfe"
      },
      "source": [
        "# Plotting our accuracy charts\n",
        "import matplotlib.pyplot as plt\n",
        "\n",
        "history_dict = history.history\n",
        "acc_values = history_dict['accuracy']\n",
        "val_acc_values = history_dict['val_accuracy']\n",
        "epochs = range(1, len(loss_values) + 1)\n",
        "line1 = plt.plot(epochs, val_acc_values, label='Validation/Test Accuracy')\n",
        "line2 = plt.plot(epochs, acc_values, label='Training Accuracy')\n",
        "plt.setp(line1, linewidth=2.0, marker = '+', markersize=10.0)\n",
        "plt.setp(line2, linewidth=2.0, marker = '4', markersize=10.0)\n",
        "plt.xlabel('Epochs') \n",
        "plt.ylabel('Accuracy')\n",
        "plt.grid(True)\n",
        "plt.legend()\n",
        "plt.savefig('Accuracy.png', dpi = 1200)\n",
        "plt.show()"
      ],
      "execution_count": 35,
      "outputs": [
        {
          "output_type": "display_data",
          "data": {
            "image/png": "[encoded data removed]",
            "text/plain": [
              "<Figure size 432x288 with 1 Axes>"
            ]
          },
          "metadata": {
            "needs_background": "light"
          }
        }
      ]
    },
    {
      "cell_type": "code",
      "metadata": {
        "id": "7f11dfqANrDm"
      },
      "source": [
        "\n",
        "example_eng= [eng.reshape(1,21,1) for eng in tmp_x[:10]]\n",
        "french_preds=[vanilla.predict(sample) for sample in example_eng]"
      ],
      "execution_count": 36,
      "outputs": []
    },
    {
      "cell_type": "code",
      "metadata": {
        "id": "sPqSkG1aNuQC"
      },
      "source": [
        "french_trans= [logits_to_text(np.concatenate(pred), french_tokenizer) for pred in french_preds]\n",
        "# eng_sentenses= [logits_to_text(data[0], english_tokenizer) for pred in fres_preds]"
      ],
      "execution_count": 37,
      "outputs": []
    },
    {
      "cell_type": "code",
      "metadata": {
        "colab": {
          "base_uri": "https://localhost:8080/"
        },
        "id": "AZAl_bOeNxNW",
        "outputId": "49883770-288e-4f8c-bd9c-20bc994a991d"
      },
      "source": [
        "french_trans"
      ],
      "execution_count": 38,
      "outputs": [
        {
          "output_type": "execute_result",
          "data": {
            "text/plain": [
              "['new jersey est parfois chaud en mois de il est il en en <PAD> <PAD> <PAD> <PAD> <PAD> <PAD> <PAD> <PAD>',\n",
              " 'les états unis est généralement froid en juillet et il est généralement agréable en novembre <PAD> <PAD> <PAD> <PAD> <PAD> <PAD>',\n",
              " \"californie est généralement calme en l' et il est généralement chaud en printemps <PAD> <PAD> <PAD> <PAD> <PAD> <PAD> <PAD> <PAD>\",\n",
              " 'les états unis est parfois pluvieux en printemps et il est merveilleux en septembre <PAD> <PAD> <PAD> <PAD> <PAD> <PAD> <PAD>',\n",
              " 'votre fruit aimé moins est la raisin mais mon moins aimé est la pomme <PAD> <PAD> <PAD> <PAD> <PAD> <PAD> <PAD>',\n",
              " 'son fruit préféré est la pomme mais mon préféré est la raisin <PAD> <PAD> <PAD> <PAD> <PAD> <PAD> <PAD> <PAD> <PAD>',\n",
              " 'paris est chaud au décembre mais il est généralement généralement en juillet <PAD> <PAD> <PAD> <PAD> <PAD> <PAD> <PAD> <PAD> <PAD>',\n",
              " 'new jersey est occupé en printemps et il est jamais chaud en mars <PAD> <PAD> <PAD> <PAD> <PAD> <PAD> <PAD> <PAD>',\n",
              " 'notre fruit moins aimé est la citron mais moins moins aimé est la raisin <PAD> <PAD> <PAD> <PAD> <PAD> <PAD> <PAD>',\n",
              " 'les états unis est parfois occupé en janvier et il est parfois froid en novembre <PAD> <PAD> <PAD> <PAD> <PAD> <PAD>']"
            ]
          },
          "metadata": {},
          "execution_count": 38
        }
      ]
    },
    {
      "cell_type": "markdown",
      "metadata": {
        "id": "UOHukQtlbeoZ"
      },
      "source": [
        "# 2. Stacked (2-layer) LSTM Implementation"
      ]
    },
    {
      "cell_type": "code",
      "metadata": {
        "colab": {
          "base_uri": "https://localhost:8080/"
        },
        "id": "WZy0QjfDbj1_",
        "outputId": "c7a3c009-f8c8-49b9-d3a0-d22ef1e54508"
      },
      "source": [
        "def lstm_rnn(input_shape, output_sequence_length, english_vocab_size, french_vocab_size):\n",
        "    \"\"\"\n",
        "    Build and train a basic RNN on x and y\n",
        "    :param input_shape: Tuple of input shape\n",
        "    :param output_sequence_length: Length of output sequence\n",
        "    :param english_vocab_size: Number of unique English words in the dataset\n",
        "    :param french_vocab_size: Number of unique French words in the dataset\n",
        "    :return: Keras model built, but not trained\n",
        "    \"\"\"\n",
        "    # TODO: Build the layers\n",
        "    learning_rate = 1e-3\n",
        "    input_seq = Input(input_shape[1:])\n",
        "    \n",
        "    rnn =LSTM(50,return_sequences=True)(input_seq)\n",
        "    rnn2=LSTM(50,return_sequences=True)(rnn)\n",
        "    logits = TimeDistributed(Dense(french_vocab_size))(rnn2)\n",
        "    model = Model(input_seq, Activation('softmax')(logits))\n",
        "    model.compile(loss = sparse_categorical_crossentropy, \n",
        "                 optimizer = Adam(learning_rate), \n",
        "                 metrics = ['accuracy'])\n",
        "    \n",
        "    return model\n",
        "\n",
        "\n",
        "#tests.test_simple_model(simple_model)\n",
        "\n",
        "# Reshaping the input to work with a basic RNN\n",
        "tmp_x = pad(preproc_english_sentences, max_french_sequence_length)\n",
        "tmp_x = tmp_x.reshape((-1, preproc_french_sentences.shape[-2], 1))\n",
        "print(tmp_x.shape[1:])"
      ],
      "execution_count": 19,
      "outputs": [
        {
          "output_type": "stream",
          "name": "stdout",
          "text": [
            "(21, 1)\n"
          ]
        }
      ]
    },
    {
      "cell_type": "code",
      "metadata": {
        "colab": {
          "base_uri": "https://localhost:8080/"
        },
        "id": "yj6wKi2vqyba",
        "outputId": "46b1c3f6-6f45-4803-acd2-83b02f21c4dc"
      },
      "source": [
        "def logits_to_text(logits, tokenizer):\n",
        "    \"\"\"\n",
        "    Turn logits from a neural network into text using the tokenizer\n",
        "    :param logits: Logits from a neural network\n",
        "    :param tokenizer: Keras Tokenizer fit on the labels\n",
        "    :return: String that represents the text of the logits\n",
        "    \"\"\"\n",
        "    index_to_words = {id: word for word, id in tokenizer.word_index.items()}\n",
        "    index_to_words[0] = '<PAD>'\n",
        "\n",
        "    return ' '.join([index_to_words[prediction] for prediction in np.argmax(logits, 1)])\n",
        "\n",
        "print('`logits_to_text` function loaded.')"
      ],
      "execution_count": 20,
      "outputs": [
        {
          "output_type": "stream",
          "name": "stdout",
          "text": [
            "`logits_to_text` function loaded.\n"
          ]
        }
      ]
    },
    {
      "cell_type": "code",
      "metadata": {
        "colab": {
          "base_uri": "https://localhost:8080/"
        },
        "id": "95OIkzG7q2kX",
        "outputId": "d9cdf07b-2963-4a00-ee82-4cbe732188a6"
      },
      "source": [
        "# Train the neural network\n",
        "lstm = lstm_rnn(tmp_x.shape,max_french_sequence_length,english_vocab_size,french_vocab_size)\n",
        "\n",
        "lstm.summary()\n",
        "\n",
        "history=lstm.fit(tmp_x, preproc_french_sentences, batch_size=16, epochs=15, validation_split=0.2)"
      ],
      "execution_count": 46,
      "outputs": [
        {
          "output_type": "stream",
          "name": "stdout",
          "text": [
            "Model: \"model_4\"\n",
            "_________________________________________________________________\n",
            "Layer (type)                 Output Shape              Param #   \n",
            "=================================================================\n",
            "input_7 (InputLayer)         [(None, 21, 1)]           0         \n",
            "_________________________________________________________________\n",
            "lstm_2 (LSTM)                (None, 21, 50)            10400     \n",
            "_________________________________________________________________\n",
            "lstm_3 (LSTM)                (None, 21, 50)            20200     \n",
            "_________________________________________________________________\n",
            "time_distributed_4 (TimeDist (None, 21, 344)           17544     \n",
            "_________________________________________________________________\n",
            "activation_4 (Activation)    (None, 21, 344)           0         \n",
            "=================================================================\n",
            "Total params: 48,144\n",
            "Trainable params: 48,144\n",
            "Non-trainable params: 0\n",
            "_________________________________________________________________\n",
            "Epoch 1/15\n",
            "6893/6893 [==============================] - 37s 5ms/step - loss: 1.5247 - accuracy: 0.6059 - val_loss: nan - val_accuracy: 0.6681\n",
            "Epoch 2/15\n",
            "6893/6893 [==============================] - 34s 5ms/step - loss: 1.0504 - accuracy: 0.6940 - val_loss: nan - val_accuracy: 0.7028\n",
            "Epoch 3/15\n",
            "6893/6893 [==============================] - 34s 5ms/step - loss: 0.9270 - accuracy: 0.7194 - val_loss: nan - val_accuracy: 0.7255\n",
            "Epoch 4/15\n",
            "6893/6893 [==============================] - 34s 5ms/step - loss: 0.8694 - accuracy: 0.7303 - val_loss: nan - val_accuracy: 0.7344\n",
            "Epoch 5/15\n",
            "6893/6893 [==============================] - 34s 5ms/step - loss: 0.8272 - accuracy: 0.7389 - val_loss: nan - val_accuracy: 0.7432\n",
            "Epoch 6/15\n",
            "6893/6893 [==============================] - 34s 5ms/step - loss: 0.7918 - accuracy: 0.7477 - val_loss: nan - val_accuracy: 0.7473\n",
            "Epoch 7/15\n",
            "6893/6893 [==============================] - 35s 5ms/step - loss: 0.7608 - accuracy: 0.7559 - val_loss: nan - val_accuracy: 0.7620\n",
            "Epoch 8/15\n",
            "6893/6893 [==============================] - 35s 5ms/step - loss: 0.7329 - accuracy: 0.7639 - val_loss: nan - val_accuracy: 0.7719\n",
            "Epoch 9/15\n",
            "6893/6893 [==============================] - 34s 5ms/step - loss: 0.7080 - accuracy: 0.7704 - val_loss: nan - val_accuracy: 0.7785\n",
            "Epoch 10/15\n",
            "6893/6893 [==============================] - 34s 5ms/step - loss: 0.6847 - accuracy: 0.7774 - val_loss: nan - val_accuracy: 0.7852\n",
            "Epoch 11/15\n",
            "6893/6893 [==============================] - 34s 5ms/step - loss: 0.6639 - accuracy: 0.7841 - val_loss: nan - val_accuracy: 0.7918\n",
            "Epoch 12/15\n",
            "6893/6893 [==============================] - 35s 5ms/step - loss: 0.6443 - accuracy: 0.7910 - val_loss: nan - val_accuracy: 0.8008\n",
            "Epoch 13/15\n",
            "6893/6893 [==============================] - 34s 5ms/step - loss: 0.6288 - accuracy: 0.7968 - val_loss: nan - val_accuracy: 0.7884\n",
            "Epoch 14/15\n",
            "6893/6893 [==============================] - 34s 5ms/step - loss: 0.6139 - accuracy: 0.8022 - val_loss: nan - val_accuracy: 0.8041\n",
            "Epoch 15/15\n",
            "6893/6893 [==============================] - 34s 5ms/step - loss: 0.6017 - accuracy: 0.8059 - val_loss: nan - val_accuracy: 0.8105\n"
          ]
        }
      ]
    },
    {
      "cell_type": "code",
      "metadata": {
        "colab": {
          "base_uri": "https://localhost:8080/",
          "height": 296
        },
        "id": "IeVFjU6oeuY9",
        "outputId": "5881f8a1-534b-4983-f36b-bb320667b4e0"
      },
      "source": [
        "print(history.history.keys())\n",
        "# Plotting our loss charts\n",
        "import matplotlib.pyplot as plt\n",
        "\n",
        "history_dict = history.history\n",
        "loss_values = history_dict['loss']\n",
        "val_loss_values = history_dict['val_loss']\n",
        "epochs = range(1, len(loss_values) + 1)\n",
        "\n",
        "line1 = plt.plot(epochs, val_loss_values, label='Validation/Test Loss')\n",
        "line2 = plt.plot(epochs, loss_values, label='Training Loss')\n",
        "plt.setp(line1, linewidth=2.0, marker = '+', markersize=10.0)\n",
        "plt.setp(line2, linewidth=2.0, marker = '4', markersize=10.0)\n",
        "plt.xlabel('Epochs') \n",
        "plt.ylabel('Loss')\n",
        "plt.grid(True)\n",
        "plt.legend()\n",
        "plt.savefig('Loss.png', dpi = 1200)\n",
        "plt.show()"
      ],
      "execution_count": 48,
      "outputs": [
        {
          "output_type": "stream",
          "name": "stdout",
          "text": [
            "dict_keys(['loss', 'accuracy', 'val_loss', 'val_accuracy'])\n"
          ]
        },
        {
          "output_type": "display_data",
          "data": {
            "image/png": "[encoded data removed]",
            "text/plain": [
              "<Figure size 432x288 with 1 Axes>"
            ]
          },
          "metadata": {
            "needs_background": "light"
          }
        }
      ]
    },
    {
      "cell_type": "code",
      "metadata": {
        "colab": {
          "base_uri": "https://localhost:8080/",
          "height": 279
        },
        "id": "7cCMXuywhGoc",
        "outputId": "383738f3-f20a-4e52-9a69-c7dd2a59da69"
      },
      "source": [
        "# Plotting our accuracy charts\n",
        "import matplotlib.pyplot as plt\n",
        "\n",
        "history_dict = history.history\n",
        "acc_values = history_dict['accuracy']\n",
        "val_acc_values = history_dict['val_accuracy']\n",
        "epochs = range(1, len(loss_values) + 1)\n",
        "line1 = plt.plot(epochs, val_acc_values, label='Validation/Test Accuracy')\n",
        "line2 = plt.plot(epochs, acc_values, label='Training Accuracy')\n",
        "plt.setp(line1, linewidth=2.0, marker = '+', markersize=10.0)\n",
        "plt.setp(line2, linewidth=2.0, marker = '4', markersize=10.0)\n",
        "plt.xlabel('Epochs') \n",
        "plt.ylabel('Accuracy')\n",
        "plt.grid(True)\n",
        "plt.legend()\n",
        "plt.savefig('Accuracy.png', dpi = 1200)\n",
        "plt.show()"
      ],
      "execution_count": 49,
      "outputs": [
        {
          "output_type": "display_data",
          "data": {
            "image/png": "[encoded data removed]",
            "text/plain": [
              "<Figure size 432x288 with 1 Axes>"
            ]
          },
          "metadata": {
            "needs_background": "light"
          }
        }
      ]
    },
    {
      "cell_type": "markdown",
      "metadata": {
        "id": "HOb8MUxkWsCL"
      },
      "source": [
        "# Please provide at least ten translations from English to French from each model in the report."
      ]
    },
    {
      "cell_type": "code",
      "metadata": {
        "id": "OVPSagM4WN98"
      },
      "source": [
        "example_eng= [eng.reshape(1,21,1) for eng in tmp_x[:10]]\n",
        "french_preds=[lstm.predict(sample) for sample in example_eng]"
      ],
      "execution_count": 51,
      "outputs": []
    },
    {
      "cell_type": "code",
      "metadata": {
        "id": "MzTG6NmdWuOA"
      },
      "source": [
        "french_trans= [logits_to_text(np.concatenate(pred), french_tokenizer) for pred in french_preds]\n",
        "# eng_sentenses= [logits_to_text(data[0], english_tokenizer) for pred in fres_preds]"
      ],
      "execution_count": 52,
      "outputs": []
    },
    {
      "cell_type": "code",
      "metadata": {
        "colab": {
          "base_uri": "https://localhost:8080/"
        },
        "id": "Pxco2aqwWyEW",
        "outputId": "5bda259f-184f-459c-dc0e-4538b99a6101"
      },
      "source": [
        "french_trans"
      ],
      "execution_count": 55,
      "outputs": [
        {
          "output_type": "execute_result",
          "data": {
            "text/plain": [
              "[\"new jersey est parfois chaud en l' de mai et il est avril en avril <PAD> <PAD> <PAD> <PAD> <PAD> <PAD>\",\n",
              " 'les états unis est généralement froid en juillet et il est généralement en en <PAD> <PAD> <PAD> <PAD> <PAD> <PAD> <PAD>',\n",
              " \"californie est généralement chaud en l' et il est généralement chaud en chaud <PAD> <PAD> <PAD> <PAD> <PAD> <PAD> <PAD> <PAD>\",\n",
              " 'les états unis est parfois doux en juin et il est froid en septembre <PAD> <PAD> <PAD> <PAD> <PAD> <PAD> <PAD>',\n",
              " 'votre fruit aimé des est la raisin mais mon moins aimé est la pomme <PAD> <PAD> <PAD> <PAD> <PAD> <PAD> <PAD>',\n",
              " 'son fruit préféré est la mais mais favori favori est la <PAD> <PAD> <PAD> <PAD> <PAD> <PAD> <PAD> <PAD> <PAD> <PAD>',\n",
              " 'paris est calme en décembre mais il est généralement froid en juillet <PAD> <PAD> <PAD> <PAD> <PAD> <PAD> <PAD> <PAD> <PAD>',\n",
              " 'new jersey est occupé en printemps et il est jamais chaud en mars <PAD> <PAD> <PAD> <PAD> <PAD> <PAD> <PAD> <PAD>',\n",
              " 'notre fruit moins fruit est la citron mais moins moins aimé est la raisin <PAD> <PAD> <PAD> <PAD> <PAD> <PAD> <PAD>',\n",
              " 'les états unis est parfois occupé en janvier et il est parfois chaud en novembre <PAD> <PAD> <PAD> <PAD> <PAD> <PAD>']"
            ]
          },
          "metadata": {},
          "execution_count": 55
        }
      ]
    },
    {
      "cell_type": "markdown",
      "metadata": {
        "id": "FSNx_iJ_LiTe"
      },
      "source": [
        "# 3. Stacked (2-layer) GRU Implementation"
      ]
    },
    {
      "cell_type": "code",
      "metadata": {
        "colab": {
          "base_uri": "https://localhost:8080/"
        },
        "id": "iCTt3yQuLnx_",
        "outputId": "c4a5aafe-146e-451d-871a-60299fc8839d"
      },
      "source": [
        "def gru_rnn(input_shape, output_sequence_length, english_vocab_size, french_vocab_size):\n",
        "    \"\"\"\n",
        "    Build and train a basic RNN on x and y\n",
        "    :param input_shape: Tuple of input shape\n",
        "    :param output_sequence_length: Length of output sequence\n",
        "    :param english_vocab_size: Number of unique English words in the dataset\n",
        "    :param french_vocab_size: Number of unique French words in the dataset\n",
        "    :return: Keras model built, but not trained\n",
        "    \"\"\"\n",
        "    # TODO: Build the layers\n",
        "    learning_rate = 1e-3\n",
        "    input_seq = Input(input_shape[1:])\n",
        "    \n",
        "    rnn =GRU(50,return_sequences=True)(input_seq)\n",
        "    rnn2=GRU(50,return_sequences=True)(rnn)\n",
        "    logits = TimeDistributed(Dense(french_vocab_size))(rnn2)\n",
        "    model = Model(input_seq, Activation('softmax')(logits))\n",
        "    model.compile(loss = sparse_categorical_crossentropy, \n",
        "                 optimizer = Adam(learning_rate), \n",
        "                 metrics = ['accuracy'])\n",
        "    \n",
        "    return model\n",
        "\n",
        "\n",
        "#tests.test_simple_model(simple_model)\n",
        "\n",
        "# Reshaping the input to work with a basic RNN\n",
        "tmp_x = pad(preproc_english_sentences, max_french_sequence_length)\n",
        "tmp_x = tmp_x.reshape((-1, preproc_french_sentences.shape[-2], 1))\n",
        "print(tmp_x.shape[1:])"
      ],
      "execution_count": 41,
      "outputs": [
        {
          "output_type": "stream",
          "name": "stdout",
          "text": [
            "(21, 1)\n"
          ]
        }
      ]
    },
    {
      "cell_type": "code",
      "metadata": {
        "colab": {
          "base_uri": "https://localhost:8080/"
        },
        "id": "AOirnSwbYsxx",
        "outputId": "b79058b2-eef5-40e8-dcdc-4e189d62b289"
      },
      "source": [
        "def logits_to_text(logits, tokenizer):\n",
        "    \"\"\"\n",
        "    Turn logits from a neural network into text using the tokenizer\n",
        "    :param logits: Logits from a neural network\n",
        "    :param tokenizer: Keras Tokenizer fit on the labels\n",
        "    :return: String that represents the text of the logits\n",
        "    \"\"\"\n",
        "    index_to_words = {id: word for word, id in tokenizer.word_index.items()}\n",
        "    index_to_words[0] = '<PAD>'\n",
        "\n",
        "    return ' '.join([index_to_words[prediction] for prediction in np.argmax(logits, 1)])\n",
        "\n",
        "print('`logits_to_text` function loaded.')"
      ],
      "execution_count": 42,
      "outputs": [
        {
          "output_type": "stream",
          "name": "stdout",
          "text": [
            "`logits_to_text` function loaded.\n"
          ]
        }
      ]
    },
    {
      "cell_type": "code",
      "metadata": {
        "colab": {
          "base_uri": "https://localhost:8080/"
        },
        "id": "L25VhfEpY1WW",
        "outputId": "5fd0fab1-d6d0-44e5-ba61-342b72d6c2a7"
      },
      "source": [
        "# Train the neural network\n",
        "gru = gru_rnn(tmp_x.shape,max_french_sequence_length,english_vocab_size,french_vocab_size)\n",
        "\n",
        "gru.summary()\n",
        "\n",
        "history=gru.fit(tmp_x, preproc_french_sentences, batch_size=16, epochs=10, validation_split=0.2)"
      ],
      "execution_count": 43,
      "outputs": [
        {
          "output_type": "stream",
          "name": "stdout",
          "text": [
            "Model: \"model_3\"\n",
            "_________________________________________________________________\n",
            "Layer (type)                 Output Shape              Param #   \n",
            "=================================================================\n",
            "input_6 (InputLayer)         [(None, 21, 1)]           0         \n",
            "_________________________________________________________________\n",
            "gru (GRU)                    (None, 21, 50)            7950      \n",
            "_________________________________________________________________\n",
            "gru_1 (GRU)                  (None, 21, 50)            15300     \n",
            "_________________________________________________________________\n",
            "time_distributed_3 (TimeDist (None, 21, 344)           17544     \n",
            "_________________________________________________________________\n",
            "activation_3 (Activation)    (None, 21, 344)           0         \n",
            "=================================================================\n",
            "Total params: 40,794\n",
            "Trainable params: 40,794\n",
            "Non-trainable params: 0\n",
            "_________________________________________________________________\n",
            "Epoch 1/10\n",
            "6893/6893 [==============================] - 34s 5ms/step - loss: 1.4772 - accuracy: 0.6173 - val_loss: nan - val_accuracy: 0.6660\n",
            "Epoch 2/10\n",
            "6893/6893 [==============================] - 32s 5ms/step - loss: 1.0592 - accuracy: 0.6904 - val_loss: nan - val_accuracy: 0.7119\n",
            "Epoch 3/10\n",
            "6893/6893 [==============================] - 31s 5ms/step - loss: 0.9471 - accuracy: 0.7169 - val_loss: nan - val_accuracy: 0.7221\n",
            "Epoch 4/10\n",
            "6893/6893 [==============================] - 32s 5ms/step - loss: 0.8912 - accuracy: 0.7285 - val_loss: nan - val_accuracy: 0.7336\n",
            "Epoch 5/10\n",
            "6893/6893 [==============================] - 32s 5ms/step - loss: 0.8515 - accuracy: 0.7381 - val_loss: nan - val_accuracy: 0.7427\n",
            "Epoch 6/10\n",
            "6893/6893 [==============================] - 31s 5ms/step - loss: 0.8185 - accuracy: 0.7466 - val_loss: nan - val_accuracy: 0.7436\n",
            "Epoch 7/10\n",
            "6893/6893 [==============================] - 32s 5ms/step - loss: 0.7930 - accuracy: 0.7533 - val_loss: nan - val_accuracy: 0.7578\n",
            "Epoch 8/10\n",
            "6893/6893 [==============================] - 31s 5ms/step - loss: 0.7723 - accuracy: 0.7584 - val_loss: nan - val_accuracy: 0.7577\n",
            "Epoch 9/10\n",
            "6893/6893 [==============================] - 31s 5ms/step - loss: 0.7559 - accuracy: 0.7621 - val_loss: nan - val_accuracy: 0.7635\n",
            "Epoch 10/10\n",
            "6893/6893 [==============================] - 32s 5ms/step - loss: 0.7412 - accuracy: 0.7659 - val_loss: nan - val_accuracy: 0.7630\n"
          ]
        }
      ]
    },
    {
      "cell_type": "code",
      "metadata": {
        "colab": {
          "base_uri": "https://localhost:8080/",
          "height": 296
        },
        "id": "sH1CUWgXemRq",
        "outputId": "90c931b5-8382-4103-f989-c31d05846e57"
      },
      "source": [
        "print(history.history.keys())\n",
        "# Plotting our loss charts\n",
        "import matplotlib.pyplot as plt\n",
        "\n",
        "history_dict = history.history\n",
        "loss_values = history_dict['loss']\n",
        "val_loss_values = history_dict['val_loss']\n",
        "epochs = range(1, len(loss_values) + 1)\n",
        "\n",
        "line1 = plt.plot(epochs, val_loss_values, label='Validation/Test Loss')\n",
        "line2 = plt.plot(epochs, loss_values, label='Training Loss')\n",
        "plt.setp(line1, linewidth=2.0, marker = '+', markersize=10.0)\n",
        "plt.setp(line2, linewidth=2.0, marker = '4', markersize=10.0)\n",
        "plt.xlabel('Epochs') \n",
        "plt.ylabel('Loss')\n",
        "plt.grid(True)\n",
        "plt.legend()\n",
        "plt.savefig('Loss.png', dpi = 1200)\n",
        "plt.show()"
      ],
      "execution_count": 56,
      "outputs": [
        {
          "output_type": "stream",
          "name": "stdout",
          "text": [
            "dict_keys(['loss', 'accuracy', 'val_loss', 'val_accuracy'])\n"
          ]
        },
        {
          "output_type": "display_data",
          "data": {
            "image/png": "[encoded data removed]",
            "text/plain": [
              "<Figure size 432x288 with 1 Axes>"
            ]
          },
          "metadata": {
            "needs_background": "light"
          }
        }
      ]
    },
    {
      "cell_type": "code",
      "metadata": {
        "colab": {
          "base_uri": "https://localhost:8080/",
          "height": 279
        },
        "id": "O0lShUfIfGC3",
        "outputId": "8e78dcc0-3d00-49dc-9432-d3a4c1ead20a"
      },
      "source": [
        "# Plotting our accuracy charts\n",
        "import matplotlib.pyplot as plt\n",
        "\n",
        "history_dict = history.history\n",
        "acc_values = history_dict['accuracy']\n",
        "val_acc_values = history_dict['val_accuracy']\n",
        "epochs = range(1, len(loss_values) + 1)\n",
        "line1 = plt.plot(epochs, val_acc_values, label='Validation/Test Accuracy')\n",
        "line2 = plt.plot(epochs, acc_values, label='Training Accuracy')\n",
        "plt.setp(line1, linewidth=2.0, marker = '+', markersize=10.0)\n",
        "plt.setp(line2, linewidth=2.0, marker = '4', markersize=10.0)\n",
        "plt.xlabel('Epochs') \n",
        "plt.ylabel('Accuracy')\n",
        "plt.grid(True)\n",
        "plt.legend()\n",
        "plt.savefig('Accuracy.png', dpi = 1200)\n",
        "plt.show()"
      ],
      "execution_count": 57,
      "outputs": [
        {
          "output_type": "display_data",
          "data": {
            "image/png": "[encoded data removed]",
            "text/plain": [
              "<Figure size 432x288 with 1 Axes>"
            ]
          },
          "metadata": {
            "needs_background": "light"
          }
        }
      ]
    },
    {
      "cell_type": "markdown",
      "metadata": {
        "id": "KwVZaoaIfN-y"
      },
      "source": [
        "# Please provide at least ten translations from English to French from each model in the report."
      ]
    },
    {
      "cell_type": "code",
      "metadata": {
        "id": "cJL2dt2HfHpE"
      },
      "source": [
        "example_eng= [eng.reshape(1,21,1) for eng in tmp_x[:10]]\n",
        "french_preds=[gru.predict(sample) for sample in example_eng]"
      ],
      "execution_count": 58,
      "outputs": []
    },
    {
      "cell_type": "code",
      "metadata": {
        "id": "LimGNKkCfS-2"
      },
      "source": [
        "french_trans= [logits_to_text(np.concatenate(pred), french_tokenizer) for pred in french_preds]\n",
        "# eng_sentenses= [logits_to_text(data[0], english_tokenizer) for pred in fres_preds]"
      ],
      "execution_count": 59,
      "outputs": []
    },
    {
      "cell_type": "code",
      "metadata": {
        "colab": {
          "base_uri": "https://localhost:8080/"
        },
        "id": "aLBjlgcNfXnY",
        "outputId": "dfcd20d9-300f-49e7-8bb1-5c736450d378"
      },
      "source": [
        "french_trans"
      ],
      "execution_count": 63,
      "outputs": [
        {
          "output_type": "execute_result",
          "data": {
            "text/plain": [
              "['new jersey est parfois calme en mois de il et il est en en <PAD> <PAD> <PAD> <PAD> <PAD> <PAD> <PAD>',\n",
              " 'les états unis est généralement pluvieux en juillet et il est généralement agréable en novembre <PAD> <PAD> <PAD> <PAD> <PAD> <PAD>',\n",
              " \"californie est généralement habituellement en l' et il est généralement habituellement en calme <PAD> <PAD> <PAD> <PAD> <PAD> <PAD> <PAD> <PAD>\",\n",
              " 'les états unis est parfois humide en juin et il est froid en septembre <PAD> <PAD> <PAD> <PAD> <PAD> <PAD> <PAD>',\n",
              " 'elle fruit aimé moins est la pomme mais mon moins aimé est la pomme <PAD> <PAD> <PAD> <PAD> <PAD> <PAD> <PAD>',\n",
              " 'son fruit préféré est la pomme mais mon préféré est la <PAD> <PAD> <PAD> <PAD> <PAD> <PAD> <PAD> <PAD> <PAD> <PAD>',\n",
              " 'paris est relaxant en décembre mais il est généralement froid en juillet <PAD> <PAD> <PAD> <PAD> <PAD> <PAD> <PAD> <PAD> <PAD>',\n",
              " 'new jersey est froid en printemps et il est jamais tranquille en mars <PAD> <PAD> <PAD> <PAD> <PAD> <PAD> <PAD> <PAD>',\n",
              " 'notre fruit aimé aimé est la pomme mais mon moins aimé est la pomme <PAD> <PAD> <PAD> <PAD> <PAD> <PAD> <PAD>',\n",
              " 'les états unis est parfois froid en janvier et il est parfois enneigée en novembre <PAD> <PAD> <PAD> <PAD> <PAD> <PAD>']"
            ]
          },
          "metadata": {},
          "execution_count": 63
        }
      ]
    }
  ]
}