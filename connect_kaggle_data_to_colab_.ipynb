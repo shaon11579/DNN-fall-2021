{
  "nbformat": 4,
  "nbformat_minor": 0,
  "metadata": {
    "colab": {
      "name": "connect kaggle data to colab .ipynb",
      "provenance": [],
      "authorship_tag": "ABX9TyOtyOcCWFttluaoKHKsS5h6",
      "include_colab_link": true
    },
    "kernelspec": {
      "name": "python3",
      "display_name": "Python 3"
    },
    "language_info": {
      "name": "python"
    }
  },
  "cells": [
    {
      "cell_type": "markdown",
      "metadata": {
        "id": "view-in-github",
        "colab_type": "text"
      },
      "source": [
        "<a href=\"https://colab.research.google.com/github/shaon11579/DNN-fall-2021/blob/main/connect_kaggle_data_to_colab_.ipynb\" target=\"_parent\"><img src=\"https://colab.research.google.com/assets/colab-badge.svg\" alt=\"Open In Colab\"/></a>"
      ]
    },
    {
      "cell_type": "code",
      "metadata": {
        "id": "tVtLx7uPtISq"
      },
      "source": [
        "# first run this code \n",
        "!pip install -q kaggle"
      ],
      "execution_count": null,
      "outputs": []
    },
    {
      "cell_type": "code",
      "metadata": {
        "id": "qXTADHbttTQu"
      },
      "source": [
        "#upload api token you have downloaded from kaaggle \n",
        "from google.colab import files\n",
        "files.upload() "
      ],
      "execution_count": null,
      "outputs": []
    },
    {
      "cell_type": "code",
      "metadata": {
        "id": "tCbMELU_tbV5"
      },
      "source": [
        "# create a dir\n",
        "! mkdir ~/.kaggle\n"
      ],
      "execution_count": null,
      "outputs": []
    },
    {
      "cell_type": "code",
      "metadata": {
        "id": "EyTtMeEZtgdK"
      },
      "source": [
        "#copy keggle.json file \n",
        "\n",
        "! cp kaggle.json ~/.kaggle/"
      ],
      "execution_count": null,
      "outputs": []
    },
    {
      "cell_type": "code",
      "metadata": {
        "id": "T-rva5Pnti-I"
      },
      "source": [
        "#list data from kaggle \n",
        "! kaggle datasets list"
      ],
      "execution_count": null,
      "outputs": []
    },
    {
      "cell_type": "code",
      "metadata": {
        "id": "C8RRUVljtsMM"
      },
      "source": [
        "# copy data api link from kaggle its under data tab \n",
        "\n",
        "!kaggle datasets download -d akash2sharma/tiny-imagenet\n"
      ],
      "execution_count": null,
      "outputs": []
    },
    {
      "cell_type": "code",
      "metadata": {
        "id": "CBbwmlzotx5T"
      },
      "source": [
        "# unzip your file and it should show under colab \n",
        "\n",
        "!unzip tiny-imagenet.zip\n"
      ],
      "execution_count": null,
      "outputs": []
    }
  ]
}