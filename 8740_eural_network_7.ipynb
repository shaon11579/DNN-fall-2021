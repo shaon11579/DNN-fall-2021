{
  "nbformat": 4,
  "nbformat_minor": 0,
  "metadata": {
    "colab": {
      "name": "8740 eural network .ipynb",
      "provenance": [],
      "authorship_tag": "ABX9TyNszM+Ev/9yNAiDhDPkU4y8",
      "include_colab_link": true
    },
    "kernelspec": {
      "name": "python3",
      "display_name": "Python 3"
    },
    "language_info": {
      "name": "python"
    },
    "accelerator": "GPU",
    "widgets": {
      "application/vnd.jupyter.widget-state+json": {
        "9719ad14b2bd49d58341905120f99c09": {
          "model_module": "@jupyter-widgets/controls",
          "model_name": "HBoxModel",
          "model_module_version": "1.5.0",
          "state": {
            "_view_name": "HBoxView",
            "_dom_classes": [],
            "_model_name": "HBoxModel",
            "_view_module": "@jupyter-widgets/controls",
            "_model_module_version": "1.5.0",
            "_view_count": null,
            "_view_module_version": "1.5.0",
            "box_style": "",
            "layout": "IPY_MODEL_12ee49baa59c46ec9b9110e616919770",
            "_model_module": "@jupyter-widgets/controls",
            "children": [
              "IPY_MODEL_dfb6aa18d5204d9ea11695e06993a2ec",
              "IPY_MODEL_1eb5411013e747b3846b4a08e7f9d144",
              "IPY_MODEL_741ffe93a33a4f60a7f53f0bebb88663"
            ]
          }
        },
        "12ee49baa59c46ec9b9110e616919770": {
          "model_module": "@jupyter-widgets/base",
          "model_name": "LayoutModel",
          "model_module_version": "1.2.0",
          "state": {
            "_view_name": "LayoutView",
            "grid_template_rows": null,
            "right": null,
            "justify_content": null,
            "_view_module": "@jupyter-widgets/base",
            "overflow": null,
            "_model_module_version": "1.2.0",
            "_view_count": null,
            "flex_flow": null,
            "width": null,
            "min_width": null,
            "border": null,
            "align_items": null,
            "bottom": null,
            "_model_module": "@jupyter-widgets/base",
            "top": null,
            "grid_column": null,
            "overflow_y": null,
            "overflow_x": null,
            "grid_auto_flow": null,
            "grid_area": null,
            "grid_template_columns": null,
            "flex": null,
            "_model_name": "LayoutModel",
            "justify_items": null,
            "grid_row": null,
            "max_height": null,
            "align_content": null,
            "visibility": null,
            "align_self": null,
            "height": null,
            "min_height": null,
            "padding": null,
            "grid_auto_rows": null,
            "grid_gap": null,
            "max_width": null,
            "order": null,
            "_view_module_version": "1.2.0",
            "grid_template_areas": null,
            "object_position": null,
            "object_fit": null,
            "grid_auto_columns": null,
            "margin": null,
            "display": null,
            "left": null
          }
        },
        "dfb6aa18d5204d9ea11695e06993a2ec": {
          "model_module": "@jupyter-widgets/controls",
          "model_name": "HTMLModel",
          "model_module_version": "1.5.0",
          "state": {
            "_view_name": "HTMLView",
            "style": "IPY_MODEL_81a03e51c5924ab4afc3bd0d190feb13",
            "_dom_classes": [],
            "description": "",
            "_model_name": "HTMLModel",
            "placeholder": "​",
            "_view_module": "@jupyter-widgets/controls",
            "_model_module_version": "1.5.0",
            "value": "",
            "_view_count": null,
            "_view_module_version": "1.5.0",
            "description_tooltip": null,
            "_model_module": "@jupyter-widgets/controls",
            "layout": "IPY_MODEL_c260a54f0c3b433ba850b57652d2109a"
          }
        },
        "1eb5411013e747b3846b4a08e7f9d144": {
          "model_module": "@jupyter-widgets/controls",
          "model_name": "FloatProgressModel",
          "model_module_version": "1.5.0",
          "state": {
            "_view_name": "ProgressView",
            "style": "IPY_MODEL_551ba62794444d35a0071d44770a426c",
            "_dom_classes": [],
            "description": "",
            "_model_name": "FloatProgressModel",
            "bar_style": "success",
            "max": 9912422,
            "_view_module": "@jupyter-widgets/controls",
            "_model_module_version": "1.5.0",
            "value": 9912422,
            "_view_count": null,
            "_view_module_version": "1.5.0",
            "orientation": "horizontal",
            "min": 0,
            "description_tooltip": null,
            "_model_module": "@jupyter-widgets/controls",
            "layout": "IPY_MODEL_b27ec2bde2bd42a8a5ba1471849d34ae"
          }
        },
        "741ffe93a33a4f60a7f53f0bebb88663": {
          "model_module": "@jupyter-widgets/controls",
          "model_name": "HTMLModel",
          "model_module_version": "1.5.0",
          "state": {
            "_view_name": "HTMLView",
            "style": "IPY_MODEL_156d881308fa493e9cf1d46c475066e0",
            "_dom_classes": [],
            "description": "",
            "_model_name": "HTMLModel",
            "placeholder": "​",
            "_view_module": "@jupyter-widgets/controls",
            "_model_module_version": "1.5.0",
            "value": " 9913344/? [00:00&lt;00:00, 38608190.17it/s]",
            "_view_count": null,
            "_view_module_version": "1.5.0",
            "description_tooltip": null,
            "_model_module": "@jupyter-widgets/controls",
            "layout": "IPY_MODEL_763ca012b22f4673a7640dda713b5152"
          }
        },
        "81a03e51c5924ab4afc3bd0d190feb13": {
          "model_module": "@jupyter-widgets/controls",
          "model_name": "DescriptionStyleModel",
          "model_module_version": "1.5.0",
          "state": {
            "_view_name": "StyleView",
            "_model_name": "DescriptionStyleModel",
            "description_width": "",
            "_view_module": "@jupyter-widgets/base",
            "_model_module_version": "1.5.0",
            "_view_count": null,
            "_view_module_version": "1.2.0",
            "_model_module": "@jupyter-widgets/controls"
          }
        },
        "c260a54f0c3b433ba850b57652d2109a": {
          "model_module": "@jupyter-widgets/base",
          "model_name": "LayoutModel",
          "model_module_version": "1.2.0",
          "state": {
            "_view_name": "LayoutView",
            "grid_template_rows": null,
            "right": null,
            "justify_content": null,
            "_view_module": "@jupyter-widgets/base",
            "overflow": null,
            "_model_module_version": "1.2.0",
            "_view_count": null,
            "flex_flow": null,
            "width": null,
            "min_width": null,
            "border": null,
            "align_items": null,
            "bottom": null,
            "_model_module": "@jupyter-widgets/base",
            "top": null,
            "grid_column": null,
            "overflow_y": null,
            "overflow_x": null,
            "grid_auto_flow": null,
            "grid_area": null,
            "grid_template_columns": null,
            "flex": null,
            "_model_name": "LayoutModel",
            "justify_items": null,
            "grid_row": null,
            "max_height": null,
            "align_content": null,
            "visibility": null,
            "align_self": null,
            "height": null,
            "min_height": null,
            "padding": null,
            "grid_auto_rows": null,
            "grid_gap": null,
            "max_width": null,
            "order": null,
            "_view_module_version": "1.2.0",
            "grid_template_areas": null,
            "object_position": null,
            "object_fit": null,
            "grid_auto_columns": null,
            "margin": null,
            "display": null,
            "left": null
          }
        },
        "551ba62794444d35a0071d44770a426c": {
          "model_module": "@jupyter-widgets/controls",
          "model_name": "ProgressStyleModel",
          "model_module_version": "1.5.0",
          "state": {
            "_view_name": "StyleView",
            "_model_name": "ProgressStyleModel",
            "description_width": "",
            "_view_module": "@jupyter-widgets/base",
            "_model_module_version": "1.5.0",
            "_view_count": null,
            "_view_module_version": "1.2.0",
            "bar_color": null,
            "_model_module": "@jupyter-widgets/controls"
          }
        },
        "b27ec2bde2bd42a8a5ba1471849d34ae": {
          "model_module": "@jupyter-widgets/base",
          "model_name": "LayoutModel",
          "model_module_version": "1.2.0",
          "state": {
            "_view_name": "LayoutView",
            "grid_template_rows": null,
            "right": null,
            "justify_content": null,
            "_view_module": "@jupyter-widgets/base",
            "overflow": null,
            "_model_module_version": "1.2.0",
            "_view_count": null,
            "flex_flow": null,
            "width": null,
            "min_width": null,
            "border": null,
            "align_items": null,
            "bottom": null,
            "_model_module": "@jupyter-widgets/base",
            "top": null,
            "grid_column": null,
            "overflow_y": null,
            "overflow_x": null,
            "grid_auto_flow": null,
            "grid_area": null,
            "grid_template_columns": null,
            "flex": null,
            "_model_name": "LayoutModel",
            "justify_items": null,
            "grid_row": null,
            "max_height": null,
            "align_content": null,
            "visibility": null,
            "align_self": null,
            "height": null,
            "min_height": null,
            "padding": null,
            "grid_auto_rows": null,
            "grid_gap": null,
            "max_width": null,
            "order": null,
            "_view_module_version": "1.2.0",
            "grid_template_areas": null,
            "object_position": null,
            "object_fit": null,
            "grid_auto_columns": null,
            "margin": null,
            "display": null,
            "left": null
          }
        },
        "156d881308fa493e9cf1d46c475066e0": {
          "model_module": "@jupyter-widgets/controls",
          "model_name": "DescriptionStyleModel",
          "model_module_version": "1.5.0",
          "state": {
            "_view_name": "StyleView",
            "_model_name": "DescriptionStyleModel",
            "description_width": "",
            "_view_module": "@jupyter-widgets/base",
            "_model_module_version": "1.5.0",
            "_view_count": null,
            "_view_module_version": "1.2.0",
            "_model_module": "@jupyter-widgets/controls"
          }
        },
        "763ca012b22f4673a7640dda713b5152": {
          "model_module": "@jupyter-widgets/base",
          "model_name": "LayoutModel",
          "model_module_version": "1.2.0",
          "state": {
            "_view_name": "LayoutView",
            "grid_template_rows": null,
            "right": null,
            "justify_content": null,
            "_view_module": "@jupyter-widgets/base",
            "overflow": null,
            "_model_module_version": "1.2.0",
            "_view_count": null,
            "flex_flow": null,
            "width": null,
            "min_width": null,
            "border": null,
            "align_items": null,
            "bottom": null,
            "_model_module": "@jupyter-widgets/base",
            "top": null,
            "grid_column": null,
            "overflow_y": null,
            "overflow_x": null,
            "grid_auto_flow": null,
            "grid_area": null,
            "grid_template_columns": null,
            "flex": null,
            "_model_name": "LayoutModel",
            "justify_items": null,
            "grid_row": null,
            "max_height": null,
            "align_content": null,
            "visibility": null,
            "align_self": null,
            "height": null,
            "min_height": null,
            "padding": null,
            "grid_auto_rows": null,
            "grid_gap": null,
            "max_width": null,
            "order": null,
            "_view_module_version": "1.2.0",
            "grid_template_areas": null,
            "object_position": null,
            "object_fit": null,
            "grid_auto_columns": null,
            "margin": null,
            "display": null,
            "left": null
          }
        },
        "c02fb55da1024133bf1a0dc945a01da5": {
          "model_module": "@jupyter-widgets/controls",
          "model_name": "HBoxModel",
          "model_module_version": "1.5.0",
          "state": {
            "_view_name": "HBoxView",
            "_dom_classes": [],
            "_model_name": "HBoxModel",
            "_view_module": "@jupyter-widgets/controls",
            "_model_module_version": "1.5.0",
            "_view_count": null,
            "_view_module_version": "1.5.0",
            "box_style": "",
            "layout": "IPY_MODEL_a7fad363c1d14fd4959c6f06f046fa08",
            "_model_module": "@jupyter-widgets/controls",
            "children": [
              "IPY_MODEL_8ea5a5f1ee924f929f15d14c9fb55534",
              "IPY_MODEL_c2b4afca7d544bf49700b0b8aa59d60b",
              "IPY_MODEL_c3401ef6a6384e13b4738ad4d4f52892"
            ]
          }
        },
        "a7fad363c1d14fd4959c6f06f046fa08": {
          "model_module": "@jupyter-widgets/base",
          "model_name": "LayoutModel",
          "model_module_version": "1.2.0",
          "state": {
            "_view_name": "LayoutView",
            "grid_template_rows": null,
            "right": null,
            "justify_content": null,
            "_view_module": "@jupyter-widgets/base",
            "overflow": null,
            "_model_module_version": "1.2.0",
            "_view_count": null,
            "flex_flow": null,
            "width": null,
            "min_width": null,
            "border": null,
            "align_items": null,
            "bottom": null,
            "_model_module": "@jupyter-widgets/base",
            "top": null,
            "grid_column": null,
            "overflow_y": null,
            "overflow_x": null,
            "grid_auto_flow": null,
            "grid_area": null,
            "grid_template_columns": null,
            "flex": null,
            "_model_name": "LayoutModel",
            "justify_items": null,
            "grid_row": null,
            "max_height": null,
            "align_content": null,
            "visibility": null,
            "align_self": null,
            "height": null,
            "min_height": null,
            "padding": null,
            "grid_auto_rows": null,
            "grid_gap": null,
            "max_width": null,
            "order": null,
            "_view_module_version": "1.2.0",
            "grid_template_areas": null,
            "object_position": null,
            "object_fit": null,
            "grid_auto_columns": null,
            "margin": null,
            "display": null,
            "left": null
          }
        },
        "8ea5a5f1ee924f929f15d14c9fb55534": {
          "model_module": "@jupyter-widgets/controls",
          "model_name": "HTMLModel",
          "model_module_version": "1.5.0",
          "state": {
            "_view_name": "HTMLView",
            "style": "IPY_MODEL_762d9681f74c4f51ade8c348932c46ee",
            "_dom_classes": [],
            "description": "",
            "_model_name": "HTMLModel",
            "placeholder": "​",
            "_view_module": "@jupyter-widgets/controls",
            "_model_module_version": "1.5.0",
            "value": "",
            "_view_count": null,
            "_view_module_version": "1.5.0",
            "description_tooltip": null,
            "_model_module": "@jupyter-widgets/controls",
            "layout": "IPY_MODEL_4abd99dcb61d44c28d1db26285530603"
          }
        },
        "c2b4afca7d544bf49700b0b8aa59d60b": {
          "model_module": "@jupyter-widgets/controls",
          "model_name": "FloatProgressModel",
          "model_module_version": "1.5.0",
          "state": {
            "_view_name": "ProgressView",
            "style": "IPY_MODEL_5911696c87904b1b9107e0c210d17ffd",
            "_dom_classes": [],
            "description": "",
            "_model_name": "FloatProgressModel",
            "bar_style": "success",
            "max": 28881,
            "_view_module": "@jupyter-widgets/controls",
            "_model_module_version": "1.5.0",
            "value": 28881,
            "_view_count": null,
            "_view_module_version": "1.5.0",
            "orientation": "horizontal",
            "min": 0,
            "description_tooltip": null,
            "_model_module": "@jupyter-widgets/controls",
            "layout": "IPY_MODEL_b2d0c86c17bd471792d2b1b9f76645e5"
          }
        },
        "c3401ef6a6384e13b4738ad4d4f52892": {
          "model_module": "@jupyter-widgets/controls",
          "model_name": "HTMLModel",
          "model_module_version": "1.5.0",
          "state": {
            "_view_name": "HTMLView",
            "style": "IPY_MODEL_f239f121e9e4451eb5111aa5186e6aa0",
            "_dom_classes": [],
            "description": "",
            "_model_name": "HTMLModel",
            "placeholder": "​",
            "_view_module": "@jupyter-widgets/controls",
            "_model_module_version": "1.5.0",
            "value": " 29696/? [00:00&lt;00:00, 468408.56it/s]",
            "_view_count": null,
            "_view_module_version": "1.5.0",
            "description_tooltip": null,
            "_model_module": "@jupyter-widgets/controls",
            "layout": "IPY_MODEL_0a96a84f810240ac967689ac777dc3e1"
          }
        },
        "762d9681f74c4f51ade8c348932c46ee": {
          "model_module": "@jupyter-widgets/controls",
          "model_name": "DescriptionStyleModel",
          "model_module_version": "1.5.0",
          "state": {
            "_view_name": "StyleView",
            "_model_name": "DescriptionStyleModel",
            "description_width": "",
            "_view_module": "@jupyter-widgets/base",
            "_model_module_version": "1.5.0",
            "_view_count": null,
            "_view_module_version": "1.2.0",
            "_model_module": "@jupyter-widgets/controls"
          }
        },
        "4abd99dcb61d44c28d1db26285530603": {
          "model_module": "@jupyter-widgets/base",
          "model_name": "LayoutModel",
          "model_module_version": "1.2.0",
          "state": {
            "_view_name": "LayoutView",
            "grid_template_rows": null,
            "right": null,
            "justify_content": null,
            "_view_module": "@jupyter-widgets/base",
            "overflow": null,
            "_model_module_version": "1.2.0",
            "_view_count": null,
            "flex_flow": null,
            "width": null,
            "min_width": null,
            "border": null,
            "align_items": null,
            "bottom": null,
            "_model_module": "@jupyter-widgets/base",
            "top": null,
            "grid_column": null,
            "overflow_y": null,
            "overflow_x": null,
            "grid_auto_flow": null,
            "grid_area": null,
            "grid_template_columns": null,
            "flex": null,
            "_model_name": "LayoutModel",
            "justify_items": null,
            "grid_row": null,
            "max_height": null,
            "align_content": null,
            "visibility": null,
            "align_self": null,
            "height": null,
            "min_height": null,
            "padding": null,
            "grid_auto_rows": null,
            "grid_gap": null,
            "max_width": null,
            "order": null,
            "_view_module_version": "1.2.0",
            "grid_template_areas": null,
            "object_position": null,
            "object_fit": null,
            "grid_auto_columns": null,
            "margin": null,
            "display": null,
            "left": null
          }
        },
        "5911696c87904b1b9107e0c210d17ffd": {
          "model_module": "@jupyter-widgets/controls",
          "model_name": "ProgressStyleModel",
          "model_module_version": "1.5.0",
          "state": {
            "_view_name": "StyleView",
            "_model_name": "ProgressStyleModel",
            "description_width": "",
            "_view_module": "@jupyter-widgets/base",
            "_model_module_version": "1.5.0",
            "_view_count": null,
            "_view_module_version": "1.2.0",
            "bar_color": null,
            "_model_module": "@jupyter-widgets/controls"
          }
        },
        "b2d0c86c17bd471792d2b1b9f76645e5": {
          "model_module": "@jupyter-widgets/base",
          "model_name": "LayoutModel",
          "model_module_version": "1.2.0",
          "state": {
            "_view_name": "LayoutView",
            "grid_template_rows": null,
            "right": null,
            "justify_content": null,
            "_view_module": "@jupyter-widgets/base",
            "overflow": null,
            "_model_module_version": "1.2.0",
            "_view_count": null,
            "flex_flow": null,
            "width": null,
            "min_width": null,
            "border": null,
            "align_items": null,
            "bottom": null,
            "_model_module": "@jupyter-widgets/base",
            "top": null,
            "grid_column": null,
            "overflow_y": null,
            "overflow_x": null,
            "grid_auto_flow": null,
            "grid_area": null,
            "grid_template_columns": null,
            "flex": null,
            "_model_name": "LayoutModel",
            "justify_items": null,
            "grid_row": null,
            "max_height": null,
            "align_content": null,
            "visibility": null,
            "align_self": null,
            "height": null,
            "min_height": null,
            "padding": null,
            "grid_auto_rows": null,
            "grid_gap": null,
            "max_width": null,
            "order": null,
            "_view_module_version": "1.2.0",
            "grid_template_areas": null,
            "object_position": null,
            "object_fit": null,
            "grid_auto_columns": null,
            "margin": null,
            "display": null,
            "left": null
          }
        },
        "f239f121e9e4451eb5111aa5186e6aa0": {
          "model_module": "@jupyter-widgets/controls",
          "model_name": "DescriptionStyleModel",
          "model_module_version": "1.5.0",
          "state": {
            "_view_name": "StyleView",
            "_model_name": "DescriptionStyleModel",
            "description_width": "",
            "_view_module": "@jupyter-widgets/base",
            "_model_module_version": "1.5.0",
            "_view_count": null,
            "_view_module_version": "1.2.0",
            "_model_module": "@jupyter-widgets/controls"
          }
        },
        "0a96a84f810240ac967689ac777dc3e1": {
          "model_module": "@jupyter-widgets/base",
          "model_name": "LayoutModel",
          "model_module_version": "1.2.0",
          "state": {
            "_view_name": "LayoutView",
            "grid_template_rows": null,
            "right": null,
            "justify_content": null,
            "_view_module": "@jupyter-widgets/base",
            "overflow": null,
            "_model_module_version": "1.2.0",
            "_view_count": null,
            "flex_flow": null,
            "width": null,
            "min_width": null,
            "border": null,
            "align_items": null,
            "bottom": null,
            "_model_module": "@jupyter-widgets/base",
            "top": null,
            "grid_column": null,
            "overflow_y": null,
            "overflow_x": null,
            "grid_auto_flow": null,
            "grid_area": null,
            "grid_template_columns": null,
            "flex": null,
            "_model_name": "LayoutModel",
            "justify_items": null,
            "grid_row": null,
            "max_height": null,
            "align_content": null,
            "visibility": null,
            "align_self": null,
            "height": null,
            "min_height": null,
            "padding": null,
            "grid_auto_rows": null,
            "grid_gap": null,
            "max_width": null,
            "order": null,
            "_view_module_version": "1.2.0",
            "grid_template_areas": null,
            "object_position": null,
            "object_fit": null,
            "grid_auto_columns": null,
            "margin": null,
            "display": null,
            "left": null
          }
        },
        "e948fc07629543278a66eb943a1fedd7": {
          "model_module": "@jupyter-widgets/controls",
          "model_name": "HBoxModel",
          "model_module_version": "1.5.0",
          "state": {
            "_view_name": "HBoxView",
            "_dom_classes": [],
            "_model_name": "HBoxModel",
            "_view_module": "@jupyter-widgets/controls",
            "_model_module_version": "1.5.0",
            "_view_count": null,
            "_view_module_version": "1.5.0",
            "box_style": "",
            "layout": "IPY_MODEL_9867c4c1c8af46b3bfa34b8be4f0b96a",
            "_model_module": "@jupyter-widgets/controls",
            "children": [
              "IPY_MODEL_8d8b6c5fd37440dab78b8bdcea5a30a0",
              "IPY_MODEL_b78bb4328d6342e49f07255ae15d23ed",
              "IPY_MODEL_24d2a545d2764ccfa04afbd1c5c0e766"
            ]
          }
        },
        "9867c4c1c8af46b3bfa34b8be4f0b96a": {
          "model_module": "@jupyter-widgets/base",
          "model_name": "LayoutModel",
          "model_module_version": "1.2.0",
          "state": {
            "_view_name": "LayoutView",
            "grid_template_rows": null,
            "right": null,
            "justify_content": null,
            "_view_module": "@jupyter-widgets/base",
            "overflow": null,
            "_model_module_version": "1.2.0",
            "_view_count": null,
            "flex_flow": null,
            "width": null,
            "min_width": null,
            "border": null,
            "align_items": null,
            "bottom": null,
            "_model_module": "@jupyter-widgets/base",
            "top": null,
            "grid_column": null,
            "overflow_y": null,
            "overflow_x": null,
            "grid_auto_flow": null,
            "grid_area": null,
            "grid_template_columns": null,
            "flex": null,
            "_model_name": "LayoutModel",
            "justify_items": null,
            "grid_row": null,
            "max_height": null,
            "align_content": null,
            "visibility": null,
            "align_self": null,
            "height": null,
            "min_height": null,
            "padding": null,
            "grid_auto_rows": null,
            "grid_gap": null,
            "max_width": null,
            "order": null,
            "_view_module_version": "1.2.0",
            "grid_template_areas": null,
            "object_position": null,
            "object_fit": null,
            "grid_auto_columns": null,
            "margin": null,
            "display": null,
            "left": null
          }
        },
        "8d8b6c5fd37440dab78b8bdcea5a30a0": {
          "model_module": "@jupyter-widgets/controls",
          "model_name": "HTMLModel",
          "model_module_version": "1.5.0",
          "state": {
            "_view_name": "HTMLView",
            "style": "IPY_MODEL_039abfa4c5a9493c9209f13d596ffeac",
            "_dom_classes": [],
            "description": "",
            "_model_name": "HTMLModel",
            "placeholder": "​",
            "_view_module": "@jupyter-widgets/controls",
            "_model_module_version": "1.5.0",
            "value": "",
            "_view_count": null,
            "_view_module_version": "1.5.0",
            "description_tooltip": null,
            "_model_module": "@jupyter-widgets/controls",
            "layout": "IPY_MODEL_4447cd4def984bfe884077414e0c1c59"
          }
        },
        "b78bb4328d6342e49f07255ae15d23ed": {
          "model_module": "@jupyter-widgets/controls",
          "model_name": "FloatProgressModel",
          "model_module_version": "1.5.0",
          "state": {
            "_view_name": "ProgressView",
            "style": "IPY_MODEL_577459573d9d4bee8614bddc57908ff7",
            "_dom_classes": [],
            "description": "",
            "_model_name": "FloatProgressModel",
            "bar_style": "success",
            "max": 1648877,
            "_view_module": "@jupyter-widgets/controls",
            "_model_module_version": "1.5.0",
            "value": 1648877,
            "_view_count": null,
            "_view_module_version": "1.5.0",
            "orientation": "horizontal",
            "min": 0,
            "description_tooltip": null,
            "_model_module": "@jupyter-widgets/controls",
            "layout": "IPY_MODEL_59451f970eb04ba687871c0222c322fd"
          }
        },
        "24d2a545d2764ccfa04afbd1c5c0e766": {
          "model_module": "@jupyter-widgets/controls",
          "model_name": "HTMLModel",
          "model_module_version": "1.5.0",
          "state": {
            "_view_name": "HTMLView",
            "style": "IPY_MODEL_4be02d98c68c415fbc1840fe44ac1e1f",
            "_dom_classes": [],
            "description": "",
            "_model_name": "HTMLModel",
            "placeholder": "​",
            "_view_module": "@jupyter-widgets/controls",
            "_model_module_version": "1.5.0",
            "value": " 1649664/? [00:00&lt;00:00, 7828265.51it/s]",
            "_view_count": null,
            "_view_module_version": "1.5.0",
            "description_tooltip": null,
            "_model_module": "@jupyter-widgets/controls",
            "layout": "IPY_MODEL_ccd8920d34764c188b4613e0ae6a0869"
          }
        },
        "039abfa4c5a9493c9209f13d596ffeac": {
          "model_module": "@jupyter-widgets/controls",
          "model_name": "DescriptionStyleModel",
          "model_module_version": "1.5.0",
          "state": {
            "_view_name": "StyleView",
            "_model_name": "DescriptionStyleModel",
            "description_width": "",
            "_view_module": "@jupyter-widgets/base",
            "_model_module_version": "1.5.0",
            "_view_count": null,
            "_view_module_version": "1.2.0",
            "_model_module": "@jupyter-widgets/controls"
          }
        },
        "4447cd4def984bfe884077414e0c1c59": {
          "model_module": "@jupyter-widgets/base",
          "model_name": "LayoutModel",
          "model_module_version": "1.2.0",
          "state": {
            "_view_name": "LayoutView",
            "grid_template_rows": null,
            "right": null,
            "justify_content": null,
            "_view_module": "@jupyter-widgets/base",
            "overflow": null,
            "_model_module_version": "1.2.0",
            "_view_count": null,
            "flex_flow": null,
            "width": null,
            "min_width": null,
            "border": null,
            "align_items": null,
            "bottom": null,
            "_model_module": "@jupyter-widgets/base",
            "top": null,
            "grid_column": null,
            "overflow_y": null,
            "overflow_x": null,
            "grid_auto_flow": null,
            "grid_area": null,
            "grid_template_columns": null,
            "flex": null,
            "_model_name": "LayoutModel",
            "justify_items": null,
            "grid_row": null,
            "max_height": null,
            "align_content": null,
            "visibility": null,
            "align_self": null,
            "height": null,
            "min_height": null,
            "padding": null,
            "grid_auto_rows": null,
            "grid_gap": null,
            "max_width": null,
            "order": null,
            "_view_module_version": "1.2.0",
            "grid_template_areas": null,
            "object_position": null,
            "object_fit": null,
            "grid_auto_columns": null,
            "margin": null,
            "display": null,
            "left": null
          }
        },
        "577459573d9d4bee8614bddc57908ff7": {
          "model_module": "@jupyter-widgets/controls",
          "model_name": "ProgressStyleModel",
          "model_module_version": "1.5.0",
          "state": {
            "_view_name": "StyleView",
            "_model_name": "ProgressStyleModel",
            "description_width": "",
            "_view_module": "@jupyter-widgets/base",
            "_model_module_version": "1.5.0",
            "_view_count": null,
            "_view_module_version": "1.2.0",
            "bar_color": null,
            "_model_module": "@jupyter-widgets/controls"
          }
        },
        "59451f970eb04ba687871c0222c322fd": {
          "model_module": "@jupyter-widgets/base",
          "model_name": "LayoutModel",
          "model_module_version": "1.2.0",
          "state": {
            "_view_name": "LayoutView",
            "grid_template_rows": null,
            "right": null,
            "justify_content": null,
            "_view_module": "@jupyter-widgets/base",
            "overflow": null,
            "_model_module_version": "1.2.0",
            "_view_count": null,
            "flex_flow": null,
            "width": null,
            "min_width": null,
            "border": null,
            "align_items": null,
            "bottom": null,
            "_model_module": "@jupyter-widgets/base",
            "top": null,
            "grid_column": null,
            "overflow_y": null,
            "overflow_x": null,
            "grid_auto_flow": null,
            "grid_area": null,
            "grid_template_columns": null,
            "flex": null,
            "_model_name": "LayoutModel",
            "justify_items": null,
            "grid_row": null,
            "max_height": null,
            "align_content": null,
            "visibility": null,
            "align_self": null,
            "height": null,
            "min_height": null,
            "padding": null,
            "grid_auto_rows": null,
            "grid_gap": null,
            "max_width": null,
            "order": null,
            "_view_module_version": "1.2.0",
            "grid_template_areas": null,
            "object_position": null,
            "object_fit": null,
            "grid_auto_columns": null,
            "margin": null,
            "display": null,
            "left": null
          }
        },
        "4be02d98c68c415fbc1840fe44ac1e1f": {
          "model_module": "@jupyter-widgets/controls",
          "model_name": "DescriptionStyleModel",
          "model_module_version": "1.5.0",
          "state": {
            "_view_name": "StyleView",
            "_model_name": "DescriptionStyleModel",
            "description_width": "",
            "_view_module": "@jupyter-widgets/base",
            "_model_module_version": "1.5.0",
            "_view_count": null,
            "_view_module_version": "1.2.0",
            "_model_module": "@jupyter-widgets/controls"
          }
        },
        "ccd8920d34764c188b4613e0ae6a0869": {
          "model_module": "@jupyter-widgets/base",
          "model_name": "LayoutModel",
          "model_module_version": "1.2.0",
          "state": {
            "_view_name": "LayoutView",
            "grid_template_rows": null,
            "right": null,
            "justify_content": null,
            "_view_module": "@jupyter-widgets/base",
            "overflow": null,
            "_model_module_version": "1.2.0",
            "_view_count": null,
            "flex_flow": null,
            "width": null,
            "min_width": null,
            "border": null,
            "align_items": null,
            "bottom": null,
            "_model_module": "@jupyter-widgets/base",
            "top": null,
            "grid_column": null,
            "overflow_y": null,
            "overflow_x": null,
            "grid_auto_flow": null,
            "grid_area": null,
            "grid_template_columns": null,
            "flex": null,
            "_model_name": "LayoutModel",
            "justify_items": null,
            "grid_row": null,
            "max_height": null,
            "align_content": null,
            "visibility": null,
            "align_self": null,
            "height": null,
            "min_height": null,
            "padding": null,
            "grid_auto_rows": null,
            "grid_gap": null,
            "max_width": null,
            "order": null,
            "_view_module_version": "1.2.0",
            "grid_template_areas": null,
            "object_position": null,
            "object_fit": null,
            "grid_auto_columns": null,
            "margin": null,
            "display": null,
            "left": null
          }
        },
        "71d119e07e3c4641aadd43f38840b876": {
          "model_module": "@jupyter-widgets/controls",
          "model_name": "HBoxModel",
          "model_module_version": "1.5.0",
          "state": {
            "_view_name": "HBoxView",
            "_dom_classes": [],
            "_model_name": "HBoxModel",
            "_view_module": "@jupyter-widgets/controls",
            "_model_module_version": "1.5.0",
            "_view_count": null,
            "_view_module_version": "1.5.0",
            "box_style": "",
            "layout": "IPY_MODEL_d2df73818c3c49d985c6d4d8f322772e",
            "_model_module": "@jupyter-widgets/controls",
            "children": [
              "IPY_MODEL_e9495c92284c41bbac05567058c4f08f",
              "IPY_MODEL_f339dac4951b4b74bd22fbb0527045bb",
              "IPY_MODEL_fb62f6f5e5f8451688594da57d9f48c5"
            ]
          }
        },
        "d2df73818c3c49d985c6d4d8f322772e": {
          "model_module": "@jupyter-widgets/base",
          "model_name": "LayoutModel",
          "model_module_version": "1.2.0",
          "state": {
            "_view_name": "LayoutView",
            "grid_template_rows": null,
            "right": null,
            "justify_content": null,
            "_view_module": "@jupyter-widgets/base",
            "overflow": null,
            "_model_module_version": "1.2.0",
            "_view_count": null,
            "flex_flow": null,
            "width": null,
            "min_width": null,
            "border": null,
            "align_items": null,
            "bottom": null,
            "_model_module": "@jupyter-widgets/base",
            "top": null,
            "grid_column": null,
            "overflow_y": null,
            "overflow_x": null,
            "grid_auto_flow": null,
            "grid_area": null,
            "grid_template_columns": null,
            "flex": null,
            "_model_name": "LayoutModel",
            "justify_items": null,
            "grid_row": null,
            "max_height": null,
            "align_content": null,
            "visibility": null,
            "align_self": null,
            "height": null,
            "min_height": null,
            "padding": null,
            "grid_auto_rows": null,
            "grid_gap": null,
            "max_width": null,
            "order": null,
            "_view_module_version": "1.2.0",
            "grid_template_areas": null,
            "object_position": null,
            "object_fit": null,
            "grid_auto_columns": null,
            "margin": null,
            "display": null,
            "left": null
          }
        },
        "e9495c92284c41bbac05567058c4f08f": {
          "model_module": "@jupyter-widgets/controls",
          "model_name": "HTMLModel",
          "model_module_version": "1.5.0",
          "state": {
            "_view_name": "HTMLView",
            "style": "IPY_MODEL_8e4ec50554044f66b40e4cba6f4ca304",
            "_dom_classes": [],
            "description": "",
            "_model_name": "HTMLModel",
            "placeholder": "​",
            "_view_module": "@jupyter-widgets/controls",
            "_model_module_version": "1.5.0",
            "value": "",
            "_view_count": null,
            "_view_module_version": "1.5.0",
            "description_tooltip": null,
            "_model_module": "@jupyter-widgets/controls",
            "layout": "IPY_MODEL_d2505173284443f889db1faccfee664d"
          }
        },
        "f339dac4951b4b74bd22fbb0527045bb": {
          "model_module": "@jupyter-widgets/controls",
          "model_name": "FloatProgressModel",
          "model_module_version": "1.5.0",
          "state": {
            "_view_name": "ProgressView",
            "style": "IPY_MODEL_88c42f4f269f4cc88007c4215fc3fa60",
            "_dom_classes": [],
            "description": "",
            "_model_name": "FloatProgressModel",
            "bar_style": "success",
            "max": 4542,
            "_view_module": "@jupyter-widgets/controls",
            "_model_module_version": "1.5.0",
            "value": 4542,
            "_view_count": null,
            "_view_module_version": "1.5.0",
            "orientation": "horizontal",
            "min": 0,
            "description_tooltip": null,
            "_model_module": "@jupyter-widgets/controls",
            "layout": "IPY_MODEL_fb7f89bc931843b18fdf2029e7b92a8c"
          }
        },
        "fb62f6f5e5f8451688594da57d9f48c5": {
          "model_module": "@jupyter-widgets/controls",
          "model_name": "HTMLModel",
          "model_module_version": "1.5.0",
          "state": {
            "_view_name": "HTMLView",
            "style": "IPY_MODEL_44a2f6cfb4a348259a16d6720f0ba99f",
            "_dom_classes": [],
            "description": "",
            "_model_name": "HTMLModel",
            "placeholder": "​",
            "_view_module": "@jupyter-widgets/controls",
            "_model_module_version": "1.5.0",
            "value": " 5120/? [00:00&lt;00:00, 114284.39it/s]",
            "_view_count": null,
            "_view_module_version": "1.5.0",
            "description_tooltip": null,
            "_model_module": "@jupyter-widgets/controls",
            "layout": "IPY_MODEL_7b534873b430497f8ae7742354c2112c"
          }
        },
        "8e4ec50554044f66b40e4cba6f4ca304": {
          "model_module": "@jupyter-widgets/controls",
          "model_name": "DescriptionStyleModel",
          "model_module_version": "1.5.0",
          "state": {
            "_view_name": "StyleView",
            "_model_name": "DescriptionStyleModel",
            "description_width": "",
            "_view_module": "@jupyter-widgets/base",
            "_model_module_version": "1.5.0",
            "_view_count": null,
            "_view_module_version": "1.2.0",
            "_model_module": "@jupyter-widgets/controls"
          }
        },
        "d2505173284443f889db1faccfee664d": {
          "model_module": "@jupyter-widgets/base",
          "model_name": "LayoutModel",
          "model_module_version": "1.2.0",
          "state": {
            "_view_name": "LayoutView",
            "grid_template_rows": null,
            "right": null,
            "justify_content": null,
            "_view_module": "@jupyter-widgets/base",
            "overflow": null,
            "_model_module_version": "1.2.0",
            "_view_count": null,
            "flex_flow": null,
            "width": null,
            "min_width": null,
            "border": null,
            "align_items": null,
            "bottom": null,
            "_model_module": "@jupyter-widgets/base",
            "top": null,
            "grid_column": null,
            "overflow_y": null,
            "overflow_x": null,
            "grid_auto_flow": null,
            "grid_area": null,
            "grid_template_columns": null,
            "flex": null,
            "_model_name": "LayoutModel",
            "justify_items": null,
            "grid_row": null,
            "max_height": null,
            "align_content": null,
            "visibility": null,
            "align_self": null,
            "height": null,
            "min_height": null,
            "padding": null,
            "grid_auto_rows": null,
            "grid_gap": null,
            "max_width": null,
            "order": null,
            "_view_module_version": "1.2.0",
            "grid_template_areas": null,
            "object_position": null,
            "object_fit": null,
            "grid_auto_columns": null,
            "margin": null,
            "display": null,
            "left": null
          }
        },
        "88c42f4f269f4cc88007c4215fc3fa60": {
          "model_module": "@jupyter-widgets/controls",
          "model_name": "ProgressStyleModel",
          "model_module_version": "1.5.0",
          "state": {
            "_view_name": "StyleView",
            "_model_name": "ProgressStyleModel",
            "description_width": "",
            "_view_module": "@jupyter-widgets/base",
            "_model_module_version": "1.5.0",
            "_view_count": null,
            "_view_module_version": "1.2.0",
            "bar_color": null,
            "_model_module": "@jupyter-widgets/controls"
          }
        },
        "fb7f89bc931843b18fdf2029e7b92a8c": {
          "model_module": "@jupyter-widgets/base",
          "model_name": "LayoutModel",
          "model_module_version": "1.2.0",
          "state": {
            "_view_name": "LayoutView",
            "grid_template_rows": null,
            "right": null,
            "justify_content": null,
            "_view_module": "@jupyter-widgets/base",
            "overflow": null,
            "_model_module_version": "1.2.0",
            "_view_count": null,
            "flex_flow": null,
            "width": null,
            "min_width": null,
            "border": null,
            "align_items": null,
            "bottom": null,
            "_model_module": "@jupyter-widgets/base",
            "top": null,
            "grid_column": null,
            "overflow_y": null,
            "overflow_x": null,
            "grid_auto_flow": null,
            "grid_area": null,
            "grid_template_columns": null,
            "flex": null,
            "_model_name": "LayoutModel",
            "justify_items": null,
            "grid_row": null,
            "max_height": null,
            "align_content": null,
            "visibility": null,
            "align_self": null,
            "height": null,
            "min_height": null,
            "padding": null,
            "grid_auto_rows": null,
            "grid_gap": null,
            "max_width": null,
            "order": null,
            "_view_module_version": "1.2.0",
            "grid_template_areas": null,
            "object_position": null,
            "object_fit": null,
            "grid_auto_columns": null,
            "margin": null,
            "display": null,
            "left": null
          }
        },
        "44a2f6cfb4a348259a16d6720f0ba99f": {
          "model_module": "@jupyter-widgets/controls",
          "model_name": "DescriptionStyleModel",
          "model_module_version": "1.5.0",
          "state": {
            "_view_name": "StyleView",
            "_model_name": "DescriptionStyleModel",
            "description_width": "",
            "_view_module": "@jupyter-widgets/base",
            "_model_module_version": "1.5.0",
            "_view_count": null,
            "_view_module_version": "1.2.0",
            "_model_module": "@jupyter-widgets/controls"
          }
        },
        "7b534873b430497f8ae7742354c2112c": {
          "model_module": "@jupyter-widgets/base",
          "model_name": "LayoutModel",
          "model_module_version": "1.2.0",
          "state": {
            "_view_name": "LayoutView",
            "grid_template_rows": null,
            "right": null,
            "justify_content": null,
            "_view_module": "@jupyter-widgets/base",
            "overflow": null,
            "_model_module_version": "1.2.0",
            "_view_count": null,
            "flex_flow": null,
            "width": null,
            "min_width": null,
            "border": null,
            "align_items": null,
            "bottom": null,
            "_model_module": "@jupyter-widgets/base",
            "top": null,
            "grid_column": null,
            "overflow_y": null,
            "overflow_x": null,
            "grid_auto_flow": null,
            "grid_area": null,
            "grid_template_columns": null,
            "flex": null,
            "_model_name": "LayoutModel",
            "justify_items": null,
            "grid_row": null,
            "max_height": null,
            "align_content": null,
            "visibility": null,
            "align_self": null,
            "height": null,
            "min_height": null,
            "padding": null,
            "grid_auto_rows": null,
            "grid_gap": null,
            "max_width": null,
            "order": null,
            "_view_module_version": "1.2.0",
            "grid_template_areas": null,
            "object_position": null,
            "object_fit": null,
            "grid_auto_columns": null,
            "margin": null,
            "display": null,
            "left": null
          }
        }
      }
    }
  },
  "cells": [
    {
      "cell_type": "markdown",
      "metadata": {
        "id": "view-in-github",
        "colab_type": "text"
      },
      "source": [
        "<a href=\"https://colab.research.google.com/github/shaon11579/DNN-fall-2021/blob/main/8740_eural_network_7.ipynb\" target=\"_parent\"><img src=\"https://colab.research.google.com/assets/colab-badge.svg\" alt=\"Open In Colab\"/></a>"
      ]
    },
    {
      "cell_type": "code",
      "metadata": {
        "id": "hYEVv49xN4vY"
      },
      "source": [
        ""
      ],
      "execution_count": null,
      "outputs": []
    },
    {
      "cell_type": "markdown",
      "metadata": {
        "id": "Nhqird_9upiv"
      },
      "source": [
        "\n",
        "\n",
        "---\n",
        "\n",
        "![Screen Shot 2021-09-07 at 9.49.23 AM.png](data:image/png;base64,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)"
      ]
    },
    {
      "cell_type": "markdown",
      "metadata": {
        "id": "KQ_Ww6svvZJk"
      },
      "source": [
        "[link text](https://)"
      ]
    },
    {
      "cell_type": "code",
      "metadata": {
        "id": "a3FHyElsbe47"
      },
      "source": [
        "import numpy as np \n",
        "import pandas as pd \n",
        "import matplotlib.pyplot as plt\n",
        "from sklearn import preprocessing\n",
        "from sklearn.preprocessing import MinMaxScaler\n",
        "from sklearn import metrics\n",
        "from sklearn.metrics import confusion_matrix\n",
        "import itertools"
      ],
      "execution_count": 6,
      "outputs": []
    },
    {
      "cell_type": "code",
      "metadata": {
        "id": "hxipZvpAbzeL"
      },
      "source": [
        "def Sigmoid(Z):\n",
        "    return 1/(1+np.exp(-Z))\n",
        "def Relu(Z):\n",
        "    return np.maximum(0,Z)\n",
        "def forward(self):    \n",
        "        Z1 = self.param['W1'].dot(self.X) + self.param['b1'] \n",
        "        A1 = Relu(Z1)\n",
        "        self.ch['Z1'],self.ch['A1']=Z1,A1\n",
        "        \n",
        "        Z2 = self.param['W2'].dot(A1) + self.param['b2']  \n",
        "        A2 = Sigmoid(Z2)\n",
        "        self.ch['Z2'],self.ch['A2']=Z2,A2\n",
        "        self.Yh=A2\n",
        "        loss=self.nloss(A2)\n",
        "        return self.Yh, loss"
      ],
      "execution_count": 3,
      "outputs": []
    },
    {
      "cell_type": "code",
      "metadata": {
        "id": "N0HJ5AYdcWw9"
      },
      "source": [
        "\n",
        "def dSigmoid(Z):\n",
        "    s = 1/(1+np.exp(-Z))\n",
        "    dZ = s * (1-s)\n",
        "    return dZ\n",
        "def backward(self):\n",
        "        dLoss_Yh = - (np.divide(self.Y, self.Yh ) - np.divide(1 - self.Y, 1 - self.Yh))    \n",
        "        \n",
        "        dLoss_Z2 = dLoss_Yh * dSigmoid(self.ch['Z2'])    \n",
        "        dLoss_A1 = np.dot(self.param[\"W2\"].T,dLoss_Z2)\n",
        "        dLoss_W2 = 1./self.ch['A1'].shape[1] * np.dot(dLoss_Z2,self.ch['A1'].T)\n",
        "        dLoss_b2 = 1./self.ch['A1'].shape[1] * np.dot(dLoss_Z2, np.ones([dLoss_Z2.shape[1],1])) \n",
        "                            \n",
        "        dLoss_Z1 = dLoss_A1 * dRelu(self.ch['Z1'])        \n",
        "        dLoss_A0 = np.dot(self.param[\"W1\"].T,dLoss_Z1)\n",
        "        dLoss_W1 = 1./self.X.shape[1] * np.dot(dLoss_Z1,self.X.T)\n",
        "        dLoss_b1 = 1./self.X.shape[1] * np.dot(dLoss_Z1, np.ones([dLoss_Z1.shape[1],1]))  \n",
        "        \n",
        "        self.param[\"W1\"] = self.param[\"W1\"] - self.lr * dLoss_W1\n",
        "        self.param[\"b1\"] = self.param[\"b1\"] - self.lr * dLoss_b1\n",
        "        self.param[\"W2\"] = self.param[\"W2\"] - self.lr * dLoss_W2\n",
        "        self.param[\"b2\"] = self.param[\"b2\"] - self.lr * dLoss_b2"
      ],
      "execution_count": 4,
      "outputs": []
    },
    {
      "cell_type": "code",
      "metadata": {
        "colab": {
          "base_uri": "https://localhost:8080/"
        },
        "id": "K8BYmUAmeSxZ",
        "outputId": "cb7c7947-a55d-468c-aa0e-f1eb383ac5b3"
      },
      "source": [
        "import numpy\n",
        "\n",
        "def sigmoid(sop):\n",
        "    return 1.0 / (1 + numpy.exp(-1 * sop))\n",
        "\n",
        "def error(predicted, target):\n",
        "    return numpy.power(predicted - target, 2)\n",
        "\n",
        "def error_predicted_deriv(predicted, target):\n",
        "    return 2 * (predicted - target)\n",
        "\n",
        "def activation_sop_deriv(sop):\n",
        "    return sigmoid(sop) * (1.0 - sigmoid(sop))\n",
        "\n",
        "def sop_w_deriv(x):\n",
        "    return x\n",
        "\n",
        "def update_w(w, grad, learning_rate):\n",
        "    return w - learning_rate * grad\n",
        "\n",
        "x1 = 0.7\n",
        "x2=0.34\n",
        "w1=-1.5\n",
        "w2= -0.35\n",
        "\n",
        "\n",
        "for k in range(10):\n",
        "    # Forward Pass\n",
        "    y = w1 * x1+ w2*x2\n",
        "    predicted = sigmoid(y)\n",
        "    err = error(predicted, target)\n",
        "\n",
        "    # Backward Pass\n",
        "    g1 = error_predicted_deriv(predicted, target)\n",
        "\n",
        "    g2 = activation_sop_deriv(predicted)\n",
        "\n",
        "    g3 = sop_w_deriv(x)\n",
        "\n",
        "    grad = g3 * g2 * g1\n",
        "    print(predicted)\n",
        "\n",
        "    "
      ],
      "execution_count": 9,
      "outputs": [
        {
          "output_type": "stream",
          "name": "stdout",
          "text": [
            "0.23703578653599017\n",
            "0.23703578653599017\n",
            "0.23703578653599017\n",
            "0.23703578653599017\n",
            "0.23703578653599017\n",
            "0.23703578653599017\n",
            "0.23703578653599017\n",
            "0.23703578653599017\n",
            "0.23703578653599017\n",
            "0.23703578653599017\n"
          ]
        }
      ]
    },
    {
      "cell_type": "code",
      "metadata": {
        "colab": {
          "base_uri": "https://localhost:8080/",
          "height": 130
        },
        "id": "YpSj9M2Khhvk",
        "outputId": "a8c851a8-011e-4898-9be0-c8642c73f88f"
      },
      "source": [
        "import numpy as np\n",
        "import numpy.matlib\n",
        "\n",
        "class nn_Sigmoid:\n",
        "    def forward(self, x):\n",
        "        return 1 / (1 + np.exp(-x))\n",
        "\n",
        "class nn_Linear:\n",
        "    def __init__(self, input_dim, output_dim):\n",
        "        # Initialized with random numbers from a gaussian N(0, 0.001)\n",
        "        self.weight = np.matlib.randn(input_dim, output_dim) * 0.001\n",
        "        self.bias = np.matlib.randn((1, output_dim)) * 0.001\n",
        "        \n",
        "    # 𝑦 = sigmoid⁡{(𝑥1𝑤1 + max⁡(𝑥2, 𝑤2)}\n",
        "    #Where, X1 = 0.7, W1 = -1.5, X2 = 0.34, and W2 = -0.35.\n",
        "    def forward(self, x):\n",
        "        return np.dot(x, self.weight) + self.bias\n",
        "    \n",
        "    def getParameters(self):\n",
        "        return [self.weight, self.bias]\n",
        "\n",
        "# Let's test the composition of the two functions (forward-propagation in the neural network).\n",
        "x1 = np.array([[0.7,X2 = 0.34]])\n",
        "a1 = nn_Sigmoid().forward(nn_Linear(4, 3).forward(x1))\n",
        "print('x[1] = '+ str(x1))\n",
        "print('a[1] = ' + str(a1))\n",
        "\n",
        "# Let's test the composition of the two functions (forward-propagation in the neural network).\n",
        "x2 = np.array([[4, 5, 2, 1]])\n",
        "a2 = nn_Sigmoid().forward(nn_Linear(4, 3).forward(x2))\n",
        "print('x[2] = '+ str(x2))\n",
        "print('a[2] = ' + str(a2))\n",
        "\n",
        "# We can also compute both at once, which could be more efficient since it requires a single matrix multiplication.\n",
        "x = np.concatenate((x1, x2), axis = 0)\n",
        "a = nn_Sigmoid().forward(nn_Linear(4, 3).forward(x))\n",
        "print('x = ' + str(x))\n",
        "print('a = ' + str(a))"
      ],
      "execution_count": 5,
      "outputs": [
        {
          "output_type": "error",
          "ename": "SyntaxError",
          "evalue": "ignored",
          "traceback": [
            "\u001b[0;36m  File \u001b[0;32m\"<ipython-input-5-09acc535fa06>\"\u001b[0;36m, line \u001b[0;32m23\u001b[0m\n\u001b[0;31m    x1 = np.array([[0.7,X2 = 0.34]])\u001b[0m\n\u001b[0m                           ^\u001b[0m\n\u001b[0;31mSyntaxError\u001b[0m\u001b[0;31m:\u001b[0m invalid syntax\n"
          ]
        }
      ]
    },
    {
      "cell_type": "code",
      "metadata": {
        "id": "jksfnkoLb2d1"
      },
      "source": [
        ""
      ],
      "execution_count": null,
      "outputs": []
    },
    {
      "cell_type": "code",
      "metadata": {
        "colab": {
          "base_uri": "https://localhost:8080/",
          "height": 232
        },
        "id": "PEHMEk_yaIf7",
        "outputId": "19587467-dcbf-4506-f2f9-6debd5bcbf50"
      },
      "source": [
        "import numpy as np\n",
        "import numpy.matlib\n",
        "w = [2,-3,-3] # assume some random weights and data\n",
        "x = [-1, -2]\n",
        "\n",
        "# forward pass\n",
        "dot = w[0]*x[0] + w[1]*x[1] + w[2]\n",
        "f = 1.0 / (1 + math.exp(-dot)) # sigmoid function\n",
        "\n",
        "# backward pass through the neuron (backpropagation)\n",
        "ddot = (1 - f) * f # gradient on dot variable, using the sigmoid gradient derivation\n",
        "dx = [w[0] * ddot, w[1] * ddot] # backprop into x\n",
        "dw = [x[0] * ddot, x[1] * ddot, 1.0 * ddot] # backprop into w\n",
        "# we're done! we have the gradients on the inputs to the circuit"
      ],
      "execution_count": 4,
      "outputs": [
        {
          "output_type": "error",
          "ename": "NameError",
          "evalue": "ignored",
          "traceback": [
            "\u001b[0;31m---------------------------------------------------------------------------\u001b[0m",
            "\u001b[0;31mNameError\u001b[0m                                 Traceback (most recent call last)",
            "\u001b[0;32m<ipython-input-4-af88379f202a>\u001b[0m in \u001b[0;36m<module>\u001b[0;34m()\u001b[0m\n\u001b[1;32m      6\u001b[0m \u001b[0;31m# forward pass\u001b[0m\u001b[0;34m\u001b[0m\u001b[0;34m\u001b[0m\u001b[0;34m\u001b[0m\u001b[0m\n\u001b[1;32m      7\u001b[0m \u001b[0mdot\u001b[0m \u001b[0;34m=\u001b[0m \u001b[0mw\u001b[0m\u001b[0;34m[\u001b[0m\u001b[0;36m0\u001b[0m\u001b[0;34m]\u001b[0m\u001b[0;34m*\u001b[0m\u001b[0mx\u001b[0m\u001b[0;34m[\u001b[0m\u001b[0;36m0\u001b[0m\u001b[0;34m]\u001b[0m \u001b[0;34m+\u001b[0m \u001b[0mw\u001b[0m\u001b[0;34m[\u001b[0m\u001b[0;36m1\u001b[0m\u001b[0;34m]\u001b[0m\u001b[0;34m*\u001b[0m\u001b[0mx\u001b[0m\u001b[0;34m[\u001b[0m\u001b[0;36m1\u001b[0m\u001b[0;34m]\u001b[0m \u001b[0;34m+\u001b[0m \u001b[0mw\u001b[0m\u001b[0;34m[\u001b[0m\u001b[0;36m2\u001b[0m\u001b[0;34m]\u001b[0m\u001b[0;34m\u001b[0m\u001b[0;34m\u001b[0m\u001b[0m\n\u001b[0;32m----> 8\u001b[0;31m \u001b[0mf\u001b[0m \u001b[0;34m=\u001b[0m \u001b[0;36m1.0\u001b[0m \u001b[0;34m/\u001b[0m \u001b[0;34m(\u001b[0m\u001b[0;36m1\u001b[0m \u001b[0;34m+\u001b[0m \u001b[0mmath\u001b[0m\u001b[0;34m.\u001b[0m\u001b[0mexp\u001b[0m\u001b[0;34m(\u001b[0m\u001b[0;34m-\u001b[0m\u001b[0mdot\u001b[0m\u001b[0;34m)\u001b[0m\u001b[0;34m)\u001b[0m \u001b[0;31m# sigmoid function\u001b[0m\u001b[0;34m\u001b[0m\u001b[0;34m\u001b[0m\u001b[0m\n\u001b[0m\u001b[1;32m      9\u001b[0m \u001b[0;34m\u001b[0m\u001b[0m\n\u001b[1;32m     10\u001b[0m \u001b[0;31m# backward pass through the neuron (backpropagation)\u001b[0m\u001b[0;34m\u001b[0m\u001b[0;34m\u001b[0m\u001b[0;34m\u001b[0m\u001b[0m\n",
            "\u001b[0;31mNameError\u001b[0m: name 'math' is not defined"
          ]
        }
      ]
    },
    {
      "cell_type": "code",
      "metadata": {
        "id": "qnp8XFWGHCpw"
      },
      "source": [
        "import sys \n",
        "import numpy as np \n",
        "import matplotlib \n"
      ],
      "execution_count": 2,
      "outputs": []
    },
    {
      "cell_type": "code",
      "metadata": {
        "id": "JSI7dL4BmLrC"
      },
      "source": [
        "from torch import nn\n",
        "class Network(nn.Module):\n",
        "    def __init__(self):\n",
        "        super().__init__()\n",
        "        \n",
        "        # Inputs to hidden layer linear transformation\n",
        "        self.hidden = nn.Linear(784, 256)\n",
        "        # Output layer, 10 units - one for each digit\n",
        "        self.output = nn.Linear(256, 10)\n",
        "        \n",
        "        # Define sigmoid activation and softmax output \n",
        "        self.sigmoid = nn.Sigmoid()\n",
        "        self.softmax = nn.Softmax(dim=1)\n",
        "        \n",
        "    def forward(self, x):\n",
        "        # Pass the input tensor through each of our operations\n",
        "        x = self.hidden(x)\n",
        "        x = self.sigmoid(x)\n",
        "        x = self.output(x)\n",
        "        x = self.softmax(x)\n",
        "        \n",
        "        return x"
      ],
      "execution_count": 3,
      "outputs": []
    },
    {
      "cell_type": "code",
      "metadata": {
        "colab": {
          "base_uri": "https://localhost:8080/"
        },
        "id": "3Q9ptxItyySt",
        "outputId": "bf4a297f-7ead-4627-e513-b264f40a2597"
      },
      "source": [
        "# Hyperparameters for our network\n",
        "#source: https://towardsdatascience.com/building-neural-network-using-pytorch-84f6e75f9a\n",
        "input_size = 784\n",
        "hidden_sizes = [150, 120]\n",
        "output_size = 10\n",
        "# Build a feed-forward network\n",
        "model = nn.Sequential(nn.Linear(input_size, hidden_sizes[0]),\n",
        "                      nn.Sigmoid(),\n",
        "                      nn.Linear(hidden_sizes[0], hidden_sizes[1]),\n",
        "                      nn.Sigmoid(),\n",
        "                      nn.Linear(hidden_sizes[1], output_size),\n",
        "                      nn.Softmax(dim=1))\n",
        "print(model)"
      ],
      "execution_count": 11,
      "outputs": [
        {
          "output_type": "stream",
          "name": "stdout",
          "text": [
            "Sequential(\n",
            "  (0): Linear(in_features=784, out_features=150, bias=True)\n",
            "  (1): Sigmoid()\n",
            "  (2): Linear(in_features=150, out_features=120, bias=True)\n",
            "  (3): Sigmoid()\n",
            "  (4): Linear(in_features=120, out_features=10, bias=True)\n",
            "  (5): Softmax(dim=1)\n",
            ")\n"
          ]
        }
      ]
    },
    {
      "cell_type": "code",
      "metadata": {
        "colab": {
          "base_uri": "https://localhost:8080/",
          "height": 130
        },
        "id": "RUMVFeFTV2Tv",
        "outputId": "76674815-32f8-4a4d-9933-9aa35b13438d"
      },
      "source": [
        "# Hyperparameters for our network\n",
        "input_size = 784\n",
        "hidden_sizes = [500, 250]\n",
        "hidden_sizes2 = [250,100]\n",
        "output_size = 10\n",
        "# Build a feed-forward network\n",
        "model = nn.Sequential(nn.Linear(input_size, hidden_sizes[0]),\n",
        "                      nn.Sigmoid(),\n",
        "                      nn.Linear(hidden_sizes[0], hidden_sizes[1]),\n",
        "                      nn.Sigmoid(),\n",
        "                      nn.Linear(hidden_sizes[1], output_size),\n",
        "                      nn.Sigmoid(),\n",
        "                      nn.Softmax(dim=1),\n",
        "                      nn.batch_size=64,\n",
        "                      nn.epochs=50)\n",
        "                    \n",
        "print(model)"
      ],
      "execution_count": 7,
      "outputs": [
        {
          "output_type": "error",
          "ename": "SyntaxError",
          "evalue": "ignored",
          "traceback": [
            "\u001b[0;36m  File \u001b[0;32m\"<ipython-input-7-ebcd1779d33d>\"\u001b[0;36m, line \u001b[0;32m14\u001b[0m\n\u001b[0;31m    nn.batch_size=64,\u001b[0m\n\u001b[0m    ^\u001b[0m\n\u001b[0;31mSyntaxError\u001b[0m\u001b[0;31m:\u001b[0m keyword can't be an expression\n"
          ]
        }
      ]
    },
    {
      "cell_type": "code",
      "metadata": {
        "colab": {
          "base_uri": "https://localhost:8080/"
        },
        "id": "Zkswy4MSzBHg",
        "outputId": "a987226a-6b67-472f-b170-8ab92acd6b2d"
      },
      "source": [
        "from collections import OrderedDict\n",
        "model = nn.Sequential(OrderedDict([\n",
        "                      ('fc1', nn.Linear(input_size, hidden_sizes[0])),\n",
        "                      ('relu1', nn.ReLU()),\n",
        "                      ('fc2', nn.Linear(hidden_sizes[0], hidden_sizes[1])),\n",
        "                      ('relu2', nn.ReLU()),\n",
        "                      ('output', nn.Linear(hidden_sizes[1], output_size)),\n",
        "                      ('softmax', nn.Softmax(dim=1))]))\n",
        "\n",
        "model"
      ],
      "execution_count": 5,
      "outputs": [
        {
          "output_type": "execute_result",
          "data": {
            "text/plain": [
              "Sequential(\n",
              "  (fc1): Linear(in_features=784, out_features=128, bias=True)\n",
              "  (relu1): ReLU()\n",
              "  (fc2): Linear(in_features=128, out_features=64, bias=True)\n",
              "  (relu2): ReLU()\n",
              "  (output): Linear(in_features=64, out_features=10, bias=True)\n",
              "  (softmax): Softmax(dim=1)\n",
              ")"
            ]
          },
          "metadata": {},
          "execution_count": 5
        }
      ]
    },
    {
      "cell_type": "code",
      "metadata": {
        "colab": {
          "base_uri": "https://localhost:8080/",
          "height": 471,
          "referenced_widgets": [
            "9719ad14b2bd49d58341905120f99c09",
            "12ee49baa59c46ec9b9110e616919770",
            "dfb6aa18d5204d9ea11695e06993a2ec",
            "1eb5411013e747b3846b4a08e7f9d144",
            "741ffe93a33a4f60a7f53f0bebb88663",
            "81a03e51c5924ab4afc3bd0d190feb13",
            "c260a54f0c3b433ba850b57652d2109a",
            "551ba62794444d35a0071d44770a426c",
            "b27ec2bde2bd42a8a5ba1471849d34ae",
            "156d881308fa493e9cf1d46c475066e0",
            "763ca012b22f4673a7640dda713b5152",
            "c02fb55da1024133bf1a0dc945a01da5",
            "a7fad363c1d14fd4959c6f06f046fa08",
            "8ea5a5f1ee924f929f15d14c9fb55534",
            "c2b4afca7d544bf49700b0b8aa59d60b",
            "c3401ef6a6384e13b4738ad4d4f52892",
            "762d9681f74c4f51ade8c348932c46ee",
            "4abd99dcb61d44c28d1db26285530603",
            "5911696c87904b1b9107e0c210d17ffd",
            "b2d0c86c17bd471792d2b1b9f76645e5",
            "f239f121e9e4451eb5111aa5186e6aa0",
            "0a96a84f810240ac967689ac777dc3e1",
            "e948fc07629543278a66eb943a1fedd7",
            "9867c4c1c8af46b3bfa34b8be4f0b96a",
            "8d8b6c5fd37440dab78b8bdcea5a30a0",
            "b78bb4328d6342e49f07255ae15d23ed",
            "24d2a545d2764ccfa04afbd1c5c0e766",
            "039abfa4c5a9493c9209f13d596ffeac",
            "4447cd4def984bfe884077414e0c1c59",
            "577459573d9d4bee8614bddc57908ff7",
            "59451f970eb04ba687871c0222c322fd",
            "4be02d98c68c415fbc1840fe44ac1e1f",
            "ccd8920d34764c188b4613e0ae6a0869",
            "71d119e07e3c4641aadd43f38840b876",
            "d2df73818c3c49d985c6d4d8f322772e",
            "e9495c92284c41bbac05567058c4f08f",
            "f339dac4951b4b74bd22fbb0527045bb",
            "fb62f6f5e5f8451688594da57d9f48c5",
            "8e4ec50554044f66b40e4cba6f4ca304",
            "d2505173284443f889db1faccfee664d",
            "88c42f4f269f4cc88007c4215fc3fa60",
            "fb7f89bc931843b18fdf2029e7b92a8c",
            "44a2f6cfb4a348259a16d6720f0ba99f",
            "7b534873b430497f8ae7742354c2112c"
          ]
        },
        "id": "chOVK2NzzwE1",
        "outputId": "1f942295-d1d8-4e85-abee-4d92181b29dc"
      },
      "source": [
        "import torch\n",
        "from torch import nn\n",
        "import torch.nn.functional as F\n",
        "from torchvision import datasets, transforms\n",
        "# Define a transform to normalize the data\n",
        "transform = transforms.Compose([transforms.ToTensor(),\n",
        "                                transforms.Normalize((0.5,), (0.5,)),\n",
        "                              ])\n",
        "# Download and load the training data\n",
        "trainset = datasets.MNIST('~/.pytorch/MNIST_data/', download=True, train=True, transform=transform)\n",
        "trainloader = torch.utils.data.DataLoader(trainset, batch_size=64, shuffle=True)"
      ],
      "execution_count": 7,
      "outputs": [
        {
          "output_type": "stream",
          "name": "stdout",
          "text": [
            "Downloading http://yann.lecun.com/exdb/mnist/train-images-idx3-ubyte.gz\n",
            "Downloading http://yann.lecun.com/exdb/mnist/train-images-idx3-ubyte.gz to /root/.pytorch/MNIST_data/MNIST/raw/train-images-idx3-ubyte.gz\n"
          ]
        },
        {
          "output_type": "display_data",
          "data": {
            "application/vnd.jupyter.widget-view+json": {
              "model_id": "9719ad14b2bd49d58341905120f99c09",
              "version_minor": 0,
              "version_major": 2
            },
            "text/plain": [
              "  0%|          | 0/9912422 [00:00<?, ?it/s]"
            ]
          },
          "metadata": {}
        },
        {
          "output_type": "stream",
          "name": "stdout",
          "text": [
            "Extracting /root/.pytorch/MNIST_data/MNIST/raw/train-images-idx3-ubyte.gz to /root/.pytorch/MNIST_data/MNIST/raw\n",
            "\n",
            "Downloading http://yann.lecun.com/exdb/mnist/train-labels-idx1-ubyte.gz\n",
            "Downloading http://yann.lecun.com/exdb/mnist/train-labels-idx1-ubyte.gz to /root/.pytorch/MNIST_data/MNIST/raw/train-labels-idx1-ubyte.gz\n"
          ]
        },
        {
          "output_type": "display_data",
          "data": {
            "application/vnd.jupyter.widget-view+json": {
              "model_id": "c02fb55da1024133bf1a0dc945a01da5",
              "version_minor": 0,
              "version_major": 2
            },
            "text/plain": [
              "  0%|          | 0/28881 [00:00<?, ?it/s]"
            ]
          },
          "metadata": {}
        },
        {
          "output_type": "stream",
          "name": "stdout",
          "text": [
            "Extracting /root/.pytorch/MNIST_data/MNIST/raw/train-labels-idx1-ubyte.gz to /root/.pytorch/MNIST_data/MNIST/raw\n",
            "\n",
            "Downloading http://yann.lecun.com/exdb/mnist/t10k-images-idx3-ubyte.gz\n",
            "Downloading http://yann.lecun.com/exdb/mnist/t10k-images-idx3-ubyte.gz to /root/.pytorch/MNIST_data/MNIST/raw/t10k-images-idx3-ubyte.gz\n"
          ]
        },
        {
          "output_type": "display_data",
          "data": {
            "application/vnd.jupyter.widget-view+json": {
              "model_id": "e948fc07629543278a66eb943a1fedd7",
              "version_minor": 0,
              "version_major": 2
            },
            "text/plain": [
              "  0%|          | 0/1648877 [00:00<?, ?it/s]"
            ]
          },
          "metadata": {}
        },
        {
          "output_type": "stream",
          "name": "stdout",
          "text": [
            "Extracting /root/.pytorch/MNIST_data/MNIST/raw/t10k-images-idx3-ubyte.gz to /root/.pytorch/MNIST_data/MNIST/raw\n",
            "\n",
            "Downloading http://yann.lecun.com/exdb/mnist/t10k-labels-idx1-ubyte.gz\n",
            "Downloading http://yann.lecun.com/exdb/mnist/t10k-labels-idx1-ubyte.gz to /root/.pytorch/MNIST_data/MNIST/raw/t10k-labels-idx1-ubyte.gz\n"
          ]
        },
        {
          "output_type": "display_data",
          "data": {
            "application/vnd.jupyter.widget-view+json": {
              "model_id": "71d119e07e3c4641aadd43f38840b876",
              "version_minor": 0,
              "version_major": 2
            },
            "text/plain": [
              "  0%|          | 0/4542 [00:00<?, ?it/s]"
            ]
          },
          "metadata": {}
        },
        {
          "output_type": "stream",
          "name": "stdout",
          "text": [
            "Extracting /root/.pytorch/MNIST_data/MNIST/raw/t10k-labels-idx1-ubyte.gz to /root/.pytorch/MNIST_data/MNIST/raw\n",
            "\n"
          ]
        },
        {
          "output_type": "stream",
          "name": "stderr",
          "text": [
            "/usr/local/lib/python3.7/dist-packages/torchvision/datasets/mnist.py:498: UserWarning: The given NumPy array is not writeable, and PyTorch does not support non-writeable tensors. This means you can write to the underlying (supposedly non-writeable) NumPy array using the tensor. You may want to copy the array to protect its data or make it writeable before converting it to a tensor. This type of warning will be suppressed for the rest of this program. (Triggered internally at  /pytorch/torch/csrc/utils/tensor_numpy.cpp:180.)\n",
            "  return torch.from_numpy(parsed.astype(m[2], copy=False)).view(*s)\n"
          ]
        }
      ]
    },
    {
      "cell_type": "code",
      "metadata": {
        "colab": {
          "base_uri": "https://localhost:8080/",
          "height": 130
        },
        "id": "T1Ytt9axzR-o",
        "outputId": "c7d901a0-1d7f-439a-eb0d-374f5484f4e8"
      },
      "source": [
        "model = nn.Sequential(nn.Linear(784, 128),\n",
        "                      nn.ReLU(),\n",
        "                      nn.Linear(128, 64),\n",
        "                      nn.ReLU(),\n",
        "                      nn.Linear(64, 10),\n",
        "                      nn.LogSoftmax(dim=1))\n",
        "# Define the loss\n",
        "criterion = nn.NLLLoss()\n",
        "# Optimizers require the parameters to optimize and a learning rate\n",
        "\n",
        " optimizer = optim.SGD(model.parameters(), lr=0.003)\n",
        " \n",
        "epochs = 5\n",
        "for e in range(epochs):\n",
        "    running_loss = 0\n",
        "    for images, labels in trainloader:\n",
        "        # Flatten MNIST images into a 784 long vector\n",
        "        images = images.view(images.shape[0], -1)\n",
        "    \n",
        "        # Training pass\n",
        "        optimizer.zero_grad()\n",
        "        \n",
        "        output = model(images)\n",
        "        loss = criterion(output, labels)\n",
        "        loss.backward()\n",
        "        optimizer.step()\n",
        "        \n",
        "        running_loss += loss.item()\n",
        "    else:\n",
        "        print(f\"Training loss: {running_loss/len(trainloader)}\")"
      ],
      "execution_count": 9,
      "outputs": [
        {
          "output_type": "error",
          "ename": "IndentationError",
          "evalue": "ignored",
          "traceback": [
            "\u001b[0;36m  File \u001b[0;32m\"<ipython-input-9-5f12e887983a>\"\u001b[0;36m, line \u001b[0;32m11\u001b[0m\n\u001b[0;31m    optimizer = optim.SGD(model.parameters(), lr=0.003)\u001b[0m\n\u001b[0m    ^\u001b[0m\n\u001b[0;31mIndentationError\u001b[0m\u001b[0;31m:\u001b[0m unexpected indent\n"
          ]
        }
      ]
    },
    {
      "cell_type": "markdown",
      "metadata": {
        "id": "a0VNxnX-G6s7"
      },
      "source": [
        "Question 2 part B: Evaluate MNIST data, Write a report comparing two DNN models with training logs, testing errors, computational times etc.\n"
      ]
    },
    {
      "cell_type": "code",
      "metadata": {
        "colab": {
          "base_uri": "https://localhost:8080/",
          "height": 353
        },
        "id": "7iubd8F1vpYH",
        "outputId": "6d50a84c-9e29-4c4c-c75a-51b6ee2b8a74"
      },
      "source": [
        "\n",
        "# example of loading the mnist dataset\n",
        "from keras.datasets import mnist\n",
        "from matplotlib import pyplot\n",
        "# load dataset\n",
        "(trainX, trainy), (testX, testy) = mnist.load_data()\n",
        "# summarize loaded dataset\n",
        "print('Train: X=%s, y=%s' % (trainX.shape, trainy.shape))\n",
        "print('Test: X=%s, y=%s' % (testX.shape, testy.shape))\n",
        "# plot first few images\n",
        "for i in range(9):\n",
        "\t# define subplot\n",
        "\tpyplot.subplot(330 + 1 + i)\n",
        "\t# plot raw pixel data\n",
        "\tpyplot.imshow(trainX[i], cmap=pyplot.get_cmap('gray'))\n",
        "# show the figure\n",
        "pyplot.show()"
      ],
      "execution_count": null,
      "outputs": [
        {
          "output_type": "stream",
          "name": "stdout",
          "text": [
            "Downloading data from https://storage.googleapis.com/tensorflow/tf-keras-datasets/mnist.npz\n",
            "11493376/11490434 [==============================] - 0s 0us/step\n",
            "11501568/11490434 [==============================] - 0s 0us/step\n",
            "Train: X=(60000, 28, 28), y=(60000,)\n",
            "Test: X=(10000, 28, 28), y=(10000,)\n"
          ]
        },
        {
          "output_type": "display_data",
          "data": {
            "image/png": "[encoded data removed]",
            "text/plain": [
              "<Figure size 432x288 with 9 Axes>"
            ]
          },
          "metadata": {
            "needs_background": "light"
          }
        }
      ]
    },
    {
      "cell_type": "markdown",
      "metadata": {
        "id": "n_i2qxsgwgLU"
      },
      "source": [
        ""
      ]
    },
    {
      "cell_type": "code",
      "metadata": {
        "colab": {
          "base_uri": "https://localhost:8080/",
          "height": 181
        },
        "id": "5_GA4bKQwJ4G",
        "outputId": "3ed51aaf-5308-4a1b-f8d3-96eda1353d0f"
      },
      "source": [
        "\n",
        "history = model.fit(..., validation_data=(valX, valY))"
      ],
      "execution_count": null,
      "outputs": [
        {
          "output_type": "error",
          "ename": "NameError",
          "evalue": "ignored",
          "traceback": [
            "\u001b[0;31m---------------------------------------------------------------------------\u001b[0m",
            "\u001b[0;31mNameError\u001b[0m                                 Traceback (most recent call last)",
            "\u001b[0;32m<ipython-input-8-192e95d15239>\u001b[0m in \u001b[0;36m<module>\u001b[0;34m()\u001b[0m\n\u001b[1;32m      1\u001b[0m \u001b[0;34m\u001b[0m\u001b[0m\n\u001b[0;32m----> 2\u001b[0;31m \u001b[0mhistory\u001b[0m \u001b[0;34m=\u001b[0m \u001b[0mmodel\u001b[0m\u001b[0;34m.\u001b[0m\u001b[0mfit\u001b[0m\u001b[0;34m(\u001b[0m\u001b[0;34m...\u001b[0m\u001b[0;34m,\u001b[0m \u001b[0mvalidation_data\u001b[0m\u001b[0;34m=\u001b[0m\u001b[0;34m(\u001b[0m\u001b[0mvalX\u001b[0m\u001b[0;34m,\u001b[0m \u001b[0mvalY\u001b[0m\u001b[0;34m)\u001b[0m\u001b[0;34m)\u001b[0m\u001b[0;34m\u001b[0m\u001b[0;34m\u001b[0m\u001b[0m\n\u001b[0m",
            "\u001b[0;31mNameError\u001b[0m: name 'model' is not defined"
          ]
        }
      ]
    },
    {
      "cell_type": "code",
      "metadata": {
        "id": "Mxlo6_cPx_G3"
      },
      "source": [
        "# load dataset\n",
        "(trainX, trainY), (testX, testY) = mnist.load_data()\n",
        "# reshape dataset to have a single channel\n",
        "trainX = trainX.reshape((trainX.shape[0], 28, 28, 1))\n",
        "testX = testX.reshape((testX.shape[0], 28, 28, 1))\n",
        "\n",
        "# load dataset\n",
        "(trainX, trainY), (testX, testY) = mnist.load_data()\n",
        "# reshape dataset to have a single channel\n",
        "trainX = trainX.reshape((trainX.shape[0], 28, 28, 1))\n",
        "testX = testX.reshape((testX.shape[0], 28, 28, 1))"
      ],
      "execution_count": null,
      "outputs": []
    },
    {
      "cell_type": "code",
      "metadata": {
        "colab": {
          "base_uri": "https://localhost:8080/",
          "height": 198
        },
        "id": "o4ew_Xp7yMyd",
        "outputId": "13d5e6c8-de7d-49d8-f1ed-3018468a2e2d"
      },
      "source": [
        "# one hot encode target values\n",
        "trainY = to_categorical(trainY)\n",
        "testY = to_categorical(testY)"
      ],
      "execution_count": null,
      "outputs": [
        {
          "output_type": "error",
          "ename": "NameError",
          "evalue": "ignored",
          "traceback": [
            "\u001b[0;31m---------------------------------------------------------------------------\u001b[0m",
            "\u001b[0;31mNameError\u001b[0m                                 Traceback (most recent call last)",
            "\u001b[0;32m<ipython-input-11-7a3a592b54dd>\u001b[0m in \u001b[0;36m<module>\u001b[0;34m()\u001b[0m\n\u001b[1;32m      1\u001b[0m \u001b[0;31m# one hot encode target values\u001b[0m\u001b[0;34m\u001b[0m\u001b[0;34m\u001b[0m\u001b[0;34m\u001b[0m\u001b[0m\n\u001b[0;32m----> 2\u001b[0;31m \u001b[0mtrainY\u001b[0m \u001b[0;34m=\u001b[0m \u001b[0mto_categorical\u001b[0m\u001b[0;34m(\u001b[0m\u001b[0mtrainY\u001b[0m\u001b[0;34m)\u001b[0m\u001b[0;34m\u001b[0m\u001b[0;34m\u001b[0m\u001b[0m\n\u001b[0m\u001b[1;32m      3\u001b[0m \u001b[0mtestY\u001b[0m \u001b[0;34m=\u001b[0m \u001b[0mto_categorical\u001b[0m\u001b[0;34m(\u001b[0m\u001b[0mtestY\u001b[0m\u001b[0;34m)\u001b[0m\u001b[0;34m\u001b[0m\u001b[0;34m\u001b[0m\u001b[0m\n",
            "\u001b[0;31mNameError\u001b[0m: name 'to_categorical' is not defined"
          ]
        }
      ]
    },
    {
      "cell_type": "code",
      "metadata": {
        "id": "MeoCD43eyrAM"
      },
      "source": [
        "def load_dataset():\n",
        "\t# load dataset\n",
        "\t(trainX, trainY), (testX, testY) = mnist.load_data()\n",
        "\t# reshape dataset to have a single channel\n",
        "\ttrainX = trainX.reshape((trainX.shape[0], 28, 28, 1))\n",
        "\ttestX = testX.reshape((testX.shape[0], 28, 28, 1))\n",
        "\t# one hot encode target values\n",
        "\ttrainY = to_categorical(trainY)\n",
        "\ttestY = to_categorical(testY)\n",
        "\treturn trainX, trainY, testX, testY"
      ],
      "execution_count": null,
      "outputs": []
    },
    {
      "cell_type": "code",
      "metadata": {
        "colab": {
          "base_uri": "https://localhost:8080/",
          "height": 130
        },
        "id": "OLYB9Criyx_0",
        "outputId": "52ab330d-d644-4e43-e18a-5a80e16df12c"
      },
      "source": [
        "# scale pixels\n",
        "def prep_pixels(train, test):\n",
        "# convert from integers to floats\n",
        "train_norm = train.astype('float32')\n",
        "test_norm = test.astype('float32')\n",
        "# normalize to range 0-1\n",
        "train_norm = train_norm / 255.0\n",
        "test_norm = test_norm / 255.0"
      ],
      "execution_count": null,
      "outputs": [
        {
          "output_type": "error",
          "ename": "IndentationError",
          "evalue": "ignored",
          "traceback": [
            "\u001b[0;36m  File \u001b[0;32m\"<ipython-input-14-6d89066f37b1>\"\u001b[0;36m, line \u001b[0;32m4\u001b[0m\n\u001b[0;31m    train_norm = train.astype('float32')\u001b[0m\n\u001b[0m             ^\u001b[0m\n\u001b[0;31mIndentationError\u001b[0m\u001b[0;31m:\u001b[0m expected an indented block\n"
          ]
        }
      ]
    },
    {
      "cell_type": "code",
      "metadata": {
        "id": "6lAsqxLSzq3f"
      },
      "source": [
        "# baseline cnn model for mnist\n",
        "from numpy import mean\n",
        "from numpy import std\n",
        "from matplotlib import pyplot\n",
        "from sklearn.model_selection import KFold\n",
        "from keras.datasets import mnist\n",
        "from tensorflow.keras.utils import to_categorical\n",
        "from keras.models import Sequential\n",
        "from keras.layers import Conv2D\n",
        "from keras.layers import MaxPooling2D\n",
        "from keras.layers import Dense\n",
        "from keras.layers import Flatten\n",
        "from tensorflow.keras.optimizers import SGD"
      ],
      "execution_count": 38,
      "outputs": []
    },
    {
      "cell_type": "code",
      "metadata": {
        "id": "tSE5h9Gz1e6r"
      },
      "source": [
        "# load train and test dataset\n",
        "def load_dataset():\n",
        "\t# load dataset\n",
        "\t(trainX, trainY), (testX, testY) = mnist.load_data()\n",
        "\t# reshape dataset to have a single channel\n",
        "\ttrainX = trainX.reshape((trainX.shape[0], 28, 28, 1))\n",
        "\ttestX = testX.reshape((testX.shape[0], 28, 28, 1))\n",
        "\t# one hot encode target values\n",
        "\ttrainY = to_categorical(trainY)\n",
        "\ttestY = to_categorical(testY)\n",
        "\treturn trainX, trainY, testX, testY"
      ],
      "execution_count": 40,
      "outputs": []
    },
    {
      "cell_type": "code",
      "metadata": {
        "id": "aoItbOPp1jO1"
      },
      "source": [
        "# scale pixels\n",
        "def prep_pixels(train, test):\n",
        "\t# convert from integers to floats\n",
        "\ttrain_norm = train.astype('float32')\n",
        "\ttest_norm = test.astype('float32')\n",
        "\t# normalize to range 0-1\n",
        "\ttrain_norm = train_norm / 255.0\n",
        "\ttest_norm = test_norm / 255.0\n",
        "\t# return normalized images\n",
        "\treturn train_norm, test_norm"
      ],
      "execution_count": 41,
      "outputs": []
    },
    {
      "cell_type": "code",
      "metadata": {
        "id": "aZqDysVu1m9A"
      },
      "source": [
        "# define cnn model\n",
        "def define_model():\n",
        "\tmodel = Sequential()\n",
        "\tmodel.add(Conv2D(32, (3, 3), activation='relu', kernel_initializer='he_uniform', input_shape=(28, 28, 1)))\n",
        "\tmodel.add(MaxPooling2D((2, 2)))\n",
        "\tmodel.add(Flatten())\n",
        "\tmodel.add(Dense(100, activation='relu', kernel_initializer='he_uniform'))\n",
        "\tmodel.add(Dense(10, activation='softmax'))\n",
        "\t# compile model\n",
        "\topt = SGD(lr=0.01, momentum=0.9)\n",
        "\tmodel.compile(optimizer=opt, loss='categorical_crossentropy', metrics=['accuracy'])\n",
        "\treturn model"
      ],
      "execution_count": 42,
      "outputs": []
    },
    {
      "cell_type": "code",
      "metadata": {
        "id": "n0xjUv-71p8W"
      },
      "source": [
        "# evaluate a model using k-fold cross-validation\n",
        "def evaluate_model(dataX, dataY, n_folds=5):\n",
        "\tscores, histories = list(), list()\n",
        "\t# prepare cross validation\n",
        "\tkfold = KFold(n_folds, shuffle=True, random_state=1)\n",
        "\t# enumerate splits\n",
        "\tfor train_ix, test_ix in kfold.split(dataX):\n",
        "\t\t# define model\n",
        "\t\tmodel = define_model()\n",
        "\t\t# select rows for train and test\n",
        "\t\ttrainX, trainY, testX, testY = dataX[train_ix], dataY[train_ix], dataX[test_ix], dataY[test_ix]\n",
        "\t\t# fit model\n",
        "\t\thistory = model.fit(trainX, trainY, epochs=10, batch_size=32, validation_data=(testX, testY), verbose=0)\n",
        "\t\t# evaluate model\n",
        "\t\t_, acc = model.evaluate(testX, testY, verbose=0)\n",
        "\t\tprint('> %.3f' % (acc * 100.0))\n",
        "\t\t# stores scores\n",
        "\t\tscores.append(acc)\n",
        "\t\thistories.append(history)\n",
        "\treturn scores, histories"
      ],
      "execution_count": 43,
      "outputs": []
    },
    {
      "cell_type": "code",
      "metadata": {
        "id": "Gv9mQj7V1vNa"
      },
      "source": [
        "# plot diagnostic learning curves\n",
        "def summarize_diagnostics(histories):\n",
        "\tfor i in range(len(histories)):\n",
        "\t\t# plot loss\n",
        "\t\tpyplot.subplot(2, 1, 1)\n",
        "\t\tpyplot.title('Cross Entropy Loss')\n",
        "\t\tpyplot.plot(histories[i].history['loss'], color='blue', label='train')\n",
        "\t\tpyplot.plot(histories[i].history['val_loss'], color='orange', label='test')\n",
        "\t\t# plot accuracy\n",
        "\t\tpyplot.subplot(2, 1, 2)\n",
        "\t\tpyplot.title('Classification Accuracy')\n",
        "\t\tpyplot.plot(histories[i].history['accuracy'], color='blue', label='train')\n",
        "\t\tpyplot.plot(histories[i].history['val_accuracy'], color='orange', label='test')\n",
        "\tpyplot.show()"
      ],
      "execution_count": 44,
      "outputs": []
    },
    {
      "cell_type": "code",
      "metadata": {
        "id": "UloJeQTa1ysR"
      },
      "source": [
        "# summarize model performance\n",
        "def summarize_performance(scores):\n",
        "\t# print summary\n",
        "\tprint('Accuracy: mean=%.3f std=%.3f, n=%d' % (mean(scores)*100, std(scores)*100, len(scores)))\n",
        "\t# box and whisker plots of results\n",
        "\tpyplot.boxplot(scores)\n",
        "\tpyplot.show()"
      ],
      "execution_count": null,
      "outputs": []
    },
    {
      "cell_type": "code",
      "metadata": {
        "id": "9tWm1TM712Vv"
      },
      "source": [
        "# run the test harness for evaluating a model\n",
        "def run_test_harness():\n",
        "\t# load dataset\n",
        "\ttrainX, trainY, testX, testY = load_dataset()\n",
        "\t# prepare pixel data\n",
        "\ttrainX, testX = prep_pixels(trainX, testX)\n",
        "\t# evaluate model\n",
        "\tscores, histories = evaluate_model(trainX, trainY)\n",
        "\t# learning curves\n",
        "\tsummarize_diagnostics(histories)\n",
        "\t# summarize estimated performance\n",
        "\tsummarize_performance(scores)\n"
      ],
      "execution_count": null,
      "outputs": []
    },
    {
      "cell_type": "code",
      "metadata": {
        "colab": {
          "base_uri": "https://localhost:8080/",
          "height": 804
        },
        "id": "aBndiq6A16Wu",
        "outputId": "6386a9a4-2cd1-4795-a377-e92a3a62ce69"
      },
      "source": [
        "# entry point, run the test harness\n",
        "run_test_harness()"
      ],
      "execution_count": null,
      "outputs": [
        {
          "output_type": "stream",
          "name": "stdout",
          "text": [
            "Downloading data from https://storage.googleapis.com/tensorflow/tf-keras-datasets/mnist.npz\n",
            "11493376/11490434 [==============================] - 0s 0us/step\n",
            "11501568/11490434 [==============================] - 0s 0us/step\n"
          ]
        },
        {
          "output_type": "stream",
          "name": "stderr",
          "text": [
            "/usr/local/lib/python3.7/dist-packages/keras/optimizer_v2/optimizer_v2.py:356: UserWarning: The `lr` argument is deprecated, use `learning_rate` instead.\n",
            "  \"The `lr` argument is deprecated, use `learning_rate` instead.\")\n"
          ]
        },
        {
          "output_type": "stream",
          "name": "stdout",
          "text": [
            "> 98.575\n",
            "> 98.700\n",
            "> 98.492\n",
            "> 98.925\n",
            "> 98.800\n"
          ]
        },
        {
          "output_type": "stream",
          "name": "stderr",
          "text": [
            "/usr/local/lib/python3.7/dist-packages/ipykernel_launcher.py:5: MatplotlibDeprecationWarning: Adding an axes using the same arguments as a previous axes currently reuses the earlier instance.  In a future version, a new instance will always be created and returned.  Meanwhile, this warning can be suppressed, and the future behavior ensured, by passing a unique label to each axes instance.\n",
            "  \"\"\"\n",
            "/usr/local/lib/python3.7/dist-packages/ipykernel_launcher.py:10: MatplotlibDeprecationWarning: Adding an axes using the same arguments as a previous axes currently reuses the earlier instance.  In a future version, a new instance will always be created and returned.  Meanwhile, this warning can be suppressed, and the future behavior ensured, by passing a unique label to each axes instance.\n",
            "  # Remove the CWD from sys.path while we load stuff.\n"
          ]
        },
        {
          "output_type": "display_data",
          "data": {
            "image/png": "[encoded data removed]",
            "text/plain": [
              "<Figure size 432x288 with 2 Axes>"
            ]
          },
          "metadata": {
            "needs_background": "light"
          }
        },
        {
          "output_type": "stream",
          "name": "stdout",
          "text": [
            "Accuracy: mean=98.698 std=0.155, n=5\n"
          ]
        },
        {
          "output_type": "display_data",
          "data": {
            "image/png": "[encoded data removed]",
            "text/plain": [
              "<Figure size 432x288 with 1 Axes>"
            ]
          },
          "metadata": {
            "needs_background": "light"
          }
        }
      ]
    },
    {
      "cell_type": "code",
      "metadata": {
        "id": "1j0hA4rhuGtq"
      },
      "source": [
        "\n",
        "\n",
        "# evaluate a model using k-fold cross-validation\n",
        "def evaluate_model(dataX, dataY, n_folds=5):\n",
        "\tscores, histories = list(), list()\n",
        "\t# prepare cross validation\n",
        "\tkfold = KFold(n_folds, shuffle=True, random_state=1)\n",
        "\t# enumerate splits\n",
        "\tfor train_ix, test_ix in kfold.split(dataX):\n",
        "\t\t# define model\n",
        "\t\tmodel = define_model()\n",
        "\t\t# select rows for train and test\n",
        "\t\ttrainX, trainY, testX, testY = dataX[train_ix], dataY[train_ix], dataX[test_ix], dataY[test_ix]\n",
        "\t\t# fit model\n",
        "\t\thistory = model.fit(trainX, trainY, epochs=10, batch_size=32, validation_data=(testX, testY), verbose=0)\n",
        "\t\t# evaluate model\n",
        "\t\t_, acc = model.evaluate(testX, testY, verbose=0)\n",
        "\t\tprint('> %.3f' % (acc * 100.0))\n",
        "\t\t# stores scores\n",
        "\t\tscores.append(acc)\n",
        "\t\thistories.append(history)\n",
        "\treturn scores, histories"
      ],
      "execution_count": 1,
      "outputs": []
    },
    {
      "cell_type": "code",
      "metadata": {
        "id": "ubXZiEAfuTFt"
      },
      "source": [
        "# plot diagnostic learning curves\n",
        "def summarize_diagnostics(histories):\n",
        "\tfor i in range(len(histories)):\n",
        "\t\t# plot loss\n",
        "\t\tpyplot.subplot(2, 1, 1)\n",
        "\t\tpyplot.title('Cross Entropy Loss')\n",
        "\t\tpyplot.plot(histories[i].history['loss'], color='blue', label='train')\n",
        "\t\tpyplot.plot(histories[i].history['val_loss'], color='orange', label='test')\n",
        "\t\t# plot accuracy\n",
        "\t\tpyplot.subplot(2, 1, 2)\n",
        "\t\tpyplot.title('Classification Accuracy')\n",
        "\t\tpyplot.plot(histories[i].history['accuracy'], color='blue', label='train')\n",
        "\t\tpyplot.plot(histories[i].history['val_accuracy'], color='orange', label='test')\n",
        "\tpyplot.show()"
      ],
      "execution_count": 2,
      "outputs": []
    },
    {
      "cell_type": "markdown",
      "metadata": {
        "id": "ppAN5gdsJWJq"
      },
      "source": [
        "Question 2 solution \n"
      ]
    },
    {
      "cell_type": "code",
      "metadata": {
        "id": "e3i2DV8duVJ5"
      },
      "source": [
        "# This Python 3 environment comes with many helpful analytics libraries installed\n",
        "# It is defined by the kaggle/python docker image: https://github.com/kaggle/docker-python\n",
        "# For example, here's several helpful packages to load in \n",
        "\n",
        "from tensorflow import keras\n",
        "import numpy as np # linear algebra\n",
        "import pandas as pd # data processing, CSV file I/O (e.g. pd.read_csv)\n",
        "\n",
        "\n",
        "import matplotlib.pyplot as plt # plotting library\n",
        "%matplotlib inline\n",
        "\n",
        "\n",
        "from keras.models import Sequential\n",
        "from keras.layers import Dense , Activation, Dropout\n",
        "from tensorflow.keras.optimizers import Adam ,RMSprop\n",
        "from keras import  backend as K\n",
        "\n",
        "\n",
        "# Input data files are available in the \"../input/\" directory.\n",
        "# For example, running this (by clicking run or pressing Shift+Enter) will list the files in the input directory\n",
        "\n",
        "\n",
        "from subprocess import check_output\n",
        "\n",
        "\n",
        "\n",
        "# Any results you write to the current directory are saved as output."
      ],
      "execution_count": 1,
      "outputs": []
    },
    {
      "cell_type": "code",
      "metadata": {
        "colab": {
          "base_uri": "https://localhost:8080/"
        },
        "id": "H1DQEPWw5fX6",
        "outputId": "8bc13f69-2cba-48fe-e5a3-7e5b63abcbfb"
      },
      "source": [
        "# import dataset\n",
        "from keras.datasets import mnist\n",
        "\n",
        "\n",
        "# load dataset\n",
        "(x_train, y_train),(x_test, y_test) = mnist.load_data()\n",
        "\n",
        "\n",
        "\n",
        "# count the number of unique train labels\n",
        "unique, counts = np.unique(y_train, return_counts=True)\n",
        "print(\"Train labels: \", dict(zip(unique, counts)))\n",
        "\n",
        "\n",
        "\n",
        "# count the number of unique test labels\n",
        "unique, counts = np.unique(y_test, return_counts=True)\n",
        "print(\"\\nTest labels: \", dict(zip(unique, counts)))"
      ],
      "execution_count": 2,
      "outputs": [
        {
          "output_type": "stream",
          "name": "stdout",
          "text": [
            "Downloading data from https://storage.googleapis.com/tensorflow/tf-keras-datasets/mnist.npz\n",
            "11493376/11490434 [==============================] - 0s 0us/step\n",
            "11501568/11490434 [==============================] - 0s 0us/step\n",
            "Train labels:  {0: 5923, 1: 6742, 2: 5958, 3: 6131, 4: 5842, 5: 5421, 6: 5918, 7: 6265, 8: 5851, 9: 5949}\n",
            "\n",
            "Test labels:  {0: 980, 1: 1135, 2: 1032, 3: 1010, 4: 982, 5: 892, 6: 958, 7: 1028, 8: 974, 9: 1009}\n"
          ]
        }
      ]
    },
    {
      "cell_type": "code",
      "metadata": {
        "colab": {
          "base_uri": "https://localhost:8080/",
          "height": 303
        },
        "id": "FQ1jvqV15tRq",
        "outputId": "6fce554f-c8fd-46dd-8fbf-82655d9d96e7"
      },
      "source": [
        "# sample 25 mnist digits from train dataset\n",
        "indexes = np.random.randint(0, x_train.shape[0], size=25)\n",
        "images = x_train[indexes]\n",
        "labels = y_train[indexes]\n",
        "\n",
        "\n",
        "# plot the 25 mnist digits\n",
        "plt.figure(figsize=(5,5))\n",
        "for i in range(len(indexes)):\n",
        "    plt.subplot(5, 5, i + 1)\n",
        "    image = images[i]\n",
        "    plt.imshow(image, cmap='gray')\n",
        "    plt.axis('off')\n",
        "    \n",
        "plt.show()\n",
        "plt.savefig(\"mnist-samples.png\")\n",
        "plt.close('all')"
      ],
      "execution_count": 3,
      "outputs": [
        {
          "output_type": "display_data",
          "data": {
            "image/png": "[encoded data removed]",
            "text/plain": [
              "<Figure size 360x360 with 25 Axes>"
            ]
          },
          "metadata": {
            "needs_background": "light"
          }
        }
      ]
    },
    {
      "cell_type": "code",
      "metadata": {
        "id": "1U_EriG05z9x"
      },
      "source": [
        "from keras.models import Sequential\n",
        "from keras.layers import Dense, Activation, Dropout\n",
        "from tensorflow.keras.utils import to_categorical, plot_model"
      ],
      "execution_count": 4,
      "outputs": []
    },
    {
      "cell_type": "code",
      "metadata": {
        "id": "EkVEUFVu6T3I"
      },
      "source": [
        "# compute the number of labels\n",
        "num_labels = len(np.unique(y_train))"
      ],
      "execution_count": 5,
      "outputs": []
    },
    {
      "cell_type": "code",
      "metadata": {
        "id": "qcftjnkG6bTV"
      },
      "source": [
        "# convert to one-hot vector\n",
        "y_train = to_categorical(y_train)\n",
        "y_test = to_categorical(y_test)"
      ],
      "execution_count": 6,
      "outputs": []
    },
    {
      "cell_type": "code",
      "metadata": {
        "colab": {
          "base_uri": "https://localhost:8080/"
        },
        "id": "q0n-Cl3K6j55",
        "outputId": "4088861a-a3d0-467f-ffb6-3869677eceda"
      },
      "source": [
        "# image dimensions (assumed square)\n",
        "image_size = x_train.shape[1]\n",
        "input_size = image_size * image_size\n",
        "input_size\n",
        "print(x_train.shape)"
      ],
      "execution_count": 7,
      "outputs": [
        {
          "output_type": "stream",
          "name": "stdout",
          "text": [
            "(60000, 28, 28)\n"
          ]
        }
      ]
    },
    {
      "cell_type": "code",
      "metadata": {
        "colab": {
          "base_uri": "https://localhost:8080/"
        },
        "id": "w903UV0j6nM_",
        "outputId": "a32283e2-aa78-4e3b-dc7d-19ce9c5697e5"
      },
      "source": [
        "print(x_test.shape)"
      ],
      "execution_count": 8,
      "outputs": [
        {
          "output_type": "stream",
          "name": "stdout",
          "text": [
            "(10000, 28, 28)\n"
          ]
        }
      ]
    },
    {
      "cell_type": "code",
      "metadata": {
        "colab": {
          "base_uri": "https://localhost:8080/"
        },
        "id": "4t76VRzK7HIS",
        "outputId": "99e479b2-0d64-4b93-caa1-bad186d70abb"
      },
      "source": [
        "print(y_train.shape)"
      ],
      "execution_count": 9,
      "outputs": [
        {
          "output_type": "stream",
          "name": "stdout",
          "text": [
            "(60000, 10)\n"
          ]
        }
      ]
    },
    {
      "cell_type": "code",
      "metadata": {
        "id": "_RYfWjCo7Sw7"
      },
      "source": [
        "# resize and normalize\n",
        "x_train = np.reshape(x_train, [-1, input_size])\n",
        "x_train = x_train.astype('float32') / 255\n",
        "x_test = np.reshape(x_test, [-1, input_size])\n",
        "x_test = x_test.astype('float32') / 255"
      ],
      "execution_count": 10,
      "outputs": []
    },
    {
      "cell_type": "code",
      "metadata": {
        "id": "zegKjFtR7Wtg"
      },
      "source": [
        "# network parameters\n",
        "batch_size = 64\n",
        "epochs=50\n",
        "hidden_units = [784,150,120,10]\n"
      ],
      "execution_count": 11,
      "outputs": []
    },
    {
      "cell_type": "code",
      "metadata": {
        "id": "MsRmroYp72it"
      },
      "source": [
        "# model is a 3-layer MLP with sigmoid and dropout after each layer\n",
        "model = Sequential()\n",
        "model.add(Dense(hidden_units[0], input_dim=input_size))\n",
        "model.add(Activation('sigmoid'))\n",
        "model.add(Dense(hidden_units[1]))\n",
        "model.add(Activation('sigmoid'))\n",
        "model.add(Dense(hidden_units[2]))\n",
        "model.add(Activation('sigmoid'))\n",
        "model.add(Dense(num_labels))\n",
        "model.add(Activation('softmax'))"
      ],
      "execution_count": 12,
      "outputs": []
    },
    {
      "cell_type": "code",
      "metadata": {
        "colab": {
          "base_uri": "https://localhost:8080/"
        },
        "id": "HPJTC-3L85M9",
        "outputId": "9d0134f1-fc59-461a-c9e8-1efe0535b33f"
      },
      "source": [
        "print(model.summary())\n"
      ],
      "execution_count": 13,
      "outputs": [
        {
          "output_type": "stream",
          "name": "stdout",
          "text": [
            "Model: \"sequential\"\n",
            "_________________________________________________________________\n",
            "Layer (type)                 Output Shape              Param #   \n",
            "=================================================================\n",
            "dense (Dense)                (None, 784)               615440    \n",
            "_________________________________________________________________\n",
            "activation (Activation)      (None, 784)               0         \n",
            "_________________________________________________________________\n",
            "dense_1 (Dense)              (None, 150)               117750    \n",
            "_________________________________________________________________\n",
            "activation_1 (Activation)    (None, 150)               0         \n",
            "_________________________________________________________________\n",
            "dense_2 (Dense)              (None, 120)               18120     \n",
            "_________________________________________________________________\n",
            "activation_2 (Activation)    (None, 120)               0         \n",
            "_________________________________________________________________\n",
            "dense_3 (Dense)              (None, 10)                1210      \n",
            "_________________________________________________________________\n",
            "activation_3 (Activation)    (None, 10)                0         \n",
            "=================================================================\n",
            "Total params: 752,520\n",
            "Trainable params: 752,520\n",
            "Non-trainable params: 0\n",
            "_________________________________________________________________\n",
            "None\n"
          ]
        }
      ]
    },
    {
      "cell_type": "code",
      "metadata": {
        "colab": {
          "base_uri": "https://localhost:8080/",
          "height": 976
        },
        "id": "l2U4y8Py9NcM",
        "outputId": "f9c59946-934b-4c7c-d968-b0b3875ec774"
      },
      "source": [
        "plot_model(model, to_file='mlp-mnist.png', show_shapes=True)"
      ],
      "execution_count": 14,
      "outputs": [
        {
          "output_type": "execute_result",
          "data": {
            "image/png": "[encoded data removed]",
            "text/plain": [
              "<IPython.core.display.Image object>"
            ]
          },
          "metadata": {},
          "execution_count": 14
        }
      ]
    },
    {
      "cell_type": "code",
      "metadata": {
        "id": "7Paq_l1e9ZFL"
      },
      "source": [
        "model.compile(loss='categorical_crossentropy', \n",
        "              optimizer='adam',\n",
        "              metrics=['accuracy'])"
      ],
      "execution_count": 15,
      "outputs": []
    },
    {
      "cell_type": "code",
      "metadata": {
        "colab": {
          "base_uri": "https://localhost:8080/",
          "height": 164
        },
        "id": "-vJrlChu-tjX",
        "outputId": "24f43eb5-d9b4-4ec1-d183-e031d8ea9207"
      },
      "source": [
        "t0=time()"
      ],
      "execution_count": 16,
      "outputs": [
        {
          "output_type": "error",
          "ename": "NameError",
          "evalue": "ignored",
          "traceback": [
            "\u001b[0;31m---------------------------------------------------------------------------\u001b[0m",
            "\u001b[0;31mNameError\u001b[0m                                 Traceback (most recent call last)",
            "\u001b[0;32m<ipython-input-16-48ef64088bc9>\u001b[0m in \u001b[0;36m<module>\u001b[0;34m()\u001b[0m\n\u001b[0;32m----> 1\u001b[0;31m \u001b[0mt0\u001b[0m\u001b[0;34m=\u001b[0m\u001b[0mtime\u001b[0m\u001b[0;34m(\u001b[0m\u001b[0;34m)\u001b[0m\u001b[0;34m\u001b[0m\u001b[0;34m\u001b[0m\u001b[0m\n\u001b[0m",
            "\u001b[0;31mNameError\u001b[0m: name 'time' is not defined"
          ]
        }
      ]
    },
    {
      "cell_type": "code",
      "metadata": {
        "colab": {
          "base_uri": "https://localhost:8080/"
        },
        "id": "8IEVUrji9eeV",
        "outputId": "d3f5a026-fbe3-4bad-9ea9-d8d012b5aca6"
      },
      "source": [
        "import time \n",
        "t0=time.time()\n",
        "history=model.fit(x_train, y_train, epochs=50, batch_size=batch_size)\n",
        "t1=time.time()\n",
        "\n"
      ],
      "execution_count": 17,
      "outputs": [
        {
          "output_type": "stream",
          "name": "stdout",
          "text": [
            "Epoch 1/50\n",
            "938/938 [==============================] - 6s 4ms/step - loss: 0.4790 - accuracy: 0.8634\n",
            "Epoch 2/50\n",
            "938/938 [==============================] - 4s 4ms/step - loss: 0.1640 - accuracy: 0.9506\n",
            "Epoch 3/50\n",
            "938/938 [==============================] - 4s 4ms/step - loss: 0.1082 - accuracy: 0.9679\n",
            "Epoch 4/50\n",
            "938/938 [==============================] - 4s 4ms/step - loss: 0.0775 - accuracy: 0.9764\n",
            "Epoch 5/50\n",
            "938/938 [==============================] - 4s 4ms/step - loss: 0.0593 - accuracy: 0.9819\n",
            "Epoch 6/50\n",
            "938/938 [==============================] - 4s 4ms/step - loss: 0.0449 - accuracy: 0.9858\n",
            "Epoch 7/50\n",
            "938/938 [==============================] - 4s 4ms/step - loss: 0.0350 - accuracy: 0.9892\n",
            "Epoch 8/50\n",
            "938/938 [==============================] - 4s 4ms/step - loss: 0.0260 - accuracy: 0.9919\n",
            "Epoch 9/50\n",
            "938/938 [==============================] - 4s 4ms/step - loss: 0.0220 - accuracy: 0.9933\n",
            "Epoch 10/50\n",
            "938/938 [==============================] - 4s 4ms/step - loss: 0.0175 - accuracy: 0.9945\n",
            "Epoch 11/50\n",
            "938/938 [==============================] - 4s 4ms/step - loss: 0.0138 - accuracy: 0.9957\n",
            "Epoch 12/50\n",
            "938/938 [==============================] - 4s 4ms/step - loss: 0.0118 - accuracy: 0.9962\n",
            "Epoch 13/50\n",
            "938/938 [==============================] - 4s 4ms/step - loss: 0.0099 - accuracy: 0.9972\n",
            "Epoch 14/50\n",
            "938/938 [==============================] - 4s 4ms/step - loss: 0.0099 - accuracy: 0.9967\n",
            "Epoch 15/50\n",
            "938/938 [==============================] - 4s 4ms/step - loss: 0.0083 - accuracy: 0.9974\n",
            "Epoch 16/50\n",
            "938/938 [==============================] - 4s 4ms/step - loss: 0.0062 - accuracy: 0.9983\n",
            "Epoch 17/50\n",
            "938/938 [==============================] - 4s 4ms/step - loss: 0.0074 - accuracy: 0.9974\n",
            "Epoch 18/50\n",
            "938/938 [==============================] - 4s 4ms/step - loss: 0.0049 - accuracy: 0.9985\n",
            "Epoch 19/50\n",
            "938/938 [==============================] - 4s 4ms/step - loss: 0.0069 - accuracy: 0.9976\n",
            "Epoch 20/50\n",
            "938/938 [==============================] - 4s 4ms/step - loss: 0.0039 - accuracy: 0.9988\n",
            "Epoch 21/50\n",
            "938/938 [==============================] - 4s 4ms/step - loss: 0.0041 - accuracy: 0.9987\n",
            "Epoch 22/50\n",
            "938/938 [==============================] - 4s 4ms/step - loss: 0.0018 - accuracy: 0.9995\n",
            "Epoch 23/50\n",
            "938/938 [==============================] - 4s 4ms/step - loss: 0.0076 - accuracy: 0.9974\n",
            "Epoch 24/50\n",
            "938/938 [==============================] - 4s 4ms/step - loss: 0.0035 - accuracy: 0.9990\n",
            "Epoch 25/50\n",
            "938/938 [==============================] - 4s 4ms/step - loss: 0.0023 - accuracy: 0.9994\n",
            "Epoch 26/50\n",
            "938/938 [==============================] - 4s 4ms/step - loss: 0.0036 - accuracy: 0.9988\n",
            "Epoch 27/50\n",
            "938/938 [==============================] - 4s 4ms/step - loss: 0.0034 - accuracy: 0.9990\n",
            "Epoch 28/50\n",
            "938/938 [==============================] - 4s 4ms/step - loss: 0.0031 - accuracy: 0.9990\n",
            "Epoch 29/50\n",
            "938/938 [==============================] - 4s 4ms/step - loss: 0.0039 - accuracy: 0.9989\n",
            "Epoch 30/50\n",
            "938/938 [==============================] - 4s 4ms/step - loss: 0.0026 - accuracy: 0.9992\n",
            "Epoch 31/50\n",
            "938/938 [==============================] - 4s 4ms/step - loss: 0.0036 - accuracy: 0.9988\n",
            "Epoch 32/50\n",
            "938/938 [==============================] - 4s 4ms/step - loss: 0.0014 - accuracy: 0.9996\n",
            "Epoch 33/50\n",
            "938/938 [==============================] - 4s 4ms/step - loss: 0.0042 - accuracy: 0.9988\n",
            "Epoch 34/50\n",
            "938/938 [==============================] - 4s 4ms/step - loss: 0.0015 - accuracy: 0.9996\n",
            "Epoch 35/50\n",
            "938/938 [==============================] - 4s 4ms/step - loss: 6.3833e-04 - accuracy: 0.9998\n",
            "Epoch 36/50\n",
            "938/938 [==============================] - 4s 4ms/step - loss: 0.0056 - accuracy: 0.9983\n",
            "Epoch 37/50\n",
            "938/938 [==============================] - 4s 4ms/step - loss: 0.0011 - accuracy: 0.9997\n",
            "Epoch 38/50\n",
            "938/938 [==============================] - 4s 4ms/step - loss: 5.1155e-05 - accuracy: 1.0000\n",
            "Epoch 39/50\n",
            "938/938 [==============================] - 4s 4ms/step - loss: 2.5025e-05 - accuracy: 1.0000\n",
            "Epoch 40/50\n",
            "938/938 [==============================] - 4s 4ms/step - loss: 1.8064e-05 - accuracy: 1.0000\n",
            "Epoch 41/50\n",
            "938/938 [==============================] - 4s 4ms/step - loss: 1.3364e-05 - accuracy: 1.0000\n",
            "Epoch 42/50\n",
            "938/938 [==============================] - 4s 4ms/step - loss: 9.7404e-06 - accuracy: 1.0000\n",
            "Epoch 43/50\n",
            "938/938 [==============================] - 4s 4ms/step - loss: 7.0813e-06 - accuracy: 1.0000\n",
            "Epoch 44/50\n",
            "938/938 [==============================] - 4s 4ms/step - loss: 5.0869e-06 - accuracy: 1.0000\n",
            "Epoch 45/50\n",
            "938/938 [==============================] - 4s 4ms/step - loss: 3.5950e-06 - accuracy: 1.0000\n",
            "Epoch 46/50\n",
            "938/938 [==============================] - 4s 4ms/step - loss: 2.5037e-06 - accuracy: 1.0000\n",
            "Epoch 47/50\n",
            "938/938 [==============================] - 4s 4ms/step - loss: 1.7189e-06 - accuracy: 1.0000\n",
            "Epoch 48/50\n",
            "938/938 [==============================] - 4s 4ms/step - loss: 1.1833e-06 - accuracy: 1.0000\n",
            "Epoch 49/50\n",
            "938/938 [==============================] - 4s 4ms/step - loss: 7.9920e-07 - accuracy: 1.0000\n",
            "Epoch 50/50\n",
            "938/938 [==============================] - 4s 4ms/step - loss: 5.4048e-07 - accuracy: 1.0000\n"
          ]
        }
      ]
    },
    {
      "cell_type": "code",
      "metadata": {
        "colab": {
          "base_uri": "https://localhost:8080/",
          "height": 164
        },
        "id": "B5FwhXLv-3Ns",
        "outputId": "f100f010-204d-454d-f0f2-1ac337db9c33"
      },
      "source": [
        "print(t1-t0)"
      ],
      "execution_count": 49,
      "outputs": [
        {
          "output_type": "error",
          "ename": "TypeError",
          "evalue": "ignored",
          "traceback": [
            "\u001b[0;31m---------------------------------------------------------------------------\u001b[0m",
            "\u001b[0;31mTypeError\u001b[0m                                 Traceback (most recent call last)",
            "\u001b[0;32m<ipython-input-49-74e1b9faf793>\u001b[0m in \u001b[0;36m<module>\u001b[0;34m()\u001b[0m\n\u001b[0;32m----> 1\u001b[0;31m \u001b[0mprint\u001b[0m\u001b[0;34m(\u001b[0m\u001b[0mt1\u001b[0m\u001b[0;34m-\u001b[0m\u001b[0mt0\u001b[0m\u001b[0;34m)\u001b[0m\u001b[0;34m\u001b[0m\u001b[0;34m\u001b[0m\u001b[0m\n\u001b[0m",
            "\u001b[0;31mTypeError\u001b[0m: unsupported operand type(s) for -: 'builtin_function_or_method' and 'float'"
          ]
        }
      ]
    },
    {
      "cell_type": "code",
      "metadata": {
        "colab": {
          "base_uri": "https://localhost:8080/"
        },
        "id": "CZ_8sKtv-_Lo",
        "outputId": "c7ffce98-19a1-409f-a6e4-cc76b7d3c6b8"
      },
      "source": [
        "loss, acc = model.evaluate(x_test, y_test, batch_size=batch_size)\n",
        "print(\"\\nTest accuracy: %.1f%%\" % (100.0 * acc))"
      ],
      "execution_count": 18,
      "outputs": [
        {
          "output_type": "stream",
          "name": "stdout",
          "text": [
            "157/157 [==============================] - 1s 3ms/step - loss: 0.1087 - accuracy: 0.9847\n",
            "\n",
            "Test accuracy: 98.5%\n"
          ]
        }
      ]
    },
    {
      "cell_type": "code",
      "metadata": {
        "colab": {
          "base_uri": "https://localhost:8080/"
        },
        "id": "YdhjBQrSAubN",
        "outputId": "85fec749-8b7b-4624-f7c1-350717e3d430"
      },
      "source": [
        "print(loss)"
      ],
      "execution_count": 19,
      "outputs": [
        {
          "output_type": "stream",
          "name": "stdout",
          "text": [
            "0.10866453498601913\n"
          ]
        }
      ]
    },
    {
      "cell_type": "code",
      "metadata": {
        "colab": {
          "base_uri": "https://localhost:8080/"
        },
        "id": "XYgSo1cUBDmm",
        "outputId": "fce26008-c14e-4c58-e58c-df764d9796d7"
      },
      "source": [
        "print(history.history.keys())\n",
        "print(history.history['accuracy'])"
      ],
      "execution_count": 20,
      "outputs": [
        {
          "output_type": "stream",
          "name": "stdout",
          "text": [
            "dict_keys(['loss', 'accuracy'])\n",
            "[0.8634499907493591, 0.9506000280380249, 0.9679499864578247, 0.9763666391372681, 0.9818999767303467, 0.9857666492462158, 0.989216685295105, 0.9919000267982483, 0.993316650390625, 0.9945166707038879, 0.9957333207130432, 0.9962499737739563, 0.9972000122070312, 0.996666669845581, 0.9974166750907898, 0.9983000159263611, 0.9974499940872192, 0.9984666705131531, 0.9975833296775818, 0.9987999796867371, 0.9987499713897705, 0.9994999766349792, 0.9973833560943604, 0.9990166425704956, 0.9993833303451538, 0.9987833499908447, 0.9990000128746033, 0.9990333318710327, 0.9988999962806702, 0.9992499947547913, 0.9987833499908447, 0.9996333122253418, 0.9987833499908447, 0.9995833039283752, 0.9998499751091003, 0.9982500076293945, 0.9997166395187378, 1.0, 1.0, 1.0, 1.0, 1.0, 1.0, 1.0, 1.0, 1.0, 1.0, 1.0, 1.0, 1.0]\n"
          ]
        }
      ]
    },
    {
      "cell_type": "code",
      "metadata": {
        "colab": {
          "base_uri": "https://localhost:8080/",
          "height": 282
        },
        "id": "E1rcp-qLCszv",
        "outputId": "a2b58bd9-b5f4-423e-94e1-c67f786f6de9"
      },
      "source": [
        "import matplotlib.pyplot as plt\n",
        "plt.plot(history.history['accuracy'])"
      ],
      "execution_count": 21,
      "outputs": [
        {
          "output_type": "execute_result",
          "data": {
            "text/plain": [
              "[<matplotlib.lines.Line2D at 0x7ff34d190e90>]"
            ]
          },
          "metadata": {},
          "execution_count": 21
        },
        {
          "output_type": "display_data",
          "data": {
            "image/png": "[encoded data removed]",
            "text/plain": [
              "<Figure size 432x288 with 1 Axes>"
            ]
          },
          "metadata": {
            "needs_background": "light"
          }
        }
      ]
    },
    {
      "cell_type": "code",
      "metadata": {
        "colab": {
          "base_uri": "https://localhost:8080/"
        },
        "id": "kBluwRmfDLqU",
        "outputId": "56669443-30ea-4c9a-9181-b101be704e25"
      },
      "source": [
        "print(history.history['loss'])"
      ],
      "execution_count": 22,
      "outputs": [
        {
          "output_type": "stream",
          "name": "stdout",
          "text": [
            "[0.47895753383636475, 0.16397793591022491, 0.10823168605566025, 0.07749097049236298, 0.05932042375206947, 0.04485457018017769, 0.035002291202545166, 0.026006590574979782, 0.022027553990483284, 0.01754310354590416, 0.013787363655865192, 0.011824646033346653, 0.009883846156299114, 0.009935918264091015, 0.008284679614007473, 0.006196841597557068, 0.007361419964581728, 0.004916995298117399, 0.006891120690852404, 0.0038708120118826628, 0.004052984993904829, 0.0018427360337227583, 0.007575249765068293, 0.003474165452644229, 0.0022578120697289705, 0.003571922890841961, 0.003439163789153099, 0.0030570782255381346, 0.0038884258829057217, 0.0025630134623497725, 0.00359713239595294, 0.0014359381748363376, 0.004233344458043575, 0.0014550823252648115, 0.0006383252330124378, 0.005644793622195721, 0.001089380937628448, 5.1155158871551976e-05, 2.5025376089615747e-05, 1.80638198798988e-05, 1.3363663128984626e-05, 9.740372661326546e-06, 7.081298008415615e-06, 5.086912096885499e-06, 3.5950045003119158e-06, 2.5037343220901676e-06, 1.7188768879350391e-06, 1.1832574955406017e-06, 7.991989718902914e-07, 5.404810963227646e-07]\n"
          ]
        }
      ]
    },
    {
      "cell_type": "markdown",
      "metadata": {
        "id": "vw8e-LUWKne2"
      },
      "source": [
        "II. 784 →500 →250 → 100 →10\n",
        "b) Activation functions: sigmoid\n",
        "c) Use a SoftMax activation function for classification\n",
        "d) Categorical Cross-Entropy loss\n",
        "e) Number of epochs: 50 and\n",
        "f) Batch-size is 64.\n",
        "Evaluate the models with MNIST dataset:\n",
        "a) Input image: 28x28 pixels (Gray scale images)\n",
        "b) Number of training samples: 60,000\n",
        "c) Number of testing samples: 10,000\n",
        "d) Number of classes: 10 (Handwritten digits).\n",
        "\n",
        "Solution to Q2 part b \n"
      ]
    },
    {
      "cell_type": "code",
      "metadata": {
        "id": "0bmfW3QPKmvA"
      },
      "source": [
        "# resize and normalize\n",
        "x_train = np.reshape(x_train, [-1, input_size])\n",
        "x_train = x_train.astype('float32') / 255\n",
        "x_test = np.reshape(x_test, [-1, input_size])\n",
        "x_test = x_test.astype('float32') / 255"
      ],
      "execution_count": 23,
      "outputs": []
    },
    {
      "cell_type": "code",
      "metadata": {
        "id": "qd22UAO0LAgB"
      },
      "source": [
        "# network parameters\n",
        "batch_size = 64\n",
        "epochs=50\n",
        "hidden_units = [784,500,250,100,10]"
      ],
      "execution_count": 24,
      "outputs": []
    },
    {
      "cell_type": "code",
      "metadata": {
        "id": "2dtgMyanL5Tr"
      },
      "source": [
        "# model is a 3-layer MLP with sigmoid and dropout after each layer\n",
        "model = Sequential()\n",
        "model.add(Dense(hidden_units[0], input_dim=input_size))\n",
        "model.add(Activation('sigmoid'))\n",
        "model.add(Dense(hidden_units[1]))\n",
        "model.add(Activation('sigmoid'))\n",
        "model.add(Dense(hidden_units[2]))\n",
        "model.add(Activation('sigmoid'))\n",
        "model.add(Dense(hidden_units[3]))\n",
        "model.add(Activation('sigmoid'))\n",
        "model.add(Dense(num_labels))\n",
        "model.add(Activation('softmax'))"
      ],
      "execution_count": 25,
      "outputs": []
    },
    {
      "cell_type": "code",
      "metadata": {
        "id": "Km_ZUtixMJtb",
        "outputId": "e2623cd5-d026-4e88-9cd7-396044fb2ae7",
        "colab": {
          "base_uri": "https://localhost:8080/"
        }
      },
      "source": [
        "print(model.summary())"
      ],
      "execution_count": 26,
      "outputs": [
        {
          "output_type": "stream",
          "name": "stdout",
          "text": [
            "Model: \"sequential_1\"\n",
            "_________________________________________________________________\n",
            "Layer (type)                 Output Shape              Param #   \n",
            "=================================================================\n",
            "dense_4 (Dense)              (None, 784)               615440    \n",
            "_________________________________________________________________\n",
            "activation_4 (Activation)    (None, 784)               0         \n",
            "_________________________________________________________________\n",
            "dense_5 (Dense)              (None, 500)               392500    \n",
            "_________________________________________________________________\n",
            "activation_5 (Activation)    (None, 500)               0         \n",
            "_________________________________________________________________\n",
            "dense_6 (Dense)              (None, 250)               125250    \n",
            "_________________________________________________________________\n",
            "activation_6 (Activation)    (None, 250)               0         \n",
            "_________________________________________________________________\n",
            "dense_7 (Dense)              (None, 100)               25100     \n",
            "_________________________________________________________________\n",
            "activation_7 (Activation)    (None, 100)               0         \n",
            "_________________________________________________________________\n",
            "dense_8 (Dense)              (None, 10)                1010      \n",
            "_________________________________________________________________\n",
            "activation_8 (Activation)    (None, 10)                0         \n",
            "=================================================================\n",
            "Total params: 1,159,300\n",
            "Trainable params: 1,159,300\n",
            "Non-trainable params: 0\n",
            "_________________________________________________________________\n",
            "None\n"
          ]
        }
      ]
    },
    {
      "cell_type": "code",
      "metadata": {
        "id": "fKiz9AYkMSFj",
        "outputId": "b3ac25ec-ddcc-4fa4-c3f1-dbe98cff6491",
        "colab": {
          "base_uri": "https://localhost:8080/",
          "height": 1000
        }
      },
      "source": [
        "plot_model(model, to_file='mlp-mnist.png', show_shapes=True)"
      ],
      "execution_count": 27,
      "outputs": [
        {
          "output_type": "execute_result",
          "data": {
            "image/png": "[encoded data removed]",
            "text/plain": [
              "<IPython.core.display.Image object>"
            ]
          },
          "metadata": {},
          "execution_count": 27
        }
      ]
    },
    {
      "cell_type": "code",
      "metadata": {
        "id": "3jt771k-MYHR"
      },
      "source": [
        "model.compile(loss='categorical_crossentropy', \n",
        "              optimizer='adam',\n",
        "              metrics=['accuracy'])"
      ],
      "execution_count": 28,
      "outputs": []
    },
    {
      "cell_type": "code",
      "metadata": {
        "id": "csRMlLS4Mf1P",
        "outputId": "a59e23a8-e317-4cfe-f4a3-2634ea8aba62",
        "colab": {
          "base_uri": "https://localhost:8080/"
        }
      },
      "source": [
        "import time \n",
        "t0=time.time()\n",
        "history=model.fit(x_train, y_train, epochs=50, batch_size=batch_size)\n",
        "t1=time.time()"
      ],
      "execution_count": 29,
      "outputs": [
        {
          "output_type": "stream",
          "name": "stdout",
          "text": [
            "Epoch 1/50\n",
            "938/938 [==============================] - 5s 5ms/step - loss: 2.3096 - accuracy: 0.1043\n",
            "Epoch 2/50\n",
            "938/938 [==============================] - 4s 5ms/step - loss: 2.3054 - accuracy: 0.1067\n",
            "Epoch 3/50\n",
            "938/938 [==============================] - 4s 5ms/step - loss: 2.3044 - accuracy: 0.1080\n",
            "Epoch 4/50\n",
            "938/938 [==============================] - 4s 5ms/step - loss: 2.3034 - accuracy: 0.1078\n",
            "Epoch 5/50\n",
            "938/938 [==============================] - 4s 5ms/step - loss: 2.3030 - accuracy: 0.1087\n",
            "Epoch 6/50\n",
            "938/938 [==============================] - 4s 5ms/step - loss: 2.3026 - accuracy: 0.1081\n",
            "Epoch 7/50\n",
            "938/938 [==============================] - 4s 5ms/step - loss: 2.3025 - accuracy: 0.1091\n",
            "Epoch 8/50\n",
            "938/938 [==============================] - 4s 5ms/step - loss: 2.3024 - accuracy: 0.1080\n",
            "Epoch 9/50\n",
            "938/938 [==============================] - 4s 5ms/step - loss: 2.3023 - accuracy: 0.1104\n",
            "Epoch 10/50\n",
            "938/938 [==============================] - 4s 5ms/step - loss: 2.3025 - accuracy: 0.1098\n",
            "Epoch 11/50\n",
            "938/938 [==============================] - 4s 5ms/step - loss: 2.3022 - accuracy: 0.1108\n",
            "Epoch 12/50\n",
            "938/938 [==============================] - 4s 5ms/step - loss: 2.3022 - accuracy: 0.1098\n",
            "Epoch 13/50\n",
            "938/938 [==============================] - 4s 5ms/step - loss: 2.3023 - accuracy: 0.1105\n",
            "Epoch 14/50\n",
            "938/938 [==============================] - 4s 5ms/step - loss: 2.3021 - accuracy: 0.1109\n",
            "Epoch 15/50\n",
            "938/938 [==============================] - 4s 5ms/step - loss: 2.3021 - accuracy: 0.1107\n",
            "Epoch 16/50\n",
            "938/938 [==============================] - 4s 5ms/step - loss: 2.3023 - accuracy: 0.1097\n",
            "Epoch 17/50\n",
            "938/938 [==============================] - 4s 5ms/step - loss: 2.3023 - accuracy: 0.1107\n",
            "Epoch 18/50\n",
            "938/938 [==============================] - 4s 5ms/step - loss: 2.3020 - accuracy: 0.1096\n",
            "Epoch 19/50\n",
            "938/938 [==============================] - 4s 5ms/step - loss: 2.3022 - accuracy: 0.1096\n",
            "Epoch 20/50\n",
            "938/938 [==============================] - 5s 5ms/step - loss: 2.3022 - accuracy: 0.1111\n",
            "Epoch 21/50\n",
            "938/938 [==============================] - 4s 5ms/step - loss: 2.3024 - accuracy: 0.1103\n",
            "Epoch 22/50\n",
            "938/938 [==============================] - 4s 5ms/step - loss: 2.3022 - accuracy: 0.1115\n",
            "Epoch 23/50\n",
            "938/938 [==============================] - 4s 5ms/step - loss: 2.3020 - accuracy: 0.1109\n",
            "Epoch 24/50\n",
            "938/938 [==============================] - 4s 5ms/step - loss: 2.3022 - accuracy: 0.1114\n",
            "Epoch 25/50\n",
            "938/938 [==============================] - 4s 5ms/step - loss: 2.3022 - accuracy: 0.1108\n",
            "Epoch 26/50\n",
            "938/938 [==============================] - 4s 5ms/step - loss: 2.3021 - accuracy: 0.1104\n",
            "Epoch 27/50\n",
            "938/938 [==============================] - 4s 5ms/step - loss: 2.3021 - accuracy: 0.1103\n",
            "Epoch 28/50\n",
            "938/938 [==============================] - 4s 5ms/step - loss: 2.3023 - accuracy: 0.1099\n",
            "Epoch 29/50\n",
            "938/938 [==============================] - 4s 5ms/step - loss: 2.3021 - accuracy: 0.1099\n",
            "Epoch 30/50\n",
            "938/938 [==============================] - 4s 5ms/step - loss: 2.3021 - accuracy: 0.1096\n",
            "Epoch 31/50\n",
            "938/938 [==============================] - 4s 5ms/step - loss: 2.3022 - accuracy: 0.1100\n",
            "Epoch 32/50\n",
            "938/938 [==============================] - 4s 5ms/step - loss: 2.3023 - accuracy: 0.1115\n",
            "Epoch 33/50\n",
            "938/938 [==============================] - 4s 5ms/step - loss: 2.3023 - accuracy: 0.1101\n",
            "Epoch 34/50\n",
            "938/938 [==============================] - 4s 5ms/step - loss: 2.3021 - accuracy: 0.1108\n",
            "Epoch 35/50\n",
            "938/938 [==============================] - 5s 5ms/step - loss: 2.3022 - accuracy: 0.1092\n",
            "Epoch 36/50\n",
            "938/938 [==============================] - 4s 5ms/step - loss: 2.3022 - accuracy: 0.1103\n",
            "Epoch 37/50\n",
            "938/938 [==============================] - 4s 5ms/step - loss: 2.3021 - accuracy: 0.1102\n",
            "Epoch 38/50\n",
            "938/938 [==============================] - 4s 5ms/step - loss: 2.3022 - accuracy: 0.1106\n",
            "Epoch 39/50\n",
            "938/938 [==============================] - 4s 5ms/step - loss: 2.3023 - accuracy: 0.1096\n",
            "Epoch 40/50\n",
            "938/938 [==============================] - 4s 5ms/step - loss: 2.3021 - accuracy: 0.1106\n",
            "Epoch 41/50\n",
            "938/938 [==============================] - 4s 5ms/step - loss: 2.3023 - accuracy: 0.1104\n",
            "Epoch 42/50\n",
            "938/938 [==============================] - 4s 5ms/step - loss: 2.3020 - accuracy: 0.1092\n",
            "Epoch 43/50\n",
            "938/938 [==============================] - 4s 4ms/step - loss: 2.3021 - accuracy: 0.1089\n",
            "Epoch 44/50\n",
            "938/938 [==============================] - 4s 5ms/step - loss: 2.3023 - accuracy: 0.1106\n",
            "Epoch 45/50\n",
            "938/938 [==============================] - 4s 5ms/step - loss: 2.3021 - accuracy: 0.1099\n",
            "Epoch 46/50\n",
            "938/938 [==============================] - 4s 5ms/step - loss: 2.3022 - accuracy: 0.1091\n",
            "Epoch 47/50\n",
            "938/938 [==============================] - 4s 5ms/step - loss: 2.3021 - accuracy: 0.1099\n",
            "Epoch 48/50\n",
            "938/938 [==============================] - 4s 5ms/step - loss: 2.3022 - accuracy: 0.1115\n",
            "Epoch 49/50\n",
            "938/938 [==============================] - 4s 5ms/step - loss: 2.3023 - accuracy: 0.1112\n",
            "Epoch 50/50\n",
            "938/938 [==============================] - 4s 5ms/step - loss: 2.3023 - accuracy: 0.1099\n"
          ]
        }
      ]
    },
    {
      "cell_type": "code",
      "metadata": {
        "id": "051I-x7BMvee",
        "outputId": "5b20379e-9611-4890-f633-3cd8ca9bbba4",
        "colab": {
          "base_uri": "https://localhost:8080/"
        }
      },
      "source": [
        "loss, acc = model.evaluate(x_test, y_test, batch_size=batch_size)\n",
        "print(\"\\nTest accuracy: %.1f%%\" % (100.0 * acc))"
      ],
      "execution_count": 30,
      "outputs": [
        {
          "output_type": "stream",
          "name": "stdout",
          "text": [
            "157/157 [==============================] - 1s 4ms/step - loss: 2.3017 - accuracy: 0.1028\n",
            "\n",
            "Test accuracy: 10.3%\n"
          ]
        }
      ]
    },
    {
      "cell_type": "code",
      "metadata": {
        "id": "MHkm8EF_M4Nw",
        "outputId": "9395cfbf-4360-4df4-e17b-957bc91ef648",
        "colab": {
          "base_uri": "https://localhost:8080/"
        }
      },
      "source": [
        "print(loss)"
      ],
      "execution_count": 31,
      "outputs": [
        {
          "output_type": "stream",
          "name": "stdout",
          "text": [
            "2.301724433898926\n"
          ]
        }
      ]
    },
    {
      "cell_type": "code",
      "metadata": {
        "id": "R3bDjzsUM-q_",
        "outputId": "8b31c2c0-c3bb-4953-d8bd-e641db3fc1b0",
        "colab": {
          "base_uri": "https://localhost:8080/"
        }
      },
      "source": [
        "print(history.history.keys())\n",
        "print(history.history['accuracy'])"
      ],
      "execution_count": 32,
      "outputs": [
        {
          "output_type": "stream",
          "name": "stdout",
          "text": [
            "dict_keys(['loss', 'accuracy'])\n",
            "[0.10433333367109299, 0.1066666692495346, 0.10796666890382767, 0.10778333246707916, 0.10869999974966049, 0.10809999704360962, 0.1091499999165535, 0.10801666975021362, 0.11041666567325592, 0.10978333652019501, 0.11078333109617233, 0.10980000346899033, 0.11053333431482315, 0.11088333278894424, 0.11073333024978638, 0.1096833348274231, 0.11068333685398102, 0.10956666618585587, 0.10961666703224182, 0.11106666922569275, 0.11029999703168869, 0.1114666685461998, 0.11086666584014893, 0.11136666685342789, 0.11083333194255829, 0.11044999957084656, 0.11033333092927933, 0.10993333160877228, 0.10988333076238632, 0.10961666703224182, 0.11001666635274887, 0.11150000244379044, 0.11006666719913483, 0.11079999804496765, 0.10921666771173477, 0.11034999787807465, 0.11023333668708801, 0.1105833351612091, 0.1096000000834465, 0.11056666821241379, 0.11041666567325592, 0.10918333381414413, 0.10893333703279495, 0.11063333600759506, 0.10989999771118164, 0.10909999907016754, 0.109866663813591, 0.11145000159740448, 0.11121666431427002, 0.10989999771118164]\n"
          ]
        }
      ]
    },
    {
      "cell_type": "code",
      "metadata": {
        "id": "HrZZXJ3sNJeo",
        "outputId": "e9482cf4-5e2b-4b84-abfe-61d59a254973",
        "colab": {
          "base_uri": "https://localhost:8080/",
          "height": 282
        }
      },
      "source": [
        "import matplotlib.pyplot as plt\n",
        "plt.plot(history.history['accuracy'])"
      ],
      "execution_count": 33,
      "outputs": [
        {
          "output_type": "execute_result",
          "data": {
            "text/plain": [
              "[<matplotlib.lines.Line2D at 0x7ff34d5d1950>]"
            ]
          },
          "metadata": {},
          "execution_count": 33
        },
        {
          "output_type": "display_data",
          "data": {
            "image/png": "[encoded data removed]",
            "text/plain": [
              "<Figure size 432x288 with 1 Axes>"
            ]
          },
          "metadata": {
            "needs_background": "light"
          }
        }
      ]
    },
    {
      "cell_type": "code",
      "metadata": {
        "id": "Slf8W4ZONSQA",
        "outputId": "aeed50de-48df-4026-b3cc-8d458dfe3015",
        "colab": {
          "base_uri": "https://localhost:8080/"
        }
      },
      "source": [
        "print(history.history['loss'])"
      ],
      "execution_count": 34,
      "outputs": [
        {
          "output_type": "stream",
          "name": "stdout",
          "text": [
            "[2.309640407562256, 2.3053700923919678, 2.304392099380493, 2.3033714294433594, 2.3029582500457764, 2.3025927543640137, 2.3025169372558594, 2.3023927211761475, 2.3022680282592773, 2.302532434463501, 2.3021676540374756, 2.3021674156188965, 2.3022918701171875, 2.302063226699829, 2.302135467529297, 2.3023221492767334, 2.3022923469543457, 2.3019888401031494, 2.3022122383117676, 2.302215337753296, 2.30236554145813, 2.30222749710083, 2.301957845687866, 2.3021655082702637, 2.302241086959839, 2.3020617961883545, 2.3021280765533447, 2.3022639751434326, 2.302122116088867, 2.30206298828125, 2.3022429943084717, 2.302258014678955, 2.302260398864746, 2.3021020889282227, 2.3022005558013916, 2.302215576171875, 2.3020870685577393, 2.3021626472473145, 2.302288293838501, 2.3021252155303955, 2.302250623703003, 2.302039623260498, 2.302077293395996, 2.3022611141204834, 2.302088975906372, 2.3022048473358154, 2.302084445953369, 2.3022284507751465, 2.302309274673462, 2.302297830581665]\n"
          ]
        }
      ]
    },
    {
      "cell_type": "code",
      "metadata": {
        "id": "rAuXySRIPHNU"
      },
      "source": [
        "# summarize model performance\n",
        "def summarize_performance(scores):\n",
        "\t# print summary\n",
        "\tprint('Accuracy: mean=%.3f std=%.3f, n=%d' % (mean(scores)*100, std(scores)*100, len(scores)))\n",
        "\t# box and whisker plots of results\n",
        "\tpyplot.boxplot(scores)\n",
        "\tpyplot.show()"
      ],
      "execution_count": 35,
      "outputs": []
    },
    {
      "cell_type": "code",
      "metadata": {
        "id": "o0piMDYTPJEc"
      },
      "source": [
        "# run the test harness for evaluating a model\n",
        "def run_test_harness():\n",
        "\t# load dataset\n",
        "\ttrainX, trainY, testX, testY = load_dataset()\n",
        "\t# prepare pixel data\n",
        "\ttrainX, testX = prep_pixels(trainX, testX)\n",
        "\t# evaluate model\n",
        "\tscores, histories = evaluate_model(trainX, trainY)\n",
        "\t# learning curves\n",
        "\tsummarize_diagnostics(histories)\n",
        "\t# summarize estimated performance\n",
        "\tsummarize_performance(scores)\n"
      ],
      "execution_count": 36,
      "outputs": []
    },
    {
      "cell_type": "code",
      "metadata": {
        "id": "_3y0HidmPSng",
        "outputId": "57c8ab1c-a73a-4b4a-da11-35e7a944e564",
        "colab": {
          "base_uri": "https://localhost:8080/",
          "height": 753
        }
      },
      "source": [
        "# entry point, run the test harness\n",
        "run_test_harness()"
      ],
      "execution_count": 45,
      "outputs": [
        {
          "output_type": "stream",
          "name": "stderr",
          "text": [
            "/usr/local/lib/python3.7/dist-packages/keras/optimizer_v2/optimizer_v2.py:356: UserWarning: The `lr` argument is deprecated, use `learning_rate` instead.\n",
            "  \"The `lr` argument is deprecated, use `learning_rate` instead.\")\n"
          ]
        },
        {
          "output_type": "stream",
          "name": "stdout",
          "text": [
            "> 98.558\n",
            "> 98.642\n",
            "> 98.583\n",
            "> 98.950\n",
            "> 98.667\n"
          ]
        },
        {
          "output_type": "stream",
          "name": "stderr",
          "text": [
            "/usr/local/lib/python3.7/dist-packages/ipykernel_launcher.py:5: MatplotlibDeprecationWarning: Adding an axes using the same arguments as a previous axes currently reuses the earlier instance.  In a future version, a new instance will always be created and returned.  Meanwhile, this warning can be suppressed, and the future behavior ensured, by passing a unique label to each axes instance.\n",
            "  \"\"\"\n",
            "/usr/local/lib/python3.7/dist-packages/ipykernel_launcher.py:10: MatplotlibDeprecationWarning: Adding an axes using the same arguments as a previous axes currently reuses the earlier instance.  In a future version, a new instance will always be created and returned.  Meanwhile, this warning can be suppressed, and the future behavior ensured, by passing a unique label to each axes instance.\n",
            "  # Remove the CWD from sys.path while we load stuff.\n"
          ]
        },
        {
          "output_type": "display_data",
          "data": {
            "image/png": "[encoded data removed]",
            "text/plain": [
              "<Figure size 432x288 with 2 Axes>"
            ]
          },
          "metadata": {
            "needs_background": "light"
          }
        },
        {
          "output_type": "stream",
          "name": "stdout",
          "text": [
            "Accuracy: mean=98.680 std=0.140, n=5\n"
          ]
        },
        {
          "output_type": "display_data",
          "data": {
            "image/png": "[encoded data removed]",
            "text/plain": [
              "<Figure size 432x288 with 1 Axes>"
            ]
          },
          "metadata": {
            "needs_background": "light"
          }
        }
      ]
    }
  ]
}